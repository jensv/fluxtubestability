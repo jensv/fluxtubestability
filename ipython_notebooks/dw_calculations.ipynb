{
 "cells": [
  {
   "cell_type": "markdown",
   "metadata": {},
   "source": [
    "There are two differences in the analytic and numerical investigations of flux tube stability.\n",
    "1. The analytic model guesses a uniform value for delta and the numerical model integrates the euler-lagrange equation to determine delta.\n",
    "2. The analytic model uses a idealied current profile with an infinitesimally wide skin region. The numerical model has to choose a skin region that has a finite depth for the euler-lagrange equation to become integrable. This leads to a difference in the perturbed potential energy calculation. The anlytic model calculates $\\delta W$ from the core, interface and vacuum term. The numerical model only uses the plasma and vacuum term. "
   ]
  },
  {
   "cell_type": "markdown",
   "metadata": {},
   "source": [
    "In this notebook I will compare the energy terms. The interface term can be written as:\n",
    "\n",
    "\n",
    "$\\delta W_{I} = (\\epsilon^2 -1) \\bar{\\lambda}^2$\n",
    "\n",
    "\n",
    "so when the $\\epsilon =1$ the analytic and numerical calculations should be the same. Differences would point to potential errors."
   ]
  },
  {
   "cell_type": "markdown",
   "metadata": {},
   "source": [
    "I load delta results from a recent computation and will feed them into the analytic and numerical energy term calculations."
   ]
  },
  {
   "cell_type": "code",
   "execution_count": 4,
   "metadata": {
    "collapsed": false
   },
   "outputs": [],
   "source": [
    "import sys\n",
    "sys.path.append('..')\n",
    "import equil_solver as es\n",
    "from scipy.interpolate import splev"
   ]
  },
  {
   "cell_type": "code",
   "execution_count": 5,
   "metadata": {
    "collapsed": false
   },
   "outputs": [],
   "source": [
    "from analytic_condition import conditions_plasma_term, conditions_interface_term, conditions_vacuum_term\n",
    "from external_stability import plasma_term_from_notes, vacuum_term_from_notes\n",
    "from analytic_condition import conditions\n",
    "from external_stability import external_stability_from_notes\n",
    "from external_stability import external_stability_from_analytic_condition"
   ]
  },
  {
   "cell_type": "code",
   "execution_count": 6,
   "metadata": {
    "collapsed": false
   },
   "outputs": [],
   "source": [
    "test_equil = es.UnitlessSmoothedCoreSkin(core_radius_norm=0.9,\n",
    "                                         transition_width_norm=0.033,\n",
    "                                         skin_width_norm=0.034,\n",
    "                                         epsilon=1., \n",
    "                                         lambda_bar=.5)\n",
    "m = -1.\n",
    "a = 1.\n",
    "xi = 0.7\n",
    "xi_der = 0.4 \n",
    "delta = xi_der / xi\n",
    "params = {\n",
    "          'epsilon': test_equil.epsilon,\n",
    "          'lambda_bar': test_equil.lambda_bar,\n",
    "          'k_bar': test_equil.k_bar,\n",
    "          'b_theta': splev(a, test_equil.get_tck_splines()['b_theta']),\n",
    "          'b_z': splev(a, test_equil.get_tck_splines()['b_z']),\n",
    "          'xi': xi,\n",
    "          'xi_der': xi_der,\n",
    "          'delta': xi_der/xi,\n",
    "          'k': test_equil.k_bar,\n",
    "          'm': m,\n",
    "          'a': a}"
   ]
  },
  {
   "cell_type": "markdown",
   "metadata": {},
   "source": [
    "analytic condition"
   ]
  },
  {
   "cell_type": "code",
   "execution_count": 24,
   "metadata": {
    "collapsed": false
   },
   "outputs": [
    {
     "name": "stdout",
     "output_type": "stream",
     "text": [
      "('plasma term', 2.5178571428571432)\n",
      "('interface term', 0.0)\n",
      "('vacuum term', -1.3239313140161495)\n"
     ]
    }
   ],
   "source": [
    "print('plasma term',\n",
    "conditions_plasma_term(params['k_bar'], params['lambda_bar'], params['epsilon'], -params['m'], params['delta']))\n",
    "print('interface term',\n",
    "conditions_interface_term(params['k_bar'], params['lambda_bar'], params['epsilon'], -params['m'], params['delta']))\n",
    "print('vacuum term',\n",
    "conditions_vacuum_term(params['k_bar'], params['lambda_bar'], params['epsilon'], -params['m'], params['delta']))"
   ]
  },
  {
   "cell_type": "code",
   "execution_count": 25,
   "metadata": {
    "collapsed": false
   },
   "outputs": [
    {
     "name": "stdout",
     "output_type": "stream",
     "text": [
      "('plasma term', 0.30843749999999998)\n",
      "('vacuum term', -0.16218158596697829)\n"
     ]
    }
   ],
   "source": [
    "print('plasma term',\n",
    "plasma_term_from_notes(params['a'], params['k_bar'], params['m'], params['b_z'], params['b_theta'], \n",
    "                       params['xi'], params['xi_der']))\n",
    "print('vacuum term',\n",
    "vacuum_term_from_notes(params['a'], params['k_bar'], params['m'], params['b_z'], params['b_theta'], \n",
    "                       params['xi'], params['xi_der']))"
   ]
  },
  {
   "cell_type": "code",
   "execution_count": 27,
   "metadata": {
    "collapsed": false
   },
   "outputs": [
    {
     "data": {
      "text/plain": [
       "-1.322448979591837"
      ]
     },
     "execution_count": 27,
     "metadata": {},
     "output_type": "execute_result"
    }
   ],
   "source": [
    "-0.162/(params['xi']**2*1./4.*params['b_z'])"
   ]
  },
  {
   "cell_type": "code",
   "execution_count": 7,
   "metadata": {
    "collapsed": false
   },
   "outputs": [
    {
     "ename": "TypeError",
     "evalue": "iteration over a 0-d array",
     "output_type": "error",
     "traceback": [
      "\u001b[1;31m---------------------------------------------------------------------------\u001b[0m",
      "\u001b[1;31mTypeError\u001b[0m                                 Traceback (most recent call last)",
      "\u001b[1;32m<ipython-input-7-1444ad0c8c7a>\u001b[0m in \u001b[0;36m<module>\u001b[1;34m()\u001b[0m\n\u001b[1;32m----> 1\u001b[1;33m \u001b[0mexternal_stability_from_analytic_condition\u001b[0m\u001b[1;33m(\u001b[0m\u001b[0mparams\u001b[0m\u001b[1;33m,\u001b[0m \u001b[0mparams\u001b[0m\u001b[1;33m[\u001b[0m\u001b[1;34m'xi'\u001b[0m\u001b[1;33m]\u001b[0m\u001b[1;33m,\u001b[0m \u001b[0mparams\u001b[0m\u001b[1;33m[\u001b[0m\u001b[1;34m'xi_der'\u001b[0m\u001b[1;33m]\u001b[0m\u001b[1;33m)\u001b[0m\u001b[1;33m\u001b[0m\u001b[0m\n\u001b[0m",
      "\u001b[1;32m/home/jensv/python_projects/fluxtubestability/source/external_stability.py\u001b[0m in \u001b[0;36mexternal_stability_from_analytic_condition\u001b[1;34m(params, xi, xi_der, dim_less)\u001b[0m\n\u001b[0;32m    141\u001b[0m     \"\"\"\n\u001b[0;32m    142\u001b[0m     \u001b[0ma\u001b[0m \u001b[1;33m=\u001b[0m \u001b[0mparams\u001b[0m\u001b[1;33m[\u001b[0m\u001b[1;34m'a'\u001b[0m\u001b[1;33m]\u001b[0m\u001b[1;33m\u001b[0m\u001b[0m\n\u001b[1;32m--> 143\u001b[1;33m     \u001b[0mb_z\u001b[0m \u001b[1;33m=\u001b[0m \u001b[0msplev\u001b[0m\u001b[1;33m(\u001b[0m\u001b[0ma\u001b[0m\u001b[1;33m,\u001b[0m \u001b[0mparams\u001b[0m\u001b[1;33m[\u001b[0m\u001b[1;34m'b_z'\u001b[0m\u001b[1;33m]\u001b[0m\u001b[1;33m)\u001b[0m\u001b[1;33m\u001b[0m\u001b[0m\n\u001b[0m\u001b[0;32m    144\u001b[0m     \u001b[0mb_theta_vacuum\u001b[0m \u001b[1;33m=\u001b[0m \u001b[0msplev\u001b[0m\u001b[1;33m(\u001b[0m\u001b[0ma\u001b[0m\u001b[1;33m,\u001b[0m \u001b[0mparams\u001b[0m\u001b[1;33m[\u001b[0m\u001b[1;34m'b_theta'\u001b[0m\u001b[1;33m]\u001b[0m\u001b[1;33m)\u001b[0m\u001b[1;33m\u001b[0m\u001b[0m\n\u001b[0;32m    145\u001b[0m     \u001b[0mm\u001b[0m \u001b[1;33m=\u001b[0m \u001b[1;33m-\u001b[0m\u001b[0mparams\u001b[0m\u001b[1;33m[\u001b[0m\u001b[1;34m'm'\u001b[0m\u001b[1;33m]\u001b[0m\u001b[1;33m\u001b[0m\u001b[0m\n",
      "\u001b[1;32m/home/jensv/anaconda/lib/python2.7/site-packages/scipy/interpolate/fitpack.pyc\u001b[0m in \u001b[0;36msplev\u001b[1;34m(x, tck, der, ext)\u001b[0m\n\u001b[0;32m    584\u001b[0m \u001b[1;33m\u001b[0m\u001b[0m\n\u001b[0;32m    585\u001b[0m     \"\"\"\n\u001b[1;32m--> 586\u001b[1;33m     \u001b[0mt\u001b[0m\u001b[1;33m,\u001b[0m \u001b[0mc\u001b[0m\u001b[1;33m,\u001b[0m \u001b[0mk\u001b[0m \u001b[1;33m=\u001b[0m \u001b[0mtck\u001b[0m\u001b[1;33m\u001b[0m\u001b[0m\n\u001b[0m\u001b[0;32m    587\u001b[0m     \u001b[1;32mtry\u001b[0m\u001b[1;33m:\u001b[0m\u001b[1;33m\u001b[0m\u001b[0m\n\u001b[0;32m    588\u001b[0m         \u001b[0mc\u001b[0m\u001b[1;33m[\u001b[0m\u001b[1;36m0\u001b[0m\u001b[1;33m]\u001b[0m\u001b[1;33m[\u001b[0m\u001b[1;36m0\u001b[0m\u001b[1;33m]\u001b[0m\u001b[1;33m\u001b[0m\u001b[0m\n",
      "\u001b[1;31mTypeError\u001b[0m: iteration over a 0-d array"
     ]
    }
   ],
   "source": [
    "external_stability_from_analytic_condition(params, params['xi'], params['xi_der'])"
   ]
  },
  {
   "cell_type": "code",
   "execution_count": null,
   "metadata": {
    "collapsed": true
   },
   "outputs": [],
   "source": []
  }
 ],
 "metadata": {
  "kernelspec": {
   "display_name": "Python 2",
   "language": "python",
   "name": "python2"
  },
  "language_info": {
   "codemirror_mode": {
    "name": "ipython",
    "version": 2
   },
   "file_extension": ".py",
   "mimetype": "text/x-python",
   "name": "python",
   "nbconvert_exporter": "python",
   "pygments_lexer": "ipython2",
   "version": "2.7.10"
  }
 },
 "nbformat": 4,
 "nbformat_minor": 0
}
