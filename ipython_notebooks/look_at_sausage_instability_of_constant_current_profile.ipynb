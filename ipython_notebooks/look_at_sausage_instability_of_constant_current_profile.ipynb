{
 "cells": [
  {
   "cell_type": "code",
   "execution_count": 32,
   "metadata": {
    "collapsed": false
   },
   "outputs": [],
   "source": [
    "import sympy as sp\n",
    "import numpy as np\n",
    "%matplotlib inline\n",
    "import matplotlib.pyplot as plt\n",
    "import seaborn as sns\n",
    "sns.set_style('whitegrid')\n",
    "\n",
    "import sys\n",
    "sys.path.append('../')\n",
    "import newcomb_g\n",
    "reload(newcomb_g)\n",
    "import equil_solver as es\n",
    "\n",
    "from scipy.interpolate import splev"
   ]
  },
  {
   "cell_type": "markdown",
   "metadata": {},
   "source": [
    "# look at $f$ and $g$ when $B_{\\theta}$ is constant.\n",
    "\n",
    "$f =\\frac{r(rkB_z - m B_\\theta)^2}{k^2r^2+m^2}$\n",
    "\n",
    "\n",
    "$g = \\frac{(krB_{z} - m B_{\\theta})**2}{r}$"
   ]
  },
  {
   "cell_type": "code",
   "execution_count": 33,
   "metadata": {
    "collapsed": false
   },
   "outputs": [],
   "source": [
    "k_bar = 1.0\n",
    "lambda_bar = 5.0\n",
    "\n",
    "params = {'k': k_bar,\n",
    "          'm': 0,\n",
    "          'r_0': 0,\n",
    "          'a': 1.,\n",
    "          'b': 'infinity'}\n",
    "profile_kwargs = {'epsilon': 1.,\n",
    "                  'points_core': 50,\n",
    "                  'points_skin': 50,\n",
    "                  'points_transition': 50,\n",
    "                  'core_radius_norm': 0.99,\n",
    "                  'transition_width_norm': 0.0033,\n",
    "                  'skin_width_norm': 0.0034}\n",
    "\n",
    "profile = es.UnitlessSmoothedCoreSkin(lambda_bar=lambda_bar, k_bar=k_bar, epsilon=1.0, \n",
    "                                      core_radius_norm=0.99, transition_width_norm=0.0033, \n",
    "                                      skin_width_norm=0.0034)\n",
    "\n",
    "splines = profile.get_tck_splines()\n",
    "\n",
    "r = np.linspace(0, 1, 200)\n",
    "\n",
    "b_z = splev(r, splines['b_z'])\n",
    "b_z_prime = 0\n",
    "b_theta = splev(r, splines['b_theta'])\n",
    "b_theta_prime = splev(r, splines['b_theta_prime'])\n",
    "p_prime = splev(r, splines['p_prime'])\n",
    "q = splev(r, splines['q'])\n",
    "q_prime = splev(r, splines['q_prime'])\n",
    "beta_0 = profile.beta_0()\n",
    "\n",
    "g_17 = newcomb_g.newcomb_g_17(r, k_bar, 0, b_z, b_z_prime, b_theta, b_theta_prime,\n",
    "                       p_prime, q, q_prime)\n",
    "g_18 = newcomb_g.newcomb_g_18_dimless_wo_q(r, k_bar, 0, b_z, b_theta, p_prime, beta_0)"
   ]
  },
  {
   "cell_type": "code",
   "execution_count": 38,
   "metadata": {
    "collapsed": false
   },
   "outputs": [
    {
     "data": {
      "image/png": "[encoded data removed]",
      "text/plain": [
       "<matplotlib.figure.Figure at 0x7fee560124d0>"
      ]
     },
     "metadata": {},
     "output_type": "display_data"
    }
   ],
   "source": [
    "plt.plot(r, g_17)\n",
    "plt.plot(r, g_18)\n",
    "plt.show()"
   ]
  },
  {
   "cell_type": "code",
   "execution_count": 11,
   "metadata": {
    "collapsed": false
   },
   "outputs": [
    {
     "data": {
      "text/plain": [
       "[u'b_z_prime',\n",
       " u'b_theta',\n",
       " u'b_theta_prime',\n",
       " u'b_z',\n",
       " u'q_prime',\n",
       " u'q',\n",
       " u'pressure',\n",
       " u'beta',\n",
       " u'rho',\n",
       " u'j_z',\n",
       " u'b_theta_prime_prime',\n",
       " u'p_prime']"
      ]
     },
     "execution_count": 11,
     "metadata": {},
     "output_type": "execute_result"
    }
   ],
   "source": [
    "splines.keys()"
   ]
  },
  {
   "cell_type": "code",
   "execution_count": 14,
   "metadata": {
    "collapsed": false
   },
   "outputs": [
    {
     "data": {
      "text/plain": [
       "12.626024721937652"
      ]
     },
     "execution_count": 14,
     "metadata": {},
     "output_type": "execute_result"
    }
   ],
   "source": [
    "profile.beta_0()"
   ]
  },
  {
   "cell_type": "code",
   "execution_count": 18,
   "metadata": {
    "collapsed": false
   },
   "outputs": [
    {
     "data": {
      "text/plain": [
       "12.626024721937652"
      ]
     },
     "execution_count": 18,
     "metadata": {},
     "output_type": "execute_result"
    }
   ],
   "source": [
    "profile.beta(0)"
   ]
  }
 ],
 "metadata": {
  "kernelspec": {
   "display_name": "Python 2",
   "language": "python",
   "name": "python2"
  },
  "language_info": {
   "codemirror_mode": {
    "name": "ipython",
    "version": 2
   },
   "file_extension": ".py",
   "mimetype": "text/x-python",
   "name": "python",
   "nbconvert_exporter": "python",
   "pygments_lexer": "ipython2",
   "version": "2.7.11"
  }
 },
 "nbformat": 4,
 "nbformat_minor": 0
}
