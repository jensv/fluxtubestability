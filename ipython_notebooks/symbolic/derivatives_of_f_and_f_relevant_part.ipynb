{
 "metadata": {
  "name": "",
  "signature": "sha256:e579bb6b26354f3aeb5e4b6077e98472e3c7cc2d9537e53c8887638637bfc470"
 },
 "nbformat": 3,
 "nbformat_minor": 0,
 "worksheets": [
  {
   "cells": [
    {
     "cell_type": "code",
     "collapsed": false,
     "input": [
      "import sympy as sp\n",
      "sp.init_printing()"
     ],
     "language": "python",
     "metadata": {},
     "outputs": [],
     "prompt_number": 1
    },
    {
     "cell_type": "heading",
     "level": 1,
     "metadata": {},
     "source": [
      "Derivatives of f relevant part for singularity finding"
     ]
    },
    {
     "cell_type": "code",
     "collapsed": false,
     "input": [
      "r, k, m, b_z = sp.symbols('r k m B_z')\n",
      "b_theta = sp.Function('B_theta')(r)"
     ],
     "language": "python",
     "metadata": {},
     "outputs": [],
     "prompt_number": 2
    },
    {
     "cell_type": "code",
     "collapsed": false,
     "input": [
      "f_relevant_part = k*r*b_z + m*b_theta"
     ],
     "language": "python",
     "metadata": {},
     "outputs": [],
     "prompt_number": 3
    },
    {
     "cell_type": "heading",
     "level": 2,
     "metadata": {},
     "source": [
      "Relevant part of f for singularity finding"
     ]
    },
    {
     "cell_type": "code",
     "collapsed": false,
     "input": [
      "f_relevant_part"
     ],
     "language": "python",
     "metadata": {},
     "outputs": [
      {
       "latex": [
        "$$B_{z} k r + m \\operatorname{B_{\\theta}}{\\left (r \\right )}$$"
       ],
       "metadata": {},
       "output_type": "pyout",
       "png": "[encoded data removed]",
       "prompt_number": 4,
       "text": [
        "B_z\u22c5k\u22c5r + m\u22c5B_\u03b8(r)"
       ]
      }
     ],
     "prompt_number": 4
    },
    {
     "cell_type": "heading",
     "level": 2,
     "metadata": {},
     "source": [
      "Derivative of relevant part for singularity finding"
     ]
    },
    {
     "cell_type": "code",
     "collapsed": false,
     "input": [
      "sp.diff(f_relevant_part, r)"
     ],
     "language": "python",
     "metadata": {},
     "outputs": [
      {
       "latex": [
        "$$B_{z} k + m \\frac{d}{d r} \\operatorname{B_{\\theta}}{\\left (r \\right )}$$"
       ],
       "metadata": {},
       "output_type": "pyout",
       "png": "[encoded data removed]",
       "prompt_number": 5,
       "text": [
        "          d         \n",
        "B_z\u22c5k + m\u22c5\u2500\u2500(B_\u03b8(r))\n",
        "          dr        "
       ]
      }
     ],
     "prompt_number": 5
    },
    {
     "cell_type": "heading",
     "level": 2,
     "metadata": {},
     "source": [
      "2nd Derivative of relevant part for singularity finding"
     ]
    },
    {
     "cell_type": "code",
     "collapsed": false,
     "input": [
      "sp.diff(sp.diff(f_relevant_part, r), r)"
     ],
     "language": "python",
     "metadata": {},
     "outputs": [
      {
       "latex": [
        "$$m \\frac{d^{2}}{d r^{2}}  \\operatorname{B_{\\theta}}{\\left (r \\right )}$$"
       ],
       "metadata": {},
       "output_type": "pyout",
       "png": "[encoded data removed]",
       "prompt_number": 6,
       "text": [
        "    2        \n",
        "   d         \n",
        "m\u22c5\u2500\u2500\u2500(B_\u03b8(r))\n",
        "    2        \n",
        "  dr         "
       ]
      }
     ],
     "prompt_number": 6
    },
    {
     "cell_type": "heading",
     "level": 1,
     "metadata": {},
     "source": [
      "Derivatives of f"
     ]
    },
    {
     "cell_type": "code",
     "collapsed": false,
     "input": [
      "f = r*f_relevant_part**2/(k**2*r**2+m**2)"
     ],
     "language": "python",
     "metadata": {},
     "outputs": [],
     "prompt_number": 7
    },
    {
     "cell_type": "code",
     "collapsed": false,
     "input": [
      "f"
     ],
     "language": "python",
     "metadata": {},
     "outputs": [
      {
       "latex": [
        "$$\\frac{r}{k^{2} r^{2} + m^{2}} \\left(B_{z} k r + m \\operatorname{B_{\\theta}}{\\left (r \\right )}\\right)^{2}$$"
       ],
       "metadata": {},
       "output_type": "pyout",
       "png": "[encoded data removed]",
       "prompt_number": 8,
       "text": [
        "                      2\n",
        "r\u22c5(B_z\u22c5k\u22c5r + m\u22c5B_\u03b8(r)) \n",
        "\u2500\u2500\u2500\u2500\u2500\u2500\u2500\u2500\u2500\u2500\u2500\u2500\u2500\u2500\u2500\u2500\u2500\u2500\u2500\u2500\u2500\u2500\u2500\n",
        "        2  2    2      \n",
        "       k \u22c5r  + m       "
       ]
      }
     ],
     "prompt_number": 8
    },
    {
     "cell_type": "code",
     "collapsed": false,
     "input": [
      "sp.diff(f, r)"
     ],
     "language": "python",
     "metadata": {},
     "outputs": [
      {
       "latex": [
        "$$- \\frac{2 k^{2} r^{2}}{\\left(k^{2} r^{2} + m^{2}\\right)^{2}} \\left(B_{z} k r + m \\operatorname{B_{\\theta}}{\\left (r \\right )}\\right)^{2} + \\frac{r}{k^{2} r^{2} + m^{2}} \\left(2 B_{z} k + 2 m \\frac{d}{d r} \\operatorname{B_{\\theta}}{\\left (r \\right )}\\right) \\left(B_{z} k r + m \\operatorname{B_{\\theta}}{\\left (r \\right )}\\right) + \\frac{1}{k^{2} r^{2} + m^{2}} \\left(B_{z} k r + m \\operatorname{B_{\\theta}}{\\left (r \\right )}\\right)^{2}$$"
       ],
       "metadata": {},
       "output_type": "pyout",
       "png": "[encoded data removed]",
       "prompt_number": 9,
       "text": [
        "                                    \u239b              d         \u239e                \n",
        "     2  2                     2   r\u22c5\u239c2\u22c5B_z\u22c5k + 2\u22c5m\u22c5\u2500\u2500(B_\u03b8(r))\u239f\u22c5(B_z\u22c5k\u22c5r + m\u22c5B_\n",
        "  2\u22c5k \u22c5r \u22c5(B_z\u22c5k\u22c5r + m\u22c5B_\u03b8(r))      \u239d              dr        \u23a0                \n",
        "- \u2500\u2500\u2500\u2500\u2500\u2500\u2500\u2500\u2500\u2500\u2500\u2500\u2500\u2500\u2500\u2500\u2500\u2500\u2500\u2500\u2500\u2500\u2500\u2500\u2500\u2500\u2500\u2500\u2500 + \u2500\u2500\u2500\u2500\u2500\u2500\u2500\u2500\u2500\u2500\u2500\u2500\u2500\u2500\u2500\u2500\u2500\u2500\u2500\u2500\u2500\u2500\u2500\u2500\u2500\u2500\u2500\u2500\u2500\u2500\u2500\u2500\u2500\u2500\u2500\u2500\u2500\u2500\u2500\u2500\u2500\u2500\u2500\u2500\n",
        "                      2                                2  2    2              \n",
        "          \u239b 2  2    2\u239e                                k \u22c5r  + m               \n",
        "          \u239dk \u22c5r  + m \u23a0                                                        \n",
        "\n",
        "                             \n",
        "\u03b8(r))                       2\n",
        "        (B_z\u22c5k\u22c5r + m\u22c5B_\u03b8(r)) \n",
        "\u2500\u2500\u2500\u2500\u2500 + \u2500\u2500\u2500\u2500\u2500\u2500\u2500\u2500\u2500\u2500\u2500\u2500\u2500\u2500\u2500\u2500\u2500\u2500\u2500\u2500\u2500\n",
        "               2  2    2     \n",
        "              k \u22c5r  + m      \n",
        "                             "
       ]
      }
     ],
     "prompt_number": 9
    },
    {
     "cell_type": "code",
     "collapsed": false,
     "input": [],
     "language": "python",
     "metadata": {},
     "outputs": []
    }
   ],
   "metadata": {}
  }
 ]
}