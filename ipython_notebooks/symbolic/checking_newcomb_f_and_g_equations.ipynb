{
 "metadata": {
  "name": "",
  "signature": "sha256:7fbcf000938ac67935bc4e09108981f54a560e9c8e586f4d8a729cac37305018"
 },
 "nbformat": 3,
 "nbformat_minor": 0,
 "worksheets": [
  {
   "cells": [
    {
     "cell_type": "heading",
     "level": 1,
     "metadata": {},
     "source": [
      "Checking newcomb_f.py and newcomb_g.py equations"
     ]
    },
    {
     "cell_type": "markdown",
     "metadata": {},
     "source": [
      "There are a lot of equations implemented in the python code. Here I will go through each equation: write down the equation symbollically to compare it visually with references, plug in some numbers in the symbolic equation and the numerical function from newcomb_f and newcomb_g and look for discrepencies.\n",
      "\n",
      "The next step is to build comglorate functions corresponding to the xi_der functions and compare them."
     ]
    },
    {
     "cell_type": "heading",
     "level": 2,
     "metadata": {},
     "source": [
      "Setup sympy"
     ]
    },
    {
     "cell_type": "code",
     "collapsed": false,
     "input": [
      "import sympy as sp\n",
      "sp.init_printing()"
     ],
     "language": "python",
     "metadata": {},
     "outputs": [],
     "prompt_number": 78
    },
    {
     "cell_type": "code",
     "collapsed": false,
     "input": [
      "r, k, m = sp.symbols('r k m')"
     ],
     "language": "python",
     "metadata": {},
     "outputs": [],
     "prompt_number": 79
    },
    {
     "cell_type": "code",
     "collapsed": false,
     "input": [
      "b_theta, b_z, p_prime, q = sp.symbols('B_theta B_z p__\\' q ')"
     ],
     "language": "python",
     "metadata": {},
     "outputs": [],
     "prompt_number": 80
    },
    {
     "cell_type": "heading",
     "level": 2,
     "metadata": {},
     "source": [
      "Setup newcomb_f.py"
     ]
    },
    {
     "cell_type": "code",
     "collapsed": false,
     "input": [
      "import sys\n",
      "sys.path.append('..')\n",
      "import newcomb_f as f\n",
      "reload(f)"
     ],
     "language": "python",
     "metadata": {},
     "outputs": [
      {
       "metadata": {},
       "output_type": "pyout",
       "prompt_number": 81,
       "text": [
        "<module 'newcomb_f' from '..\\newcomb_f.pyc'>"
       ]
      }
     ],
     "prompt_number": 81
    },
    {
     "cell_type": "heading",
     "level": 3,
     "metadata": {},
     "source": [
      "$f_{jardin} (8.78)$"
     ]
    },
    {
     "cell_type": "code",
     "collapsed": false,
     "input": [
      "class f_jardin_8_78(sp.Function):\n",
      "    nargs = 5\n",
      "    \n",
      "    @classmethod\n",
      "    def eval(cls, r, k, m, b_theta, q):\n",
      "        return r*b_theta**2*(m - k*q)**2/(k**2*r**2 + m**2)"
     ],
     "language": "python",
     "metadata": {},
     "outputs": [],
     "prompt_number": 22
    },
    {
     "cell_type": "code",
     "collapsed": false,
     "input": [
      "f_jardin_8_78(r, k, m, b_theta(r), q(r))"
     ],
     "language": "python",
     "metadata": {},
     "outputs": [
      {
       "latex": [
        "$$\\frac{r \\operatorname{B_{\\theta}}^{2}{\\left (r \\right )}}{k^{2} r^{2} + m^{2}} \\left(- k q{\\left (r \\right )} + m\\right)^{2}$$"
       ],
       "metadata": {},
       "output_type": "pyout",
       "png": "[encoded data removed]",
       "prompt_number": 24,
       "text": [
        "               2    2   \n",
        "r\u22c5(-k\u22c5q(r) + m) \u22c5B_\u03b8 (r)\n",
        "\u2500\u2500\u2500\u2500\u2500\u2500\u2500\u2500\u2500\u2500\u2500\u2500\u2500\u2500\u2500\u2500\u2500\u2500\u2500\u2500\u2500\u2500\u2500\u2500\n",
        "        2  2    2       \n",
        "       k \u22c5r  + m        "
       ]
      }
     ],
     "prompt_number": 24
    },
    {
     "cell_type": "heading",
     "level": 3,
     "metadata": {},
     "source": [
      "$f_{goedbloed} (9.106)$"
     ]
    },
    {
     "cell_type": "code",
     "collapsed": false,
     "input": [
      "class f_goedbloed_9_106(sp.Function):\n",
      "    nargs = 5\n",
      "    \n",
      "    @classmethod\n",
      "    def eval(cls, r, k, m, b_theta, b_z):\n",
      "        return r**3*(k*b_z + m*b_theta/r)**2/(m**2 + k**2*r**2)"
     ],
     "language": "python",
     "metadata": {},
     "outputs": [],
     "prompt_number": 27
    },
    {
     "cell_type": "code",
     "collapsed": false,
     "input": [
      "f_goedbloed_9_106(r, k, m, b_theta(r), b_z(r))"
     ],
     "language": "python",
     "metadata": {},
     "outputs": [
      {
       "latex": [
        "$$\\frac{r^{3}}{k^{2} r^{2} + m^{2}} \\left(k \\operatorname{B_{z}}{\\left (r \\right )} + \\frac{m}{r} \\operatorname{B_{\\theta}}{\\left (r \\right )}\\right)^{2}$$"
       ],
       "metadata": {},
       "output_type": "pyout",
       "png": "[encoded data removed]",
       "prompt_number": 28,
       "text": [
        "                        2\n",
        " 3 \u239b           m\u22c5B_\u03b8(r)\u239e \n",
        "r \u22c5\u239ck\u22c5B_z(r) + \u2500\u2500\u2500\u2500\u2500\u2500\u2500\u2500\u239f \n",
        "   \u239d              r    \u23a0 \n",
        "\u2500\u2500\u2500\u2500\u2500\u2500\u2500\u2500\u2500\u2500\u2500\u2500\u2500\u2500\u2500\u2500\u2500\u2500\u2500\u2500\u2500\u2500\u2500\u2500\u2500\n",
        "         2  2    2       \n",
        "        k \u22c5r  + m        "
       ]
      }
     ],
     "prompt_number": 28
    },
    {
     "cell_type": "heading",
     "level": 3,
     "metadata": {},
     "source": [
      "$f_{newcomb}(16)$"
     ]
    },
    {
     "cell_type": "code",
     "collapsed": false,
     "input": [
      "class f_newcomb_16(sp.Function):\n",
      "    nargs = 5\n",
      "    \n",
      "    @classmethod\n",
      "    def eval(cls, r, k, m, b_theta, b_z):\n",
      "        return r*(k*r*b_z + m*b_theta)**2/(k**2*r**2 + m**2)"
     ],
     "language": "python",
     "metadata": {},
     "outputs": [],
     "prompt_number": 30
    },
    {
     "cell_type": "code",
     "collapsed": false,
     "input": [
      "f_newcomb_16(r, k, m, b_theta, b_z)"
     ],
     "language": "python",
     "metadata": {},
     "outputs": [
      {
       "latex": [
        "$$\\frac{r \\left(B_{\\theta} m + B_{z} k r\\right)^{2}}{k^{2} r^{2} + m^{2}}$$"
       ],
       "metadata": {},
       "output_type": "pyout",
       "png": "[encoded data removed]",
       "prompt_number": 31,
       "text": [
        "                   2\n",
        "r\u22c5(B_\u03b8\u22c5m + B_z\u22c5k\u22c5r) \n",
        "\u2500\u2500\u2500\u2500\u2500\u2500\u2500\u2500\u2500\u2500\u2500\u2500\u2500\u2500\u2500\u2500\u2500\u2500\u2500\u2500\n",
        "      2  2    2     \n",
        "     k \u22c5r  + m      "
       ]
      }
     ],
     "prompt_number": 31
    },
    {
     "cell_type": "heading",
     "level": 3,
     "metadata": {},
     "source": [
      "Setup newcomb_g.py"
     ]
    },
    {
     "cell_type": "code",
     "collapsed": false,
     "input": [
      "import sys\n",
      "sys.path.append('..')\n",
      "import newcomb_g as g\n",
      "reload(g)"
     ],
     "language": "python",
     "metadata": {},
     "outputs": [
      {
       "metadata": {},
       "output_type": "pyout",
       "prompt_number": 32,
       "text": [
        "<module 'newcomb_g' from '..\\newcomb_g.pyc'>"
       ]
      }
     ],
     "prompt_number": 32
    },
    {
     "cell_type": "heading",
     "level": 3,
     "metadata": {},
     "source": [
      "$g_{jardin} (8.80)$"
     ]
    },
    {
     "cell_type": "code",
     "collapsed": false,
     "input": [
      "class g_jardin_8_80(sp.Function):\n",
      "    nargs = 6\n",
      "    \n",
      "    @classmethod\n",
      "    def eval(cls, r, k, m, b_theta, p_prime, q):\n",
      "        term1 = (2.*k**2*r**2)/(k**2*r**2+m**2)*p_prime\n",
      "        term2 = b_theta**2/r*(m-k*q)**2*(k**2*r**2+m**2-1.)/(k**2*r**2+m**2)\n",
      "        term3 = 2*k**2*r*b_theta**2/(k**2*r**2+m**2)**2*(k**2*q**2-m**2)\n",
      "        return term1 + term2 + term3"
     ],
     "language": "python",
     "metadata": {},
     "outputs": [],
     "prompt_number": 63
    },
    {
     "cell_type": "code",
     "collapsed": false,
     "input": [
      "g_jardin_8_80(r, k, m, b_theta(r), p_prime(r), q(r))"
     ],
     "language": "python",
     "metadata": {},
     "outputs": [
      {
       "latex": [
        "$$\\frac{2.0 k^{2} r^{2} \\operatorname{p^{'}}{\\left (r \\right )}}{k^{2} r^{2} + m^{2}} + \\frac{2 k^{2} r \\operatorname{B_{\\theta}}^{2}{\\left (r \\right )}}{\\left(k^{2} r^{2} + m^{2}\\right)^{2}} \\left(k^{2} q^{2}{\\left (r \\right )} - m^{2}\\right) + \\frac{\\left(- k q{\\left (r \\right )} + m\\right)^{2}}{r \\left(k^{2} r^{2} + m^{2}\\right)} \\left(k^{2} r^{2} + m^{2} - 1.0\\right) \\operatorname{B_{\\theta}}^{2}{\\left (r \\right )}$$"
       ],
       "metadata": {},
       "output_type": "pyout",
       "png": "[encoded data removed]",
       "prompt_number": 64,
       "text": [
        "     2  2              2   \u239b 2  2       2\u239e    2                   2 \u239b 2  2    \n",
        "2.0\u22c5k \u22c5r \u22c5p__'(r)   2\u22c5k \u22c5r\u22c5\u239dk \u22c5q (r) - m \u23a0\u22c5B_\u03b8 (r)   (-k\u22c5q(r) + m) \u22c5\u239dk \u22c5r  + m\n",
        "\u2500\u2500\u2500\u2500\u2500\u2500\u2500\u2500\u2500\u2500\u2500\u2500\u2500\u2500\u2500\u2500\u2500 + \u2500\u2500\u2500\u2500\u2500\u2500\u2500\u2500\u2500\u2500\u2500\u2500\u2500\u2500\u2500\u2500\u2500\u2500\u2500\u2500\u2500\u2500\u2500\u2500\u2500\u2500\u2500\u2500\u2500\u2500 + \u2500\u2500\u2500\u2500\u2500\u2500\u2500\u2500\u2500\u2500\u2500\u2500\u2500\u2500\u2500\u2500\u2500\u2500\u2500\u2500\u2500\u2500\u2500\u2500\u2500\n",
        "     2  2    2                          2                            \u239b 2  2   \n",
        "    k \u22c5r  + m               \u239b 2  2    2\u239e                           r\u22c5\u239dk \u22c5r  + \n",
        "                            \u239dk \u22c5r  + m \u23a0                                      \n",
        "\n",
        "2      \u239e    2   \n",
        "  - 1.0\u23a0\u22c5B_\u03b8 (r)\n",
        "\u2500\u2500\u2500\u2500\u2500\u2500\u2500\u2500\u2500\u2500\u2500\u2500\u2500\u2500\u2500\u2500\n",
        " 2\u239e             \n",
        "m \u23a0             \n",
        "                "
       ]
      }
     ],
     "prompt_number": 64
    },
    {
     "cell_type": "heading",
     "level": 3,
     "metadata": {},
     "source": [
      "$g_{jardin} (8.79)$"
     ]
    },
    {
     "cell_type": "code",
     "collapsed": false,
     "input": [
      "class g_jardin_8_79(sp.Function):\n",
      "    nargs = 5\n",
      "    \n",
      "    @classmethod\n",
      "    def eval(cls, r, k, m, b_theta, q):\n",
      "        term1 = 1./r*b_theta**2/(k**2*r**2+m**2)*(k*q + m)**2\n",
      "        term2 = b_theta**2/r*(m - k*q)\n",
      "        term3 = 2.*b_theta/r*(r*sp.diff(b_theta, r) + b_theta)\n",
      "        der_term1 = -2.*k**2*r*b_theta**2/(k**2*r**2 + m**2)**2*(k**2*q**2 -\n",
      "                                                                 m**2)\n",
      "        der_term2 = 2.*k**2*b_theta**2/(k**2*r**2 + m**2)*q*sp.diff(q, r)\n",
      "        der_term3 = 2.*sp.diff(b_theta, r)/(k**2*r**2 + m**2)*((k**2*q**2 - m**2) *\n",
      "                                                         b_theta)\n",
      "        return term1 + term2 - term3 - der_term1 - der_term2 - der_term3"
     ],
     "language": "python",
     "metadata": {},
     "outputs": [],
     "prompt_number": 67
    },
    {
     "cell_type": "code",
     "collapsed": false,
     "input": [
      "g_jardin_8_79(r, k, m, b_theta(r), q(r))"
     ],
     "language": "python",
     "metadata": {},
     "outputs": [
      {
       "latex": [
        "$$\\frac{2.0 k^{2} r \\operatorname{B_{\\theta}}^{2}{\\left (r \\right )}}{\\left(k^{2} r^{2} + m^{2}\\right)^{2}} \\left(k^{2} q^{2}{\\left (r \\right )} - m^{2}\\right) - \\frac{2.0 k^{2} \\operatorname{B_{\\theta}}^{2}{\\left (r \\right )}}{k^{2} r^{2} + m^{2}} q{\\left (r \\right )} \\frac{d}{d r} q{\\left (r \\right )} - \\frac{2.0 \\frac{d}{d r} \\operatorname{B_{\\theta}}{\\left (r \\right )}}{k^{2} r^{2} + m^{2}} \\left(k^{2} q^{2}{\\left (r \\right )} - m^{2}\\right) \\operatorname{B_{\\theta}}{\\left (r \\right )} + \\frac{1}{r} \\left(- k q{\\left (r \\right )} + m\\right) \\operatorname{B_{\\theta}}^{2}{\\left (r \\right )} + \\frac{1.0 \\left(k q{\\left (r \\right )} + m\\right)^{2}}{r \\left(k^{2} r^{2} + m^{2}\\right)} \\operatorname{B_{\\theta}}^{2}{\\left (r \\right )} - \\frac{2.0}{r} \\left(r \\frac{d}{d r} \\operatorname{B_{\\theta}}{\\left (r \\right )} + \\operatorname{B_{\\theta}}{\\left (r \\right )}\\right) \\operatorname{B_{\\theta}}{\\left (r \\right )}$$"
       ],
       "metadata": {},
       "output_type": "pyout",
       "png": "[encoded data removed]",
       "prompt_number": 68,
       "text": [
        "                                        2    2         d              \u239b 2  2  \n",
        "     2   \u239b 2  2       2\u239e    2      2.0\u22c5k \u22c5B_\u03b8 (r)\u22c5q(r)\u22c5\u2500\u2500(q(r))   2.0\u22c5\u239dk \u22c5q (r\n",
        "2.0\u22c5k \u22c5r\u22c5\u239dk \u22c5q (r) - m \u23a0\u22c5B_\u03b8 (r)                       dr                     \n",
        "\u2500\u2500\u2500\u2500\u2500\u2500\u2500\u2500\u2500\u2500\u2500\u2500\u2500\u2500\u2500\u2500\u2500\u2500\u2500\u2500\u2500\u2500\u2500\u2500\u2500\u2500\u2500\u2500\u2500\u2500\u2500\u2500 - \u2500\u2500\u2500\u2500\u2500\u2500\u2500\u2500\u2500\u2500\u2500\u2500\u2500\u2500\u2500\u2500\u2500\u2500\u2500\u2500\u2500\u2500\u2500\u2500\u2500\u2500\u2500\u2500 - \u2500\u2500\u2500\u2500\u2500\u2500\u2500\u2500\u2500\u2500\u2500\u2500\n",
        "                     2                       2  2    2                        \n",
        "         \u239b 2  2    2\u239e                       k \u22c5r  + m                         \n",
        "         \u239dk \u22c5r  + m \u23a0                                                         \n",
        "\n",
        "     2\u239e        d                                                              \n",
        ") - m \u23a0\u22c5B_\u03b8(r)\u22c5\u2500\u2500(B_\u03b8(r))                    2                      2    2    \n",
        "               dr           (-k\u22c5q(r) + m)\u22c5B_\u03b8 (r)   1.0\u22c5(k\u22c5q(r) + m) \u22c5B_\u03b8 (r) \n",
        "\u2500\u2500\u2500\u2500\u2500\u2500\u2500\u2500\u2500\u2500\u2500\u2500\u2500\u2500\u2500\u2500\u2500\u2500\u2500\u2500\u2500\u2500\u2500\u2500\u2500 + \u2500\u2500\u2500\u2500\u2500\u2500\u2500\u2500\u2500\u2500\u2500\u2500\u2500\u2500\u2500\u2500\u2500\u2500\u2500\u2500\u2500 + \u2500\u2500\u2500\u2500\u2500\u2500\u2500\u2500\u2500\u2500\u2500\u2500\u2500\u2500\u2500\u2500\u2500\u2500\u2500\u2500\u2500\u2500\u2500\u2500\u2500 \n",
        "   2  2    2                          r                     \u239b 2  2    2\u239e      \n",
        "  k \u22c5r  + m                                               r\u22c5\u239dk \u22c5r  + m \u23a0      \n",
        "                                                                              \n",
        "\n",
        "      \u239b  d                  \u239e       \n",
        "  2.0\u22c5\u239cr\u22c5\u2500\u2500(B_\u03b8(r)) + B_\u03b8(r)\u239f\u22c5B_\u03b8(r)\n",
        "      \u239d  dr                 \u23a0       \n",
        "- \u2500\u2500\u2500\u2500\u2500\u2500\u2500\u2500\u2500\u2500\u2500\u2500\u2500\u2500\u2500\u2500\u2500\u2500\u2500\u2500\u2500\u2500\u2500\u2500\u2500\u2500\u2500\u2500\u2500\u2500\u2500\u2500\u2500\u2500\n",
        "                  r                 \n",
        "                                    \n",
        "                                    "
       ]
      }
     ],
     "prompt_number": 68
    },
    {
     "cell_type": "heading",
     "level": 3,
     "metadata": {},
     "source": [
      "$g_{newcomb} (17)$"
     ]
    },
    {
     "cell_type": "code",
     "collapsed": false,
     "input": [
      "class g_newcomb_17(sp.Function):\n",
      "    nargs = 5\n",
      "    \n",
      "    @classmethod\n",
      "    def eval(cls, r, k, m, b_z, b_theta):\n",
      "        term1 = 1./r*(k*r*b_z - m*b_theta)**2/(k**2*r**2 + m**2)\n",
      "        term2 = 1./r*(k*r*b_z - m*b_theta)**2\n",
      "        term3 = 2.*b_theta/r*(r*sp.diff(b_theta, r) + b_theta)\n",
      "        der_term1 = -2.*k**2*r/(k**2*r**2 + m**2)**2*(k**2*r**2*b_z**2 -\n",
      "                                                      m**2*b_theta**2)\n",
      "        der_term2 = 1./(k**2*r**2 + m**2)*(2.*k**2*r**2*b_z*sp.diff(b_z, r) +\n",
      "                                           2.*k**2*r*b_z**2 -\n",
      "                                           2.*m**2*b_theta*sp.diff(b_theta,r))\n",
      "        return term1 + term2 - term3 - der_term1 - der_term2"
     ],
     "language": "python",
     "metadata": {},
     "outputs": [],
     "prompt_number": 69
    },
    {
     "cell_type": "code",
     "collapsed": false,
     "input": [
      "g_newcomb_17(r, k, m, b_z(r), b_theta(r))"
     ],
     "language": "python",
     "metadata": {},
     "outputs": [
      {
       "latex": [
        "$$\\frac{2.0 k^{2} r}{\\left(k^{2} r^{2} + m^{2}\\right)^{2}} \\left(k^{2} r^{2} \\operatorname{B_{z}}^{2}{\\left (r \\right )} - m^{2} \\operatorname{B_{\\theta}}^{2}{\\left (r \\right )}\\right) - \\frac{1}{k^{2} r^{2} + m^{2}} \\left(2.0 k^{2} r^{2} \\operatorname{B_{z}}{\\left (r \\right )} \\frac{d}{d r} \\operatorname{B_{z}}{\\left (r \\right )} + 2.0 k^{2} r \\operatorname{B_{z}}^{2}{\\left (r \\right )} - 2.0 m^{2} \\operatorname{B_{\\theta}}{\\left (r \\right )} \\frac{d}{d r} \\operatorname{B_{\\theta}}{\\left (r \\right )}\\right) - \\frac{2.0}{r} \\left(r \\frac{d}{d r} \\operatorname{B_{\\theta}}{\\left (r \\right )} + \\operatorname{B_{\\theta}}{\\left (r \\right )}\\right) \\operatorname{B_{\\theta}}{\\left (r \\right )} + \\frac{1.0}{r} \\left(k r \\operatorname{B_{z}}{\\left (r \\right )} - m \\operatorname{B_{\\theta}}{\\left (r \\right )}\\right)^{2} + \\frac{1.0}{r \\left(k^{2} r^{2} + m^{2}\\right)} \\left(k r \\operatorname{B_{z}}{\\left (r \\right )} - m \\operatorname{B_{\\theta}}{\\left (r \\right )}\\right)^{2}$$"
       ],
       "metadata": {},
       "output_type": "pyout",
       "png": "[encoded data removed]",
       "prompt_number": 70,
       "text": [
        "                                            \u239b     2  2        d               \n",
        "     2   \u239b 2  2    2       2    2   \u239e   1.0\u22c5\u239c2.0\u22c5k \u22c5r \u22c5B_z(r)\u22c5\u2500\u2500(B_z(r)) + 2.0\n",
        "2.0\u22c5k \u22c5r\u22c5\u239dk \u22c5r \u22c5B_z (r) - m \u22c5B_\u03b8 (r)\u23a0       \u239d                 dr              \n",
        "\u2500\u2500\u2500\u2500\u2500\u2500\u2500\u2500\u2500\u2500\u2500\u2500\u2500\u2500\u2500\u2500\u2500\u2500\u2500\u2500\u2500\u2500\u2500\u2500\u2500\u2500\u2500\u2500\u2500\u2500\u2500\u2500\u2500\u2500\u2500\u2500\u2500 - \u2500\u2500\u2500\u2500\u2500\u2500\u2500\u2500\u2500\u2500\u2500\u2500\u2500\u2500\u2500\u2500\u2500\u2500\u2500\u2500\u2500\u2500\u2500\u2500\u2500\u2500\u2500\u2500\u2500\u2500\u2500\u2500\u2500\u2500\u2500\u2500\u2500\u2500\n",
        "                        2                                                   2 \n",
        "            \u239b 2  2    2\u239e                                                   k \u22c5\n",
        "            \u239dk \u22c5r  + m \u23a0                                                      \n",
        "\n",
        "  2      2           2        d         \u239e       \u239b  d                  \u239e       \n",
        "\u22c5k \u22c5r\u22c5B_z (r) - 2.0\u22c5m \u22c5B_\u03b8(r)\u22c5\u2500\u2500(B_\u03b8(r))\u239f   2.0\u22c5\u239cr\u22c5\u2500\u2500(B_\u03b8(r)) + B_\u03b8(r)\u239f\u22c5B_\u03b8(r)\n",
        "                              dr        \u23a0       \u239d  dr                 \u23a0       \n",
        "\u2500\u2500\u2500\u2500\u2500\u2500\u2500\u2500\u2500\u2500\u2500\u2500\u2500\u2500\u2500\u2500\u2500\u2500\u2500\u2500\u2500\u2500\u2500\u2500\u2500\u2500\u2500\u2500\u2500\u2500\u2500\u2500\u2500\u2500\u2500\u2500\u2500\u2500\u2500\u2500\u2500 - \u2500\u2500\u2500\u2500\u2500\u2500\u2500\u2500\u2500\u2500\u2500\u2500\u2500\u2500\u2500\u2500\u2500\u2500\u2500\u2500\u2500\u2500\u2500\u2500\u2500\u2500\u2500\u2500\u2500\u2500\u2500\u2500\u2500\u2500\n",
        " 2    2                                                     r                 \n",
        "r  + m                                                                        \n",
        "                                                                              \n",
        "\n",
        "                                                              \n",
        "                              2                              2\n",
        "   1.0\u22c5(k\u22c5r\u22c5B_z(r) - m\u22c5B_\u03b8(r))    1.0\u22c5(k\u22c5r\u22c5B_z(r) - m\u22c5B_\u03b8(r)) \n",
        " + \u2500\u2500\u2500\u2500\u2500\u2500\u2500\u2500\u2500\u2500\u2500\u2500\u2500\u2500\u2500\u2500\u2500\u2500\u2500\u2500\u2500\u2500\u2500\u2500\u2500\u2500\u2500\u2500 + \u2500\u2500\u2500\u2500\u2500\u2500\u2500\u2500\u2500\u2500\u2500\u2500\u2500\u2500\u2500\u2500\u2500\u2500\u2500\u2500\u2500\u2500\u2500\u2500\u2500\u2500\u2500\u2500\n",
        "                r                          \u239b 2  2    2\u239e       \n",
        "                                         r\u22c5\u239dk \u22c5r  + m \u23a0       \n",
        "                                                              "
       ]
      }
     ],
     "prompt_number": 70
    },
    {
     "cell_type": "heading",
     "level": 3,
     "metadata": {},
     "source": [
      "$g_{newcomb} (18)$"
     ]
    },
    {
     "cell_type": "code",
     "collapsed": false,
     "input": [
      "class g_newcomb_18(sp.Function):\n",
      "    nargs = 5\n",
      "    \n",
      "    @classmethod\n",
      "    def eval(cls, r, k, m, b_theta, p_prime):\n",
      "        term1 = 2.*k**2*r**2/(k**2*r**2 + m**2) * p_prime\n",
      "        term2 = (1./r*(k*r*b_z + m*b_theta)**2*(k**2*r**2+m**2-1.) /\n",
      "                 (k**2*r**2 + m**2))\n",
      "        term3 = (2.*k**2*r/(k**2*r**2 + m**2)**2 *\n",
      "                 (k**2*r**2*b_z**2-m**2*b_theta**2))\n",
      "        return term1 + term2 + term3"
     ],
     "language": "python",
     "metadata": {},
     "outputs": [],
     "prompt_number": 74
    },
    {
     "cell_type": "code",
     "collapsed": false,
     "input": [
      "g_newcomb_18(r, k, m, b_theta(r), p_prime(r))"
     ],
     "language": "python",
     "metadata": {},
     "outputs": [
      {
       "latex": [
        "$$\\frac{2.0 k^{2} r^{2} \\operatorname{p^{'}}{\\left (r \\right )}}{k^{2} r^{2} + m^{2}} + \\frac{2.0 k^{2} r}{\\left(k^{2} r^{2} + m^{2}\\right)^{2}} \\left(B_{z}^{2} k^{2} r^{2} - m^{2} \\operatorname{B_{\\theta}}^{2}{\\left (r \\right )}\\right) + \\frac{\\left(B_{z} k r + m \\operatorname{B_{\\theta}}{\\left (r \\right )}\\right)^{2}}{r \\left(k^{2} r^{2} + m^{2}\\right)} \\left(k^{2} r^{2} + m^{2} - 1.0\\right)$$"
       ],
       "metadata": {},
       "output_type": "pyout",
       "png": "[encoded data removed]",
       "prompt_number": 72,
       "text": [
        "     2  2                2   \u239b   2  2  2    2    2   \u239e                       2\n",
        "2.0\u22c5k \u22c5r \u22c5p__'(r)   2.0\u22c5k \u22c5r\u22c5\u239dB_z \u22c5k \u22c5r  - m \u22c5B_\u03b8 (r)\u23a0   (B_z\u22c5k\u22c5r + m\u22c5B_\u03b8(r)) \n",
        "\u2500\u2500\u2500\u2500\u2500\u2500\u2500\u2500\u2500\u2500\u2500\u2500\u2500\u2500\u2500\u2500\u2500 + \u2500\u2500\u2500\u2500\u2500\u2500\u2500\u2500\u2500\u2500\u2500\u2500\u2500\u2500\u2500\u2500\u2500\u2500\u2500\u2500\u2500\u2500\u2500\u2500\u2500\u2500\u2500\u2500\u2500\u2500\u2500\u2500\u2500\u2500 + \u2500\u2500\u2500\u2500\u2500\u2500\u2500\u2500\u2500\u2500\u2500\u2500\u2500\u2500\u2500\u2500\u2500\u2500\u2500\u2500\u2500\n",
        "     2  2    2                            2                             \u239b 2  2\n",
        "    k \u22c5r  + m                 \u239b 2  2    2\u239e                            r\u22c5\u239dk \u22c5r \n",
        "                              \u239dk \u22c5r  + m \u23a0                                    \n",
        "\n",
        " \u239b 2  2    2      \u239e\n",
        "\u22c5\u239dk \u22c5r  + m  - 1.0\u23a0\n",
        "\u2500\u2500\u2500\u2500\u2500\u2500\u2500\u2500\u2500\u2500\u2500\u2500\u2500\u2500\u2500\u2500\u2500\u2500\u2500\n",
        "    2\u239e             \n",
        " + m \u23a0             \n",
        "                   "
       ]
      }
     ],
     "prompt_number": 72
    },
    {
     "cell_type": "heading",
     "level": 3,
     "metadata": {},
     "source": [
      "$g_{goedbloed} (9.107)$"
     ]
    },
    {
     "cell_type": "code",
     "collapsed": false,
     "input": [
      "class g_goedbloed_9_107(sp.Function):\n",
      "    nargs = 6\n",
      "    \n",
      "    @classmethod\n",
      "    def eval(cls, r, k, m, b_z, b_theta, p_prime):\n",
      "        term1 = 2.*k**2*r**2/(m**2 + k**2*r**2)*p_prime\n",
      "        term2 = (m**2 + k**2*r**2 - 1.)/(m**2 + k**2*r**2)*r*(k*b_z + m*b_theta/r)**2\n",
      "        term3 = 2.*k**2*r**3*(m*b_theta/r - k*b_z)/(m**2 + k**2*r**2)**2*(k*b_z + m*b_theta/r)\n",
      "        return term1 + term2 - term3"
     ],
     "language": "python",
     "metadata": {},
     "outputs": [],
     "prompt_number": 73
    },
    {
     "cell_type": "code",
     "collapsed": false,
     "input": [
      "g_goedbloed_9_107(r, k, m, b_z(r), b_theta(r), p_prime(r))"
     ],
     "language": "python",
     "metadata": {},
     "outputs": [
      {
       "latex": [
        "$$- \\frac{2.0 k^{2} r^{3}}{\\left(k^{2} r^{2} + m^{2}\\right)^{2}} \\left(- k \\operatorname{B_{z}}{\\left (r \\right )} + \\frac{m}{r} \\operatorname{B_{\\theta}}{\\left (r \\right )}\\right) \\left(k \\operatorname{B_{z}}{\\left (r \\right )} + \\frac{m}{r} \\operatorname{B_{\\theta}}{\\left (r \\right )}\\right) + \\frac{2.0 k^{2} r^{2} \\operatorname{p^{'}}{\\left (r \\right )}}{k^{2} r^{2} + m^{2}} + \\frac{r}{k^{2} r^{2} + m^{2}} \\left(k \\operatorname{B_{z}}{\\left (r \\right )} + \\frac{m}{r} \\operatorname{B_{\\theta}}{\\left (r \\right )}\\right)^{2} \\left(k^{2} r^{2} + m^{2} - 1\\right)$$"
       ],
       "metadata": {},
       "output_type": "pyout",
       "png": "[encoded data removed]",
       "prompt_number": 62,
       "text": [
        "                                                                              \n",
        "       2  3 \u239b            m\u22c5B_\u03b8(r)\u239e \u239b           m\u22c5B_\u03b8(r)\u239e                      \n",
        "  2.0\u22c5k \u22c5r \u22c5\u239c-k\u22c5B_z(r) + \u2500\u2500\u2500\u2500\u2500\u2500\u2500\u2500\u239f\u22c5\u239ck\u22c5B_z(r) + \u2500\u2500\u2500\u2500\u2500\u2500\u2500\u2500\u239f        2  2          \n",
        "            \u239d               r    \u23a0 \u239d              r    \u23a0   2.0\u22c5k \u22c5r \u22c5p__'(r)  \n",
        "- \u2500\u2500\u2500\u2500\u2500\u2500\u2500\u2500\u2500\u2500\u2500\u2500\u2500\u2500\u2500\u2500\u2500\u2500\u2500\u2500\u2500\u2500\u2500\u2500\u2500\u2500\u2500\u2500\u2500\u2500\u2500\u2500\u2500\u2500\u2500\u2500\u2500\u2500\u2500\u2500\u2500\u2500\u2500\u2500\u2500\u2500\u2500\u2500\u2500\u2500\u2500\u2500\u2500\u2500 + \u2500\u2500\u2500\u2500\u2500\u2500\u2500\u2500\u2500\u2500\u2500\u2500\u2500\u2500\u2500\u2500\u2500 +\n",
        "                                  2                             2  2    2     \n",
        "                      \u239b 2  2    2\u239e                             k \u22c5r  + m      \n",
        "                      \u239dk \u22c5r  + m \u23a0                                            \n",
        "\n",
        "                        2                 \n",
        "   \u239b           m\u22c5B_\u03b8(r)\u239e  \u239b 2  2    2    \u239e\n",
        " r\u22c5\u239ck\u22c5B_z(r) + \u2500\u2500\u2500\u2500\u2500\u2500\u2500\u2500\u239f \u22c5\u239dk \u22c5r  + m  - 1\u23a0\n",
        "   \u239d              r    \u23a0                  \n",
        " \u2500\u2500\u2500\u2500\u2500\u2500\u2500\u2500\u2500\u2500\u2500\u2500\u2500\u2500\u2500\u2500\u2500\u2500\u2500\u2500\u2500\u2500\u2500\u2500\u2500\u2500\u2500\u2500\u2500\u2500\u2500\u2500\u2500\u2500\u2500\u2500\u2500\u2500\u2500\u2500\u2500\n",
        "                  2  2    2               \n",
        "                 k \u22c5r  + m                \n",
        "                                          "
       ]
      }
     ],
     "prompt_number": 62
    },
    {
     "cell_type": "code",
     "collapsed": false,
     "input": [],
     "language": "python",
     "metadata": {},
     "outputs": []
    }
   ],
   "metadata": {}
  }
 ]
}