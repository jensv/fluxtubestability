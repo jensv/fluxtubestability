{
 "cells": [
  {
   "cell_type": "markdown",
   "metadata": {},
   "source": [
    "# Find a suydam stable profile"
   ]
  },
  {
   "cell_type": "markdown",
   "metadata": {},
   "source": [
    "## If $B_z$ is constant Suydam's condition becomes an ODE"
   ]
  },
  {
   "cell_type": "markdown",
   "metadata": {},
   "source": [
    "## Imports"
   ]
  },
  {
   "cell_type": "code",
   "execution_count": 1,
   "metadata": {
    "collapsed": true
   },
   "outputs": [],
   "source": [
    "import numpy as np\n",
    "\n",
    "import matplotlib.pyplot as plt\n",
    "import seaborn as sns\n",
    "sns.set_style('whitegrid')\n",
    "sns.set_context('poster')\n",
    "\n",
    "import sympy as sp\n",
    "sp.init_printing()"
   ]
  },
  {
   "cell_type": "markdown",
   "metadata": {},
   "source": [
    "## Define symbols"
   ]
  },
  {
   "cell_type": "code",
   "execution_count": 2,
   "metadata": {
    "collapsed": false
   },
   "outputs": [],
   "source": [
    "b_theta = sp.symbols('B_theta', cls=sp.Function)\n",
    "b_z, r = sp.symbols('B_z r')"
   ]
  },
  {
   "cell_type": "code",
   "execution_count": 3,
   "metadata": {
    "collapsed": false
   },
   "outputs": [],
   "source": [
    "suydam_constant_bz = sp.Eq((b_theta(r)**2*b_z**2 - 2*r*b_z**2*b_theta(r)*sp.diff(b_theta(r), r) + r**2*b_z**2*sp.diff(b_theta(r), r)**2) / (8*r*b_theta(r)**2) - b_theta(r)**2/r - b_theta(r)*sp.diff(b_theta(r), r), 0)"
   ]
  },
  {
   "cell_type": "code",
   "execution_count": 4,
   "metadata": {
    "collapsed": false
   },
   "outputs": [
    {
     "data": {
      "image/png": "[encoded data removed]",
      "text/latex": [
       "$$- \\operatorname{B_{\\theta}}{\\left (r \\right )} \\frac{d}{d r} \\operatorname{B_{\\theta}}{\\left (r \\right )} + \\frac{1}{8 r \\operatorname{B_{\\theta}}^{2}{\\left (r \\right )}} \\left(B_{z}^{2} r^{2} \\frac{d}{d r} \\operatorname{B_{\\theta}}{\\left (r \\right )}^{2} - 2 B_{z}^{2} r \\operatorname{B_{\\theta}}{\\left (r \\right )} \\frac{d}{d r} \\operatorname{B_{\\theta}}{\\left (r \\right )} + B_{z}^{2} \\operatorname{B_{\\theta}}^{2}{\\left (r \\right )}\\right) - \\frac{1}{r} \\operatorname{B_{\\theta}}^{2}{\\left (r \\right )} = 0$$"
      ],
      "text/plain": [
       "                                          2                                   \n",
       "                         2  2 ⎛d         ⎞         2          d               \n",
       "                      B_z ⋅r ⋅⎜──(B_θ(r))⎟  - 2⋅B_z ⋅r⋅B_θ(r)⋅──(B_θ(r)) + B_z\n",
       "         d                    ⎝dr        ⎠                    dr              \n",
       "- B_θ(r)⋅──(B_θ(r)) + ────────────────────────────────────────────────────────\n",
       "         dr                                             2                     \n",
       "                                                 8⋅r⋅B_θ (r)                  \n",
       "\n",
       "                       \n",
       "2    2                 \n",
       " ⋅B_θ (r)      2       \n",
       "            B_θ (r)    \n",
       "───────── - ─────── = 0\n",
       "               r       \n",
       "                       "
      ]
     },
     "execution_count": 4,
     "metadata": {},
     "output_type": "execute_result"
    }
   ],
   "source": [
    "suydam_constant_bz"
   ]
  },
  {
   "cell_type": "code",
   "execution_count": 5,
   "metadata": {
    "collapsed": false
   },
   "outputs": [
    {
     "data": {
      "image/png": "[encoded data removed]",
      "text/latex": [
       "$$\\frac{B_{z}^{2} r \\frac{d}{d r} \\operatorname{B_{\\theta}}{\\left (r \\right )}^{2}}{8 \\operatorname{B_{\\theta}}^{2}{\\left (r \\right )}} - \\frac{B_{z}^{2} \\frac{d}{d r} \\operatorname{B_{\\theta}}{\\left (r \\right )}}{4 \\operatorname{B_{\\theta}}{\\left (r \\right )}} + \\frac{B_{z}^{2}}{8 r} - \\operatorname{B_{\\theta}}{\\left (r \\right )} \\frac{d}{d r} \\operatorname{B_{\\theta}}{\\left (r \\right )} - \\frac{1}{r} \\operatorname{B_{\\theta}}^{2}{\\left (r \\right )} = 0$$"
      ],
      "text/plain": [
       "                   2                                                          \n",
       "   2   ⎛d         ⎞       2 d                                                 \n",
       "B_z ⋅r⋅⎜──(B_θ(r))⎟    B_z ⋅──(B_θ(r))      2                          2      \n",
       "       ⎝dr        ⎠         dr           B_z           d            B_θ (r)   \n",
       "──────────────────── - ─────────────── + ──── - B_θ(r)⋅──(B_θ(r)) - ─────── = \n",
       "          2                4⋅B_θ(r)      8⋅r           dr              r      \n",
       "     8⋅B_θ (r)                                                                \n",
       "\n",
       " \n",
       " \n",
       " \n",
       " \n",
       "0\n",
       " \n",
       " "
      ]
     },
     "execution_count": 5,
     "metadata": {},
     "output_type": "execute_result"
    }
   ],
   "source": [
    "sp.simplify(suydam_constant_bz)"
   ]
  },
  {
   "cell_type": "code",
   "execution_count": 6,
   "metadata": {
    "collapsed": false,
    "scrolled": true
   },
   "outputs": [
    {
     "data": {
      "image/png": "[encoded data removed]",
      "text/latex": [
       "$$\\left [ \\right ]$$"
      ],
      "text/plain": [
       "[]"
      ]
     },
     "execution_count": 6,
     "metadata": {},
     "output_type": "execute_result"
    }
   ],
   "source": [
    "sp.dsolve(suydam_constant_bz, b_theta(r))"
   ]
  },
  {
   "cell_type": "markdown",
   "metadata": {},
   "source": [
    "# Can be written as a quadratic solution"
   ]
  },
  {
   "cell_type": "code",
   "execution_count": 23,
   "metadata": {
    "collapsed": false
   },
   "outputs": [],
   "source": [
    "suydam_quadratic = sp.Eq(- sp.diff(b_theta(r), r) - (b_theta(r)/r - 4*(b_theta(r))**2/(r*b_z)) - sp.sqrt((b_theta(r)/r-4/r*(b_theta(r))**3/b_z**2)**2-8*b_theta(r)**2/r**2+8*(b_theta(r))**4/(r**2*b_z**2)), 0)"
   ]
  },
  {
   "cell_type": "code",
   "execution_count": 24,
   "metadata": {
    "collapsed": false
   },
   "outputs": [
    {
     "ename": "NotImplementedError",
     "evalue": "The given ODE -sqrt((B_theta(r)/r - 4*B_theta(r)**3/(B_z**2*r))**2 - 8*B_theta(r)**2/r**2 + 8*B_theta(r)**4/(B_z**2*r**2)) - Derivative(B_theta(r), r) - B_theta(r)/r + 4*B_theta(r)**2/(B_z*r) cannot be solved by the lie group method",
     "output_type": "error",
     "traceback": [
      "\u001b[0;31m---------------------------------------------------------------------------\u001b[0m",
      "\u001b[0;31mNotImplementedError\u001b[0m                       Traceback (most recent call last)",
      "\u001b[0;32m<ipython-input-24-3300b3abb606>\u001b[0m in \u001b[0;36m<module>\u001b[0;34m()\u001b[0m\n\u001b[0;32m----> 1\u001b[0;31m \u001b[0msp\u001b[0m\u001b[0;34m.\u001b[0m\u001b[0mdsolve\u001b[0m\u001b[0;34m(\u001b[0m\u001b[0msuydam_quadratic\u001b[0m\u001b[0;34m,\u001b[0m \u001b[0mb_theta\u001b[0m\u001b[0;34m(\u001b[0m\u001b[0mr\u001b[0m\u001b[0;34m)\u001b[0m\u001b[0;34m)\u001b[0m\u001b[0;34m\u001b[0m\u001b[0m\n\u001b[0m",
      "\u001b[0;32m/home/jensv/anaconda/lib/python2.7/site-packages/sympy/solvers/ode.pyc\u001b[0m in \u001b[0;36mdsolve\u001b[0;34m(eq, func, hint, simplify, ics, xi, eta, x0, n, **kwargs)\u001b[0m\n\u001b[1;32m    657\u001b[0m             \u001b[0;31m# The key 'hint' stores the hint needed to be solved for.\u001b[0m\u001b[0;34m\u001b[0m\u001b[0;34m\u001b[0m\u001b[0m\n\u001b[1;32m    658\u001b[0m             \u001b[0mhint\u001b[0m \u001b[0;34m=\u001b[0m \u001b[0mhints\u001b[0m\u001b[0;34m[\u001b[0m\u001b[0;34m'hint'\u001b[0m\u001b[0;34m]\u001b[0m\u001b[0;34m\u001b[0m\u001b[0m\n\u001b[0;32m--> 659\u001b[0;31m             \u001b[0;32mreturn\u001b[0m \u001b[0m_helper_simplify\u001b[0m\u001b[0;34m(\u001b[0m\u001b[0meq\u001b[0m\u001b[0;34m,\u001b[0m \u001b[0mhint\u001b[0m\u001b[0;34m,\u001b[0m \u001b[0mhints\u001b[0m\u001b[0;34m,\u001b[0m \u001b[0msimplify\u001b[0m\u001b[0;34m)\u001b[0m\u001b[0;34m\u001b[0m\u001b[0m\n\u001b[0m\u001b[1;32m    660\u001b[0m \u001b[0;34m\u001b[0m\u001b[0m\n\u001b[1;32m    661\u001b[0m \u001b[0;32mdef\u001b[0m \u001b[0m_helper_simplify\u001b[0m\u001b[0;34m(\u001b[0m\u001b[0meq\u001b[0m\u001b[0;34m,\u001b[0m \u001b[0mhint\u001b[0m\u001b[0;34m,\u001b[0m \u001b[0mmatch\u001b[0m\u001b[0;34m,\u001b[0m \u001b[0msimplify\u001b[0m\u001b[0;34m=\u001b[0m\u001b[0mTrue\u001b[0m\u001b[0;34m,\u001b[0m \u001b[0;34m**\u001b[0m\u001b[0mkwargs\u001b[0m\u001b[0;34m)\u001b[0m\u001b[0;34m:\u001b[0m\u001b[0;34m\u001b[0m\u001b[0m\n",
      "\u001b[0;32m/home/jensv/anaconda/lib/python2.7/site-packages/sympy/solvers/ode.pyc\u001b[0m in \u001b[0;36m_helper_simplify\u001b[0;34m(eq, hint, match, simplify, **kwargs)\u001b[0m\n\u001b[1;32m    679\u001b[0m         \u001b[0;31m# attempt to solve for func, and apply any other hint specific\u001b[0m\u001b[0;34m\u001b[0m\u001b[0;34m\u001b[0m\u001b[0m\n\u001b[1;32m    680\u001b[0m         \u001b[0;31m# simplifications\u001b[0m\u001b[0;34m\u001b[0m\u001b[0;34m\u001b[0m\u001b[0m\n\u001b[0;32m--> 681\u001b[0;31m         \u001b[0msols\u001b[0m \u001b[0;34m=\u001b[0m \u001b[0msolvefunc\u001b[0m\u001b[0;34m(\u001b[0m\u001b[0meq\u001b[0m\u001b[0;34m,\u001b[0m \u001b[0mfunc\u001b[0m\u001b[0;34m,\u001b[0m \u001b[0morder\u001b[0m\u001b[0;34m,\u001b[0m \u001b[0mmatch\u001b[0m\u001b[0;34m)\u001b[0m\u001b[0;34m\u001b[0m\u001b[0m\n\u001b[0m\u001b[1;32m    682\u001b[0m         \u001b[0mfree\u001b[0m \u001b[0;34m=\u001b[0m \u001b[0meq\u001b[0m\u001b[0;34m.\u001b[0m\u001b[0mfree_symbols\u001b[0m\u001b[0;34m\u001b[0m\u001b[0m\n\u001b[1;32m    683\u001b[0m         \u001b[0mcons\u001b[0m \u001b[0;34m=\u001b[0m \u001b[0;32mlambda\u001b[0m \u001b[0ms\u001b[0m\u001b[0;34m:\u001b[0m \u001b[0ms\u001b[0m\u001b[0;34m.\u001b[0m\u001b[0mfree_symbols\u001b[0m\u001b[0;34m.\u001b[0m\u001b[0mdifference\u001b[0m\u001b[0;34m(\u001b[0m\u001b[0mfree\u001b[0m\u001b[0;34m)\u001b[0m\u001b[0;34m\u001b[0m\u001b[0m\n",
      "\u001b[0;32m/home/jensv/anaconda/lib/python2.7/site-packages/sympy/solvers/ode.pyc\u001b[0m in \u001b[0;36mode_lie_group\u001b[0;34m(eq, func, order, match)\u001b[0m\n\u001b[1;32m   5412\u001b[0m \u001b[0;34m\u001b[0m\u001b[0m\n\u001b[1;32m   5413\u001b[0m     raise NotImplementedError(\"The given ODE \" + str(eq) + \" cannot be solved by\"\n\u001b[0;32m-> 5414\u001b[0;31m         + \" the lie group method\")\n\u001b[0m\u001b[1;32m   5415\u001b[0m \u001b[0;34m\u001b[0m\u001b[0m\n\u001b[1;32m   5416\u001b[0m \u001b[0;34m\u001b[0m\u001b[0m\n",
      "\u001b[0;31mNotImplementedError\u001b[0m: The given ODE -sqrt((B_theta(r)/r - 4*B_theta(r)**3/(B_z**2*r))**2 - 8*B_theta(r)**2/r**2 + 8*B_theta(r)**4/(B_z**2*r**2)) - Derivative(B_theta(r), r) - B_theta(r)/r + 4*B_theta(r)**2/(B_z*r) cannot be solved by the lie group method"
     ]
    }
   ],
   "source": [
    "sp.dsolve(suydam_quadratic, b_theta(r))"
   ]
  },
  {
   "cell_type": "code",
   "execution_count": null,
   "metadata": {
    "collapsed": true
   },
   "outputs": [],
   "source": []
  }
 ],
 "metadata": {
  "kernelspec": {
   "display_name": "Python 2",
   "language": "python",
   "name": "python2"
  },
  "language_info": {
   "codemirror_mode": {
    "name": "ipython",
    "version": 2
   },
   "file_extension": ".py",
   "mimetype": "text/x-python",
   "name": "python",
   "nbconvert_exporter": "python",
   "pygments_lexer": "ipython2",
   "version": "2.7.12"
  }
 },
 "nbformat": 4,
 "nbformat_minor": 0
}
