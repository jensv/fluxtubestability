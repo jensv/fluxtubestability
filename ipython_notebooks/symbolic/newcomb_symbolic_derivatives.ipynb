{
 "metadata": {
  "name": "",
  "signature": "sha256:3aad0841e840ba675660c58ef8cd2ec3c4b1622d52887e93efdc1ae282c97861"
 },
 "nbformat": 3,
 "nbformat_minor": 0,
 "worksheets": [
  {
   "cells": [
    {
     "cell_type": "code",
     "collapsed": false,
     "input": [
      "import sympy as sp\n",
      "sp.init_printing()"
     ],
     "language": "python",
     "metadata": {},
     "outputs": [],
     "prompt_number": 1
    },
    {
     "cell_type": "heading",
     "level": 1,
     "metadata": {},
     "source": [
      "Set-up Symbols"
     ]
    },
    {
     "cell_type": "code",
     "collapsed": false,
     "input": [
      "r, k, m, = sp.symbols(['r', 'k', 'm'])"
     ],
     "language": "python",
     "metadata": {},
     "outputs": [],
     "prompt_number": 9
    },
    {
     "cell_type": "code",
     "collapsed": false,
     "input": [
      "b_theta, b_z, q = sp.symbols('B_theta B_z q', cls=sp.Function)"
     ],
     "language": "python",
     "metadata": {},
     "outputs": [],
     "prompt_number": 26
    },
    {
     "cell_type": "heading",
     "level": 1,
     "metadata": {},
     "source": [
      "Evaluate the derivative in jardin g (8.79)"
     ]
    },
    {
     "cell_type": "code",
     "collapsed": false,
     "input": [
      "jardin_g_8_79 = b_theta(r)**2*(k**2*q(r)**2-m**2)/(k**2*r**2+m**2)"
     ],
     "language": "python",
     "metadata": {},
     "outputs": [],
     "prompt_number": 22
    },
    {
     "cell_type": "code",
     "collapsed": false,
     "input": [
      "jardin_g_8_79"
     ],
     "language": "python",
     "metadata": {},
     "outputs": [
      {
       "latex": [
        "$$\\frac{\\operatorname{B_{\\theta}}^{2}{\\left (r \\right )}}{k^{2} r^{2} + m^{2}} \\left(k^{2} q^{2}{\\left (r \\right )} - m^{2}\\right)$$"
       ],
       "metadata": {},
       "output_type": "pyout",
       "png": "[encoded data removed]",
       "prompt_number": 24,
       "text": [
        "\u239b 2  2       2\u239e    2   \n",
        "\u239dk \u22c5q (r) - m \u23a0\u22c5B_\u03b8 (r)\n",
        "\u2500\u2500\u2500\u2500\u2500\u2500\u2500\u2500\u2500\u2500\u2500\u2500\u2500\u2500\u2500\u2500\u2500\u2500\u2500\u2500\u2500\u2500\u2500\n",
        "        2  2    2      \n",
        "       k \u22c5r  + m       "
       ]
      }
     ],
     "prompt_number": 24
    },
    {
     "cell_type": "code",
     "collapsed": false,
     "input": [
      "sp.diff(jardin_g_8_79, r)"
     ],
     "language": "python",
     "metadata": {},
     "outputs": [
      {
       "latex": [
        "$$- \\frac{2 k^{2} r \\operatorname{B_{\\theta}}^{2}{\\left (r \\right )}}{\\left(k^{2} r^{2} + m^{2}\\right)^{2}} \\left(k^{2} q^{2}{\\left (r \\right )} - m^{2}\\right) + \\frac{2 k^{2} \\operatorname{B_{\\theta}}^{2}{\\left (r \\right )}}{k^{2} r^{2} + m^{2}} q{\\left (r \\right )} \\frac{d}{d r} q{\\left (r \\right )} + \\frac{2 \\frac{d}{d r} \\operatorname{B_{\\theta}}{\\left (r \\right )}}{k^{2} r^{2} + m^{2}} \\left(k^{2} q^{2}{\\left (r \\right )} - m^{2}\\right) \\operatorname{B_{\\theta}}{\\left (r \\right )}$$"
       ],
       "metadata": {},
       "output_type": "pyout",
       "png": "[encoded data removed]",
       "prompt_number": 23,
       "text": [
        "                                      2    2         d            \u239b 2  2      \n",
        "     2   \u239b 2  2       2\u239e    2      2\u22c5k \u22c5B_\u03b8 (r)\u22c5q(r)\u22c5\u2500\u2500(q(r))   2\u22c5\u239dk \u22c5q (r) - \n",
        "  2\u22c5k \u22c5r\u22c5\u239dk \u22c5q (r) - m \u23a0\u22c5B_\u03b8 (r)                     dr                       \n",
        "- \u2500\u2500\u2500\u2500\u2500\u2500\u2500\u2500\u2500\u2500\u2500\u2500\u2500\u2500\u2500\u2500\u2500\u2500\u2500\u2500\u2500\u2500\u2500\u2500\u2500\u2500\u2500\u2500\u2500\u2500 + \u2500\u2500\u2500\u2500\u2500\u2500\u2500\u2500\u2500\u2500\u2500\u2500\u2500\u2500\u2500\u2500\u2500\u2500\u2500\u2500\u2500\u2500\u2500\u2500\u2500\u2500 + \u2500\u2500\u2500\u2500\u2500\u2500\u2500\u2500\u2500\u2500\u2500\u2500\u2500\u2500\n",
        "                      2                     2  2    2                         \n",
        "          \u239b 2  2    2\u239e                     k \u22c5r  + m                         k\n",
        "          \u239dk \u22c5r  + m \u23a0                                                        \n",
        "\n",
        " 2\u239e        d         \n",
        "m \u23a0\u22c5B_\u03b8(r)\u22c5\u2500\u2500(B_\u03b8(r))\n",
        "           dr        \n",
        "\u2500\u2500\u2500\u2500\u2500\u2500\u2500\u2500\u2500\u2500\u2500\u2500\u2500\u2500\u2500\u2500\u2500\u2500\u2500\u2500\u2500\n",
        "2  2    2            \n",
        " \u22c5r  + m             \n",
        "                     "
       ]
      }
     ],
     "prompt_number": 23
    },
    {
     "cell_type": "heading",
     "level": 1,
     "metadata": {},
     "source": [
      "Evaluate the derivative in newcomb g (17)"
     ]
    },
    {
     "cell_type": "code",
     "collapsed": false,
     "input": [
      "newcomb_17 = (k**2*r**2*b_z(r)**2 - m**2*b_theta(r)**2)/(k**2*r**2 + m**2)"
     ],
     "language": "python",
     "metadata": {},
     "outputs": [],
     "prompt_number": 27
    },
    {
     "cell_type": "code",
     "collapsed": false,
     "input": [
      "newcomb_17"
     ],
     "language": "python",
     "metadata": {},
     "outputs": [
      {
       "latex": [
        "$$\\frac{1}{k^{2} r^{2} + m^{2}} \\left(k^{2} r^{2} \\operatorname{B_{z}}^{2}{\\left (r \\right )} - m^{2} \\operatorname{B_{\\theta}}^{2}{\\left (r \\right )}\\right)$$"
       ],
       "metadata": {},
       "output_type": "pyout",
       "png": "[encoded data removed]",
       "prompt_number": 30,
       "text": [
        " 2  2    2       2    2   \n",
        "k \u22c5r \u22c5B_z (r) - m \u22c5B_\u03b8 (r)\n",
        "\u2500\u2500\u2500\u2500\u2500\u2500\u2500\u2500\u2500\u2500\u2500\u2500\u2500\u2500\u2500\u2500\u2500\u2500\u2500\u2500\u2500\u2500\u2500\u2500\u2500\u2500\n",
        "         2  2    2        \n",
        "        k \u22c5r  + m         "
       ]
      }
     ],
     "prompt_number": 30
    },
    {
     "cell_type": "code",
     "collapsed": false,
     "input": [
      "sp.diff(newcomb_17, r)"
     ],
     "language": "python",
     "metadata": {},
     "outputs": [
      {
       "latex": [
        "$$- \\frac{2 k^{2} r}{\\left(k^{2} r^{2} + m^{2}\\right)^{2}} \\left(k^{2} r^{2} \\operatorname{B_{z}}^{2}{\\left (r \\right )} - m^{2} \\operatorname{B_{\\theta}}^{2}{\\left (r \\right )}\\right) + \\frac{1}{k^{2} r^{2} + m^{2}} \\left(2 k^{2} r^{2} \\operatorname{B_{z}}{\\left (r \\right )} \\frac{d}{d r} \\operatorname{B_{z}}{\\left (r \\right )} + 2 k^{2} r \\operatorname{B_{z}}^{2}{\\left (r \\right )} - 2 m^{2} \\operatorname{B_{\\theta}}{\\left (r \\right )} \\frac{d}{d r} \\operatorname{B_{\\theta}}{\\left (r \\right )}\\right)$$"
       ],
       "metadata": {},
       "output_type": "pyout",
       "png": "[encoded data removed]",
       "prompt_number": 29,
       "text": [
        "                                           2  2        d               2      \n",
        "     2   \u239b 2  2    2       2    2   \u239e   2\u22c5k \u22c5r \u22c5B_z(r)\u22c5\u2500\u2500(B_z(r)) + 2\u22c5k \u22c5r\u22c5B_z\n",
        "  2\u22c5k \u22c5r\u22c5\u239dk \u22c5r \u22c5B_z (r) - m \u22c5B_\u03b8 (r)\u23a0                  dr                     \n",
        "- \u2500\u2500\u2500\u2500\u2500\u2500\u2500\u2500\u2500\u2500\u2500\u2500\u2500\u2500\u2500\u2500\u2500\u2500\u2500\u2500\u2500\u2500\u2500\u2500\u2500\u2500\u2500\u2500\u2500\u2500\u2500\u2500\u2500\u2500\u2500 + \u2500\u2500\u2500\u2500\u2500\u2500\u2500\u2500\u2500\u2500\u2500\u2500\u2500\u2500\u2500\u2500\u2500\u2500\u2500\u2500\u2500\u2500\u2500\u2500\u2500\u2500\u2500\u2500\u2500\u2500\u2500\u2500\u2500\u2500\u2500\u2500\u2500\u2500\n",
        "                         2                                            2  2    \n",
        "             \u239b 2  2    2\u239e                                            k \u22c5r  + m\n",
        "             \u239dk \u22c5r  + m \u23a0                                                     \n",
        "\n",
        "2         2        d         \n",
        " (r) - 2\u22c5m \u22c5B_\u03b8(r)\u22c5\u2500\u2500(B_\u03b8(r))\n",
        "                   dr        \n",
        "\u2500\u2500\u2500\u2500\u2500\u2500\u2500\u2500\u2500\u2500\u2500\u2500\u2500\u2500\u2500\u2500\u2500\u2500\u2500\u2500\u2500\u2500\u2500\u2500\u2500\u2500\u2500\u2500\u2500\n",
        "2                            \n",
        "                             \n",
        "                             "
       ]
      }
     ],
     "prompt_number": 29
    }
   ],
   "metadata": {}
  }
 ]
}