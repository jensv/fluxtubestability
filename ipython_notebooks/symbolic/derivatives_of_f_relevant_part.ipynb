{
 "metadata": {
  "name": "",
  "signature": "sha256:4747dffc22fc3ff635b3754f123c7fe931322107735a15fd92b15308d4293060"
 },
 "nbformat": 3,
 "nbformat_minor": 0,
 "worksheets": [
  {
   "cells": [
    {
     "cell_type": "code",
     "collapsed": false,
     "input": [
      "import sympy as sp\n",
      "sp.init_printing()"
     ],
     "language": "python",
     "metadata": {},
     "outputs": [],
     "prompt_number": 7
    },
    {
     "cell_type": "code",
     "collapsed": false,
     "input": [
      "r, k, m, b_z = sp.symbols('r k m B_z')\n",
      "b_theta = sp.Function('B_theta')(r)"
     ],
     "language": "python",
     "metadata": {},
     "outputs": [],
     "prompt_number": 8
    },
    {
     "cell_type": "code",
     "collapsed": false,
     "input": [
      "f_relevant_part = k*r*b_z + m*b_theta"
     ],
     "language": "python",
     "metadata": {},
     "outputs": [],
     "prompt_number": 9
    },
    {
     "cell_type": "heading",
     "level": 2,
     "metadata": {},
     "source": [
      "Relevant part of f for singularity finding"
     ]
    },
    {
     "cell_type": "code",
     "collapsed": false,
     "input": [
      "f_relevant_part"
     ],
     "language": "python",
     "metadata": {},
     "outputs": [
      {
       "latex": [
        "$$B_{z} k r + m \\operatorname{B_{\\theta}}{\\left (r \\right )}$$"
       ],
       "metadata": {},
       "output_type": "pyout",
       "png": "[encoded data removed]",
       "prompt_number": 10,
       "text": [
        "B_z\u22c5k\u22c5r + m\u22c5B_\u03b8(r)"
       ]
      }
     ],
     "prompt_number": 10
    },
    {
     "cell_type": "heading",
     "level": 2,
     "metadata": {},
     "source": [
      "Derivative of relevant part for singularity finding"
     ]
    },
    {
     "cell_type": "code",
     "collapsed": false,
     "input": [
      "sp.diff(f_relevant_part, r)"
     ],
     "language": "python",
     "metadata": {},
     "outputs": [
      {
       "latex": [
        "$$B_{z} k + m \\frac{d}{d r} \\operatorname{B_{\\theta}}{\\left (r \\right )}$$"
       ],
       "metadata": {},
       "output_type": "pyout",
       "png": "[encoded data removed]",
       "prompt_number": 11,
       "text": [
        "          d         \n",
        "B_z\u22c5k + m\u22c5\u2500\u2500(B_\u03b8(r))\n",
        "          dr        "
       ]
      }
     ],
     "prompt_number": 11
    },
    {
     "cell_type": "heading",
     "level": 2,
     "metadata": {},
     "source": [
      "2nd Derivative of relevant part for singularity finding"
     ]
    },
    {
     "cell_type": "code",
     "collapsed": false,
     "input": [
      "sp.diff(sp.diff(f_relevant_part, r), r)"
     ],
     "language": "python",
     "metadata": {},
     "outputs": [
      {
       "latex": [
        "$$m \\frac{d^{2}}{d r^{2}}  \\operatorname{B_{\\theta}}{\\left (r \\right )}$$"
       ],
       "metadata": {},
       "output_type": "pyout",
       "png": "[encoded data removed]",
       "prompt_number": 13,
       "text": [
        "    2        \n",
        "   d         \n",
        "m\u22c5\u2500\u2500\u2500(B_\u03b8(r))\n",
        "    2        \n",
        "  dr         "
       ]
      }
     ],
     "prompt_number": 13
    }
   ],
   "metadata": {}
  }
 ]
}