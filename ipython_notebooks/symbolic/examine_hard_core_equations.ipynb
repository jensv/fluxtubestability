{
 "metadata": {
  "name": "",
  "signature": "sha256:72a34945fdcedef5ac70f1754515ba14ef1e86a685990610798174d242f94023"
 },
 "nbformat": 3,
 "nbformat_minor": 0,
 "worksheets": [
  {
   "cells": [
    {
     "cell_type": "code",
     "collapsed": false,
     "input": [
      "import sympy as sp\n",
      "sp.init_printing()"
     ],
     "language": "python",
     "metadata": {},
     "outputs": [],
     "prompt_number": 87
    },
    {
     "cell_type": "code",
     "collapsed": false,
     "input": [
      "r, r_c, k_i, i_c, i_p = sp.symbols('r r_c k_i i_c i_p')"
     ],
     "language": "python",
     "metadata": {},
     "outputs": [],
     "prompt_number": 88
    },
    {
     "cell_type": "code",
     "collapsed": false,
     "input": [
      "x = r**2/r_c**2"
     ],
     "language": "python",
     "metadata": {},
     "outputs": [],
     "prompt_number": 89
    },
    {
     "cell_type": "code",
     "collapsed": false,
     "input": [
      "k_p = 3./2. * (5./3.)**(5./2.)"
     ],
     "language": "python",
     "metadata": {},
     "outputs": [],
     "prompt_number": 90
    },
    {
     "cell_type": "code",
     "collapsed": false,
     "input": [
      "k_i = ((i_c + i_p)/(2*sp.pi*r_c))**2"
     ],
     "language": "python",
     "metadata": {},
     "outputs": [],
     "prompt_number": 91
    },
    {
     "cell_type": "code",
     "collapsed": false,
     "input": [
      "b_theta_squared = k_i/x - 2*k_p*(9*x-5)/(3*x*x**(1.5))"
     ],
     "language": "python",
     "metadata": {},
     "outputs": [],
     "prompt_number": 92
    },
    {
     "cell_type": "code",
     "collapsed": false,
     "input": [
      "b_theta_squared"
     ],
     "language": "python",
     "metadata": {},
     "outputs": [
      {
       "latex": [
        "$$- \\frac{r_{c}^{2} \\left(\\frac{96.8245836551854 r^{2}}{r_{c}^{2}} - 53.7914353639919\\right)}{3 r^{2} \\left(\\frac{r^{2}}{r_{c}^{2}}\\right)^{1.5}} + \\frac{\\left(i_{c} + i_{p}\\right)^{2}}{4 \\pi^{2} r^{2}}$$"
       ],
       "metadata": {},
       "output_type": "pyout",
       "png": "[encoded data removed]",
       "prompt_number": 93,
       "text": [
        "             -1.5                                                        \n",
        "       \u239b  2 \u239e     \u239b                  2                   \u239e               \n",
        "     2 \u239c r  \u239f     \u239c96.8245836551854\u22c5r                    \u239f               \n",
        "  r_c \u22c5\u239c\u2500\u2500\u2500\u2500\u239f    \u22c5\u239c\u2500\u2500\u2500\u2500\u2500\u2500\u2500\u2500\u2500\u2500\u2500\u2500\u2500\u2500\u2500\u2500\u2500\u2500\u2500 - 53.7914353639919\u239f               \n",
        "       \u239c   2\u239f     \u239c           2                          \u239f              2\n",
        "       \u239dr_c \u23a0     \u239d        r_c                           \u23a0   (i_c + i_p) \n",
        "- \u2500\u2500\u2500\u2500\u2500\u2500\u2500\u2500\u2500\u2500\u2500\u2500\u2500\u2500\u2500\u2500\u2500\u2500\u2500\u2500\u2500\u2500\u2500\u2500\u2500\u2500\u2500\u2500\u2500\u2500\u2500\u2500\u2500\u2500\u2500\u2500\u2500\u2500\u2500\u2500\u2500\u2500\u2500\u2500\u2500\u2500\u2500\u2500\u2500\u2500\u2500\u2500\u2500\u2500\u2500\u2500 + \u2500\u2500\u2500\u2500\u2500\u2500\u2500\u2500\u2500\u2500\u2500\u2500\n",
        "                               2                                  2  2   \n",
        "                            3\u22c5r                                4\u22c5\u03c0 \u22c5r    "
       ]
      }
     ],
     "prompt_number": 93
    },
    {
     "cell_type": "code",
     "collapsed": false,
     "input": [
      "b_theta_squared.subs({r_c: 0.1, i_c: 0.1, i_p: 5.2, r: 0.2}).evalf()"
     ],
     "language": "python",
     "metadata": {},
     "outputs": [
      {
       "latex": [
        "$$14.3141701026168$$"
       ],
       "metadata": {},
       "output_type": "pyout",
       "png": "[encoded data removed]",
       "prompt_number": 94,
       "text": [
        "14.3141701026168"
       ]
      }
     ],
     "prompt_number": 94
    },
    {
     "cell_type": "code",
     "collapsed": false,
     "input": [
      "b_theta = sp.sqrt(b_theta_squared)"
     ],
     "language": "python",
     "metadata": {},
     "outputs": [],
     "prompt_number": 95
    },
    {
     "cell_type": "code",
     "collapsed": false,
     "input": [
      "b_theta.subs({r_c: 0.1, i_c: 0.1, i_p: 0.2, r: 0.1}).evalf()"
     ],
     "language": "python",
     "metadata": {},
     "outputs": [
      {
       "latex": [
        "$$3.75718113757321 i$$"
       ],
       "metadata": {},
       "output_type": "pyout",
       "png": "[encoded data removed]",
       "prompt_number": 96,
       "text": [
        "3.75718113757321\u22c5\u2148"
       ]
      }
     ],
     "prompt_number": 96
    },
    {
     "cell_type": "code",
     "collapsed": false,
     "input": [
      "k_i.subs({r_c: 0.1, i_c: 0.1, i_p: 0.2, r: 0.1}).evalf()"
     ],
     "language": "python",
     "metadata": {},
     "outputs": [
      {
       "latex": [
        "$$0.22797266319526$$"
       ],
       "metadata": {},
       "output_type": "pyout",
       "png": "[encoded data removed]",
       "prompt_number": 97,
       "text": [
        "0.227972663195260"
       ]
      }
     ],
     "prompt_number": 97
    },
    {
     "cell_type": "code",
     "collapsed": false,
     "input": [],
     "language": "python",
     "metadata": {},
     "outputs": [],
     "prompt_number": 97
    },
    {
     "cell_type": "code",
     "collapsed": false,
     "input": [],
     "language": "python",
     "metadata": {},
     "outputs": []
    }
   ],
   "metadata": {}
  }
 ]
}