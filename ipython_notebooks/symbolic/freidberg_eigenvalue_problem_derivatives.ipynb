{
 "metadata": {
  "name": "",
  "signature": "sha256:9bd21b70a36e33a0ee7fcda7bd6333439469c015841a08d8b4a7f773deba9f89"
 },
 "nbformat": 3,
 "nbformat_minor": 0,
 "worksheets": [
  {
   "cells": [
    {
     "cell_type": "code",
     "collapsed": false,
     "input": [
      "import sympy as sp\n",
      "import numpy as np\n",
      "import scipy.interpolate as interp\n",
      "from sympy.utilities.lambdify import implemented_function, lambdify\n",
      "sp.init_printing()"
     ],
     "language": "python",
     "metadata": {},
     "outputs": [],
     "prompt_number": 198
    },
    {
     "cell_type": "code",
     "collapsed": false,
     "input": [
      "r, k, m, omega_sq, gamma, mu0 = sp.symbols('r k m omega__2 gamma mu_0')\n",
      "b_z, b_theta, pressure, rho = sp.symbols('B_z B_theta p rho', cls=sp.Function)\n",
      "f_ue, g_ue = sp.symbols('f g', cls=sp.Function)\n",
      "v_sound_sq_ue, v_alfven_sq_ue = sp.symbols('v_s__2 v_a__2', cls=sp.Function)\n",
      "k_0_sq_ue = sp.symbols('k_0__2', cls=sp.Function)\n",
      "omega_a_sq_ue, omega_h_sq_ue, omega_g_sq_ue, omega_f_sq_ue, omega_s_sq_ue = sp.symbols('omega_a__2 omega_h__2 omega_g__2 omega_f__2 omega_s__2', cls=sp.Function)\n",
      "alpha_sq_ue = sp.symbols('alpha__2', cls=sp.Function)"
     ],
     "language": "python",
     "metadata": {},
     "outputs": [],
     "prompt_number": 76
    },
    {
     "cell_type": "code",
     "collapsed": false,
     "input": [
      "sp.diff(b_theta_func(r)).subs(sp.diff(b_theta_func(r)),interp.InterpolatedUnivariateSpline([1,2,3,4],[1,4,9,16]))"
     ],
     "language": "python",
     "metadata": {},
     "outputs": [
      {
       "ename": "SympifyError",
       "evalue": "Sympify of expression 'could not parse u'<scipy.interpolate.fitpack2.InterpolatedUnivariateSpline object at 0x000000000D311710>'' failed, because of exception being raised:\nSyntaxError: invalid syntax (<string>, line 1)",
       "output_type": "pyerr",
       "traceback": [
        "\u001b[1;31m---------------------------------------------------------------------------\u001b[0m\n\u001b[1;31mSympifyError\u001b[0m                              Traceback (most recent call last)",
        "\u001b[1;32m<ipython-input-227-68634495eeeb>\u001b[0m in \u001b[0;36m<module>\u001b[1;34m()\u001b[0m\n\u001b[1;32m----> 1\u001b[1;33m \u001b[0msp\u001b[0m\u001b[1;33m.\u001b[0m\u001b[0mdiff\u001b[0m\u001b[1;33m(\u001b[0m\u001b[0mb_theta_func\u001b[0m\u001b[1;33m(\u001b[0m\u001b[0mr\u001b[0m\u001b[1;33m)\u001b[0m\u001b[1;33m)\u001b[0m\u001b[1;33m.\u001b[0m\u001b[0msubs\u001b[0m\u001b[1;33m(\u001b[0m\u001b[0msp\u001b[0m\u001b[1;33m.\u001b[0m\u001b[0mdiff\u001b[0m\u001b[1;33m(\u001b[0m\u001b[0mb_theta_func\u001b[0m\u001b[1;33m(\u001b[0m\u001b[0mr\u001b[0m\u001b[1;33m)\u001b[0m\u001b[1;33m)\u001b[0m\u001b[1;33m,\u001b[0m\u001b[0minterp\u001b[0m\u001b[1;33m.\u001b[0m\u001b[0mInterpolatedUnivariateSpline\u001b[0m\u001b[1;33m(\u001b[0m\u001b[1;33m[\u001b[0m\u001b[1;36m1\u001b[0m\u001b[1;33m,\u001b[0m\u001b[1;36m2\u001b[0m\u001b[1;33m,\u001b[0m\u001b[1;36m3\u001b[0m\u001b[1;33m,\u001b[0m\u001b[1;36m4\u001b[0m\u001b[1;33m]\u001b[0m\u001b[1;33m,\u001b[0m\u001b[1;33m[\u001b[0m\u001b[1;36m1\u001b[0m\u001b[1;33m,\u001b[0m\u001b[1;36m4\u001b[0m\u001b[1;33m,\u001b[0m\u001b[1;36m9\u001b[0m\u001b[1;33m,\u001b[0m\u001b[1;36m16\u001b[0m\u001b[1;33m]\u001b[0m\u001b[1;33m)\u001b[0m\u001b[1;33m)\u001b[0m\u001b[1;33m\u001b[0m\u001b[0m\n\u001b[0m",
        "\u001b[1;32mc:\\Anaconda\\lib\\site-packages\\sympy\\core\\basic.pyc\u001b[0m in \u001b[0;36msubs\u001b[1;34m(self, *args, **kwargs)\u001b[0m\n\u001b[0;32m    930\u001b[0m         \u001b[1;32mfor\u001b[0m \u001b[0mi\u001b[0m \u001b[1;32min\u001b[0m \u001b[0mrange\u001b[0m\u001b[1;33m(\u001b[0m\u001b[0mlen\u001b[0m\u001b[1;33m(\u001b[0m\u001b[0msequence\u001b[0m\u001b[1;33m)\u001b[0m\u001b[1;33m)\u001b[0m\u001b[1;33m:\u001b[0m\u001b[1;33m\u001b[0m\u001b[0m\n\u001b[0;32m    931\u001b[0m             \u001b[0mo\u001b[0m\u001b[1;33m,\u001b[0m \u001b[0mn\u001b[0m \u001b[1;33m=\u001b[0m \u001b[0msequence\u001b[0m\u001b[1;33m[\u001b[0m\u001b[0mi\u001b[0m\u001b[1;33m]\u001b[0m\u001b[1;33m\u001b[0m\u001b[0m\n\u001b[1;32m--> 932\u001b[1;33m             \u001b[0mso\u001b[0m\u001b[1;33m,\u001b[0m \u001b[0msn\u001b[0m \u001b[1;33m=\u001b[0m \u001b[0msympify\u001b[0m\u001b[1;33m(\u001b[0m\u001b[0mo\u001b[0m\u001b[1;33m)\u001b[0m\u001b[1;33m,\u001b[0m \u001b[0msympify\u001b[0m\u001b[1;33m(\u001b[0m\u001b[0mn\u001b[0m\u001b[1;33m)\u001b[0m\u001b[1;33m\u001b[0m\u001b[0m\n\u001b[0m\u001b[0;32m    933\u001b[0m             \u001b[1;32mif\u001b[0m \u001b[1;32mnot\u001b[0m \u001b[0misinstance\u001b[0m\u001b[1;33m(\u001b[0m\u001b[0mso\u001b[0m\u001b[1;33m,\u001b[0m \u001b[0mBasic\u001b[0m\u001b[1;33m)\u001b[0m\u001b[1;33m:\u001b[0m\u001b[1;33m\u001b[0m\u001b[0m\n\u001b[0;32m    934\u001b[0m                 \u001b[1;32mif\u001b[0m \u001b[0mtype\u001b[0m\u001b[1;33m(\u001b[0m\u001b[0mo\u001b[0m\u001b[1;33m)\u001b[0m \u001b[1;32mis\u001b[0m \u001b[0mstr\u001b[0m\u001b[1;33m:\u001b[0m\u001b[1;33m\u001b[0m\u001b[0m\n",
        "\u001b[1;32mc:\\Anaconda\\lib\\site-packages\\sympy\\core\\sympify.pyc\u001b[0m in \u001b[0;36msympify\u001b[1;34m(a, locals, convert_xor, strict, rational, evaluate)\u001b[0m\n\u001b[0;32m    313\u001b[0m         \u001b[0mexpr\u001b[0m \u001b[1;33m=\u001b[0m \u001b[0mparse_expr\u001b[0m\u001b[1;33m(\u001b[0m\u001b[0ma\u001b[0m\u001b[1;33m,\u001b[0m \u001b[0mlocal_dict\u001b[0m\u001b[1;33m=\u001b[0m\u001b[0mlocals\u001b[0m\u001b[1;33m,\u001b[0m \u001b[0mtransformations\u001b[0m\u001b[1;33m=\u001b[0m\u001b[0mtransformations\u001b[0m\u001b[1;33m,\u001b[0m \u001b[0mevaluate\u001b[0m\u001b[1;33m=\u001b[0m\u001b[0mevaluate\u001b[0m\u001b[1;33m)\u001b[0m\u001b[1;33m\u001b[0m\u001b[0m\n\u001b[0;32m    314\u001b[0m     \u001b[1;32mexcept\u001b[0m \u001b[1;33m(\u001b[0m\u001b[0mTokenError\u001b[0m\u001b[1;33m,\u001b[0m \u001b[0mSyntaxError\u001b[0m\u001b[1;33m)\u001b[0m \u001b[1;32mas\u001b[0m \u001b[0mexc\u001b[0m\u001b[1;33m:\u001b[0m\u001b[1;33m\u001b[0m\u001b[0m\n\u001b[1;32m--> 315\u001b[1;33m         \u001b[1;32mraise\u001b[0m \u001b[0mSympifyError\u001b[0m\u001b[1;33m(\u001b[0m\u001b[1;34m'could not parse %r'\u001b[0m \u001b[1;33m%\u001b[0m \u001b[0ma\u001b[0m\u001b[1;33m,\u001b[0m \u001b[0mexc\u001b[0m\u001b[1;33m)\u001b[0m\u001b[1;33m\u001b[0m\u001b[0m\n\u001b[0m\u001b[0;32m    316\u001b[0m \u001b[1;33m\u001b[0m\u001b[0m\n\u001b[0;32m    317\u001b[0m     \u001b[1;32mreturn\u001b[0m \u001b[0mexpr\u001b[0m\u001b[1;33m\u001b[0m\u001b[0m\n",
        "\u001b[1;31mSympifyError\u001b[0m: Sympify of expression 'could not parse u'<scipy.interpolate.fitpack2.InterpolatedUnivariateSpline object at 0x000000000D311710>'' failed, because of exception being raised:\nSyntaxError: invalid syntax (<string>, line 1)"
       ]
      }
     ],
     "prompt_number": 227
    },
    {
     "cell_type": "code",
     "collapsed": false,
     "input": [
      "b_theta_test = interp.InterpolatedUnivariateSpline([1,2,3,4],[1,4,9,16])\n",
      "b_theta_func = implemented_function(b_theta, lambda r: b_theta_test(r))"
     ],
     "language": "python",
     "metadata": {},
     "outputs": [],
     "prompt_number": 184
    },
    {
     "cell_type": "code",
     "collapsed": false,
     "input": [
      "lamb_b_theta = lambdify(r, b_theta_func(r))"
     ],
     "language": "python",
     "metadata": {},
     "outputs": [],
     "prompt_number": 186
    },
    {
     "cell_type": "code",
     "collapsed": false,
     "input": [
      "lamb_b_theta([3,2,4])"
     ],
     "language": "python",
     "metadata": {},
     "outputs": [
      {
       "metadata": {},
       "output_type": "pyout",
       "prompt_number": 188,
       "text": [
        "array([  9.,   4.,  16.])"
       ]
      }
     ],
     "prompt_number": 188
    },
    {
     "cell_type": "code",
     "collapsed": false,
     "input": [
      "class test_func(sp.Function):\n",
      "    nargs = 2\n",
      "    \n",
      "    @classmethod\n",
      "    def eval(cls, r, b_theta):\n",
      "        return r*b_theta(r)\n",
      "    \n",
      "    @classmethod\n",
      "    def fdiff(cls, r, b_theta):\n",
      "        return r"
     ],
     "language": "python",
     "metadata": {},
     "outputs": [],
     "prompt_number": 220
    },
    {
     "cell_type": "code",
     "collapsed": false,
     "input": [
      "lamb_test = lambdify(r, test_func(r, b_theta_func))"
     ],
     "language": "python",
     "metadata": {},
     "outputs": [],
     "prompt_number": 192
    },
    {
     "cell_type": "code",
     "collapsed": false,
     "input": [
      "b_theta_func.di"
     ],
     "language": "python",
     "metadata": {},
     "outputs": [
      {
       "ename": "TypeError",
       "evalue": "unbound method diff() must be called with B_theta instance as first argument (got UndefinedFunction instance instead)",
       "output_type": "pyerr",
       "traceback": [
        "\u001b[1;31m---------------------------------------------------------------------------\u001b[0m\n\u001b[1;31mTypeError\u001b[0m                                 Traceback (most recent call last)",
        "\u001b[1;32m<ipython-input-219-30c64a2efe4e>\u001b[0m in \u001b[0;36m<module>\u001b[1;34m()\u001b[0m\n\u001b[1;32m----> 1\u001b[1;33m \u001b[0mb_theta_func\u001b[0m\u001b[1;33m.\u001b[0m\u001b[0mdiff\u001b[0m\u001b[1;33m(\u001b[0m\u001b[0mb_theta_func\u001b[0m\u001b[1;33m)\u001b[0m\u001b[1;33m\u001b[0m\u001b[0m\n\u001b[0m",
        "\u001b[1;31mTypeError\u001b[0m: unbound method diff() must be called with B_theta instance as first argument (got UndefinedFunction instance instead)"
       ]
      }
     ],
     "prompt_number": 219
    },
    {
     "cell_type": "code",
     "collapsed": false,
     "input": [
      "test = lambdify(r,sp.diff(test_func(r, b_theta_func)))"
     ],
     "language": "python",
     "metadata": {},
     "outputs": [],
     "prompt_number": 221
    },
    {
     "cell_type": "code",
     "collapsed": false,
     "input": [
      "test(4)"
     ],
     "language": "python",
     "metadata": {},
     "outputs": [
      {
       "ename": "NameError",
       "evalue": "global name 'Derivative' is not defined",
       "output_type": "pyerr",
       "traceback": [
        "\u001b[1;31m---------------------------------------------------------------------------\u001b[0m\n\u001b[1;31mNameError\u001b[0m                                 Traceback (most recent call last)",
        "\u001b[1;32m<ipython-input-222-46f705c47b70>\u001b[0m in \u001b[0;36m<module>\u001b[1;34m()\u001b[0m\n\u001b[1;32m----> 1\u001b[1;33m \u001b[0mtest\u001b[0m\u001b[1;33m(\u001b[0m\u001b[1;36m4\u001b[0m\u001b[1;33m)\u001b[0m\u001b[1;33m\u001b[0m\u001b[0m\n\u001b[0m",
        "\u001b[1;32mc:\\Anaconda\\lib\\site-packages\\numpy\\__init__.pyc\u001b[0m in \u001b[0;36m<lambda>\u001b[1;34m(r)\u001b[0m\n",
        "\u001b[1;31mNameError\u001b[0m: global name 'Derivative' is not defined"
       ]
      }
     ],
     "prompt_number": 222
    },
    {
     "cell_type": "code",
     "collapsed": false,
     "input": [
      "lamb_test(np.array([2,2,4,4]))"
     ],
     "language": "python",
     "metadata": {},
     "outputs": [
      {
       "metadata": {},
       "output_type": "pyout",
       "prompt_number": 199,
       "text": [
        "array([  8.,   8.,  64.,  64.])"
       ]
      }
     ],
     "prompt_number": 199
    },
    {
     "cell_type": "markdown",
     "metadata": {},
     "source": []
    },
    {
     "cell_type": "heading",
     "level": 2,
     "metadata": {},
     "source": [
      "Define G(r)"
     ]
    },
    {
     "cell_type": "code",
     "collapsed": false,
     "input": [
      "class g(sp.Function):\n",
      "    nargs = 5\n",
      "    \n",
      "    @classmethod\n",
      "    def eval(cls, r, k, m, b_z, b_theta):\n",
      "        return m*b_z/r - k*b_theta"
     ],
     "language": "python",
     "metadata": {},
     "outputs": [],
     "prompt_number": 77
    },
    {
     "cell_type": "code",
     "collapsed": false,
     "input": [
      "g_ev = g(r, k, m, b_z(r), b_theta(r))"
     ],
     "language": "python",
     "metadata": {},
     "outputs": [],
     "prompt_number": 78
    },
    {
     "cell_type": "code",
     "collapsed": false,
     "input": [
      "g_func = g_ev"
     ],
     "language": "python",
     "metadata": {},
     "outputs": [],
     "prompt_number": 166
    },
    {
     "cell_type": "code",
     "collapsed": false,
     "input": [
      "g_ev"
     ],
     "language": "python",
     "metadata": {},
     "outputs": [
      {
       "latex": [
        "$$- k \\operatorname{B_{\\theta}}{\\left (r \\right )} + \\frac{m}{r} \\operatorname{B_{z}}{\\left (r \\right )}$$"
       ],
       "metadata": {},
       "output_type": "pyout",
       "png": "[encoded data removed]",
       "prompt_number": 169,
       "text": [
        "            m\u22c5B_z(r)\n",
        "-k\u22c5B_\u03b8(r) + \u2500\u2500\u2500\u2500\u2500\u2500\u2500\u2500\n",
        "               r    "
       ]
      }
     ],
     "prompt_number": 169
    },
    {
     "cell_type": "code",
     "collapsed": false,
     "input": [
      "sp.diff(g_func, r)"
     ],
     "language": "python",
     "metadata": {},
     "outputs": [
      {
       "latex": [
        "$$- k \\frac{d}{d r} \\operatorname{B_{\\theta}}{\\left (r \\right )} + \\frac{m}{r} \\frac{d}{d r} \\operatorname{B_{z}}{\\left (r \\right )} - \\frac{m}{r^{2}} \\operatorname{B_{z}}{\\left (r \\right )}$$"
       ],
       "metadata": {},
       "output_type": "pyout",
       "png": "[encoded data removed]",
       "prompt_number": 167,
       "text": [
        "                   d                    \n",
        "                 m\u22c5\u2500\u2500(B_z(r))           \n",
        "    d              dr           m\u22c5B_z(r)\n",
        "- k\u22c5\u2500\u2500(B_\u03b8(r)) + \u2500\u2500\u2500\u2500\u2500\u2500\u2500\u2500\u2500\u2500\u2500\u2500 - \u2500\u2500\u2500\u2500\u2500\u2500\u2500\u2500\n",
        "    dr                r             2   \n",
        "                                   r    "
       ]
      }
     ],
     "prompt_number": 167
    },
    {
     "cell_type": "code",
     "collapsed": false,
     "input": [
      "sp.lambdify?"
     ],
     "language": "python",
     "metadata": {},
     "outputs": [],
     "prompt_number": 170
    },
    {
     "cell_type": "heading",
     "level": 2,
     "metadata": {},
     "source": [
      "Define F(r)"
     ]
    },
    {
     "cell_type": "code",
     "collapsed": false,
     "input": [
      "class f(sp.Function):\n",
      "    nargs = 5\n",
      "    \n",
      "    @classmethod\n",
      "    def eval(cls, r, k, m, b_z, b_theta):\n",
      "        return k*b_z + m*b_theta/r"
     ],
     "language": "python",
     "metadata": {},
     "outputs": [],
     "prompt_number": 80
    },
    {
     "cell_type": "code",
     "collapsed": false,
     "input": [
      "f_ev = f(r, k, m, b_z(r), b_theta(r))"
     ],
     "language": "python",
     "metadata": {},
     "outputs": [],
     "prompt_number": 81
    },
    {
     "cell_type": "code",
     "collapsed": false,
     "input": [
      "f_ev"
     ],
     "language": "python",
     "metadata": {},
     "outputs": [
      {
       "latex": [
        "$$k \\operatorname{B_{z}}{\\left (r \\right )} + \\frac{m}{r} \\operatorname{B_{\\theta}}{\\left (r \\right )}$$"
       ],
       "metadata": {},
       "output_type": "pyout",
       "png": "[encoded data removed]",
       "prompt_number": 82,
       "text": [
        "           m\u22c5B_\u03b8(r)\n",
        "k\u22c5B_z(r) + \u2500\u2500\u2500\u2500\u2500\u2500\u2500\u2500\n",
        "              r    "
       ]
      }
     ],
     "prompt_number": 82
    },
    {
     "cell_type": "code",
     "collapsed": false,
     "input": [
      "f_func = f_ev"
     ],
     "language": "python",
     "metadata": {},
     "outputs": [],
     "prompt_number": 101
    },
    {
     "cell_type": "code",
     "collapsed": false,
     "input": [
      "sp.diff(f_func, r)"
     ],
     "language": "python",
     "metadata": {},
     "outputs": [
      {
       "latex": [
        "$$k \\frac{d}{d r} \\operatorname{B_{z}}{\\left (r \\right )} + \\frac{m}{r} \\frac{d}{d r} \\operatorname{B_{\\theta}}{\\left (r \\right )} - \\frac{m}{r^{2}} \\operatorname{B_{\\theta}}{\\left (r \\right )}$$"
       ],
       "metadata": {},
       "output_type": "pyout",
       "png": "[encoded data removed]",
       "prompt_number": 102,
       "text": [
        "                 d                    \n",
        "               m\u22c5\u2500\u2500(B_\u03b8(r))           \n",
        "  d              dr           m\u22c5B_\u03b8(r)\n",
        "k\u22c5\u2500\u2500(B_z(r)) + \u2500\u2500\u2500\u2500\u2500\u2500\u2500\u2500\u2500\u2500\u2500\u2500 - \u2500\u2500\u2500\u2500\u2500\u2500\u2500\u2500\n",
        "  dr                r             2   \n",
        "                                 r    "
       ]
      }
     ],
     "prompt_number": 102
    },
    {
     "cell_type": "heading",
     "level": 2,
     "metadata": {},
     "source": [
      "Define sound speed squared $v_{s}^{2}$"
     ]
    },
    {
     "cell_type": "code",
     "collapsed": false,
     "input": [
      "class v_sound_sq(sp.Function):\n",
      "    nargs = 3\n",
      "    \n",
      "    @classmethod\n",
      "    def eval(cls, gamma, pressure, rho):\n",
      "        return gamma*pressure/rho"
     ],
     "language": "python",
     "metadata": {},
     "outputs": [],
     "prompt_number": 84
    },
    {
     "cell_type": "code",
     "collapsed": false,
     "input": [
      "v_sound_sq_ev = v_sound_sq(gamma, pressure(r), rho(r))"
     ],
     "language": "python",
     "metadata": {},
     "outputs": [],
     "prompt_number": 85
    },
    {
     "cell_type": "code",
     "collapsed": false,
     "input": [
      "v_sound_sq_ev"
     ],
     "language": "python",
     "metadata": {},
     "outputs": [
      {
       "latex": [
        "$$\\frac{\\gamma p{\\left (r \\right )}}{\\rho{\\left (r \\right )}}$$"
       ],
       "metadata": {},
       "output_type": "pyout",
       "png": "[encoded data removed]",
       "prompt_number": 86,
       "text": [
        "\u03b3\u22c5p(r)\n",
        "\u2500\u2500\u2500\u2500\u2500\u2500\n",
        " \u03c1(r) "
       ]
      }
     ],
     "prompt_number": 86
    },
    {
     "cell_type": "code",
     "collapsed": false,
     "input": [
      "v_sound_sq_func = v_sound_sq_ev"
     ],
     "language": "python",
     "metadata": {},
     "outputs": [],
     "prompt_number": 103
    },
    {
     "cell_type": "code",
     "collapsed": false,
     "input": [
      "sp.diff(v_sound_sq_func, r)"
     ],
     "language": "python",
     "metadata": {},
     "outputs": [
      {
       "latex": [
        "$$- \\frac{\\gamma \\frac{d}{d r} \\rho{\\left (r \\right )}}{\\rho^{2}{\\left (r \\right )}} p{\\left (r \\right )} + \\frac{\\gamma \\frac{d}{d r} p{\\left (r \\right )}}{\\rho{\\left (r \\right )}}$$"
       ],
       "metadata": {},
       "output_type": "pyout",
       "png": "[encoded data removed]",
       "prompt_number": 105,
       "text": [
        "         d            d       \n",
        "  \u03b3\u22c5p(r)\u22c5\u2500\u2500(\u03c1(r))   \u03b3\u22c5\u2500\u2500(p(r))\n",
        "         dr           dr      \n",
        "- \u2500\u2500\u2500\u2500\u2500\u2500\u2500\u2500\u2500\u2500\u2500\u2500\u2500\u2500\u2500 + \u2500\u2500\u2500\u2500\u2500\u2500\u2500\u2500\u2500\u2500\n",
        "        2              \u03c1(r)   \n",
        "       \u03c1 (r)                  "
       ]
      }
     ],
     "prompt_number": 105
    },
    {
     "cell_type": "heading",
     "level": 2,
     "metadata": {},
     "source": [
      "Define Alfven speed squared $v_{a}^{2}$"
     ]
    },
    {
     "cell_type": "code",
     "collapsed": false,
     "input": [
      "class v_alfven_sq(sp.Function):\n",
      "    nargs = 4\n",
      "    \n",
      "    @classmethod\n",
      "    def eval(cls, b_z, b_theta, mu0, rho):\n",
      "        return (b_z**2+b_theta**2)/(mu0*rho)"
     ],
     "language": "python",
     "metadata": {},
     "outputs": [],
     "prompt_number": 106
    },
    {
     "cell_type": "code",
     "collapsed": false,
     "input": [
      "v_alfven_sq_ev = v_alfven_sq(b_z(r), b_theta(r), mu0, rho(r))"
     ],
     "language": "python",
     "metadata": {},
     "outputs": [],
     "prompt_number": 107
    },
    {
     "cell_type": "code",
     "collapsed": false,
     "input": [
      "v_alfven_sq_ev"
     ],
     "language": "python",
     "metadata": {},
     "outputs": [
      {
       "latex": [
        "$$\\frac{\\operatorname{B_{\\theta}}^{2}{\\left (r \\right )} + \\operatorname{B_{z}}^{2}{\\left (r \\right )}}{\\mu_{0} \\rho{\\left (r \\right )}}$$"
       ],
       "metadata": {},
       "output_type": "pyout",
       "png": "[encoded data removed]",
       "prompt_number": 111,
       "text": [
        "   2         2   \n",
        "B_\u03b8 (r) + B_z (r)\n",
        "\u2500\u2500\u2500\u2500\u2500\u2500\u2500\u2500\u2500\u2500\u2500\u2500\u2500\u2500\u2500\u2500\u2500\n",
        "     \u03bc\u2080\u22c5\u03c1(r)     "
       ]
      }
     ],
     "prompt_number": 111
    },
    {
     "cell_type": "code",
     "collapsed": false,
     "input": [
      "v_alfven_sq_func = v_alfven_sq_ev "
     ],
     "language": "python",
     "metadata": {},
     "outputs": [],
     "prompt_number": 108
    },
    {
     "cell_type": "code",
     "collapsed": false,
     "input": [
      "sp.diff(v_alfven_sq_func, r)"
     ],
     "language": "python",
     "metadata": {},
     "outputs": [
      {
       "latex": [
        "$$\\frac{1}{\\mu_{0} \\rho{\\left (r \\right )}} \\left(2 \\operatorname{B_{\\theta}}{\\left (r \\right )} \\frac{d}{d r} \\operatorname{B_{\\theta}}{\\left (r \\right )} + 2 \\operatorname{B_{z}}{\\left (r \\right )} \\frac{d}{d r} \\operatorname{B_{z}}{\\left (r \\right )}\\right) - \\frac{\\frac{d}{d r} \\rho{\\left (r \\right )}}{\\mu_{0} \\rho^{2}{\\left (r \\right )}} \\left(\\operatorname{B_{\\theta}}^{2}{\\left (r \\right )} + \\operatorname{B_{z}}^{2}{\\left (r \\right )}\\right)$$"
       ],
       "metadata": {},
       "output_type": "pyout",
       "png": "[encoded data removed]",
       "prompt_number": 109,
       "text": [
        "         d                     d            \u239b   2         2   \u239e d       \n",
        "2\u22c5B_\u03b8(r)\u22c5\u2500\u2500(B_\u03b8(r)) + 2\u22c5B_z(r)\u22c5\u2500\u2500(B_z(r))   \u239dB_\u03b8 (r) + B_z (r)\u23a0\u22c5\u2500\u2500(\u03c1(r))\n",
        "         dr                    dr                               dr      \n",
        "\u2500\u2500\u2500\u2500\u2500\u2500\u2500\u2500\u2500\u2500\u2500\u2500\u2500\u2500\u2500\u2500\u2500\u2500\u2500\u2500\u2500\u2500\u2500\u2500\u2500\u2500\u2500\u2500\u2500\u2500\u2500\u2500\u2500\u2500\u2500\u2500\u2500\u2500\u2500\u2500\u2500 - \u2500\u2500\u2500\u2500\u2500\u2500\u2500\u2500\u2500\u2500\u2500\u2500\u2500\u2500\u2500\u2500\u2500\u2500\u2500\u2500\u2500\u2500\u2500\u2500\u2500\u2500\u2500\u2500\n",
        "                 \u03bc\u2080\u22c5\u03c1(r)                                  2             \n",
        "                                                      \u03bc\u2080\u22c5\u03c1 (r)          "
       ]
      }
     ],
     "prompt_number": 109
    },
    {
     "cell_type": "heading",
     "level": 2,
     "metadata": {},
     "source": [
      "Define $k_{0}^{2}$"
     ]
    },
    {
     "cell_type": "code",
     "collapsed": false,
     "input": [
      "class k_0_sq(sp.Function):\n",
      "    nargs = 3\n",
      "    \n",
      "    @classmethod\n",
      "    def eval(cls, r, k, m):\n",
      "        return k**2+m**2/r**2"
     ],
     "language": "python",
     "metadata": {},
     "outputs": [],
     "prompt_number": 110
    },
    {
     "cell_type": "code",
     "collapsed": false,
     "input": [
      "k_0_sq_ev = k_0_sq(r, k, m)"
     ],
     "language": "python",
     "metadata": {},
     "outputs": [],
     "prompt_number": 93
    },
    {
     "cell_type": "code",
     "collapsed": false,
     "input": [
      "k_0_sq_ev"
     ],
     "language": "python",
     "metadata": {},
     "outputs": [
      {
       "latex": [
        "$$k^{2} + \\frac{m^{2}}{r^{2}}$$"
       ],
       "metadata": {},
       "output_type": "pyout",
       "png": "[encoded data removed]",
       "prompt_number": 94,
       "text": [
        "      2\n",
        " 2   m \n",
        "k  + \u2500\u2500\n",
        "      2\n",
        "     r "
       ]
      }
     ],
     "prompt_number": 94
    },
    {
     "cell_type": "code",
     "collapsed": false,
     "input": [
      "k_0_sq_func = k_0_sq_ev"
     ],
     "language": "python",
     "metadata": {},
     "outputs": [],
     "prompt_number": 112
    },
    {
     "cell_type": "code",
     "collapsed": false,
     "input": [
      "sp.diff(k_0_sq_func, r)"
     ],
     "language": "python",
     "metadata": {},
     "outputs": [
      {
       "latex": [
        "$$- \\frac{2 m^{2}}{r^{3}}$$"
       ],
       "metadata": {},
       "output_type": "pyout",
       "png": "[encoded data removed]",
       "prompt_number": 113,
       "text": [
        "    2 \n",
        "-2\u22c5m  \n",
        "\u2500\u2500\u2500\u2500\u2500\u2500\n",
        "   3  \n",
        "  r   "
       ]
      }
     ],
     "prompt_number": 113
    },
    {
     "cell_type": "heading",
     "level": 2,
     "metadata": {},
     "source": [
      "Define $\\omega_{a}^{2}$"
     ]
    },
    {
     "cell_type": "code",
     "collapsed": false,
     "input": [
      "class omega_a_sq(sp.Function):\n",
      "    nargs = 3\n",
      "    \n",
      "    @classmethod\n",
      "    def eval(cls, f, rho, mu0):\n",
      "        return f**2/(mu0*rho)"
     ],
     "language": "python",
     "metadata": {},
     "outputs": [],
     "prompt_number": 114
    },
    {
     "cell_type": "code",
     "collapsed": false,
     "input": [
      "omega_a_sq_ev = omega_a_sq(f_ev, rho(r), mu0)"
     ],
     "language": "python",
     "metadata": {},
     "outputs": [],
     "prompt_number": 115
    },
    {
     "cell_type": "code",
     "collapsed": false,
     "input": [
      "omega_a_sq_func = omega_a_sq(f_ue(r),rho(r),mu0)"
     ],
     "language": "python",
     "metadata": {},
     "outputs": [],
     "prompt_number": 118
    },
    {
     "cell_type": "code",
     "collapsed": false,
     "input": [
      "omega_a_sq_func"
     ],
     "language": "python",
     "metadata": {},
     "outputs": [
      {
       "latex": [
        "$$\\frac{f^{2}{\\left (r \\right )}}{\\mu_{0} \\rho{\\left (r \\right )}}$$"
       ],
       "metadata": {},
       "output_type": "pyout",
       "png": "[encoded data removed]",
       "prompt_number": 121,
       "text": [
        "  2    \n",
        " f (r) \n",
        "\u2500\u2500\u2500\u2500\u2500\u2500\u2500\n",
        "\u03bc\u2080\u22c5\u03c1(r)"
       ]
      }
     ],
     "prompt_number": 121
    },
    {
     "cell_type": "code",
     "collapsed": true,
     "input": [
      "omega_a_sq_ev"
     ],
     "language": "python",
     "metadata": {},
     "outputs": [
      {
       "latex": [
        "$$\\frac{1}{\\mu_{0} \\rho{\\left (r \\right )}} \\left(k \\operatorname{B_{z}}{\\left (r \\right )} + \\frac{m}{r} \\operatorname{B_{\\theta}}{\\left (r \\right )}\\right)^{2}$$"
       ],
       "metadata": {},
       "output_type": "pyout",
       "png": "[encoded data removed]",
       "prompt_number": 117,
       "text": [
        "                     2\n",
        "\u239b           m\u22c5B_\u03b8(r)\u239e \n",
        "\u239ck\u22c5B_z(r) + \u2500\u2500\u2500\u2500\u2500\u2500\u2500\u2500\u239f \n",
        "\u239d              r    \u23a0 \n",
        "\u2500\u2500\u2500\u2500\u2500\u2500\u2500\u2500\u2500\u2500\u2500\u2500\u2500\u2500\u2500\u2500\u2500\u2500\u2500\u2500\u2500\u2500\n",
        "       \u03bc\u2080\u22c5\u03c1(r)        "
       ]
      }
     ],
     "prompt_number": 117
    },
    {
     "cell_type": "code",
     "collapsed": false,
     "input": [
      "sp.diff(omega_a_sq_func, r)"
     ],
     "language": "python",
     "metadata": {},
     "outputs": [
      {
       "latex": [
        "$$- \\frac{f^{2}{\\left (r \\right )} \\frac{d}{d r} \\rho{\\left (r \\right )}}{\\mu_{0} \\rho^{2}{\\left (r \\right )}} + \\frac{2 \\frac{d}{d r} f{\\left (r \\right )}}{\\mu_{0} \\rho{\\left (r \\right )}} f{\\left (r \\right )}$$"
       ],
       "metadata": {},
       "output_type": "pyout",
       "png": "[encoded data removed]",
       "prompt_number": 122,
       "text": [
        "   2    d                 d       \n",
        "  f (r)\u22c5\u2500\u2500(\u03c1(r))   2\u22c5f(r)\u22c5\u2500\u2500(f(r))\n",
        "        dr                dr      \n",
        "- \u2500\u2500\u2500\u2500\u2500\u2500\u2500\u2500\u2500\u2500\u2500\u2500\u2500\u2500 + \u2500\u2500\u2500\u2500\u2500\u2500\u2500\u2500\u2500\u2500\u2500\u2500\u2500\u2500\u2500\n",
        "         2             \u03bc\u2080\u22c5\u03c1(r)    \n",
        "     \u03bc\u2080\u22c5\u03c1 (r)                     "
       ]
      }
     ],
     "prompt_number": 122
    },
    {
     "cell_type": "heading",
     "level": 2,
     "metadata": {},
     "source": [
      "Define $\\omega_{h}^{2}$"
     ]
    },
    {
     "cell_type": "code",
     "collapsed": false,
     "input": [
      "class omega_h_sq(sp.Function):\n",
      "    nargs = 3\n",
      "    \n",
      "    @classmethod\n",
      "    def eval(cls, v_sound_sq, v_alfven_sq, omega_a_sq):\n",
      "        return v_sound_sq / (v_sound_sq + v_alfven_sq) * omega_a_sq"
     ],
     "language": "python",
     "metadata": {},
     "outputs": [],
     "prompt_number": 124
    },
    {
     "cell_type": "code",
     "collapsed": false,
     "input": [
      "omega_h_sq_ev = omega_h_sq(v_sound_sq(gamma, pressure(r), rho(r)), v_alfven_sq(b_z(r), b_theta(r), mu0, rho(r)), omega_a_sq(f(r, k, m, b_z(r), b_theta(r)), rho(r), mu0))"
     ],
     "language": "python",
     "metadata": {},
     "outputs": [],
     "prompt_number": 125
    },
    {
     "cell_type": "code",
     "collapsed": false,
     "input": [
      "omega_h_sq_func = omega_h_sq(v_sound_sq_ue(r), v_alfven_sq_ue(r), omega_a_sq_ue(r))"
     ],
     "language": "python",
     "metadata": {},
     "outputs": [],
     "prompt_number": 127
    },
    {
     "cell_type": "code",
     "collapsed": false,
     "input": [
      "omega_h_sq_func"
     ],
     "language": "python",
     "metadata": {},
     "outputs": [
      {
       "latex": [
        "$$\\frac{\\omega^{2}_{a}{\\left (r \\right )} \\operatorname{v^{2}_{s}}{\\left (r \\right )}}{\\operatorname{v^{2}_{a}}{\\left (r \\right )} + \\operatorname{v^{2}_{s}}{\\left (r \\right )}}$$"
       ],
       "metadata": {},
       "output_type": "pyout",
       "png": "[encoded data removed]",
       "prompt_number": 128,
       "text": [
        " \u03c9\u00b2\u2090(r)\u22c5v_s__2(r) \n",
        "\u2500\u2500\u2500\u2500\u2500\u2500\u2500\u2500\u2500\u2500\u2500\u2500\u2500\u2500\u2500\u2500\u2500\u2500\n",
        "v\u00b2\u2090(r) + v_s__2(r)"
       ]
      }
     ],
     "prompt_number": 128
    },
    {
     "cell_type": "code",
     "collapsed": true,
     "input": [
      "omega_h_sq_ev"
     ],
     "language": "python",
     "metadata": {},
     "outputs": [
      {
       "latex": [
        "$$\\frac{\\gamma \\left(k \\operatorname{B_{z}}{\\left (r \\right )} + \\frac{m}{r} \\operatorname{B_{\\theta}}{\\left (r \\right )}\\right)^{2} p{\\left (r \\right )}}{\\mu_{0} \\left(\\frac{\\gamma p{\\left (r \\right )}}{\\rho{\\left (r \\right )}} + \\frac{\\operatorname{B_{\\theta}}^{2}{\\left (r \\right )} + \\operatorname{B_{z}}^{2}{\\left (r \\right )}}{\\mu_{0} \\rho{\\left (r \\right )}}\\right) \\rho^{2}{\\left (r \\right )}}$$"
       ],
       "metadata": {},
       "output_type": "pyout",
       "png": "[encoded data removed]",
       "prompt_number": 40,
       "text": [
        "                           2         \n",
        "      \u239b           m\u22c5B_\u03b8(r)\u239e          \n",
        "    \u03b3\u22c5\u239ck\u22c5B_z(r) + \u2500\u2500\u2500\u2500\u2500\u2500\u2500\u2500\u239f \u22c5p(r)    \n",
        "      \u239d              r    \u23a0          \n",
        "\u2500\u2500\u2500\u2500\u2500\u2500\u2500\u2500\u2500\u2500\u2500\u2500\u2500\u2500\u2500\u2500\u2500\u2500\u2500\u2500\u2500\u2500\u2500\u2500\u2500\u2500\u2500\u2500\u2500\u2500\u2500\u2500\u2500\u2500\u2500\u2500\u2500\n",
        "   \u239b            2         2   \u239e      \n",
        "   \u239c\u03b3\u22c5p(r)   B_\u03b8 (r) + B_z (r)\u239f  2   \n",
        "\u03bc\u2080\u22c5\u239c\u2500\u2500\u2500\u2500\u2500\u2500 + \u2500\u2500\u2500\u2500\u2500\u2500\u2500\u2500\u2500\u2500\u2500\u2500\u2500\u2500\u2500\u2500\u2500\u239f\u22c5\u03c1 (r)\n",
        "   \u239d \u03c1(r)         \u03bc\u2080\u22c5\u03c1(r)     \u23a0      "
       ]
      }
     ],
     "prompt_number": 40
    },
    {
     "cell_type": "code",
     "collapsed": false,
     "input": [
      "sp.diff(omega_h_sq_func, r)"
     ],
     "language": "python",
     "metadata": {},
     "outputs": [
      {
       "latex": [
        "$$\\frac{\\omega^{2}_{a}{\\left (r \\right )} \\frac{d}{d r} \\operatorname{v^{2}_{s}}{\\left (r \\right )}}{\\operatorname{v^{2}_{a}}{\\left (r \\right )} + \\operatorname{v^{2}_{s}}{\\left (r \\right )}} + \\frac{\\operatorname{v^{2}_{s}}{\\left (r \\right )} \\frac{d}{d r} \\omega^{2}_{a}{\\left (r \\right )}}{\\operatorname{v^{2}_{a}}{\\left (r \\right )} + \\operatorname{v^{2}_{s}}{\\left (r \\right )}} + \\frac{\\omega^{2}_{a}{\\left (r \\right )} \\operatorname{v^{2}_{s}}{\\left (r \\right )}}{\\left(\\operatorname{v^{2}_{a}}{\\left (r \\right )} + \\operatorname{v^{2}_{s}}{\\left (r \\right )}\\right)^{2}} \\left(- \\frac{d}{d r} \\operatorname{v^{2}_{a}}{\\left (r \\right )} - \\frac{d}{d r} \\operatorname{v^{2}_{s}}{\\left (r \\right )}\\right)$$"
       ],
       "metadata": {},
       "output_type": "pyout",
       "png": "[encoded data removed]",
       "prompt_number": 130,
       "text": [
        "       d                         d            \u239b  d            d            \u239e  \n",
        "\u03c9\u00b2\u2090(r)\u22c5\u2500\u2500(v_s__2(r))   v_s__2(r)\u22c5\u2500\u2500(\u03c9\u00b2\u2090(r))   \u239c- \u2500\u2500(v\u00b2\u2090(r)) - \u2500\u2500(v_s__2(r))\u239f\u22c5\u03c9\n",
        "       dr                        dr           \u239d  dr           dr           \u23a0  \n",
        "\u2500\u2500\u2500\u2500\u2500\u2500\u2500\u2500\u2500\u2500\u2500\u2500\u2500\u2500\u2500\u2500\u2500\u2500\u2500\u2500 + \u2500\u2500\u2500\u2500\u2500\u2500\u2500\u2500\u2500\u2500\u2500\u2500\u2500\u2500\u2500\u2500\u2500\u2500\u2500\u2500 + \u2500\u2500\u2500\u2500\u2500\u2500\u2500\u2500\u2500\u2500\u2500\u2500\u2500\u2500\u2500\u2500\u2500\u2500\u2500\u2500\u2500\u2500\u2500\u2500\u2500\u2500\u2500\u2500\u2500\u2500\u2500\u2500\n",
        " v\u00b2\u2090(r) + v_s__2(r)     v\u00b2\u2090(r) + v_s__2(r)                                    \n",
        "                                                           (v\u00b2\u2090(r) + v_s__2(r)\n",
        "\n",
        "               \n",
        "\u00b2\u2090(r)\u22c5v_s__2(r)\n",
        "               \n",
        "\u2500\u2500\u2500\u2500\u2500\u2500\u2500\u2500\u2500\u2500\u2500\u2500\u2500\u2500\u2500\n",
        " 2             \n",
        ")              "
       ]
      }
     ],
     "prompt_number": 130
    },
    {
     "cell_type": "heading",
     "level": 2,
     "metadata": {},
     "source": [
      "Define $\\omega_{g}^{2}$"
     ]
    },
    {
     "cell_type": "code",
     "collapsed": false,
     "input": [
      "class omega_g_sq(sp.Function):\n",
      "    nargs = 3\n",
      "    \n",
      "    @classmethod\n",
      "    def eval(cls, v_sound_sq, v_alfven_sq, omega_a_sq):\n",
      "        return v_sound_sq / v_alfven_sq * omega_a_sq"
     ],
     "language": "python",
     "metadata": {},
     "outputs": [],
     "prompt_number": 41
    },
    {
     "cell_type": "code",
     "collapsed": false,
     "input": [
      "omega_g_sq_ev = omega_g_sq(v_sound_sq(gamma, pressure(r), rho(r)), v_alfven_sq(b_z(r), b_theta(r), mu0, rho(r)), omega_a_sq(f(r, k, m, b_z(r), b_theta(r)), rho(r), mu0))"
     ],
     "language": "python",
     "metadata": {},
     "outputs": [],
     "prompt_number": 42
    },
    {
     "cell_type": "code",
     "collapsed": false,
     "input": [
      "omega_g_sq_func = omega_g_sq(v_sound_sq_ue(r), v_alfven_sq_ue(r), omega_a_sq_ue(r))"
     ],
     "language": "python",
     "metadata": {},
     "outputs": [],
     "prompt_number": 133
    },
    {
     "cell_type": "code",
     "collapsed": false,
     "input": [
      "omega_g_sq_func"
     ],
     "language": "python",
     "metadata": {},
     "outputs": [
      {
       "latex": [
        "$$\\frac{\\omega^{2}_{a}{\\left (r \\right )} \\operatorname{v^{2}_{s}}{\\left (r \\right )}}{\\operatorname{v^{2}_{a}}{\\left (r \\right )}}$$"
       ],
       "metadata": {},
       "output_type": "pyout",
       "png": "[encoded data removed]",
       "prompt_number": 134,
       "text": [
        "\u03c9\u00b2\u2090(r)\u22c5v_s__2(r)\n",
        "\u2500\u2500\u2500\u2500\u2500\u2500\u2500\u2500\u2500\u2500\u2500\u2500\u2500\u2500\u2500\u2500\n",
        "     v\u00b2\u2090(r)     "
       ]
      }
     ],
     "prompt_number": 134
    },
    {
     "cell_type": "code",
     "collapsed": false,
     "input": [
      "omega_g_sq_ev"
     ],
     "language": "python",
     "metadata": {},
     "outputs": [
      {
       "latex": [
        "$$\\frac{\\gamma \\left(k \\operatorname{B_{z}}{\\left (r \\right )} + \\frac{m}{r} \\operatorname{B_{\\theta}}{\\left (r \\right )}\\right)^{2} p{\\left (r \\right )}}{\\left(\\operatorname{B_{\\theta}}^{2}{\\left (r \\right )} + \\operatorname{B_{z}}^{2}{\\left (r \\right )}\\right) \\rho{\\left (r \\right )}}$$"
       ],
       "metadata": {},
       "output_type": "pyout",
       "png": "[encoded data removed]",
       "prompt_number": 45,
       "text": [
        "                       2     \n",
        "  \u239b           m\u22c5B_\u03b8(r)\u239e      \n",
        "\u03b3\u22c5\u239ck\u22c5B_z(r) + \u2500\u2500\u2500\u2500\u2500\u2500\u2500\u2500\u239f \u22c5p(r)\n",
        "  \u239d              r    \u23a0      \n",
        "\u2500\u2500\u2500\u2500\u2500\u2500\u2500\u2500\u2500\u2500\u2500\u2500\u2500\u2500\u2500\u2500\u2500\u2500\u2500\u2500\u2500\u2500\u2500\u2500\u2500\u2500\u2500\u2500\u2500\n",
        "   \u239b   2         2   \u239e       \n",
        "   \u239dB_\u03b8 (r) + B_z (r)\u23a0\u22c5\u03c1(r)  "
       ]
      }
     ],
     "prompt_number": 45
    },
    {
     "cell_type": "code",
     "collapsed": false,
     "input": [
      "sp.diff(omega_g_sq_func)"
     ],
     "language": "python",
     "metadata": {},
     "outputs": [
      {
       "latex": [
        "$$\\frac{\\frac{d}{d r} \\operatorname{v^{2}_{s}}{\\left (r \\right )}}{\\operatorname{v^{2}_{a}}{\\left (r \\right )}} \\omega^{2}_{a}{\\left (r \\right )} - \\frac{\\frac{d}{d r} \\operatorname{v^{2}_{a}}{\\left (r \\right )}}{\\operatorname{v^{2}_{a}}^{2}{\\left (r \\right )}} \\omega^{2}_{a}{\\left (r \\right )} \\operatorname{v^{2}_{s}}{\\left (r \\right )} + \\frac{\\frac{d}{d r} \\omega^{2}_{a}{\\left (r \\right )}}{\\operatorname{v^{2}_{a}}{\\left (r \\right )}} \\operatorname{v^{2}_{s}}{\\left (r \\right )}$$"
       ],
       "metadata": {},
       "output_type": "pyout",
       "png": "[encoded data removed]",
       "prompt_number": 136,
       "text": [
        "       d                                d                      d         \n",
        "\u03c9\u00b2\u2090(r)\u22c5\u2500\u2500(v_s__2(r))   \u03c9\u00b2\u2090(r)\u22c5v_s__2(r)\u22c5\u2500\u2500(v\u00b2\u2090(r))   v_s__2(r)\u22c5\u2500\u2500(\u03c9\u00b2\u2090(r))\n",
        "       dr                               dr                     dr        \n",
        "\u2500\u2500\u2500\u2500\u2500\u2500\u2500\u2500\u2500\u2500\u2500\u2500\u2500\u2500\u2500\u2500\u2500\u2500\u2500\u2500 - \u2500\u2500\u2500\u2500\u2500\u2500\u2500\u2500\u2500\u2500\u2500\u2500\u2500\u2500\u2500\u2500\u2500\u2500\u2500\u2500\u2500\u2500\u2500\u2500\u2500\u2500\u2500 + \u2500\u2500\u2500\u2500\u2500\u2500\u2500\u2500\u2500\u2500\u2500\u2500\u2500\u2500\u2500\u2500\u2500\u2500\u2500\u2500\n",
        "       v\u00b2\u2090(r)                       2                       v\u00b2\u2090(r)       \n",
        "                                 v\u00b2\u2090 (r)                                 "
       ]
      }
     ],
     "prompt_number": 136
    },
    {
     "cell_type": "heading",
     "level": 2,
     "metadata": {},
     "source": [
      "Define $\\alpha^{2}$"
     ]
    },
    {
     "cell_type": "code",
     "collapsed": false,
     "input": [
      "class alpha_sq(sp.Function):\n",
      "    nargs = 4\n",
      "    \n",
      "    @classmethod\n",
      "    def eval(cls, k_0_sq, v_sound_sq, v_alfven_sq, omega_a_sq):\n",
      "        return 4*v_sound_sq*omega_a_sq / (k_0_sq*(v_sound_sq + v_alfven_sq)**2)"
     ],
     "language": "python",
     "metadata": {},
     "outputs": [],
     "prompt_number": 137
    },
    {
     "cell_type": "code",
     "collapsed": false,
     "input": [
      "alpha_sq_ev = alpha_sq(k_0_sq(r, k, m), v_sound_sq(gamma, pressure(r), rho(r)), v_alfven_sq(b_z(r), b_theta(r), mu0, rho(r)), omega_a_sq(f(r, k, m, b_z(r), b_theta(r)), rho(r), mu0))"
     ],
     "language": "python",
     "metadata": {},
     "outputs": [],
     "prompt_number": 138
    },
    {
     "cell_type": "code",
     "collapsed": false,
     "input": [
      "alpha_sq_func = alpha_sq(k_0_sq_ue(r), v_sound_sq_ue(r), v_alfven_sq_ue(r), omega_a_sq_ue(r))"
     ],
     "language": "python",
     "metadata": {},
     "outputs": [],
     "prompt_number": 139
    },
    {
     "cell_type": "code",
     "collapsed": false,
     "input": [
      "alpha_sq_func"
     ],
     "language": "python",
     "metadata": {},
     "outputs": [
      {
       "latex": [
        "$$\\frac{4 \\omega^{2}_{a}{\\left (r \\right )} \\operatorname{v^{2}_{s}}{\\left (r \\right )}}{\\left(\\operatorname{v^{2}_{a}}{\\left (r \\right )} + \\operatorname{v^{2}_{s}}{\\left (r \\right )}\\right)^{2} \\operatorname{k^{2}_{0}}{\\left (r \\right )}}$$"
       ],
       "metadata": {},
       "output_type": "pyout",
       "png": "[encoded data removed]",
       "prompt_number": 140,
       "text": [
        "     4\u22c5\u03c9\u00b2\u2090(r)\u22c5v_s__2(r)     \n",
        "\u2500\u2500\u2500\u2500\u2500\u2500\u2500\u2500\u2500\u2500\u2500\u2500\u2500\u2500\u2500\u2500\u2500\u2500\u2500\u2500\u2500\u2500\u2500\u2500\u2500\u2500\u2500\u2500\n",
        "                    2       \n",
        "(v\u00b2\u2090(r) + v_s__2(r)) \u22c5k\u00b2\u2080(r)"
       ]
      }
     ],
     "prompt_number": 140
    },
    {
     "cell_type": "code",
     "collapsed": false,
     "input": [
      "alpha_sq_ev"
     ],
     "language": "python",
     "metadata": {},
     "outputs": [
      {
       "latex": [
        "$$\\frac{4 \\gamma \\left(k \\operatorname{B_{z}}{\\left (r \\right )} + \\frac{m}{r} \\operatorname{B_{\\theta}}{\\left (r \\right )}\\right)^{2} p{\\left (r \\right )}}{\\mu_{0} \\left(k^{2} + \\frac{m^{2}}{r^{2}}\\right) \\left(\\frac{\\gamma p{\\left (r \\right )}}{\\rho{\\left (r \\right )}} + \\frac{\\operatorname{B_{\\theta}}^{2}{\\left (r \\right )} + \\operatorname{B_{z}}^{2}{\\left (r \\right )}}{\\mu_{0} \\rho{\\left (r \\right )}}\\right)^{2} \\rho^{2}{\\left (r \\right )}}$$"
       ],
       "metadata": {},
       "output_type": "pyout",
       "png": "[encoded data removed]",
       "prompt_number": 50,
       "text": [
        "                                 2              \n",
        "            \u239b           m\u22c5B_\u03b8(r)\u239e               \n",
        "        4\u22c5\u03b3\u22c5\u239ck\u22c5B_z(r) + \u2500\u2500\u2500\u2500\u2500\u2500\u2500\u2500\u239f \u22c5p(r)         \n",
        "            \u239d              r    \u23a0               \n",
        "\u2500\u2500\u2500\u2500\u2500\u2500\u2500\u2500\u2500\u2500\u2500\u2500\u2500\u2500\u2500\u2500\u2500\u2500\u2500\u2500\u2500\u2500\u2500\u2500\u2500\u2500\u2500\u2500\u2500\u2500\u2500\u2500\u2500\u2500\u2500\u2500\u2500\u2500\u2500\u2500\u2500\u2500\u2500\u2500\u2500\u2500\u2500\u2500\n",
        "                                         2      \n",
        "   \u239b      2\u239e \u239b            2         2   \u239e       \n",
        "   \u239c 2   m \u239f \u239c\u03b3\u22c5p(r)   B_\u03b8 (r) + B_z (r)\u239f   2   \n",
        "\u03bc\u2080\u22c5\u239ck  + \u2500\u2500\u239f\u22c5\u239c\u2500\u2500\u2500\u2500\u2500\u2500 + \u2500\u2500\u2500\u2500\u2500\u2500\u2500\u2500\u2500\u2500\u2500\u2500\u2500\u2500\u2500\u2500\u2500\u239f \u22c5\u03c1 (r)\n",
        "   \u239c      2\u239f \u239d \u03c1(r)         \u03bc\u2080\u22c5\u03c1(r)     \u23a0       \n",
        "   \u239d     r \u23a0                                    "
       ]
      }
     ],
     "prompt_number": 50
    },
    {
     "cell_type": "code",
     "collapsed": false,
     "input": [
      "sp.diff(alpha_sq_func, r)"
     ],
     "language": "python",
     "metadata": {},
     "outputs": [
      {
       "latex": [
        "$$\\frac{4 \\omega^{2}_{a}{\\left (r \\right )} \\frac{d}{d r} \\operatorname{v^{2}_{s}}{\\left (r \\right )}}{\\left(\\operatorname{v^{2}_{a}}{\\left (r \\right )} + \\operatorname{v^{2}_{s}}{\\left (r \\right )}\\right)^{2} \\operatorname{k^{2}_{0}}{\\left (r \\right )}} + \\frac{4 \\operatorname{v^{2}_{s}}{\\left (r \\right )} \\frac{d}{d r} \\omega^{2}_{a}{\\left (r \\right )}}{\\left(\\operatorname{v^{2}_{a}}{\\left (r \\right )} + \\operatorname{v^{2}_{s}}{\\left (r \\right )}\\right)^{2} \\operatorname{k^{2}_{0}}{\\left (r \\right )}} - \\frac{4 \\omega^{2}_{a}{\\left (r \\right )} \\operatorname{v^{2}_{s}}{\\left (r \\right )} \\frac{d}{d r} \\operatorname{k^{2}_{0}}{\\left (r \\right )}}{\\left(\\operatorname{v^{2}_{a}}{\\left (r \\right )} + \\operatorname{v^{2}_{s}}{\\left (r \\right )}\\right)^{2} \\operatorname{k^{2}_{0}}^{2}{\\left (r \\right )}} + \\frac{4 \\left(- 2 \\frac{d}{d r} \\operatorname{v^{2}_{a}}{\\left (r \\right )} - 2 \\frac{d}{d r} \\operatorname{v^{2}_{s}}{\\left (r \\right )}\\right) \\omega^{2}_{a}{\\left (r \\right )} \\operatorname{v^{2}_{s}}{\\left (r \\right )}}{\\left(\\operatorname{v^{2}_{a}}{\\left (r \\right )} + \\operatorname{v^{2}_{s}}{\\left (r \\right )}\\right)^{3} \\operatorname{k^{2}_{0}}{\\left (r \\right )}}$$"
       ],
       "metadata": {},
       "output_type": "pyout",
       "png": "[encoded data removed]",
       "prompt_number": 142,
       "text": [
        "            d                                 d                               \n",
        "   4\u22c5\u03c9\u00b2\u2090(r)\u22c5\u2500\u2500(v_s__2(r))         4\u22c5v_s__2(r)\u22c5\u2500\u2500(\u03c9\u00b2\u2090(r))      4\u22c5\u03c9\u00b2\u2090(r)\u22c5v_s__2(\n",
        "            dr                                dr                              \n",
        "\u2500\u2500\u2500\u2500\u2500\u2500\u2500\u2500\u2500\u2500\u2500\u2500\u2500\u2500\u2500\u2500\u2500\u2500\u2500\u2500\u2500\u2500\u2500\u2500\u2500\u2500\u2500\u2500 + \u2500\u2500\u2500\u2500\u2500\u2500\u2500\u2500\u2500\u2500\u2500\u2500\u2500\u2500\u2500\u2500\u2500\u2500\u2500\u2500\u2500\u2500\u2500\u2500\u2500\u2500\u2500\u2500 - \u2500\u2500\u2500\u2500\u2500\u2500\u2500\u2500\u2500\u2500\u2500\u2500\u2500\u2500\u2500\u2500\n",
        "                    2                              2                          \n",
        "(v\u00b2\u2090(r) + v_s__2(r)) \u22c5k\u00b2\u2080(r)   (v\u00b2\u2090(r) + v_s__2(r)) \u22c5k\u00b2\u2080(r)   (v\u00b2\u2090(r) + v_s__2\n",
        "\n",
        "   d              \u239b    d              d            \u239e                 \n",
        "r)\u22c5\u2500\u2500(k\u00b2\u2080(r))   4\u22c5\u239c- 2\u22c5\u2500\u2500(v\u00b2\u2090(r)) - 2\u22c5\u2500\u2500(v_s__2(r))\u239f\u22c5\u03c9\u00b2\u2090(r)\u22c5v_s__2(r)\n",
        "   dr             \u239d    dr             dr           \u23a0                 \n",
        "\u2500\u2500\u2500\u2500\u2500\u2500\u2500\u2500\u2500\u2500\u2500\u2500\u2500 + \u2500\u2500\u2500\u2500\u2500\u2500\u2500\u2500\u2500\u2500\u2500\u2500\u2500\u2500\u2500\u2500\u2500\u2500\u2500\u2500\u2500\u2500\u2500\u2500\u2500\u2500\u2500\u2500\u2500\u2500\u2500\u2500\u2500\u2500\u2500\u2500\u2500\u2500\u2500\u2500\u2500\u2500\u2500\u2500\u2500\u2500\u2500\u2500\u2500\u2500\u2500\u2500\u2500\n",
        "    2    2                                       3                   \n",
        "(r)) \u22c5k\u00b2\u2080 (r)                (v\u00b2\u2090(r) + v_s__2(r)) \u22c5k\u00b2\u2080(r)            "
       ]
      }
     ],
     "prompt_number": 142
    },
    {
     "cell_type": "heading",
     "level": 2,
     "metadata": {},
     "source": [
      "Define $\\omega_{f}^{2}$"
     ]
    },
    {
     "cell_type": "code",
     "collapsed": false,
     "input": [
      "class omega_f_sq(sp.Function):\n",
      "    nargs = 4\n",
      "    \n",
      "    @classmethod\n",
      "    def eval(cls, k_0_sq, v_sound_sq, v_alfven_sq, alpha_sq):\n",
      "        return 0.5*v_sound_sq*(k_0_sq*(v_sound_sq + v_alfven_sq))*(1 + (1 - alpha_sq)**0.5)"
     ],
     "language": "python",
     "metadata": {},
     "outputs": [],
     "prompt_number": 143
    },
    {
     "cell_type": "code",
     "collapsed": false,
     "input": [
      "omega_f_sq_ev = omega_f_sq(k_0_sq(r, k, m), v_sound_sq(gamma, pressure(r), rho(r)), v_alfven_sq(b_z(r), b_theta(r), mu0, rho(r)), alpha_sq(k_0_sq(r, k, m), v_sound_sq(gamma, pressure(r), rho(r)), v_alfven_sq(b_z(r), b_theta(r), mu0, rho(r)), omega_a_sq(f(r, k, m, b_z(r), b_theta(r)), rho(r), mu0)))"
     ],
     "language": "python",
     "metadata": {},
     "outputs": [],
     "prompt_number": 144
    },
    {
     "cell_type": "code",
     "collapsed": false,
     "input": [
      "omega_f_sq_func = omega_f_sq(k_0_sq_ue(r), v_sound_sq_ue(r), v_alfven_sq_ue(r), alpha_sq_ue(r))"
     ],
     "language": "python",
     "metadata": {},
     "outputs": [],
     "prompt_number": 148
    },
    {
     "cell_type": "code",
     "collapsed": false,
     "input": [
      "omega_f_sq_func"
     ],
     "language": "python",
     "metadata": {},
     "outputs": [
      {
       "latex": [
        "$$0.5 \\left(\\left(- \\alpha^{2}{\\left (r \\right )} + 1\\right)^{0.5} + 1\\right) \\left(\\operatorname{v^{2}_{a}}{\\left (r \\right )} + \\operatorname{v^{2}_{s}}{\\left (r \\right )}\\right) \\operatorname{k^{2}_{0}}{\\left (r \\right )} \\operatorname{v^{2}_{s}}{\\left (r \\right )}$$"
       ],
       "metadata": {},
       "output_type": "pyout",
       "png": "[encoded data removed]",
       "prompt_number": 149,
       "text": [
        "    \u239b            0.5    \u239e                                      \n",
        "0.5\u22c5\u239d(-\u03b1\u00b2(r) + 1)    + 1\u23a0\u22c5(v\u00b2\u2090(r) + v_s__2(r))\u22c5k\u00b2\u2080(r)\u22c5v_s__2(r)"
       ]
      }
     ],
     "prompt_number": 149
    },
    {
     "cell_type": "code",
     "collapsed": false,
     "input": [
      "omega_f_sq_ev"
     ],
     "language": "python",
     "metadata": {},
     "outputs": [
      {
       "latex": [
        "$$\\frac{0.5 \\gamma p{\\left (r \\right )}}{\\rho{\\left (r \\right )}} \\left(k^{2} + \\frac{m^{2}}{r^{2}}\\right) \\left(\\frac{\\gamma p{\\left (r \\right )}}{\\rho{\\left (r \\right )}} + \\frac{\\operatorname{B_{\\theta}}^{2}{\\left (r \\right )} + \\operatorname{B_{z}}^{2}{\\left (r \\right )}}{\\mu_{0} \\rho{\\left (r \\right )}}\\right) \\left(\\left(- \\frac{4 \\gamma \\left(k \\operatorname{B_{z}}{\\left (r \\right )} + \\frac{m}{r} \\operatorname{B_{\\theta}}{\\left (r \\right )}\\right)^{2} p{\\left (r \\right )}}{\\mu_{0} \\left(k^{2} + \\frac{m^{2}}{r^{2}}\\right) \\left(\\frac{\\gamma p{\\left (r \\right )}}{\\rho{\\left (r \\right )}} + \\frac{\\operatorname{B_{\\theta}}^{2}{\\left (r \\right )} + \\operatorname{B_{z}}^{2}{\\left (r \\right )}}{\\mu_{0} \\rho{\\left (r \\right )}}\\right)^{2} \\rho^{2}{\\left (r \\right )}} + 1\\right)^{0.5} + 1\\right)$$"
       ],
       "metadata": {},
       "output_type": "pyout",
       "png": "[encoded data removed]",
       "prompt_number": 60,
       "text": [
        "                                             \u239b                                \n",
        "                                             \u239c\u239b                               \n",
        "                                             \u239c\u239c              \u239b           m\u22c5B_\u03b8\n",
        "      \u239b      2\u239e \u239b            2         2   \u239e \u239c\u239c          4\u22c5\u03b3\u22c5\u239ck\u22c5B_z(r) + \u2500\u2500\u2500\u2500\u2500\n",
        "      \u239c 2   m \u239f \u239c\u03b3\u22c5p(r)   B_\u03b8 (r) + B_z (r)\u239f \u239c\u239c              \u239d              r \n",
        "0.5\u22c5\u03b3\u22c5\u239ck  + \u2500\u2500\u239f\u22c5\u239c\u2500\u2500\u2500\u2500\u2500\u2500 + \u2500\u2500\u2500\u2500\u2500\u2500\u2500\u2500\u2500\u2500\u2500\u2500\u2500\u2500\u2500\u2500\u2500\u239f\u22c5\u239c\u239c- \u2500\u2500\u2500\u2500\u2500\u2500\u2500\u2500\u2500\u2500\u2500\u2500\u2500\u2500\u2500\u2500\u2500\u2500\u2500\u2500\u2500\u2500\u2500\u2500\u2500\u2500\u2500\u2500\u2500\n",
        "      \u239c      2\u239f \u239d \u03c1(r)         \u03bc\u2080\u22c5\u03c1(r)     \u23a0 \u239c\u239c                               \n",
        "      \u239d     r \u23a0                              \u239c\u239c     \u239b      2\u239e \u239b            2  \n",
        "                                             \u239c\u239c     \u239c 2   m \u239f \u239c\u03b3\u22c5p(r)   B_\u03b8 (r\n",
        "                                             \u239c\u239c  \u03bc\u2080\u22c5\u239ck  + \u2500\u2500\u239f\u22c5\u239c\u2500\u2500\u2500\u2500\u2500\u2500 + \u2500\u2500\u2500\u2500\u2500\u2500\n",
        "                                             \u239c\u239c     \u239c      2\u239f \u239d \u03c1(r)         \u03bc\n",
        "                                             \u239d\u239d     \u239d     r \u23a0                 \n",
        "\u2500\u2500\u2500\u2500\u2500\u2500\u2500\u2500\u2500\u2500\u2500\u2500\u2500\u2500\u2500\u2500\u2500\u2500\u2500\u2500\u2500\u2500\u2500\u2500\u2500\u2500\u2500\u2500\u2500\u2500\u2500\u2500\u2500\u2500\u2500\u2500\u2500\u2500\u2500\u2500\u2500\u2500\u2500\u2500\u2500\u2500\u2500\u2500\u2500\u2500\u2500\u2500\u2500\u2500\u2500\u2500\u2500\u2500\u2500\u2500\u2500\u2500\u2500\u2500\u2500\u2500\u2500\u2500\u2500\u2500\u2500\u2500\u2500\u2500\u2500\u2500\u2500\u2500\n",
        "                                                        \u03c1(r)                  \n",
        "\n",
        "                        0.5    \u239e     \n",
        "    2                  \u239e       \u239f     \n",
        "(r)\u239e                   \u239f       \u239f     \n",
        "\u2500\u2500\u2500\u239f \u22c5p(r)             \u239f       \u239f     \n",
        "   \u23a0                   \u239f       \u239f     \n",
        "\u2500\u2500\u2500\u2500\u2500\u2500\u2500\u2500\u2500\u2500\u2500\u2500\u2500\u2500\u2500\u2500\u2500\u2500\u2500 + 1\u239f    + 1\u239f\u22c5p(r)\n",
        "            2          \u239f       \u239f     \n",
        "       2   \u239e           \u239f       \u239f     \n",
        ") + B_z (r)\u239f   2       \u239f       \u239f     \n",
        "\u2500\u2500\u2500\u2500\u2500\u2500\u2500\u2500\u2500\u2500\u2500\u239f \u22c5\u03c1 (r)    \u239f       \u239f     \n",
        "\u2080\u22c5\u03c1(r)     \u23a0           \u239f       \u239f     \n",
        "                       \u23a0       \u23a0     \n",
        "\u2500\u2500\u2500\u2500\u2500\u2500\u2500\u2500\u2500\u2500\u2500\u2500\u2500\u2500\u2500\u2500\u2500\u2500\u2500\u2500\u2500\u2500\u2500\u2500\u2500\u2500\u2500\u2500\u2500\u2500\u2500\u2500\u2500\u2500\u2500\u2500\u2500\n",
        "                                     "
       ]
      }
     ],
     "prompt_number": 60
    },
    {
     "cell_type": "code",
     "collapsed": false,
     "input": [
      "sp.diff(omega_f_sq_func,r)"
     ],
     "language": "python",
     "metadata": {},
     "outputs": [
      {
       "latex": [
        "$$0.5 \\left(\\left(- \\alpha^{2}{\\left (r \\right )} + 1\\right)^{0.5} + 1\\right) \\left(\\operatorname{v^{2}_{a}}{\\left (r \\right )} + \\operatorname{v^{2}_{s}}{\\left (r \\right )}\\right) \\operatorname{k^{2}_{0}}{\\left (r \\right )} \\frac{d}{d r} \\operatorname{v^{2}_{s}}{\\left (r \\right )} + 0.5 \\left(\\left(- \\alpha^{2}{\\left (r \\right )} + 1\\right)^{0.5} + 1\\right) \\left(\\operatorname{v^{2}_{a}}{\\left (r \\right )} + \\operatorname{v^{2}_{s}}{\\left (r \\right )}\\right) \\operatorname{v^{2}_{s}}{\\left (r \\right )} \\frac{d}{d r} \\operatorname{k^{2}_{0}}{\\left (r \\right )} + 0.5 \\left(\\left(- \\alpha^{2}{\\left (r \\right )} + 1\\right)^{0.5} + 1\\right) \\left(\\frac{d}{d r} \\operatorname{v^{2}_{a}}{\\left (r \\right )} + \\frac{d}{d r} \\operatorname{v^{2}_{s}}{\\left (r \\right )}\\right) \\operatorname{k^{2}_{0}}{\\left (r \\right )} \\operatorname{v^{2}_{s}}{\\left (r \\right )} - \\frac{0.25 \\operatorname{k^{2}_{0}}{\\left (r \\right )} \\frac{d}{d r} \\alpha^{2}{\\left (r \\right )}}{\\left(- \\alpha^{2}{\\left (r \\right )} + 1\\right)^{0.5}} \\left(\\operatorname{v^{2}_{a}}{\\left (r \\right )} + \\operatorname{v^{2}_{s}}{\\left (r \\right )}\\right) \\operatorname{v^{2}_{s}}{\\left (r \\right )}$$"
       ],
       "metadata": {},
       "output_type": "pyout",
       "png": "[encoded data removed]",
       "prompt_number": 150,
       "text": [
        "    \u239b            0.5    \u239e                             d                   \u239b   \n",
        "0.5\u22c5\u239d(-\u03b1\u00b2(r) + 1)    + 1\u23a0\u22c5(v\u00b2\u2090(r) + v_s__2(r))\u22c5k\u00b2\u2080(r)\u22c5\u2500\u2500(v_s__2(r)) + 0.5\u22c5\u239d(-\u03b1\n",
        "                                                      dr                      \n",
        "\n",
        "         0.5    \u239e                                d                \u239b           \n",
        "\u00b2(r) + 1)    + 1\u23a0\u22c5(v\u00b2\u2090(r) + v_s__2(r))\u22c5v_s__2(r)\u22c5\u2500\u2500(k\u00b2\u2080(r)) + 0.5\u22c5\u239d(-\u03b1\u00b2(r) + 1\n",
        "                                                 dr                           \n",
        "\n",
        " 0.5    \u239e \u239bd            d            \u239e                                     -0.\n",
        ")    + 1\u23a0\u22c5\u239c\u2500\u2500(v\u00b2\u2090(r)) + \u2500\u2500(v_s__2(r))\u239f\u22c5k\u00b2\u2080(r)\u22c5v_s__2(r) - 0.25\u22c5(-\u03b1\u00b2(r) + 1)   \n",
        "          \u239ddr           dr           \u23a0                                        \n",
        "\n",
        "5                                       d        \n",
        " \u22c5(v\u00b2\u2090(r) + v_s__2(r))\u22c5k\u00b2\u2080(r)\u22c5v_s__2(r)\u22c5\u2500\u2500(\u03b1\u00b2(r))\n",
        "                                        dr       "
       ]
      }
     ],
     "prompt_number": 150
    },
    {
     "cell_type": "heading",
     "level": 2,
     "metadata": {},
     "source": [
      "Define $\\omega_{s}^{2}$"
     ]
    },
    {
     "cell_type": "code",
     "collapsed": false,
     "input": [
      "class omega_s_sq(sp.Function):\n",
      "    nargs = 4\n",
      "    \n",
      "    @classmethod\n",
      "    def eval(cls, k_0_sq, v_sound_sq, v_alfven_sq, alpha_sq):\n",
      "        return 0.5*v_sound_sq*(k_0_sq*(v_sound_sq + v_alfven_sq))*(1 - (1 - alpha_sq)**0.5)"
     ],
     "language": "python",
     "metadata": {},
     "outputs": [],
     "prompt_number": 53
    },
    {
     "cell_type": "code",
     "collapsed": false,
     "input": [
      "omega_s_sq_ev = omega_s_sq(k_0_sq(r, k, m), v_sound_sq(gamma, pressure(r), rho(r)), v_alfven_sq(b_z(r), b_theta(r), mu0, rho(r)), alpha_sq(k_0_sq(r, k, m), v_sound_sq(gamma, pressure(r), rho(r)), v_alfven_sq(b_z(r), b_theta(r), mu0, rho(r)), omega_a_sq(f(r, k, m, b_z(r), b_theta(r)), rho(r), mu0)))"
     ],
     "language": "python",
     "metadata": {},
     "outputs": [],
     "prompt_number": 54
    },
    {
     "cell_type": "code",
     "collapsed": false,
     "input": [
      "omega_s_sq_func = omega_s_sq(k_0_sq_ue(r), v_sound_sq_ue(r), v_alfven_sq_ue(r), alpha_sq_ue(r))"
     ],
     "language": "python",
     "metadata": {},
     "outputs": [],
     "prompt_number": 152
    },
    {
     "cell_type": "code",
     "collapsed": false,
     "input": [
      "omega_s_sq_ev"
     ],
     "language": "python",
     "metadata": {},
     "outputs": [
      {
       "latex": [
        "$$\\frac{0.5 \\gamma p{\\left (r \\right )}}{\\rho{\\left (r \\right )}} \\left(k^{2} + \\frac{m^{2}}{r^{2}}\\right) \\left(\\frac{\\gamma p{\\left (r \\right )}}{\\rho{\\left (r \\right )}} + \\frac{\\operatorname{B_{\\theta}}^{2}{\\left (r \\right )} + \\operatorname{B_{z}}^{2}{\\left (r \\right )}}{\\mu_{0} \\rho{\\left (r \\right )}}\\right) \\left(- \\left(- \\frac{4 \\gamma \\left(k \\operatorname{B_{z}}{\\left (r \\right )} + \\frac{m}{r} \\operatorname{B_{\\theta}}{\\left (r \\right )}\\right)^{2} p{\\left (r \\right )}}{\\mu_{0} \\left(k^{2} + \\frac{m^{2}}{r^{2}}\\right) \\left(\\frac{\\gamma p{\\left (r \\right )}}{\\rho{\\left (r \\right )}} + \\frac{\\operatorname{B_{\\theta}}^{2}{\\left (r \\right )} + \\operatorname{B_{z}}^{2}{\\left (r \\right )}}{\\mu_{0} \\rho{\\left (r \\right )}}\\right)^{2} \\rho^{2}{\\left (r \\right )}} + 1\\right)^{0.5} + 1\\right)$$"
       ],
       "metadata": {},
       "output_type": "pyout",
       "png": "[encoded data removed]",
       "prompt_number": 56,
       "text": [
        "                                             \u239b                                \n",
        "                                             \u239c  \u239b                             \n",
        "                                             \u239c  \u239c              \u239b           m\u22c5B\n",
        "      \u239b      2\u239e \u239b            2         2   \u239e \u239c  \u239c          4\u22c5\u03b3\u22c5\u239ck\u22c5B_z(r) + \u2500\u2500\u2500\n",
        "      \u239c 2   m \u239f \u239c\u03b3\u22c5p(r)   B_\u03b8 (r) + B_z (r)\u239f \u239c  \u239c              \u239d              \n",
        "0.5\u22c5\u03b3\u22c5\u239ck  + \u2500\u2500\u239f\u22c5\u239c\u2500\u2500\u2500\u2500\u2500\u2500 + \u2500\u2500\u2500\u2500\u2500\u2500\u2500\u2500\u2500\u2500\u2500\u2500\u2500\u2500\u2500\u2500\u2500\u239f\u22c5\u239c- \u239c- \u2500\u2500\u2500\u2500\u2500\u2500\u2500\u2500\u2500\u2500\u2500\u2500\u2500\u2500\u2500\u2500\u2500\u2500\u2500\u2500\u2500\u2500\u2500\u2500\u2500\u2500\u2500\n",
        "      \u239c      2\u239f \u239d \u03c1(r)         \u03bc\u2080\u22c5\u03c1(r)     \u23a0 \u239c  \u239c                             \n",
        "      \u239d     r \u23a0                              \u239c  \u239c     \u239b      2\u239e \u239b            2\n",
        "                                             \u239c  \u239c     \u239c 2   m \u239f \u239c\u03b3\u22c5p(r)   B_\u03b8 \n",
        "                                             \u239c  \u239c  \u03bc\u2080\u22c5\u239ck  + \u2500\u2500\u239f\u22c5\u239c\u2500\u2500\u2500\u2500\u2500\u2500 + \u2500\u2500\u2500\u2500\n",
        "                                             \u239c  \u239c     \u239c      2\u239f \u239d \u03c1(r)        \n",
        "                                             \u239d  \u239d     \u239d     r \u23a0               \n",
        "\u2500\u2500\u2500\u2500\u2500\u2500\u2500\u2500\u2500\u2500\u2500\u2500\u2500\u2500\u2500\u2500\u2500\u2500\u2500\u2500\u2500\u2500\u2500\u2500\u2500\u2500\u2500\u2500\u2500\u2500\u2500\u2500\u2500\u2500\u2500\u2500\u2500\u2500\u2500\u2500\u2500\u2500\u2500\u2500\u2500\u2500\u2500\u2500\u2500\u2500\u2500\u2500\u2500\u2500\u2500\u2500\u2500\u2500\u2500\u2500\u2500\u2500\u2500\u2500\u2500\u2500\u2500\u2500\u2500\u2500\u2500\u2500\u2500\u2500\u2500\u2500\u2500\u2500\n",
        "                                                         \u03c1(r)                 \n",
        "\n",
        "                          0.5    \u239e     \n",
        "      2                  \u239e       \u239f     \n",
        "_\u03b8(r)\u239e                   \u239f       \u239f     \n",
        "\u2500\u2500\u2500\u2500\u2500\u239f \u22c5p(r)             \u239f       \u239f     \n",
        "r    \u23a0                   \u239f       \u239f     \n",
        "\u2500\u2500\u2500\u2500\u2500\u2500\u2500\u2500\u2500\u2500\u2500\u2500\u2500\u2500\u2500\u2500\u2500\u2500\u2500\u2500\u2500 + 1\u239f    + 1\u239f\u22c5p(r)\n",
        "              2          \u239f       \u239f     \n",
        "         2   \u239e           \u239f       \u239f     \n",
        "(r) + B_z (r)\u239f   2       \u239f       \u239f     \n",
        "\u2500\u2500\u2500\u2500\u2500\u2500\u2500\u2500\u2500\u2500\u2500\u2500\u2500\u239f \u22c5\u03c1 (r)    \u239f       \u239f     \n",
        " \u03bc\u2080\u22c5\u03c1(r)     \u23a0           \u239f       \u239f     \n",
        "                         \u23a0       \u23a0     \n",
        "\u2500\u2500\u2500\u2500\u2500\u2500\u2500\u2500\u2500\u2500\u2500\u2500\u2500\u2500\u2500\u2500\u2500\u2500\u2500\u2500\u2500\u2500\u2500\u2500\u2500\u2500\u2500\u2500\u2500\u2500\u2500\u2500\u2500\u2500\u2500\u2500\u2500\u2500\u2500\n",
        "                                       "
       ]
      }
     ],
     "prompt_number": 56
    },
    {
     "cell_type": "code",
     "collapsed": false,
     "input": [
      "sp.diff(omega_s_sq_func, r)"
     ],
     "language": "python",
     "metadata": {},
     "outputs": [
      {
       "latex": [
        "$$0.5 \\left(- \\left(- \\alpha^{2}{\\left (r \\right )} + 1\\right)^{0.5} + 1\\right) \\left(\\operatorname{v^{2}_{a}}{\\left (r \\right )} + \\operatorname{v^{2}_{s}}{\\left (r \\right )}\\right) \\operatorname{k^{2}_{0}}{\\left (r \\right )} \\frac{d}{d r} \\operatorname{v^{2}_{s}}{\\left (r \\right )} + 0.5 \\left(- \\left(- \\alpha^{2}{\\left (r \\right )} + 1\\right)^{0.5} + 1\\right) \\left(\\operatorname{v^{2}_{a}}{\\left (r \\right )} + \\operatorname{v^{2}_{s}}{\\left (r \\right )}\\right) \\operatorname{v^{2}_{s}}{\\left (r \\right )} \\frac{d}{d r} \\operatorname{k^{2}_{0}}{\\left (r \\right )} + 0.5 \\left(- \\left(- \\alpha^{2}{\\left (r \\right )} + 1\\right)^{0.5} + 1\\right) \\left(\\frac{d}{d r} \\operatorname{v^{2}_{a}}{\\left (r \\right )} + \\frac{d}{d r} \\operatorname{v^{2}_{s}}{\\left (r \\right )}\\right) \\operatorname{k^{2}_{0}}{\\left (r \\right )} \\operatorname{v^{2}_{s}}{\\left (r \\right )} + \\frac{0.25 \\operatorname{k^{2}_{0}}{\\left (r \\right )} \\frac{d}{d r} \\alpha^{2}{\\left (r \\right )}}{\\left(- \\alpha^{2}{\\left (r \\right )} + 1\\right)^{0.5}} \\left(\\operatorname{v^{2}_{a}}{\\left (r \\right )} + \\operatorname{v^{2}_{s}}{\\left (r \\right )}\\right) \\operatorname{v^{2}_{s}}{\\left (r \\right )}$$"
       ],
       "metadata": {},
       "output_type": "pyout",
       "png": "[encoded data removed]",
       "prompt_number": 153,
       "text": [
        "    \u239b              0.5    \u239e                             d                   \u239b \n",
        "0.5\u22c5\u239d- (-\u03b1\u00b2(r) + 1)    + 1\u23a0\u22c5(v\u00b2\u2090(r) + v_s__2(r))\u22c5k\u00b2\u2080(r)\u22c5\u2500\u2500(v_s__2(r)) + 0.5\u22c5\u239d-\n",
        "                                                        dr                    \n",
        "\n",
        "             0.5    \u239e                                d                \u239b       \n",
        " (-\u03b1\u00b2(r) + 1)    + 1\u23a0\u22c5(v\u00b2\u2090(r) + v_s__2(r))\u22c5v_s__2(r)\u22c5\u2500\u2500(k\u00b2\u2080(r)) + 0.5\u22c5\u239d- (-\u03b1\u00b2(\n",
        "                                                     dr                       \n",
        "\n",
        "       0.5    \u239e \u239bd            d            \u239e                                  \n",
        "r) + 1)    + 1\u23a0\u22c5\u239c\u2500\u2500(v\u00b2\u2090(r)) + \u2500\u2500(v_s__2(r))\u239f\u22c5k\u00b2\u2080(r)\u22c5v_s__2(r) + 0.25\u22c5(-\u03b1\u00b2(r) +\n",
        "                \u239ddr           dr           \u23a0                                  \n",
        "\n",
        "   -0.5                                       d        \n",
        " 1)    \u22c5(v\u00b2\u2090(r) + v_s__2(r))\u22c5k\u00b2\u2080(r)\u22c5v_s__2(r)\u22c5\u2500\u2500(\u03b1\u00b2(r))\n",
        "                                              dr       "
       ]
      }
     ],
     "prompt_number": 153
    },
    {
     "cell_type": "heading",
     "level": 2,
     "metadata": {},
     "source": [
      "Define 3rd term of C(r)"
     ]
    },
    {
     "cell_type": "code",
     "collapsed": false,
     "input": [
      "class c_term(sp.Function):\n",
      "    nargs = 12\n",
      "    \n",
      "    @classmethod\n",
      "    def eval(cls, r, k, g, omega_sq, k_0_sq, v_sound_sq, v_alfven_sq, omega_h_sq, omega_f_sq, omega_s_sq, b_theta, mu0):\n",
      "        return b_theta**2/(mu0*r**2)-2*k*g*b_theta/(mu0*r**2)*(v_sound_sq + v_alfven_sq)/(omega_sq - omega_f_sq) * (omega_sq - omega_h_sq) / (omega_sq - omega_s_sq)"
     ],
     "language": "python",
     "metadata": {},
     "outputs": [],
     "prompt_number": 61
    },
    {
     "cell_type": "code",
     "collapsed": false,
     "input": [
      "c_term_ev = c_term(r, k, g_ev, omega_sq, k_0_sq_ev, v_sound_sq_ev, v_alfven_sq_ev, omega_h_sq_ev, omega_f_sq_ev, omega_s_sq_ev, b_theta(r), mu0)"
     ],
     "language": "python",
     "metadata": {},
     "outputs": [],
     "prompt_number": 62
    },
    {
     "cell_type": "code",
     "collapsed": false,
     "input": [
      "c_term_func = c_term(r, k, g_ue(r), omega_sq, k_0_sq_ue(r), v_sound_sq_ue(r), v_alfven_sq_ue(r), omega_h_sq_ue(r), omega_f_sq_ue(r), omega_s_sq_ue(r), b_theta(r), mu0)"
     ],
     "language": "python",
     "metadata": {},
     "outputs": [],
     "prompt_number": 155
    },
    {
     "cell_type": "code",
     "collapsed": false,
     "input": [
      "c_term_func"
     ],
     "language": "python",
     "metadata": {},
     "outputs": [
      {
       "latex": [
        "$$- \\frac{2 k \\left(\\omega^{2} - \\omega^{2}_{h}{\\left (r \\right )}\\right) \\left(\\operatorname{v^{2}_{a}}{\\left (r \\right )} + \\operatorname{v^{2}_{s}}{\\left (r \\right )}\\right) \\operatorname{B_{\\theta}}{\\left (r \\right )} g{\\left (r \\right )}}{\\mu_{0} r^{2} \\left(\\omega^{2} - \\omega^{2}_{f}{\\left (r \\right )}\\right) \\left(\\omega^{2} - \\omega^{2}_{s}{\\left (r \\right )}\\right)} + \\frac{\\operatorname{B_{\\theta}}^{2}{\\left (r \\right )}}{\\mu_{0} r^{2}}$$"
       ],
       "metadata": {},
       "output_type": "pyout",
       "png": "[encoded data removed]",
       "prompt_number": 156,
       "text": [
        "                                                             2   \n",
        "  2\u22c5k\u22c5(\u03c9\u00b2 - \u03c9_h__2(r))\u22c5(v\u00b2\u2090(r) + v_s__2(r))\u22c5B_\u03b8(r)\u22c5g(r)   B_\u03b8 (r)\n",
        "- \u2500\u2500\u2500\u2500\u2500\u2500\u2500\u2500\u2500\u2500\u2500\u2500\u2500\u2500\u2500\u2500\u2500\u2500\u2500\u2500\u2500\u2500\u2500\u2500\u2500\u2500\u2500\u2500\u2500\u2500\u2500\u2500\u2500\u2500\u2500\u2500\u2500\u2500\u2500\u2500\u2500\u2500\u2500\u2500\u2500\u2500\u2500\u2500\u2500\u2500\u2500\u2500\u2500 + \u2500\u2500\u2500\u2500\u2500\u2500\u2500\n",
        "             2                                                 2 \n",
        "         \u03bc\u2080\u22c5r \u22c5(\u03c9\u00b2 - \u03c9_f__2(r))\u22c5(\u03c9\u00b2 - \u03c9_s__2(r))           \u03bc\u2080\u22c5r  "
       ]
      }
     ],
     "prompt_number": 156
    },
    {
     "cell_type": "code",
     "collapsed": false,
     "input": [
      "c_term_ev"
     ],
     "language": "python",
     "metadata": {},
     "outputs": [
      {
       "latex": [
        "$$- \\frac{2 k \\left(- k \\operatorname{B_{\\theta}}{\\left (r \\right )} + \\frac{m}{r} \\operatorname{B_{z}}{\\left (r \\right )}\\right) \\left(\\frac{\\gamma p{\\left (r \\right )}}{\\rho{\\left (r \\right )}} + \\frac{\\operatorname{B_{\\theta}}^{2}{\\left (r \\right )} + \\operatorname{B_{z}}^{2}{\\left (r \\right )}}{\\mu_{0} \\rho{\\left (r \\right )}}\\right) \\left(- \\frac{\\gamma \\left(k \\operatorname{B_{z}}{\\left (r \\right )} + \\frac{m}{r} \\operatorname{B_{\\theta}}{\\left (r \\right )}\\right)^{2} p{\\left (r \\right )}}{\\mu_{0} \\left(\\frac{\\gamma p{\\left (r \\right )}}{\\rho{\\left (r \\right )}} + \\frac{\\operatorname{B_{\\theta}}^{2}{\\left (r \\right )} + \\operatorname{B_{z}}^{2}{\\left (r \\right )}}{\\mu_{0} \\rho{\\left (r \\right )}}\\right) \\rho^{2}{\\left (r \\right )}} + \\omega^{2}\\right) \\operatorname{B_{\\theta}}{\\left (r \\right )}}{\\mu_{0} r^{2} \\left(- \\frac{0.5 \\gamma p{\\left (r \\right )}}{\\rho{\\left (r \\right )}} \\left(k^{2} + \\frac{m^{2}}{r^{2}}\\right) \\left(\\frac{\\gamma p{\\left (r \\right )}}{\\rho{\\left (r \\right )}} + \\frac{\\operatorname{B_{\\theta}}^{2}{\\left (r \\right )} + \\operatorname{B_{z}}^{2}{\\left (r \\right )}}{\\mu_{0} \\rho{\\left (r \\right )}}\\right) \\left(- \\left(- \\frac{4 \\gamma \\left(k \\operatorname{B_{z}}{\\left (r \\right )} + \\frac{m}{r} \\operatorname{B_{\\theta}}{\\left (r \\right )}\\right)^{2} p{\\left (r \\right )}}{\\mu_{0} \\left(k^{2} + \\frac{m^{2}}{r^{2}}\\right) \\left(\\frac{\\gamma p{\\left (r \\right )}}{\\rho{\\left (r \\right )}} + \\frac{\\operatorname{B_{\\theta}}^{2}{\\left (r \\right )} + \\operatorname{B_{z}}^{2}{\\left (r \\right )}}{\\mu_{0} \\rho{\\left (r \\right )}}\\right)^{2} \\rho^{2}{\\left (r \\right )}} + 1\\right)^{0.5} + 1\\right) + \\omega^{2}\\right) \\left(- \\frac{0.5 \\gamma p{\\left (r \\right )}}{\\rho{\\left (r \\right )}} \\left(k^{2} + \\frac{m^{2}}{r^{2}}\\right) \\left(\\frac{\\gamma p{\\left (r \\right )}}{\\rho{\\left (r \\right )}} + \\frac{\\operatorname{B_{\\theta}}^{2}{\\left (r \\right )} + \\operatorname{B_{z}}^{2}{\\left (r \\right )}}{\\mu_{0} \\rho{\\left (r \\right )}}\\right) \\left(\\left(- \\frac{4 \\gamma \\left(k \\operatorname{B_{z}}{\\left (r \\right )} + \\frac{m}{r} \\operatorname{B_{\\theta}}{\\left (r \\right )}\\right)^{2} p{\\left (r \\right )}}{\\mu_{0} \\left(k^{2} + \\frac{m^{2}}{r^{2}}\\right) \\left(\\frac{\\gamma p{\\left (r \\right )}}{\\rho{\\left (r \\right )}} + \\frac{\\operatorname{B_{\\theta}}^{2}{\\left (r \\right )} + \\operatorname{B_{z}}^{2}{\\left (r \\right )}}{\\mu_{0} \\rho{\\left (r \\right )}}\\right)^{2} \\rho^{2}{\\left (r \\right )}} + 1\\right)^{0.5} + 1\\right) + \\omega^{2}\\right)} + \\frac{\\operatorname{B_{\\theta}}^{2}{\\left (r \\right )}}{\\mu_{0} r^{2}}$$"
       ],
       "metadata": {},
       "output_type": "pyout",
       "png": "[encoded data removed]",
       "prompt_number": 77,
       "text": [
        "                                                                              \n",
        "                                                                              \n",
        "                                                                              \n",
        "                                                                              \n",
        "                                                                            2\u22c5\n",
        "                                                                              \n",
        "                                                                              \n",
        "                                                                              \n",
        "                                                                              \n",
        "- \u2500\u2500\u2500\u2500\u2500\u2500\u2500\u2500\u2500\u2500\u2500\u2500\u2500\u2500\u2500\u2500\u2500\u2500\u2500\u2500\u2500\u2500\u2500\u2500\u2500\u2500\u2500\u2500\u2500\u2500\u2500\u2500\u2500\u2500\u2500\u2500\u2500\u2500\u2500\u2500\u2500\u2500\u2500\u2500\u2500\u2500\u2500\u2500\u2500\u2500\u2500\u2500\u2500\u2500\u2500\u2500\u2500\u2500\u2500\u2500\u2500\u2500\u2500\u2500\u2500\u2500\u2500\u2500\u2500\u2500\u2500\u2500\u2500\u2500\u2500\u2500\n",
        "        \u239b                                               \u239b                     \n",
        "        \u239c                                               \u239c  \u239b                  \n",
        "        \u239c                                               \u239c  \u239c              \u239b   \n",
        "        \u239c        \u239b      2\u239e \u239b            2         2   \u239e \u239c  \u239c          4\u22c5\u03b3\u22c5\u239ck\u22c5B\n",
        "        \u239c        \u239c 2   m \u239f \u239c\u03b3\u22c5p(r)   B_\u03b8 (r) + B_z (r)\u239f \u239c  \u239c              \u239d   \n",
        "        \u239c  0.5\u22c5\u03b3\u22c5\u239ck  + \u2500\u2500\u239f\u22c5\u239c\u2500\u2500\u2500\u2500\u2500\u2500 + \u2500\u2500\u2500\u2500\u2500\u2500\u2500\u2500\u2500\u2500\u2500\u2500\u2500\u2500\u2500\u2500\u2500\u239f\u22c5\u239c- \u239c- \u2500\u2500\u2500\u2500\u2500\u2500\u2500\u2500\u2500\u2500\u2500\u2500\u2500\u2500\u2500\u2500\n",
        "        \u239c        \u239c      2\u239f \u239d \u03c1(r)         \u03bc\u2080\u22c5\u03c1(r)     \u23a0 \u239c  \u239c                  \n",
        "        \u239c        \u239d     r \u23a0                              \u239c  \u239c     \u239b      2\u239e \u239b  \n",
        "        \u239c                                               \u239c  \u239c     \u239c 2   m \u239f \u239c\u03b3\u22c5\n",
        "        \u239c                                               \u239c  \u239c  \u03bc\u2080\u22c5\u239ck  + \u2500\u2500\u239f\u22c5\u239c\u2500\u2500\n",
        "        \u239c                                               \u239c  \u239c     \u239c      2\u239f \u239d \u03c1\n",
        "      2 \u239c                                               \u239d  \u239d     \u239d     r \u23a0    \n",
        "  \u03bc\u2080\u22c5r \u22c5\u239c- \u2500\u2500\u2500\u2500\u2500\u2500\u2500\u2500\u2500\u2500\u2500\u2500\u2500\u2500\u2500\u2500\u2500\u2500\u2500\u2500\u2500\u2500\u2500\u2500\u2500\u2500\u2500\u2500\u2500\u2500\u2500\u2500\u2500\u2500\u2500\u2500\u2500\u2500\u2500\u2500\u2500\u2500\u2500\u2500\u2500\u2500\u2500\u2500\u2500\u2500\u2500\u2500\u2500\u2500\u2500\u2500\u2500\u2500\u2500\u2500\u2500\u2500\u2500\u2500\u2500\u2500\u2500\n",
        "        \u239d                                                           \u03c1(r)      \n",
        "\n",
        "                                                      \u239b                       \n",
        "                                                      \u239c        \u239b           m\u22c5B\n",
        "                         \u239b            2         2   \u239e \u239c      \u03b3\u22c5\u239ck\u22c5B_z(r) + \u2500\u2500\u2500\n",
        "  \u239b            m\u22c5B_z(r)\u239e \u239c\u03b3\u22c5p(r)   B_\u03b8 (r) + B_z (r)\u239f \u239c        \u239d              \n",
        "k\u22c5\u239c-k\u22c5B_\u03b8(r) + \u2500\u2500\u2500\u2500\u2500\u2500\u2500\u2500\u239f\u22c5\u239c\u2500\u2500\u2500\u2500\u2500\u2500 + \u2500\u2500\u2500\u2500\u2500\u2500\u2500\u2500\u2500\u2500\u2500\u2500\u2500\u2500\u2500\u2500\u2500\u239f\u22c5\u239c- \u2500\u2500\u2500\u2500\u2500\u2500\u2500\u2500\u2500\u2500\u2500\u2500\u2500\u2500\u2500\u2500\u2500\u2500\u2500\u2500\u2500\n",
        "  \u239d               r    \u23a0 \u239d \u03c1(r)         \u03bc\u2080\u22c5\u03c1(r)     \u23a0 \u239c     \u239b            2    \n",
        "                                                      \u239c     \u239c\u03b3\u22c5p(r)   B_\u03b8 (r) \n",
        "                                                      \u239c  \u03bc\u2080\u22c5\u239c\u2500\u2500\u2500\u2500\u2500\u2500 + \u2500\u2500\u2500\u2500\u2500\u2500\u2500\u2500\n",
        "                                                      \u239d     \u239d \u03c1(r)         \u03bc\u2080\u22c5\n",
        "\u2500\u2500\u2500\u2500\u2500\u2500\u2500\u2500\u2500\u2500\u2500\u2500\u2500\u2500\u2500\u2500\u2500\u2500\u2500\u2500\u2500\u2500\u2500\u2500\u2500\u2500\u2500\u2500\u2500\u2500\u2500\u2500\u2500\u2500\u2500\u2500\u2500\u2500\u2500\u2500\u2500\u2500\u2500\u2500\u2500\u2500\u2500\u2500\u2500\u2500\u2500\u2500\u2500\u2500\u2500\u2500\u2500\u2500\u2500\u2500\u2500\u2500\u2500\u2500\u2500\u2500\u2500\u2500\u2500\u2500\u2500\u2500\u2500\u2500\u2500\u2500\u2500\u2500\n",
        "                                     0.5    \u239e          \u239e \u239b                    \n",
        "                 2                  \u239e       \u239f          \u239f \u239c                    \n",
        "        m\u22c5B_\u03b8(r)\u239e                   \u239f       \u239f          \u239f \u239c                    \n",
        "_z(r) + \u2500\u2500\u2500\u2500\u2500\u2500\u2500\u2500\u239f \u22c5p(r)             \u239f       \u239f          \u239f \u239c        \u239b      2\u239e \u239b \n",
        "           r    \u23a0                   \u239f       \u239f          \u239f \u239c        \u239c 2   m \u239f \u239c\u03b3\n",
        "\u2500\u2500\u2500\u2500\u2500\u2500\u2500\u2500\u2500\u2500\u2500\u2500\u2500\u2500\u2500\u2500\u2500\u2500\u2500\u2500\u2500\u2500\u2500\u2500\u2500\u2500\u2500\u2500\u2500\u2500\u2500\u2500 + 1\u239f    + 1\u239f\u22c5p(r)     \u239f \u239c  0.5\u22c5\u03b3\u22c5\u239ck  + \u2500\u2500\u239f\u22c5\u239c\u2500\n",
        "                         2          \u239f       \u239f          \u239f \u239c        \u239c      2\u239f \u239d \n",
        "          2         2   \u239e           \u239f       \u239f          \u239f \u239c        \u239d     r \u23a0   \n",
        "p(r)   B_\u03b8 (r) + B_z (r)\u239f   2       \u239f       \u239f          \u239f \u239c                    \n",
        "\u2500\u2500\u2500\u2500 + \u2500\u2500\u2500\u2500\u2500\u2500\u2500\u2500\u2500\u2500\u2500\u2500\u2500\u2500\u2500\u2500\u2500\u239f \u22c5\u03c1 (r)    \u239f       \u239f          \u239f \u239c                    \n",
        "(r)         \u03bc\u2080\u22c5\u03c1(r)     \u23a0           \u239f       \u239f          \u239f \u239c                    \n",
        "                                    \u23a0       \u23a0          \u239f \u239c                    \n",
        "\u2500\u2500\u2500\u2500\u2500\u2500\u2500\u2500\u2500\u2500\u2500\u2500\u2500\u2500\u2500\u2500\u2500\u2500\u2500\u2500\u2500\u2500\u2500\u2500\u2500\u2500\u2500\u2500\u2500\u2500\u2500\u2500\u2500\u2500\u2500\u2500\u2500\u2500\u2500\u2500\u2500\u2500\u2500\u2500\u2500\u2500\u2500\u2500\u2500\u2500 + \u03c9\u00b2\u239f\u22c5\u239c- \u2500\u2500\u2500\u2500\u2500\u2500\u2500\u2500\u2500\u2500\u2500\u2500\u2500\u2500\u2500\u2500\u2500\u2500\n",
        "                                                       \u23a0 \u239d                    \n",
        "\n",
        "      2              \u239e                                                        \n",
        "_\u03b8(r)\u239e               \u239f                                                        \n",
        "\u2500\u2500\u2500\u2500\u2500\u239f \u22c5p(r)         \u239f                                                        \n",
        "r    \u23a0               \u239f                                                        \n",
        "\u2500\u2500\u2500\u2500\u2500\u2500\u2500\u2500\u2500\u2500\u2500\u2500\u2500\u2500\u2500\u2500 + \u03c9\u00b2\u239f\u22c5B_\u03b8(r)                                                 \n",
        "     2   \u239e           \u239f                                                        \n",
        "+ B_z (r)\u239f  2        \u239f                                                        \n",
        "\u2500\u2500\u2500\u2500\u2500\u2500\u2500\u2500\u2500\u239f\u22c5\u03c1 (r)     \u239f                                                        \n",
        "\u03c1(r)     \u23a0           \u23a0                                                        \n",
        "\u2500\u2500\u2500\u2500\u2500\u2500\u2500\u2500\u2500\u2500\u2500\u2500\u2500\u2500\u2500\u2500\u2500\u2500\u2500\u2500\u2500\u2500\u2500\u2500\u2500\u2500\u2500\u2500\u2500\u2500\u2500\u2500\u2500\u2500\u2500\u2500\u2500\u2500\u2500\u2500\u2500\u2500\u2500\u2500\u2500\u2500\u2500\u2500\u2500\u2500\u2500\u2500\u2500\u2500\u2500\u2500\u2500\u2500\u2500\u2500\u2500\u2500\u2500\u2500\u2500\u2500\u2500\u2500\u2500\u2500\u2500\u2500\u2500\u2500\u2500\u2500\u2500\u2500\n",
        "                           \u239b                                                  \n",
        "                           \u239c\u239b                                   2             \n",
        "                           \u239c\u239c              \u239b           m\u22c5B_\u03b8(r)\u239e              \n",
        "           2         2   \u239e \u239c\u239c          4\u22c5\u03b3\u22c5\u239ck\u22c5B_z(r) + \u2500\u2500\u2500\u2500\u2500\u2500\u2500\u2500\u239f \u22c5p(r)        \n",
        "\u22c5p(r)   B_\u03b8 (r) + B_z (r)\u239f \u239c\u239c              \u239d              r    \u23a0              \n",
        "\u2500\u2500\u2500\u2500\u2500 + \u2500\u2500\u2500\u2500\u2500\u2500\u2500\u2500\u2500\u2500\u2500\u2500\u2500\u2500\u2500\u2500\u2500\u239f\u22c5\u239c\u239c- \u2500\u2500\u2500\u2500\u2500\u2500\u2500\u2500\u2500\u2500\u2500\u2500\u2500\u2500\u2500\u2500\u2500\u2500\u2500\u2500\u2500\u2500\u2500\u2500\u2500\u2500\u2500\u2500\u2500\u2500\u2500\u2500\u2500\u2500\u2500\u2500\u2500\u2500\u2500\u2500\u2500\u2500\u2500\u2500\u2500\u2500\u2500\n",
        "\u03c1(r)         \u03bc\u2080\u22c5\u03c1(r)     \u23a0 \u239c\u239c                                           2     \n",
        "                           \u239c\u239c     \u239b      2\u239e \u239b            2         2   \u239e      \n",
        "                           \u239c\u239c     \u239c 2   m \u239f \u239c\u03b3\u22c5p(r)   B_\u03b8 (r) + B_z (r)\u239f   2  \n",
        "                           \u239c\u239c  \u03bc\u2080\u22c5\u239ck  + \u2500\u2500\u239f\u22c5\u239c\u2500\u2500\u2500\u2500\u2500\u2500 + \u2500\u2500\u2500\u2500\u2500\u2500\u2500\u2500\u2500\u2500\u2500\u2500\u2500\u2500\u2500\u2500\u2500\u239f \u22c5\u03c1 (r\n",
        "                           \u239c\u239c     \u239c      2\u239f \u239d \u03c1(r)         \u03bc\u2080\u22c5\u03c1(r)     \u23a0      \n",
        "                           \u239d\u239d     \u239d     r \u23a0                                   \n",
        "\u2500\u2500\u2500\u2500\u2500\u2500\u2500\u2500\u2500\u2500\u2500\u2500\u2500\u2500\u2500\u2500\u2500\u2500\u2500\u2500\u2500\u2500\u2500\u2500\u2500\u2500\u2500\u2500\u2500\u2500\u2500\u2500\u2500\u2500\u2500\u2500\u2500\u2500\u2500\u2500\u2500\u2500\u2500\u2500\u2500\u2500\u2500\u2500\u2500\u2500\u2500\u2500\u2500\u2500\u2500\u2500\u2500\u2500\u2500\u2500\u2500\u2500\u2500\u2500\u2500\u2500\u2500\u2500\u2500\u2500\u2500\u2500\u2500\u2500\u2500\u2500\u2500\u2500\n",
        "                                      \u03c1(r)                                    \n",
        "\n",
        "                                   \n",
        "                                   \n",
        "                                   \n",
        "                                   \n",
        "                                   \n",
        "                                   \n",
        "                                   \n",
        "                               2   \n",
        "                            B_\u03b8 (r)\n",
        "\u2500\u2500\u2500\u2500\u2500\u2500\u2500\u2500\u2500\u2500\u2500\u2500\u2500\u2500\u2500\u2500\u2500\u2500\u2500\u2500\u2500\u2500\u2500\u2500\u2500 + \u2500\u2500\u2500\u2500\u2500\u2500\u2500\n",
        "      0.5    \u239e          \u239e        2 \n",
        "     \u239e       \u239f          \u239f    \u03bc\u2080\u22c5r  \n",
        "     \u239f       \u239f          \u239f          \n",
        "     \u239f       \u239f          \u239f          \n",
        "     \u239f       \u239f          \u239f          \n",
        "\u2500 + 1\u239f    + 1\u239f\u22c5p(r)     \u239f          \n",
        "     \u239f       \u239f          \u239f          \n",
        "     \u239f       \u239f          \u239f          \n",
        "     \u239f       \u239f          \u239f          \n",
        ")    \u239f       \u239f          \u239f          \n",
        "     \u239f       \u239f          \u239f          \n",
        "     \u23a0       \u23a0          \u239f          \n",
        "\u2500\u2500\u2500\u2500\u2500\u2500\u2500\u2500\u2500\u2500\u2500\u2500\u2500\u2500\u2500\u2500\u2500\u2500\u2500 + \u03c9\u00b2\u239f          \n",
        "                        \u23a0          "
       ]
      }
     ],
     "prompt_number": 77
    },
    {
     "cell_type": "code",
     "collapsed": false,
     "input": [
      "sp.diff(c_term_func,r)"
     ],
     "language": "python",
     "metadata": {},
     "outputs": [
      {
       "latex": [
        "$$- \\frac{2 k \\left(\\omega^{2} - \\omega^{2}_{h}{\\left (r \\right )}\\right) \\left(\\operatorname{v^{2}_{a}}{\\left (r \\right )} + \\operatorname{v^{2}_{s}}{\\left (r \\right )}\\right) \\operatorname{B_{\\theta}}{\\left (r \\right )} \\frac{d}{d r} g{\\left (r \\right )}}{\\mu_{0} r^{2} \\left(\\omega^{2} - \\omega^{2}_{f}{\\left (r \\right )}\\right) \\left(\\omega^{2} - \\omega^{2}_{s}{\\left (r \\right )}\\right)} - \\frac{2 k \\left(\\omega^{2} - \\omega^{2}_{h}{\\left (r \\right )}\\right) \\left(\\operatorname{v^{2}_{a}}{\\left (r \\right )} + \\operatorname{v^{2}_{s}}{\\left (r \\right )}\\right) g{\\left (r \\right )} \\frac{d}{d r} \\operatorname{B_{\\theta}}{\\left (r \\right )}}{\\mu_{0} r^{2} \\left(\\omega^{2} - \\omega^{2}_{f}{\\left (r \\right )}\\right) \\left(\\omega^{2} - \\omega^{2}_{s}{\\left (r \\right )}\\right)} - \\frac{2 k \\operatorname{B_{\\theta}}{\\left (r \\right )} g{\\left (r \\right )}}{\\mu_{0} r^{2} \\left(\\omega^{2} - \\omega^{2}_{f}{\\left (r \\right )}\\right) \\left(\\omega^{2} - \\omega^{2}_{s}{\\left (r \\right )}\\right)} \\left(\\omega^{2} - \\omega^{2}_{h}{\\left (r \\right )}\\right) \\left(\\frac{d}{d r} \\operatorname{v^{2}_{a}}{\\left (r \\right )} + \\frac{d}{d r} \\operatorname{v^{2}_{s}}{\\left (r \\right )}\\right) - \\frac{2 k \\operatorname{B_{\\theta}}{\\left (r \\right )} g{\\left (r \\right )} \\frac{d}{d r} \\omega^{2}_{s}{\\left (r \\right )}}{\\mu_{0} r^{2} \\left(\\omega^{2} - \\omega^{2}_{f}{\\left (r \\right )}\\right) \\left(\\omega^{2} - \\omega^{2}_{s}{\\left (r \\right )}\\right)^{2}} \\left(\\omega^{2} - \\omega^{2}_{h}{\\left (r \\right )}\\right) \\left(\\operatorname{v^{2}_{a}}{\\left (r \\right )} + \\operatorname{v^{2}_{s}}{\\left (r \\right )}\\right) + \\frac{2 k \\left(\\operatorname{v^{2}_{a}}{\\left (r \\right )} + \\operatorname{v^{2}_{s}}{\\left (r \\right )}\\right) \\operatorname{B_{\\theta}}{\\left (r \\right )} g{\\left (r \\right )} \\frac{d}{d r} \\omega^{2}_{h}{\\left (r \\right )}}{\\mu_{0} r^{2} \\left(\\omega^{2} - \\omega^{2}_{f}{\\left (r \\right )}\\right) \\left(\\omega^{2} - \\omega^{2}_{s}{\\left (r \\right )}\\right)} - \\frac{2 k \\operatorname{B_{\\theta}}{\\left (r \\right )} g{\\left (r \\right )} \\frac{d}{d r} \\omega^{2}_{f}{\\left (r \\right )}}{\\mu_{0} r^{2} \\left(\\omega^{2} - \\omega^{2}_{f}{\\left (r \\right )}\\right)^{2} \\left(\\omega^{2} - \\omega^{2}_{s}{\\left (r \\right )}\\right)} \\left(\\omega^{2} - \\omega^{2}_{h}{\\left (r \\right )}\\right) \\left(\\operatorname{v^{2}_{a}}{\\left (r \\right )} + \\operatorname{v^{2}_{s}}{\\left (r \\right )}\\right) + \\frac{4 k \\left(\\omega^{2} - \\omega^{2}_{h}{\\left (r \\right )}\\right) \\left(\\operatorname{v^{2}_{a}}{\\left (r \\right )} + \\operatorname{v^{2}_{s}}{\\left (r \\right )}\\right) \\operatorname{B_{\\theta}}{\\left (r \\right )} g{\\left (r \\right )}}{\\mu_{0} r^{3} \\left(\\omega^{2} - \\omega^{2}_{f}{\\left (r \\right )}\\right) \\left(\\omega^{2} - \\omega^{2}_{s}{\\left (r \\right )}\\right)} + \\frac{2}{\\mu_{0} r^{2}} \\operatorname{B_{\\theta}}{\\left (r \\right )} \\frac{d}{d r} \\operatorname{B_{\\theta}}{\\left (r \\right )} - \\frac{2}{\\mu_{0} r^{3}} \\operatorname{B_{\\theta}}^{2}{\\left (r \\right )}$$"
       ],
       "metadata": {},
       "output_type": "pyout",
       "png": "[encoded data removed]",
       "prompt_number": 157,
       "text": [
        "                                                   d                          \n",
        "  2\u22c5k\u22c5(\u03c9\u00b2 - \u03c9_h__2(r))\u22c5(v\u00b2\u2090(r) + v_s__2(r))\u22c5B_\u03b8(r)\u22c5\u2500\u2500(g(r))   2\u22c5k\u22c5(\u03c9\u00b2 - \u03c9_h__2\n",
        "                                                   dr                         \n",
        "- \u2500\u2500\u2500\u2500\u2500\u2500\u2500\u2500\u2500\u2500\u2500\u2500\u2500\u2500\u2500\u2500\u2500\u2500\u2500\u2500\u2500\u2500\u2500\u2500\u2500\u2500\u2500\u2500\u2500\u2500\u2500\u2500\u2500\u2500\u2500\u2500\u2500\u2500\u2500\u2500\u2500\u2500\u2500\u2500\u2500\u2500\u2500\u2500\u2500\u2500\u2500\u2500\u2500\u2500\u2500\u2500\u2500 - \u2500\u2500\u2500\u2500\u2500\u2500\u2500\u2500\u2500\u2500\u2500\u2500\u2500\u2500\u2500\u2500\n",
        "               2                                                           2  \n",
        "           \u03bc\u2080\u22c5r \u22c5(\u03c9\u00b2 - \u03c9_f__2(r))\u22c5(\u03c9\u00b2 - \u03c9_s__2(r))                     \u03bc\u2080\u22c5r \u22c5(\n",
        "\n",
        "                               d                                 \u239bd           \n",
        "(r))\u22c5(v\u00b2\u2090(r) + v_s__2(r))\u22c5g(r)\u22c5\u2500\u2500(B_\u03b8(r))   2\u22c5k\u22c5(\u03c9\u00b2 - \u03c9_h__2(r))\u22c5\u239c\u2500\u2500(v\u00b2\u2090(r)) +\n",
        "                               dr                                \u239ddr          \n",
        "\u2500\u2500\u2500\u2500\u2500\u2500\u2500\u2500\u2500\u2500\u2500\u2500\u2500\u2500\u2500\u2500\u2500\u2500\u2500\u2500\u2500\u2500\u2500\u2500\u2500\u2500\u2500\u2500\u2500\u2500\u2500\u2500\u2500\u2500\u2500\u2500\u2500\u2500\u2500\u2500\u2500 - \u2500\u2500\u2500\u2500\u2500\u2500\u2500\u2500\u2500\u2500\u2500\u2500\u2500\u2500\u2500\u2500\u2500\u2500\u2500\u2500\u2500\u2500\u2500\u2500\u2500\u2500\u2500\u2500\u2500\u2500\u2500\u2500\u2500\u2500\n",
        "                                                           2                  \n",
        "\u03c9\u00b2 - \u03c9_f__2(r))\u22c5(\u03c9\u00b2 - \u03c9_s__2(r))                       \u03bc\u2080\u22c5r \u22c5(\u03c9\u00b2 - \u03c9_f__2(r))\u22c5\n",
        "\n",
        " d            \u239e                                                               \n",
        " \u2500\u2500(v_s__2(r))\u239f\u22c5B_\u03b8(r)\u22c5g(r)   2\u22c5k\u22c5(\u03c9\u00b2 - \u03c9_h__2(r))\u22c5(v\u00b2\u2090(r) + v_s__2(r))\u22c5B_\u03b8(r)\n",
        " dr           \u23a0                                                               \n",
        "\u2500\u2500\u2500\u2500\u2500\u2500\u2500\u2500\u2500\u2500\u2500\u2500\u2500\u2500\u2500\u2500\u2500\u2500\u2500\u2500\u2500\u2500\u2500\u2500\u2500\u2500\u2500 - \u2500\u2500\u2500\u2500\u2500\u2500\u2500\u2500\u2500\u2500\u2500\u2500\u2500\u2500\u2500\u2500\u2500\u2500\u2500\u2500\u2500\u2500\u2500\u2500\u2500\u2500\u2500\u2500\u2500\u2500\u2500\u2500\u2500\u2500\u2500\u2500\u2500\u2500\u2500\u2500\u2500\u2500\u2500\u2500\u2500\u2500\u2500\u2500\n",
        "                                                2                             \n",
        "(\u03c9\u00b2 - \u03c9_s__2(r))                            \u03bc\u2080\u22c5r \u22c5(\u03c9\u00b2 - \u03c9_f__2(r))\u22c5(\u03c9\u00b2 - \u03c9_s__\n",
        "\n",
        "      d                                                    d                  \n",
        "\u22c5g(r)\u22c5\u2500\u2500(\u03c9_s__2(r))   2\u22c5k\u22c5(v\u00b2\u2090(r) + v_s__2(r))\u22c5B_\u03b8(r)\u22c5g(r)\u22c5\u2500\u2500(\u03c9_h__2(r))   2\u22c5k\n",
        "      dr                                                   dr                 \n",
        "\u2500\u2500\u2500\u2500\u2500\u2500\u2500\u2500\u2500\u2500\u2500\u2500\u2500\u2500\u2500\u2500\u2500\u2500\u2500 + \u2500\u2500\u2500\u2500\u2500\u2500\u2500\u2500\u2500\u2500\u2500\u2500\u2500\u2500\u2500\u2500\u2500\u2500\u2500\u2500\u2500\u2500\u2500\u2500\u2500\u2500\u2500\u2500\u2500\u2500\u2500\u2500\u2500\u2500\u2500\u2500\u2500\u2500\u2500\u2500\u2500\u2500\u2500\u2500\u2500\u2500\u2500\u2500\u2500\u2500 - \u2500\u2500\u2500\n",
        "     2                         2                                              \n",
        "2(r))                      \u03bc\u2080\u22c5r \u22c5(\u03c9\u00b2 - \u03c9_f__2(r))\u22c5(\u03c9\u00b2 - \u03c9_s__2(r))            \n",
        "\n",
        "                                                   d                          \n",
        "\u22c5(\u03c9\u00b2 - \u03c9_h__2(r))\u22c5(v\u00b2\u2090(r) + v_s__2(r))\u22c5B_\u03b8(r)\u22c5g(r)\u22c5\u2500\u2500(\u03c9_f__2(r))              \n",
        "                                                   dr              4\u22c5k\u22c5(\u03c9\u00b2 - \u03c9\n",
        "\u2500\u2500\u2500\u2500\u2500\u2500\u2500\u2500\u2500\u2500\u2500\u2500\u2500\u2500\u2500\u2500\u2500\u2500\u2500\u2500\u2500\u2500\u2500\u2500\u2500\u2500\u2500\u2500\u2500\u2500\u2500\u2500\u2500\u2500\u2500\u2500\u2500\u2500\u2500\u2500\u2500\u2500\u2500\u2500\u2500\u2500\u2500\u2500\u2500\u2500\u2500\u2500\u2500\u2500\u2500\u2500\u2500\u2500\u2500\u2500\u2500\u2500\u2500\u2500 + \u2500\u2500\u2500\u2500\u2500\u2500\u2500\u2500\u2500\u2500\u2500\n",
        "               2                 2                                            \n",
        "           \u03bc\u2080\u22c5r \u22c5(\u03c9\u00b2 - \u03c9_f__2(r)) \u22c5(\u03c9\u00b2 - \u03c9_s__2(r))                       \u03bc\u2080\u22c5r\n",
        "\n",
        "                                                      d                     \n",
        "                                             2\u22c5B_\u03b8(r)\u22c5\u2500\u2500(B_\u03b8(r))        2   \n",
        "_h__2(r))\u22c5(v\u00b2\u2090(r) + v_s__2(r))\u22c5B_\u03b8(r)\u22c5g(r)            dr           2\u22c5B_\u03b8 (r)\n",
        "\u2500\u2500\u2500\u2500\u2500\u2500\u2500\u2500\u2500\u2500\u2500\u2500\u2500\u2500\u2500\u2500\u2500\u2500\u2500\u2500\u2500\u2500\u2500\u2500\u2500\u2500\u2500\u2500\u2500\u2500\u2500\u2500\u2500\u2500\u2500\u2500\u2500\u2500\u2500\u2500\u2500\u2500 + \u2500\u2500\u2500\u2500\u2500\u2500\u2500\u2500\u2500\u2500\u2500\u2500\u2500\u2500\u2500\u2500\u2500\u2500\u2500 - \u2500\u2500\u2500\u2500\u2500\u2500\u2500\u2500\u2500\n",
        "3                                                       2                3  \n",
        " \u22c5(\u03c9\u00b2 - \u03c9_f__2(r))\u22c5(\u03c9\u00b2 - \u03c9_s__2(r))                 \u03bc\u2080\u22c5r             \u03bc\u2080\u22c5r   "
       ]
      }
     ],
     "prompt_number": 157
    },
    {
     "cell_type": "code",
     "collapsed": false,
     "input": [
      "f_func.subs([(r,3),(m,4),(b_theta, b_test)])"
     ],
     "language": "python",
     "metadata": {},
     "outputs": [
      {
       "ename": "SympifyError",
       "evalue": "Sympify of expression 'could not parse u'<function <lambda> at 0x0000000005ED4278>'' failed, because of exception being raised:\nSyntaxError: invalid syntax (<string>, line 1)",
       "output_type": "pyerr",
       "traceback": [
        "\u001b[1;31m---------------------------------------------------------------------------\u001b[0m\n\u001b[1;31mSympifyError\u001b[0m                              Traceback (most recent call last)",
        "\u001b[1;32m<ipython-input-165-ebebe7c7b5ef>\u001b[0m in \u001b[0;36m<module>\u001b[1;34m()\u001b[0m\n\u001b[1;32m----> 1\u001b[1;33m \u001b[0mf_func\u001b[0m\u001b[1;33m.\u001b[0m\u001b[0msubs\u001b[0m\u001b[1;33m(\u001b[0m\u001b[1;33m[\u001b[0m\u001b[1;33m(\u001b[0m\u001b[0mr\u001b[0m\u001b[1;33m,\u001b[0m\u001b[1;36m3\u001b[0m\u001b[1;33m)\u001b[0m\u001b[1;33m,\u001b[0m\u001b[1;33m(\u001b[0m\u001b[0mm\u001b[0m\u001b[1;33m,\u001b[0m\u001b[1;36m4\u001b[0m\u001b[1;33m)\u001b[0m\u001b[1;33m,\u001b[0m\u001b[1;33m(\u001b[0m\u001b[0mb_theta\u001b[0m\u001b[1;33m,\u001b[0m \u001b[0mb_test\u001b[0m\u001b[1;33m)\u001b[0m\u001b[1;33m]\u001b[0m\u001b[1;33m)\u001b[0m\u001b[1;33m\u001b[0m\u001b[0m\n\u001b[0m",
        "\u001b[1;32mc:\\Anaconda\\lib\\site-packages\\sympy\\core\\basic.pyc\u001b[0m in \u001b[0;36msubs\u001b[1;34m(self, *args, **kwargs)\u001b[0m\n\u001b[0;32m    930\u001b[0m         \u001b[1;32mfor\u001b[0m \u001b[0mi\u001b[0m \u001b[1;32min\u001b[0m \u001b[0mrange\u001b[0m\u001b[1;33m(\u001b[0m\u001b[0mlen\u001b[0m\u001b[1;33m(\u001b[0m\u001b[0msequence\u001b[0m\u001b[1;33m)\u001b[0m\u001b[1;33m)\u001b[0m\u001b[1;33m:\u001b[0m\u001b[1;33m\u001b[0m\u001b[0m\n\u001b[0;32m    931\u001b[0m             \u001b[0mo\u001b[0m\u001b[1;33m,\u001b[0m \u001b[0mn\u001b[0m \u001b[1;33m=\u001b[0m \u001b[0msequence\u001b[0m\u001b[1;33m[\u001b[0m\u001b[0mi\u001b[0m\u001b[1;33m]\u001b[0m\u001b[1;33m\u001b[0m\u001b[0m\n\u001b[1;32m--> 932\u001b[1;33m             \u001b[0mso\u001b[0m\u001b[1;33m,\u001b[0m \u001b[0msn\u001b[0m \u001b[1;33m=\u001b[0m \u001b[0msympify\u001b[0m\u001b[1;33m(\u001b[0m\u001b[0mo\u001b[0m\u001b[1;33m)\u001b[0m\u001b[1;33m,\u001b[0m \u001b[0msympify\u001b[0m\u001b[1;33m(\u001b[0m\u001b[0mn\u001b[0m\u001b[1;33m)\u001b[0m\u001b[1;33m\u001b[0m\u001b[0m\n\u001b[0m\u001b[0;32m    933\u001b[0m             \u001b[1;32mif\u001b[0m \u001b[1;32mnot\u001b[0m \u001b[0misinstance\u001b[0m\u001b[1;33m(\u001b[0m\u001b[0mso\u001b[0m\u001b[1;33m,\u001b[0m \u001b[0mBasic\u001b[0m\u001b[1;33m)\u001b[0m\u001b[1;33m:\u001b[0m\u001b[1;33m\u001b[0m\u001b[0m\n\u001b[0;32m    934\u001b[0m                 \u001b[1;32mif\u001b[0m \u001b[0mtype\u001b[0m\u001b[1;33m(\u001b[0m\u001b[0mo\u001b[0m\u001b[1;33m)\u001b[0m \u001b[1;32mis\u001b[0m \u001b[0mstr\u001b[0m\u001b[1;33m:\u001b[0m\u001b[1;33m\u001b[0m\u001b[0m\n",
        "\u001b[1;32mc:\\Anaconda\\lib\\site-packages\\sympy\\core\\sympify.pyc\u001b[0m in \u001b[0;36msympify\u001b[1;34m(a, locals, convert_xor, strict, rational, evaluate)\u001b[0m\n\u001b[0;32m    313\u001b[0m         \u001b[0mexpr\u001b[0m \u001b[1;33m=\u001b[0m \u001b[0mparse_expr\u001b[0m\u001b[1;33m(\u001b[0m\u001b[0ma\u001b[0m\u001b[1;33m,\u001b[0m \u001b[0mlocal_dict\u001b[0m\u001b[1;33m=\u001b[0m\u001b[0mlocals\u001b[0m\u001b[1;33m,\u001b[0m \u001b[0mtransformations\u001b[0m\u001b[1;33m=\u001b[0m\u001b[0mtransformations\u001b[0m\u001b[1;33m,\u001b[0m \u001b[0mevaluate\u001b[0m\u001b[1;33m=\u001b[0m\u001b[0mevaluate\u001b[0m\u001b[1;33m)\u001b[0m\u001b[1;33m\u001b[0m\u001b[0m\n\u001b[0;32m    314\u001b[0m     \u001b[1;32mexcept\u001b[0m \u001b[1;33m(\u001b[0m\u001b[0mTokenError\u001b[0m\u001b[1;33m,\u001b[0m \u001b[0mSyntaxError\u001b[0m\u001b[1;33m)\u001b[0m \u001b[1;32mas\u001b[0m \u001b[0mexc\u001b[0m\u001b[1;33m:\u001b[0m\u001b[1;33m\u001b[0m\u001b[0m\n\u001b[1;32m--> 315\u001b[1;33m         \u001b[1;32mraise\u001b[0m \u001b[0mSympifyError\u001b[0m\u001b[1;33m(\u001b[0m\u001b[1;34m'could not parse %r'\u001b[0m \u001b[1;33m%\u001b[0m \u001b[0ma\u001b[0m\u001b[1;33m,\u001b[0m \u001b[0mexc\u001b[0m\u001b[1;33m)\u001b[0m\u001b[1;33m\u001b[0m\u001b[0m\n\u001b[0m\u001b[0;32m    316\u001b[0m \u001b[1;33m\u001b[0m\u001b[0m\n\u001b[0;32m    317\u001b[0m     \u001b[1;32mreturn\u001b[0m \u001b[0mexpr\u001b[0m\u001b[1;33m\u001b[0m\u001b[0m\n",
        "\u001b[1;31mSympifyError\u001b[0m: Sympify of expression 'could not parse u'<function <lambda> at 0x0000000005ED4278>'' failed, because of exception being raised:\nSyntaxError: invalid syntax (<string>, line 1)"
       ]
      }
     ],
     "prompt_number": 165
    },
    {
     "cell_type": "code",
     "collapsed": false,
     "input": [
      "b_test = lambda x: x**2"
     ],
     "language": "python",
     "metadata": {},
     "outputs": [],
     "prompt_number": 164
    },
    {
     "cell_type": "code",
     "collapsed": false,
     "input": [],
     "language": "python",
     "metadata": {},
     "outputs": []
    }
   ],
   "metadata": {}
  }
 ]
}