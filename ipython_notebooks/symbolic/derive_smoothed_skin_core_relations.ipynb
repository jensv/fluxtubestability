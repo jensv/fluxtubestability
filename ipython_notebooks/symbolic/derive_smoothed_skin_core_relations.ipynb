{
 "metadata": {
  "name": "",
  "signature": "sha256:26b996d39031ff5ec84a6ed44edf7c96023ab96a05ea7a980aae4b3d35185aeb"
 },
 "nbformat": 3,
 "nbformat_minor": 0,
 "worksheets": [
  {
   "cells": [
    {
     "cell_type": "code",
     "collapsed": false,
     "input": [
      "import sympy as sp\n",
      "sp.init_printing()"
     ],
     "language": "python",
     "metadata": {},
     "outputs": [],
     "prompt_number": 1
    },
    {
     "cell_type": "code",
     "collapsed": false,
     "input": [
      "%matplotlib inline\n",
      "import matplotlib.pyplot as plt\n",
      "import seaborn as sns\n",
      "sns.set_style('whitegrid')\n",
      "sns.set_context('poster')\n",
      "import numpy as np\n",
      "import scipy.integrate as integ"
     ],
     "language": "python",
     "metadata": {},
     "outputs": [],
     "prompt_number": 71
    },
    {
     "cell_type": "code",
     "collapsed": false,
     "input": [
      "x, j_core, j_skin, a, skin_width, transition_width, x_bar, delta_x, g_bar, delta_g = sp.symbols('x j_{core} j_{skin} a delta_{skin} delta_{trans} \\bar{x} \\deltax \\bar{g} \\deltag', real=True)"
     ],
     "language": "python",
     "metadata": {},
     "outputs": [],
     "prompt_number": 3
    },
    {
     "cell_type": "code",
     "collapsed": false,
     "input": [
      "def smoothf(z):\n",
      "    return z/8*(3*z**4 - 10*z**2 + 15)"
     ],
     "language": "python",
     "metadata": {},
     "outputs": [],
     "prompt_number": 38
    },
    {
     "cell_type": "code",
     "collapsed": false,
     "input": [
      "g11 = j_core\n",
      "g12 = j_skin\n",
      "g21 = j_skin\n",
      "g22 = 0\n",
      "x11 = a - skin_width - 2*transition_width\n",
      "x12 = a - skin_width - transition_width\n",
      "x21 = a - transition_width\n",
      "x22 = a"
     ],
     "language": "python",
     "metadata": {},
     "outputs": [],
     "prompt_number": 39
    },
    {
     "cell_type": "code",
     "collapsed": false,
     "input": [
      "gbar1 = (g12 + g11) / 2\n",
      "deltag1 = (g12 - g11) / 2\n",
      "gbar2 = (g22 + g21) / 2 \n",
      "deltag2 = (g22 - g21) /2\n",
      "xbar1 = (x12 + x11) / 2\n",
      "deltax1 = (x12 - x11) / 2\n",
      "xbar2 = (x22 + x21) / 2\n",
      "deltax2 = (x22 - x21) / 2\n",
      "\n",
      "def z1(x):\n",
      "    return (x - xbar1) / deltax1 \n",
      "\n",
      "def z2(x):\n",
      "    return (x - xbar2) / deltax2\n",
      "\n",
      "def g1(x):\n",
      "    return gbar1 + smoothf(z1(x)) * deltag1\n",
      "\n",
      "def g2(x):\n",
      "    return gbar2 + smoothf(z2(x)) * deltag2"
     ],
     "language": "python",
     "metadata": {},
     "outputs": [],
     "prompt_number": 62
    },
    {
     "cell_type": "code",
     "collapsed": false,
     "input": [
      "current = 2*sp.pi*(sp.integrate(j_core*x, (x, 0, x11)) +\n",
      "                   sp.integrate(g1(x)*x, (x, x11, x12)) +\n",
      "                   sp.integrate(j_skin*x, (x, x12, x21)) +\n",
      "                   sp.integrate(g2(x)*x, (x, x21, x22)))"
     ],
     "language": "python",
     "metadata": {},
     "outputs": [],
     "prompt_number": 78
    },
    {
     "cell_type": "code",
     "collapsed": false,
     "input": [
      "sp.simplify(current)"
     ],
     "language": "python",
     "metadata": {},
     "outputs": [
      {
       "latex": [
        "$$\\frac{\\pi}{7} \\left(7 a^{2} j_{{core}} - 14 a \\delta_{{skin}} j_{{core}} + 14 a \\delta_{{skin}} j_{{skin}} - 21 a \\delta_{{trans}} j_{{core}} + 14 a \\delta_{{trans}} j_{{skin}} + 7 \\delta_{{skin}}^{2} j_{{core}} - 7 \\delta_{{skin}}^{2} j_{{skin}} + 21 \\delta_{{skin}} \\delta_{{trans}} j_{{core}} - 21 \\delta_{{skin}} \\delta_{{trans}} j_{{skin}} + 16 \\delta_{{trans}}^{2} j_{{core}} - 14 \\delta_{{trans}}^{2} j_{{skin}}\\right)$$"
       ],
       "metadata": {},
       "output_type": "pyout",
       "png": "[encoded data removed]",
       "prompt_number": 64,
       "text": [
        "  \u239b   2                                                                       \n",
        "\u03c0\u22c5\u239d7\u22c5a \u22c5j_{core} - 14\u22c5a\u22c5\u03b4_{skin}\u22c5j_{core} + 14\u22c5a\u22c5\u03b4_{skin}\u22c5j_{skin} - 21\u22c5a\u22c5\u03b4_{t\n",
        "\u2500\u2500\u2500\u2500\u2500\u2500\u2500\u2500\u2500\u2500\u2500\u2500\u2500\u2500\u2500\u2500\u2500\u2500\u2500\u2500\u2500\u2500\u2500\u2500\u2500\u2500\u2500\u2500\u2500\u2500\u2500\u2500\u2500\u2500\u2500\u2500\u2500\u2500\u2500\u2500\u2500\u2500\u2500\u2500\u2500\u2500\u2500\u2500\u2500\u2500\u2500\u2500\u2500\u2500\u2500\u2500\u2500\u2500\u2500\u2500\u2500\u2500\u2500\u2500\u2500\u2500\u2500\u2500\u2500\u2500\u2500\u2500\u2500\u2500\u2500\u2500\u2500\u2500\n",
        "                                                                              \n",
        "\n",
        "                                                     2                      2 \n",
        "rans}\u22c5j_{core} + 14\u22c5a\u22c5\u03b4_{trans}\u22c5j_{skin} + 7\u22c5\u03b4_{skin} \u22c5j_{core} - 7\u22c5\u03b4_{skin} \u22c5\n",
        "\u2500\u2500\u2500\u2500\u2500\u2500\u2500\u2500\u2500\u2500\u2500\u2500\u2500\u2500\u2500\u2500\u2500\u2500\u2500\u2500\u2500\u2500\u2500\u2500\u2500\u2500\u2500\u2500\u2500\u2500\u2500\u2500\u2500\u2500\u2500\u2500\u2500\u2500\u2500\u2500\u2500\u2500\u2500\u2500\u2500\u2500\u2500\u2500\u2500\u2500\u2500\u2500\u2500\u2500\u2500\u2500\u2500\u2500\u2500\u2500\u2500\u2500\u2500\u2500\u2500\u2500\u2500\u2500\u2500\u2500\u2500\u2500\u2500\u2500\u2500\u2500\u2500\u2500\n",
        "                                                              7               \n",
        "\n",
        "                                                                              \n",
        "j_{skin} + 21\u22c5\u03b4_{skin}\u22c5\u03b4_{trans}\u22c5j_{core} - 21\u22c5\u03b4_{skin}\u22c5\u03b4_{trans}\u22c5j_{skin} + 1\n",
        "\u2500\u2500\u2500\u2500\u2500\u2500\u2500\u2500\u2500\u2500\u2500\u2500\u2500\u2500\u2500\u2500\u2500\u2500\u2500\u2500\u2500\u2500\u2500\u2500\u2500\u2500\u2500\u2500\u2500\u2500\u2500\u2500\u2500\u2500\u2500\u2500\u2500\u2500\u2500\u2500\u2500\u2500\u2500\u2500\u2500\u2500\u2500\u2500\u2500\u2500\u2500\u2500\u2500\u2500\u2500\u2500\u2500\u2500\u2500\u2500\u2500\u2500\u2500\u2500\u2500\u2500\u2500\u2500\u2500\u2500\u2500\u2500\u2500\u2500\u2500\u2500\u2500\u2500\n",
        "                                                                              \n",
        "\n",
        "           2                        2         \u239e\n",
        "6\u22c5\u03b4_{trans} \u22c5j_{core} - 14\u22c5\u03b4_{trans} \u22c5j_{skin}\u23a0\n",
        "\u2500\u2500\u2500\u2500\u2500\u2500\u2500\u2500\u2500\u2500\u2500\u2500\u2500\u2500\u2500\u2500\u2500\u2500\u2500\u2500\u2500\u2500\u2500\u2500\u2500\u2500\u2500\u2500\u2500\u2500\u2500\u2500\u2500\u2500\u2500\u2500\u2500\u2500\u2500\u2500\u2500\u2500\u2500\u2500\u2500\u2500\u2500\n",
        "                                               "
       ]
      }
     ],
     "prompt_number": 64
    },
    {
     "cell_type": "code",
     "collapsed": false,
     "input": [
      "j_z = sp.Piecewise((j_core, x<=x11), (g1(x), x<x12), (j_skin, x<=x21), (g2(x), x<x22), (0, True))"
     ],
     "language": "python",
     "metadata": {},
     "outputs": [],
     "prompt_number": 65
    },
    {
     "cell_type": "code",
     "collapsed": false,
     "input": [
      "specific_j_z = j_z.subs([(j_core, 0.1), (j_skin, 0.2), (a, 1), (skin_width, 0.2), (transition_width, 0.2)])\n",
      "rs = np.linspace(0, 1, 500)\n",
      "plt.plot(rs, [specific_j_z.subs(x, r) for r in rs])\n",
      "plt.ylim(-0.3, 0.3)"
     ],
     "language": "python",
     "metadata": {},
     "outputs": [
      {
       "latex": [
        "$$\\begin{pmatrix}-0.3, & 0.3\\end{pmatrix}$$"
       ],
       "metadata": {},
       "output_type": "pyout",
       "png": "[encoded data removed]",
       "prompt_number": 81,
       "text": [
        "(-0.3, 0.3)"
       ]
      },
      {
       "metadata": {},
       "output_type": "display_data",
       "png": "[encoded data removed]",
       "text": [
        "<matplotlib.figure.Figure at 0x8611828>"
       ]
      }
     ],
     "prompt_number": 81
    },
    {
     "cell_type": "code",
     "collapsed": false,
     "input": [
      "j_z.subs([(j_core, 0.1), (j_skin, 0.2), (a, 1), (skin_width, 0.2), (transition_width, 0.2)])"
     ],
     "language": "python",
     "metadata": {},
     "outputs": [
      {
       "latex": [
        "$$\\begin{cases} 0.1 & \\text{for}\\: x \\leq 0.4 \\\\0.0625 \\left(x - 0.5\\right) \\left(30000.0 \\left(x - 0.5\\right)^{4} - 1000.0 \\left(x - 0.5\\right)^{2} + 15\\right) + 0.15 & \\text{for}\\: x < 0.6 \\\\0.2 & \\text{for}\\: x \\leq 0.8 \\\\- 0.125 \\left(x - 0.9\\right) \\left(30000.0 \\left(x - 0.9\\right)^{4} - 1000.0 \\left(x - 0.9\\right)^{2} + 15\\right) + 0.1 & \\text{for}\\: x < 1 \\\\0 & \\text{otherwise} \\end{cases}$$"
       ],
       "metadata": {},
       "output_type": "pyout",
       "png": "[encoded data removed]",
       "prompt_number": 82,
       "text": [
        "\u23a7                                 0.1                                   for x \n",
        "\u23aa                                                                             \n",
        "\u23aa                 \u239b                 4                   2     \u239e               \n",
        "\u23aa0.0625\u22c5(x - 0.5)\u22c5\u239d30000.0\u22c5(x - 0.5)  - 1000.0\u22c5(x - 0.5)  + 15\u23a0 + 0.15  for x \n",
        "\u23aa                                                                             \n",
        "\u23a8                                 0.2                                   for x \n",
        "\u23aa                                                                             \n",
        "\u23aa                  \u239b                 4                   2     \u239e              \n",
        "\u23aa- 0.125\u22c5(x - 0.9)\u22c5\u239d30000.0\u22c5(x - 0.9)  - 1000.0\u22c5(x - 0.9)  + 15\u23a0 + 0.1   for x\n",
        "\u23aa                                                                             \n",
        "\u23a9                                  0                                     other\n",
        "\n",
        "\u2264 0.4\n",
        "     \n",
        "     \n",
        "< 0.6\n",
        "     \n",
        "\u2264 0.8\n",
        "     \n",
        "     \n",
        " < 1 \n",
        "     \n",
        "wise "
       ]
      }
     ],
     "prompt_number": 82
    },
    {
     "cell_type": "code",
     "collapsed": false,
     "input": [
      "integ.cumtrapz([specific_j_z.subs(x, r)*r for r in rs], x=rs)"
     ],
     "language": "python",
     "metadata": {},
     "outputs": [
      {
       "metadata": {},
       "output_type": "pyout",
       "prompt_number": 85,
       "text": [
        "array([2.00802406416038e-7, 8.03209625664154e-7, 1.80722165774435e-6,\n",
        "       3.21283850265662e-6, 5.02006016040096e-6, 7.22888663097738e-6,\n",
        "       9.83931791438588e-6, 1.28513540106265e-5, 1.62649949196991e-5,\n",
        "       2.00802406416038e-5, 2.42970911763407e-5, 2.89155465239095e-5,\n",
        "       3.39356066843105e-5, 3.93572716575435e-5, 4.51805414436087e-5,\n",
        "       5.14054160425058e-5, 5.80318954542351e-5, 6.50599796787964e-5,\n",
        "       7.24896687161899e-5, 8.03209625664154e-5, 8.85538612294729e-5,\n",
        "       9.71883647053626e-5, 0.000106224472994084, 0.000115662186095638,\n",
        "       0.000125501504010024, 0.000135742426737242, 0.000146384954277292,\n",
        "       0.000157429086630174, 0.000168874823795888, 0.000180722165774435,\n",
        "       0.000192971112565813, 0.000205621664170023, 0.000218673820587066,\n",
        "       0.000232127581816940, 0.000245982947859647, 0.000260239918715186,\n",
        "       0.000274898494383557, 0.000289958674864759, 0.000305420460158794,\n",
        "       0.000321283850265662, 0.000337548845185361, 0.000354215444917892,\n",
        "       0.000371283649463255, 0.000388753458821450, 0.000406624872992478,\n",
        "       0.000424897891976337, 0.000443572515773029, 0.000462648744382553,\n",
        "       0.000482126577804908, 0.000502006016040096, 0.000522287059088116,\n",
        "       0.000542969706948968, 0.000564053959622652, 0.000585539817109168,\n",
        "       0.000607427279408516, 0.000629716346520697, 0.000652407018445709,\n",
        "       0.000675499295183553, 0.000698993176734230, 0.000722888663097738,\n",
        "       0.000747185754274079, 0.000771884450263252, 0.000796984751065257,\n",
        "       0.000822486656680094, 0.000848390167107762, 0.000874695282348264,\n",
        "       0.000901402002401597, 0.000928510327267762, 0.000956020256946759,\n",
        "       0.000983931791438589, 0.00101224493074325, 0.00104095967486074,\n",
        "       0.00107007602379107, 0.00109959397753423, 0.00112951353609022,\n",
        "       0.00115983469945904, 0.00119055746764069, 0.00122168184063518,\n",
        "       0.00125320781844250, 0.00128513540106265, 0.00131746458849563,\n",
        "       0.00135019538074144, 0.00138332777780009, 0.00141686177967157,\n",
        "       0.00145079738635588, 0.00148513459785302, 0.00151987341416300,\n",
        "       0.00155501383528580, 0.00159055586122144, 0.00162649949196991,\n",
        "       0.00166284472753121, 0.00169959156790535, 0.00173674001309232,\n",
        "       0.00177429006309212, 0.00181224171790475, 0.00185059497753021,\n",
        "       0.00188934984196851, 0.00192850631121963, 0.00196806438528359,\n",
        "       0.00200802406416038, 0.00204838534785001, 0.00208914823635246,\n",
        "       0.00213031272966775, 0.00217187882779587, 0.00221384653073682,\n",
        "       0.00225621583849061, 0.00229898675105722, 0.00234215926843667,\n",
        "       0.00238573339062895, 0.00242970911763407, 0.00247408644945201,\n",
        "       0.00251886538608279, 0.00256404592752640, 0.00260962807378284,\n",
        "       0.00265561182485211, 0.00270199718073421, 0.00274878414142915,\n",
        "       0.00279597270693692, 0.00284356287725752, 0.00289155465239095,\n",
        "       0.00293994803233722, 0.00298874301709632, 0.00303793960666825,\n",
        "       0.00308753780105301, 0.00313753760025060, 0.00318793900426103,\n",
        "       0.00323874201308429, 0.00328994662672038, 0.00334155284516930,\n",
        "       0.00339356066843105, 0.00344597009650564, 0.00349878112939306,\n",
        "       0.00355199376709331, 0.00360560800960639, 0.00365962385693230,\n",
        "       0.00371404130907105, 0.00376886036602263, 0.00382408102778704,\n",
        "       0.00387970329436428, 0.00393572716575436, 0.00399215264195726,\n",
        "       0.00404897972297300, 0.00410620840880157, 0.00416383869944297,\n",
        "       0.00422187059489721, 0.00428030409516428, 0.00433913920024418,\n",
        "       0.00439837591013691, 0.00445801422484247, 0.00451805414436087,\n",
        "       0.00457849566869209, 0.00463933879783615, 0.00470058353179304,\n",
        "       0.00476222987056277, 0.00482427781414532, 0.00488672736254071,\n",
        "       0.00494957851574893, 0.00501283127376998, 0.00507648563660387,\n",
        "       0.00514054160425059, 0.00520499917671013, 0.00526985835398251,\n",
        "       0.00533511913606773, 0.00540078152296577, 0.00546684551467665,\n",
        "       0.00553331111120036, 0.00560017831253690, 0.00566744711868627,\n",
        "       0.00573511752964847, 0.00580318954542351, 0.00587166316601138,\n",
        "       0.00594053839141208, 0.00600981522162562, 0.00607949365665198,\n",
        "       0.00614957369649118, 0.00622005534114321, 0.00629093859060807,\n",
        "       0.00636222344488576, 0.00643390990397629, 0.00650599796787965,\n",
        "       0.00657848763659584, 0.00665137891012486, 0.00672467178846671,\n",
        "       0.00679836627162140, 0.00687246235958892, 0.00694696005236927,\n",
        "       0.00702185934996245, 0.00709716025236846, 0.00717286275958731,\n",
        "       0.00724896687161899, 0.00732547258846350, 0.00740237991012084,\n",
        "       0.00747968883659102, 0.00755739936787402, 0.00763551150396986,\n",
        "       0.00771402524487853, 0.00779294059060004, 0.00787225754113437,\n",
        "       0.00795197609648154, 0.00803209628234387, 0.00811261916389119,\n",
        "       0.00819354906410209, 0.00827489478377483, 0.00835666949281185,\n",
        "       0.00843889053284980, 0.00852157921902784, 0.00860476064106966,\n",
        "       0.00868846346385442, 0.00877271972765172, 0.00885756464819601,\n",
        "       0.00894303641677557, 0.00902917600051138, 0.00911602694300097,\n",
        "       0.00920363516550270, 0.00929204876883556, 0.00938131783616969,\n",
        "       0.00947149423688307, 0.00956263143165940, 0.00965478427900247,\n",
        "       0.00974800884334238, 0.00984236220490864, 0.00993790227154557,\n",
        "       0.0100346875926451, 0.0101327771753725, 0.0102322303033596,\n",
        "       0.0103331063580417, 0.0104354646428124, 0.0105393642101729,\n",
        "       0.0106448636920488, 0.0107520211334530, 0.0108608938296657,\n",
        "       0.0109715381671112, 0.0110840094681028, 0.0111983618396341,\n",
        "       0.0113146480263898, 0.0114329192681521, 0.0115532251617787,\n",
        "       0.0116756135279259, 0.0118001302826934, 0.0119268193143658,\n",
        "       0.0120557223654256, 0.0121868789200130, 0.0123203260970086,\n",
        "       0.0124560985489132, 0.0125942283666998, 0.0127347449908146,\n",
        "       0.0128776751285004, 0.0130230426776188, 0.0131708686571460,\n",
        "       0.0133211711445173, 0.0134739652199961, 0.0136292629182419,\n",
        "       0.0137870731872536, 0.0139474018548616, 0.0141102516029461,\n",
        "       0.0142756219495550, 0.0144435092390979, 0.0146139066407903,\n",
        "       0.0147868041555245, 0.0149621886313414, 0.0151400437876790,\n",
        "       0.0153203502485726, 0.0155030855849821, 0.0156882243664214,\n",
        "       0.0158757382220657, 0.0160655959115105, 0.0162577634053602,\n",
        "       0.0164522039758184, 0.0166488782974573, 0.0168477445583410,\n",
        "       0.0170487585816772, 0.0172518739581734, 0.0174570421892723,\n",
        "       0.0176642128414423, 0.0178733337116971, 0.0180843510045211,\n",
        "       0.0182972095203748, 0.0185118528559559, 0.0187282236163913,\n",
        "       0.0189462636395353, 0.0191659142325483, 0.0193871164209332,\n",
        "       0.0196098112102030, 0.0198339398603553, 0.0200594441733292,\n",
        "       0.0202862667936199, 0.0205143515222259, 0.0207436436441040,\n",
        "       0.0209740902693079, 0.0212056406879847, 0.0214382467394060,\n",
        "       0.0216718631952067, 0.0219064481570092, 0.0221419634686063,\n",
        "       0.0223783751428786, 0.0226156538036226, 0.0228537751424631,\n",
        "       0.0230927203910265, 0.0233324768085493, 0.0235730380530107,\n",
        "       0.0238144025455228, 0.0240565702476605, 0.0242995411594239,\n",
        "       0.0245433152808130, 0.0247878926118278, 0.0250332731524682,\n",
        "       0.0252794569027342, 0.0255264438626259, 0.0257742340321433,\n",
        "       0.0260228274112864, 0.0262722240000551, 0.0265224237984495,\n",
        "       0.0267734268064695, 0.0270252330241153, 0.0272778424513866,\n",
        "       0.0275312550882837, 0.0277854709348064, 0.0280404899909547,\n",
        "       0.0282963122567288, 0.0285529377321285, 0.0288103664171538,\n",
        "       0.0290685983118049, 0.0293276334160815, 0.0295874717299839,\n",
        "       0.0298481132535119, 0.0301095579866656, 0.0303718059294450,\n",
        "       0.0306348570818500, 0.0308987114438806, 0.0311633690155370,\n",
        "       0.0314288297968190, 0.0316950937877266, 0.0319621609882600,\n",
        "       0.0322300313984190, 0.0324987050182036, 0.0327681818476139,\n",
        "       0.0330384618866499, 0.0333095451353116, 0.0335814315935989,\n",
        "       0.0338541212615119, 0.0341276141390505, 0.0344019102262148,\n",
        "       0.0346770095230048, 0.0349529120294204, 0.0352296177454618,\n",
        "       0.0355071266711287, 0.0357854388064213, 0.0360645541513396,\n",
        "       0.0363444727058836, 0.0366251944700532, 0.0369067194438485,\n",
        "       0.0371890476272694, 0.0374721790203161, 0.0377561136229883,\n",
        "       0.0380408514352863, 0.0383263924572099, 0.0386127366887592,\n",
        "       0.0388998841299341, 0.0391878347807347, 0.0394765886411610,\n",
        "       0.0397661457112129, 0.0400565059908905, 0.0403476694801937,\n",
        "       0.0406396361791227, 0.0409324060876772, 0.0412259792058575,\n",
        "       0.0415203555336634, 0.0418155350710950, 0.0421115178181522,\n",
        "       0.0424083037748351, 0.0427058929411437, 0.0430042853170779,\n",
        "       0.0433034809026378, 0.0436034796978234, 0.0439042817026346,\n",
        "       0.0442058869170715, 0.0445082953411341, 0.0448115069748223,\n",
        "       0.0451155218181362, 0.0454203398710757, 0.0457259611336409,\n",
        "       0.0460323856058318, 0.0463396132876483, 0.0466476441790905,\n",
        "       0.0469564782801584, 0.0472661155908519, 0.0475765561111711,\n",
        "       0.0478877998411160, 0.0481998467806865, 0.0485126969298827,\n",
        "       0.0488263502887045, 0.0491408068571520, 0.0494560666352252,\n",
        "       0.0497721296229241, 0.0500889958202486, 0.0504066652271988,\n",
        "       0.0507251378437746, 0.0510444136699761, 0.0513644927058033,\n",
        "       0.0516853741337320, 0.0520070495764295, 0.0523294948759719,\n",
        "       0.0526526682615333, 0.0529765112849669, 0.0533009497595959,\n",
        "       0.0536258946889277, 0.0539512431849423, 0.0542768793756021,\n",
        "       0.0546026753012358, 0.0549284917994427, 0.0552541793781689,\n",
        "       0.0555795790766050, 0.0559045233135529, 0.0562288367229140,\n",
        "       0.0565523369759461, 0.0568748355899392, 0.0571961387229600,\n",
        "       0.0575160479543152, 0.0578343610503808, 0.0581508727154498,\n",
        "       0.0584653753272462, 0.0587776596567547, 0.0590875155720167,\n",
        "       0.0593947327255409, 0.0596991012249792, 0.0600004122867163,\n",
        "       0.0602984588720230, 0.0605930363054236, 0.0608839428749254,\n",
        "       0.0611709804137601, 0.0614539548632883, 0.0617326768167144,\n",
        "       0.0620069620432625, 0.0622766319924631, 0.0625415142781993,\n",
        "       0.0628014431421629, 0.0630562598963689, 0.0633058133443791,\n",
        "       0.0635499601808834, 0.0637885653692885, 0.0640215024969645,\n",
        "       0.0642486541077964, 0.0644699120116939, 0.0646851775707049,\n",
        "       0.0648943619613855, 0.0650973864130739, 0.0652941824217187,\n",
        "       0.0654846919389114, 0.0656688675357711, 0.0658466725413332,\n",
        "       0.0660180811550897, 0.0661830785333311, 0.0663416608489405,\n",
        "       0.0664938353242873, 0.0666396202368730, 0.0667790448973751,\n",
        "       0.0669121495997417, 0.0670389855429844, 0.0671596147243201,\n",
        "       0.0672741098033106, 0.0673825539366494, 0.0674850405832463,\n",
        "       0.0675816732792578, 0.0676725653827142, 0.0677578397873917,\n",
        "       0.0678376286055806, 0.0679120728193966, 0.0679813219002881,\n",
        "       0.0680455333963858, 0.0681048724873462, 0.0681595115063379,\n",
        "       0.0682096294288194, 0.0682554113277601, 0.0682970477949509,\n",
        "       0.0683347343280571, 0.0683686706830611, 0.0683990601917444,\n",
        "       0.0684261090438604, 0.0684500255336444, 0.0684710192703140,\n",
        "       0.0684893003522053, 0.0685050785041986, 0.0685185621780801,\n",
        "       0.0685299576154898, 0.0685394678731066, 0.0685472918097180,\n",
        "       0.0685536230348252, 0.0685586488184334, 0.0685625489616752,\n",
        "       0.0685654946279183, 0.0685676471340068, 0.0685691567012843,\n",
        "       0.0685701611660498, 0.0685707846490956, 0.0685711361839757,\n",
        "       0.0685713083036559, 0.0685713755851935, 0.0685713931520975,\n",
        "       0.0685713951340177], dtype=object)"
       ]
      }
     ],
     "prompt_number": 85
    },
    {
     "cell_type": "code",
     "collapsed": false,
     "input": [
      "sp.simplify(current).subs([(j_core, 0.1), (j_skin, 0.2), (a, 1), (skin_width, 0.2), (transition_width, 0.2)]).evalf()/(2*np.pi)"
     ],
     "language": "python",
     "metadata": {},
     "outputs": [
      {
       "latex": [
        "$$0.0685714285714286$$"
       ],
       "metadata": {},
       "output_type": "pyout",
       "png": "[encoded data removed]",
       "prompt_number": 86,
       "text": [
        "0.0685714285714286"
       ]
      }
     ],
     "prompt_number": 86
    },
    {
     "cell_type": "code",
     "collapsed": false,
     "input": [],
     "language": "python",
     "metadata": {},
     "outputs": []
    }
   ],
   "metadata": {}
  }
 ]
}