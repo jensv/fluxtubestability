{
 "metadata": {
  "name": "",
  "signature": "sha256:59763d11ae2dc055d893480862f560eca179af64ab4cf60d983c0c3c273305f8"
 },
 "nbformat": 3,
 "nbformat_minor": 0,
 "worksheets": [
  {
   "cells": [
    {
     "cell_type": "code",
     "collapsed": false,
     "input": [
      "import sympy as sp\n",
      "sp.init_printing()"
     ],
     "language": "python",
     "metadata": {},
     "outputs": [],
     "prompt_number": 1
    },
    {
     "cell_type": "code",
     "collapsed": false,
     "input": [
      "r_norm, j_0, j_skin_norm, k_norm, q_0, transition_width, skin_width, r, epsilon = sp.symbols(r'r_0, \\tilde{j}_{0}, \\tilde{j}_{skin}, \\tilde{k}, \\\n",
      "                                                                                  q_0, \\tilde{r}_{skin}, \\tilde{r}_{trans}, r, epsilon')"
     ],
     "language": "python",
     "metadata": {},
     "outputs": [],
     "prompt_number": 2
    },
    {
     "cell_type": "code",
     "collapsed": false,
     "input": [
      "r_region_1 = r_norm - 2*transition_width - skin_width\n",
      "r_region_2 = r_norm - transition_width - skin_width\n",
      "r_region_3 = r_norm - transition_width\n",
      "r_region_4 = r_norm"
     ],
     "language": "python",
     "metadata": {},
     "outputs": [],
     "prompt_number": 3
    },
    {
     "cell_type": "code",
     "collapsed": false,
     "input": [
      "def smooth(x1, x2, g1, g2, x):\n",
      "    delta_x = (x2 - x1) / 2\n",
      "    x_bar = (x2 + x1) / 2\n",
      "    delta_g = (g2 - g1) / 2\n",
      "    g_bar = (g1 + g2) / 2\n",
      "    z = (x - x_bar) / delta_x\n",
      "    return g_bar + smooth_f(z)*delta_g\n",
      "    \n",
      "def smooth_f(z):\n",
      "    return z/8*(3*z**4 - 10*z**2 + 15)"
     ],
     "language": "python",
     "metadata": {},
     "outputs": [],
     "prompt_number": 4
    },
    {
     "cell_type": "code",
     "collapsed": false,
     "input": [
      "j_region_1 = j_0\n",
      "j_region_2 = smooth(r_region_1, r_region_2, j_0, j_skin_norm, r)\n",
      "j_region_3 = j_skin_norm\n",
      "j_region_4 = smooth(r_region_3, r_region_4, j_skin_norm, 0, r)"
     ],
     "language": "python",
     "metadata": {},
     "outputs": [],
     "prompt_number": 5
    },
    {
     "cell_type": "code",
     "collapsed": false,
     "input": [
      "j_region_4"
     ],
     "language": "python",
     "metadata": {},
     "outputs": [
      {
       "latex": [
        "$$\\frac{\\tilde{j}_{{skin}}}{2} - \\frac{\\tilde{j}_{{skin}}}{8 \\tilde{r}_{{skin}}} \\left(15 - \\frac{40}{\\tilde{r}_{{skin}}^{2}} \\left(\\frac{\\tilde{r}_{{skin}}}{2} + r - r_{0}\\right)^{2} + \\frac{48}{\\tilde{r}_{{skin}}^{4}} \\left(\\frac{\\tilde{r}_{{skin}}}{2} + r - r_{0}\\right)^{4}\\right) \\left(\\frac{\\tilde{r}_{{skin}}}{2} + r - r_{0}\\right)$$"
       ],
       "metadata": {},
       "output_type": "pyout",
       "png": "[encoded data removed]",
       "prompt_number": 6,
       "text": [
        "                                    \u239b                                   2     \n",
        "                                    \u239c        \u239b\\tilde{r}_{skin}         \u239e      \n",
        "                                    \u239c     40\u22c5\u239c\u2500\u2500\u2500\u2500\u2500\u2500\u2500\u2500\u2500\u2500\u2500\u2500\u2500\u2500\u2500\u2500 + r - r\u2080\u239f    48\n",
        "                                    \u239c        \u239d       2                 \u23a0      \n",
        "                   \\tilde{j}_{skin}\u22c5\u239c15 - \u2500\u2500\u2500\u2500\u2500\u2500\u2500\u2500\u2500\u2500\u2500\u2500\u2500\u2500\u2500\u2500\u2500\u2500\u2500\u2500\u2500\u2500\u2500\u2500\u2500\u2500\u2500\u2500\u2500\u2500\u2500 + \u2500\u2500\n",
        "                                    \u239c                            2            \n",
        "\\tilde{j}_{skin}                    \u239d            \\tilde{r}_{skin}             \n",
        "\u2500\u2500\u2500\u2500\u2500\u2500\u2500\u2500\u2500\u2500\u2500\u2500\u2500\u2500\u2500\u2500 - \u2500\u2500\u2500\u2500\u2500\u2500\u2500\u2500\u2500\u2500\u2500\u2500\u2500\u2500\u2500\u2500\u2500\u2500\u2500\u2500\u2500\u2500\u2500\u2500\u2500\u2500\u2500\u2500\u2500\u2500\u2500\u2500\u2500\u2500\u2500\u2500\u2500\u2500\u2500\u2500\u2500\u2500\u2500\u2500\u2500\u2500\u2500\u2500\u2500\u2500\u2500\u2500\u2500\u2500\u2500\u2500\u2500\u2500\u2500\n",
        "       2                                                             8\u22c5\\tilde{\n",
        "\n",
        "                            4\u239e                            \n",
        " \u239b\\tilde{r}_{skin}         \u239e \u239f                            \n",
        "\u22c5\u239c\u2500\u2500\u2500\u2500\u2500\u2500\u2500\u2500\u2500\u2500\u2500\u2500\u2500\u2500\u2500\u2500 + r - r\u2080\u239f \u239f                            \n",
        " \u239d       2                 \u23a0 \u239f \u239b\\tilde{r}_{skin}         \u239e\n",
        "\u2500\u2500\u2500\u2500\u2500\u2500\u2500\u2500\u2500\u2500\u2500\u2500\u2500\u2500\u2500\u2500\u2500\u2500\u2500\u2500\u2500\u2500\u2500\u2500\u2500\u2500\u2500\u2500\u2500\u239f\u22c5\u239c\u2500\u2500\u2500\u2500\u2500\u2500\u2500\u2500\u2500\u2500\u2500\u2500\u2500\u2500\u2500\u2500 + r - r\u2080\u239f\n",
        "                     4       \u239f \u239d       2                 \u23a0\n",
        "     \\tilde{r}_{skin}        \u23a0                            \n",
        "\u2500\u2500\u2500\u2500\u2500\u2500\u2500\u2500\u2500\u2500\u2500\u2500\u2500\u2500\u2500\u2500\u2500\u2500\u2500\u2500\u2500\u2500\u2500\u2500\u2500\u2500\u2500\u2500\u2500\u2500\u2500\u2500\u2500\u2500\u2500\u2500\u2500\u2500\u2500\u2500\u2500\u2500\u2500\u2500\u2500\u2500\u2500\u2500\u2500\u2500\u2500\u2500\u2500\u2500\u2500\u2500\u2500\u2500\n",
        "r}_{skin}                                                 "
       ]
      }
     ],
     "prompt_number": 6
    },
    {
     "cell_type": "code",
     "collapsed": false,
     "input": [
      "b_theta_integral_1 = sp.integrate(j_region_1*r, (r, 0, r_region_1))\n",
      "b_theta_integral_2 = sp.integrate(j_region_2*r, (r, r_region_1, r_region_2))\n",
      "b_theta_integral_3 = sp.integrate(j_region_3*r, (r, r_region_2, r_region_3))\n",
      "b_theta_integral_4 = sp.integrate(j_region_4*r, (r, r_region_3, r_region_4))"
     ],
     "language": "python",
     "metadata": {},
     "outputs": [],
     "prompt_number": 7
    },
    {
     "cell_type": "code",
     "collapsed": false,
     "input": [
      "b_theta_vacuum = (b_theta_integral_1 + b_theta_integral_2 + b_theta_integral_3 + b_theta_integral_4) / (r_region_4)"
     ],
     "language": "python",
     "metadata": {},
     "outputs": [],
     "prompt_number": 8
    },
    {
     "cell_type": "code",
     "collapsed": false,
     "input": [
      "b_theta_plasma = (b_theta_integral_1) / (r_region_1)"
     ],
     "language": "python",
     "metadata": {},
     "outputs": [],
     "prompt_number": 9
    },
    {
     "cell_type": "code",
     "collapsed": false,
     "input": [
      "ratio = b_theta_plasma / b_theta_vacuum"
     ],
     "language": "python",
     "metadata": {},
     "outputs": [],
     "prompt_number": 10
    },
    {
     "cell_type": "code",
     "collapsed": false,
     "input": [
      "ratio_simp = sp.simplify(ratio)"
     ],
     "language": "python",
     "metadata": {},
     "outputs": [],
     "prompt_number": 11
    },
    {
     "cell_type": "code",
     "collapsed": false,
     "input": [
      "print sp.latex(sp.solve(ratio_simp - epsilon, j_skin_norm))"
     ],
     "language": "python",
     "metadata": {},
     "outputs": [
      {
       "output_type": "stream",
       "stream": "stdout",
       "text": [
        "\\begin{bmatrix}\\frac{\\tilde{j}_{{0}}}{7 \\epsilon \\left(\\tilde{r}_{{skin}} + \\tilde{r}_{{trans}}\\right) \\left(2 \\tilde{r}_{{skin}} + \\tilde{r}_{{trans}} - 2 r_{0}\\right)} \\left(16 \\tilde{r}_{{skin}}^{2} \\epsilon + 21 \\tilde{r}_{{skin}} \\tilde{r}_{{trans}} \\epsilon - 21 \\tilde{r}_{{skin}} \\epsilon r_{0} + 14 \\tilde{r}_{{skin}} r_{0} + 7 \\tilde{r}_{{trans}}^{2} \\epsilon - 14 \\tilde{r}_{{trans}} \\epsilon r_{0} + 7 \\tilde{r}_{{trans}} r_{0} + 7 \\epsilon r_{0}^{2} - 7 r_{0}^{2}\\right)\\end{bmatrix}\n"
       ]
      }
     ],
     "prompt_number": 12
    },
    {
     "cell_type": "code",
     "collapsed": false,
     "input": [
      "ratio_simp"
     ],
     "language": "python",
     "metadata": {},
     "outputs": [
      {
       "latex": [
        "$$- \\frac{7 \\tilde{j}_{{0}} r_{0} \\left(2 \\tilde{r}_{{skin}} + \\tilde{r}_{{trans}} - r_{0}\\right)}{16 \\tilde{j}_{{0}} \\tilde{r}_{{skin}}^{2} + 21 \\tilde{j}_{{0}} \\tilde{r}_{{skin}} \\tilde{r}_{{trans}} - 21 \\tilde{j}_{{0}} \\tilde{r}_{{skin}} r_{0} + 7 \\tilde{j}_{{0}} \\tilde{r}_{{trans}}^{2} - 14 \\tilde{j}_{{0}} \\tilde{r}_{{trans}} r_{0} + 7 \\tilde{j}_{{0}} r_{0}^{2} - 14 \\tilde{j}_{{skin}} \\tilde{r}_{{skin}}^{2} - 21 \\tilde{j}_{{skin}} \\tilde{r}_{{skin}} \\tilde{r}_{{trans}} + 14 \\tilde{j}_{{skin}} \\tilde{r}_{{skin}} r_{0} - 7 \\tilde{j}_{{skin}} \\tilde{r}_{{trans}}^{2} + 14 \\tilde{j}_{{skin}} \\tilde{r}_{{trans}} r_{0}}$$"
       ],
       "metadata": {},
       "output_type": "pyout",
       "png": "[encoded data removed]",
       "prompt_number": 13,
       "text": [
        "                                                                              \n",
        "\u2500\u2500\u2500\u2500\u2500\u2500\u2500\u2500\u2500\u2500\u2500\u2500\u2500\u2500\u2500\u2500\u2500\u2500\u2500\u2500\u2500\u2500\u2500\u2500\u2500\u2500\u2500\u2500\u2500\u2500\u2500\u2500\u2500\u2500\u2500\u2500\u2500\u2500\u2500\u2500\u2500\u2500\u2500\u2500\u2500\u2500\u2500\u2500\u2500\u2500\u2500\u2500\u2500\u2500\u2500\u2500\u2500\u2500\u2500\u2500\u2500\u2500\u2500\u2500\u2500\u2500\u2500\u2500\u2500\u2500\u2500\u2500\u2500\u2500\u2500\u2500\u2500\u2500\n",
        "                                 2                                            \n",
        "16\u22c5\\tilde{j}_{0}\u22c5\\tilde{r}_{skin}  + 21\u22c5\\tilde{j}_{0}\u22c5\\tilde{r}_{skin}\u22c5\\tilde{\n",
        "\n",
        "                                                                              \n",
        "\u2500\u2500\u2500\u2500\u2500\u2500\u2500\u2500\u2500\u2500\u2500\u2500\u2500\u2500\u2500\u2500\u2500\u2500\u2500\u2500\u2500\u2500\u2500\u2500\u2500\u2500\u2500\u2500\u2500\u2500\u2500\u2500\u2500\u2500\u2500\u2500\u2500\u2500\u2500\u2500\u2500\u2500\u2500\u2500\u2500\u2500\u2500\u2500\u2500\u2500\u2500\u2500\u2500\u2500\u2500\u2500\u2500\u2500\u2500\u2500\u2500\u2500\u2500\u2500\u2500\u2500\u2500\u2500\u2500\u2500\u2500\u2500\u2500\u2500\u2500\u2500\u2500\u2500\n",
        "                                                                              \n",
        "r}_{trans} - 21\u22c5\\tilde{j}_{0}\u22c5\\tilde{r}_{skin}\u22c5r\u2080 + 7\u22c5\\tilde{j}_{0}\u22c5\\tilde{r}_\n",
        "\n",
        "                                   -7\u22c5\\tilde{j}_{0}\u22c5r\u2080\u22c5(2\u22c5\\tilde{r}_{skin} + \\\n",
        "\u2500\u2500\u2500\u2500\u2500\u2500\u2500\u2500\u2500\u2500\u2500\u2500\u2500\u2500\u2500\u2500\u2500\u2500\u2500\u2500\u2500\u2500\u2500\u2500\u2500\u2500\u2500\u2500\u2500\u2500\u2500\u2500\u2500\u2500\u2500\u2500\u2500\u2500\u2500\u2500\u2500\u2500\u2500\u2500\u2500\u2500\u2500\u2500\u2500\u2500\u2500\u2500\u2500\u2500\u2500\u2500\u2500\u2500\u2500\u2500\u2500\u2500\u2500\u2500\u2500\u2500\u2500\u2500\u2500\u2500\u2500\u2500\u2500\u2500\u2500\u2500\u2500\u2500\n",
        "       2                                                             2        \n",
        "{trans}  - 14\u22c5\\tilde{j}_{0}\u22c5\\tilde{r}_{trans}\u22c5r\u2080 + 7\u22c5\\tilde{j}_{0}\u22c5r\u2080  - 14\u22c5\\t\n",
        "\n",
        "tilde{r}_{trans} - r\u2080)                                                        \n",
        "\u2500\u2500\u2500\u2500\u2500\u2500\u2500\u2500\u2500\u2500\u2500\u2500\u2500\u2500\u2500\u2500\u2500\u2500\u2500\u2500\u2500\u2500\u2500\u2500\u2500\u2500\u2500\u2500\u2500\u2500\u2500\u2500\u2500\u2500\u2500\u2500\u2500\u2500\u2500\u2500\u2500\u2500\u2500\u2500\u2500\u2500\u2500\u2500\u2500\u2500\u2500\u2500\u2500\u2500\u2500\u2500\u2500\u2500\u2500\u2500\u2500\u2500\u2500\u2500\u2500\u2500\u2500\u2500\u2500\u2500\u2500\u2500\u2500\u2500\u2500\u2500\u2500\u2500\n",
        "                               2                                              \n",
        "ilde{j}_{skin}\u22c5\\tilde{r}_{skin}  - 21\u22c5\\tilde{j}_{skin}\u22c5\\tilde{r}_{skin}\u22c5\\tilde\n",
        "\n",
        "                                                                              \n",
        "\u2500\u2500\u2500\u2500\u2500\u2500\u2500\u2500\u2500\u2500\u2500\u2500\u2500\u2500\u2500\u2500\u2500\u2500\u2500\u2500\u2500\u2500\u2500\u2500\u2500\u2500\u2500\u2500\u2500\u2500\u2500\u2500\u2500\u2500\u2500\u2500\u2500\u2500\u2500\u2500\u2500\u2500\u2500\u2500\u2500\u2500\u2500\u2500\u2500\u2500\u2500\u2500\u2500\u2500\u2500\u2500\u2500\u2500\u2500\u2500\u2500\u2500\u2500\u2500\u2500\u2500\u2500\u2500\u2500\u2500\u2500\u2500\u2500\u2500\u2500\u2500\u2500\u2500\n",
        "                                                                              \n",
        "{r}_{trans} + 14\u22c5\\tilde{j}_{skin}\u22c5\\tilde{r}_{skin}\u22c5r\u2080 - 7\u22c5\\tilde{j}_{skin}\u22c5\\ti\n",
        "\n",
        "                                                          \n",
        "\u2500\u2500\u2500\u2500\u2500\u2500\u2500\u2500\u2500\u2500\u2500\u2500\u2500\u2500\u2500\u2500\u2500\u2500\u2500\u2500\u2500\u2500\u2500\u2500\u2500\u2500\u2500\u2500\u2500\u2500\u2500\u2500\u2500\u2500\u2500\u2500\u2500\u2500\u2500\u2500\u2500\u2500\u2500\u2500\u2500\u2500\u2500\u2500\u2500\u2500\u2500\u2500\u2500\u2500\u2500\u2500\u2500\u2500\n",
        "              2                                           \n",
        "lde{r}_{trans}  + 14\u22c5\\tilde{j}_{skin}\u22c5\\tilde{r}_{trans}\u22c5r\u2080"
       ]
      }
     ],
     "prompt_number": 13
    },
    {
     "cell_type": "code",
     "collapsed": false,
     "input": [
      "sp.solve(ratio - epsilon, j_skin_norm)[0]"
     ],
     "language": "python",
     "metadata": {},
     "outputs": [
      {
       "latex": [
        "$$\\frac{\\tilde{j}_{{0}}}{7 \\epsilon \\left(\\tilde{r}_{{skin}} + \\tilde{r}_{{trans}}\\right) \\left(2 \\tilde{r}_{{skin}} + \\tilde{r}_{{trans}} - 2 r_{0}\\right)} \\left(16 \\tilde{r}_{{skin}}^{2} \\epsilon + 21 \\tilde{r}_{{skin}} \\tilde{r}_{{trans}} \\epsilon - 21 \\tilde{r}_{{skin}} \\epsilon r_{0} + 14 \\tilde{r}_{{skin}} r_{0} + 7 \\tilde{r}_{{trans}}^{2} \\epsilon - 14 \\tilde{r}_{{trans}} \\epsilon r_{0} + 7 \\tilde{r}_{{trans}} r_{0} + 7 \\epsilon r_{0}^{2} - 7 r_{0}^{2}\\right)$$"
       ],
       "metadata": {},
       "output_type": "pyout",
       "png": "[encoded data removed]",
       "prompt_number": 14,
       "text": [
        "              \u239b                   2                                           \n",
        "\\tilde{j}_{0}\u22c5\u239d16\u22c5\\tilde{r}_{skin} \u22c5\u03b5 + 21\u22c5\\tilde{r}_{skin}\u22c5\\tilde{r}_{trans}\u22c5\n",
        "\u2500\u2500\u2500\u2500\u2500\u2500\u2500\u2500\u2500\u2500\u2500\u2500\u2500\u2500\u2500\u2500\u2500\u2500\u2500\u2500\u2500\u2500\u2500\u2500\u2500\u2500\u2500\u2500\u2500\u2500\u2500\u2500\u2500\u2500\u2500\u2500\u2500\u2500\u2500\u2500\u2500\u2500\u2500\u2500\u2500\u2500\u2500\u2500\u2500\u2500\u2500\u2500\u2500\u2500\u2500\u2500\u2500\u2500\u2500\u2500\u2500\u2500\u2500\u2500\u2500\u2500\u2500\u2500\u2500\u2500\u2500\u2500\u2500\u2500\u2500\u2500\u2500\u2500\n",
        "                                                                     7\u22c5\u03b5\u22c5(\\til\n",
        "\n",
        "                                                                           2  \n",
        "\u03b5 - 21\u22c5\\tilde{r}_{skin}\u22c5\u03b5\u22c5r\u2080 + 14\u22c5\\tilde{r}_{skin}\u22c5r\u2080 + 7\u22c5\\tilde{r}_{trans} \u22c5\u03b5\n",
        "\u2500\u2500\u2500\u2500\u2500\u2500\u2500\u2500\u2500\u2500\u2500\u2500\u2500\u2500\u2500\u2500\u2500\u2500\u2500\u2500\u2500\u2500\u2500\u2500\u2500\u2500\u2500\u2500\u2500\u2500\u2500\u2500\u2500\u2500\u2500\u2500\u2500\u2500\u2500\u2500\u2500\u2500\u2500\u2500\u2500\u2500\u2500\u2500\u2500\u2500\u2500\u2500\u2500\u2500\u2500\u2500\u2500\u2500\u2500\u2500\u2500\u2500\u2500\u2500\u2500\u2500\u2500\u2500\u2500\u2500\u2500\u2500\u2500\u2500\u2500\u2500\u2500\u2500\n",
        "de{r}_{skin} + \\tilde{r}_{trans})\u22c5(2\u22c5\\tilde{r}_{skin} + \\tilde{r}_{trans} - 2\u22c5\n",
        "\n",
        "                                                              2       2\u239e\n",
        " - 14\u22c5\\tilde{r}_{trans}\u22c5\u03b5\u22c5r\u2080 + 7\u22c5\\tilde{r}_{trans}\u22c5r\u2080 + 7\u22c5\u03b5\u22c5r\u2080  - 7\u22c5r\u2080 \u23a0\n",
        "\u2500\u2500\u2500\u2500\u2500\u2500\u2500\u2500\u2500\u2500\u2500\u2500\u2500\u2500\u2500\u2500\u2500\u2500\u2500\u2500\u2500\u2500\u2500\u2500\u2500\u2500\u2500\u2500\u2500\u2500\u2500\u2500\u2500\u2500\u2500\u2500\u2500\u2500\u2500\u2500\u2500\u2500\u2500\u2500\u2500\u2500\u2500\u2500\u2500\u2500\u2500\u2500\u2500\u2500\u2500\u2500\u2500\u2500\u2500\u2500\u2500\u2500\u2500\u2500\u2500\u2500\u2500\u2500\u2500\u2500\u2500\u2500\n",
        "r\u2080)                                                                     "
       ]
      }
     ],
     "prompt_number": 14
    },
    {
     "cell_type": "code",
     "collapsed": false,
     "input": [],
     "language": "python",
     "metadata": {},
     "outputs": []
    }
   ],
   "metadata": {}
  }
 ]
}