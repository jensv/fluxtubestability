{
 "metadata": {
  "name": "",
  "signature": "sha256:04301d505b0f11ee32706ae4581212fd94e4c6bffd2d9530379b6551f43e1605"
 },
 "nbformat": 3,
 "nbformat_minor": 0,
 "worksheets": [
  {
   "cells": [
    {
     "cell_type": "heading",
     "level": 1,
     "metadata": {},
     "source": [
      "Checking eigenvalue_goedbloed.py equations"
     ]
    },
    {
     "cell_type": "markdown",
     "metadata": {},
     "source": [
      "There are a lot of equations implemented in the python code. Here I will go through each equation: write down the equation symbollically to compare it visually with Goedbloed, plug in some numbers in the symbolic equation and the numerical function from eigenvalue_goedbloed and look for discrepencies.\n",
      "\n",
      "The next step is to build comglorate functions corresponding to the chi_der functions and compare them."
     ]
    },
    {
     "cell_type": "heading",
     "level": 2,
     "metadata": {},
     "source": [
      "Setup sympy"
     ]
    },
    {
     "cell_type": "code",
     "collapsed": false,
     "input": [
      "import sympy as sp\n",
      "sp.init_printing()"
     ],
     "language": "python",
     "metadata": {},
     "outputs": [],
     "prompt_number": 91
    },
    {
     "cell_type": "code",
     "collapsed": false,
     "input": [
      "r, k, m, b_theta, b_z, f, rho, gamma, pressure, omega_sq, omega_alfven_sq, omega_sound_sq, omega_f0_sq, omega_s0_sq, n, b_theta_prime, chi, Pi  = sp.symbols('r k m B_theta B_z F rho gamma p omega__2, omega_A__2, omega_s__2 omega_f0__2 omega_s0__2 N B_theta__(1) chi Pi')"
     ],
     "language": "python",
     "metadata": {},
     "outputs": [],
     "prompt_number": 92
    },
    {
     "cell_type": "heading",
     "level": 2,
     "metadata": {},
     "source": [
      "Setup eigenvalue_goedbloed.py"
     ]
    },
    {
     "cell_type": "code",
     "collapsed": false,
     "input": [
      "import sys"
     ],
     "language": "python",
     "metadata": {},
     "outputs": [],
     "prompt_number": 2
    },
    {
     "cell_type": "code",
     "collapsed": false,
     "input": [
      "sys.path.append(\"../\")"
     ],
     "language": "python",
     "metadata": {},
     "outputs": [],
     "prompt_number": 3
    },
    {
     "cell_type": "code",
     "collapsed": false,
     "input": [
      "import eigenvalue_goedbloed as eg\n",
      "reload(eg)"
     ],
     "language": "python",
     "metadata": {},
     "outputs": [
      {
       "metadata": {},
       "output_type": "pyout",
       "prompt_number": 95,
       "text": [
        "<module 'eigenvalue_goedbloed' from '../eigenvalue_goedbloed.pyc'>"
       ]
      }
     ],
     "prompt_number": 95
    },
    {
     "cell_type": "heading",
     "level": 2,
     "metadata": {},
     "source": [
      "F(r)"
     ]
    },
    {
     "cell_type": "code",
     "collapsed": false,
     "input": [
      "class f_func(sp.Function):\n",
      "    nargs = 5\n",
      "    \n",
      "    @classmethod\n",
      "    def eval(cls, r, k, m, b_theta, b_z):\n",
      "        return m*b_theta/r+k*b_z"
     ],
     "language": "python",
     "metadata": {},
     "outputs": [],
     "prompt_number": 96
    },
    {
     "cell_type": "code",
     "collapsed": false,
     "input": [
      "f_func(r, k, m, b_theta, b_z)"
     ],
     "language": "python",
     "metadata": {},
     "outputs": [
      {
       "latex": [
        "$$\\frac{B_{\\theta} m}{r} + B_{z} k$$"
       ],
       "metadata": {},
       "output_type": "pyout",
       "png": "[encoded data removed]",
       "prompt_number": 97,
       "text": [
        "B_\u03b8\u22c5m        \n",
        "\u2500\u2500\u2500\u2500\u2500 + B_z\u22c5k\n",
        "  r          "
       ]
      }
     ],
     "prompt_number": 97
    },
    {
     "cell_type": "code",
     "collapsed": false,
     "input": [
      "f_func(0.5,2.,3.,4.,5.)"
     ],
     "language": "python",
     "metadata": {},
     "outputs": [
      {
       "latex": [
        "$$34.0$$"
       ],
       "metadata": {},
       "output_type": "pyout",
       "png": "[encoded data removed]",
       "prompt_number": 98,
       "text": [
        "34.0000000000000"
       ]
      }
     ],
     "prompt_number": 98
    },
    {
     "cell_type": "code",
     "collapsed": false,
     "input": [
      "eg.f(0.5,2.,3.,4.,5.)"
     ],
     "language": "python",
     "metadata": {},
     "outputs": [
      {
       "latex": [
        "$$34.0$$"
       ],
       "metadata": {},
       "output_type": "pyout",
       "png": "[encoded data removed]",
       "prompt_number": 99,
       "text": [
        "34.0"
       ]
      }
     ],
     "prompt_number": 99
    },
    {
     "cell_type": "heading",
     "level": 2,
     "metadata": {},
     "source": [
      "G(r)"
     ]
    },
    {
     "cell_type": "code",
     "collapsed": false,
     "input": [
      "class g_func(sp.Function):\n",
      "    nargs = 5\n",
      "    \n",
      "    @classmethod\n",
      "    def eval(cls, r, k, m, b_theta, b_z):\n",
      "        return m*b_z/r - k*b_theta"
     ],
     "language": "python",
     "metadata": {},
     "outputs": [],
     "prompt_number": 100
    },
    {
     "cell_type": "code",
     "collapsed": false,
     "input": [
      "g_func(r, k, m, b_theta, b_z)"
     ],
     "language": "python",
     "metadata": {},
     "outputs": [
      {
       "latex": [
        "$$- B_{\\theta} k + \\frac{B_{z} m}{r}$$"
       ],
       "metadata": {},
       "output_type": "pyout",
       "png": "[encoded data removed]",
       "prompt_number": 101,
       "text": [
        "         B_z\u22c5m\n",
        "-B_\u03b8\u22c5k + \u2500\u2500\u2500\u2500\u2500\n",
        "           r  "
       ]
      }
     ],
     "prompt_number": 101
    },
    {
     "cell_type": "code",
     "collapsed": false,
     "input": [
      "g_func(0.5, 2., 3., 4., 5.)"
     ],
     "language": "python",
     "metadata": {},
     "outputs": [
      {
       "latex": [
        "$$22.0$$"
       ],
       "metadata": {},
       "output_type": "pyout",
       "png": "[encoded data removed]",
       "prompt_number": 102,
       "text": [
        "22.0000000000000"
       ]
      }
     ],
     "prompt_number": 102
    },
    {
     "cell_type": "code",
     "collapsed": false,
     "input": [
      "eg.g(0.5, 2., 3., 4., 5.)"
     ],
     "language": "python",
     "metadata": {},
     "outputs": [
      {
       "latex": [
        "$$22.0$$"
       ],
       "metadata": {},
       "output_type": "pyout",
       "png": "[encoded data removed]",
       "prompt_number": 103,
       "text": [
        "22.0"
       ]
      }
     ],
     "prompt_number": 103
    },
    {
     "cell_type": "heading",
     "level": 2,
     "metadata": {},
     "source": [
      "$\\omega_{Alfven}^{2}$"
     ]
    },
    {
     "cell_type": "code",
     "collapsed": false,
     "input": [
      "class omega_alfven_sq_func(sp.Function):\n",
      "    nargs = 2\n",
      "    \n",
      "    @classmethod\n",
      "    def eval(cls, f, rho):\n",
      "        return f**2 / rho"
     ],
     "language": "python",
     "metadata": {},
     "outputs": [],
     "prompt_number": 104
    },
    {
     "cell_type": "code",
     "collapsed": false,
     "input": [
      "omega_alfven_sq_func(f, rho)"
     ],
     "language": "python",
     "metadata": {},
     "outputs": [
      {
       "latex": [
        "$$\\frac{F^{2}}{\\rho}$$"
       ],
       "metadata": {},
       "output_type": "pyout",
       "png": "[encoded data removed]",
       "prompt_number": 105,
       "text": [
        " 2\n",
        "F \n",
        "\u2500\u2500\n",
        "\u03c1 "
       ]
      }
     ],
     "prompt_number": 105
    },
    {
     "cell_type": "code",
     "collapsed": false,
     "input": [
      "omega_alfven_sq_func(0.5, 2.)"
     ],
     "language": "python",
     "metadata": {},
     "outputs": [
      {
       "latex": [
        "$$0.125$$"
       ],
       "metadata": {},
       "output_type": "pyout",
       "png": "[encoded data removed]",
       "prompt_number": 106,
       "text": [
        "0.125000000000000"
       ]
      }
     ],
     "prompt_number": 106
    },
    {
     "cell_type": "code",
     "collapsed": false,
     "input": [
      "eg.omega_a_sq(0.5, 2.)"
     ],
     "language": "python",
     "metadata": {},
     "outputs": [
      {
       "latex": [
        "$$0.125$$"
       ],
       "metadata": {},
       "output_type": "pyout",
       "png": "[encoded data removed]",
       "prompt_number": 107,
       "text": [
        "0.125"
       ]
      }
     ],
     "prompt_number": 107
    },
    {
     "cell_type": "heading",
     "level": 2,
     "metadata": {},
     "source": [
      "$\\omega_{sound}^{2}$"
     ]
    },
    {
     "cell_type": "code",
     "collapsed": false,
     "input": [
      "class omega_sound_sq_func(sp.Function):\n",
      "    nargs = 6\n",
      "    \n",
      "    @classmethod\n",
      "    def eval(cls, gamma, f, b_theta, b_z, rho, pressure):\n",
      "        return gamma * pressure/(gamma*pressure + b_theta**2 + b_z**2) * f**2/rho"
     ],
     "language": "python",
     "metadata": {},
     "outputs": [],
     "prompt_number": 108
    },
    {
     "cell_type": "code",
     "collapsed": false,
     "input": [
      "omega_sound_sq_func(gamma, f, b_theta, b_z, rho, pressure)"
     ],
     "language": "python",
     "metadata": {},
     "outputs": [
      {
       "latex": [
        "$$\\frac{F^{2} \\gamma p}{\\rho \\left(B_{\\theta}^{2} + B_{z}^{2} + \\gamma p\\right)}$$"
       ],
       "metadata": {},
       "output_type": "pyout",
       "png": "[encoded data removed]",
       "prompt_number": 20,
       "text": [
        "         2           \n",
        "        F \u22c5\u03b3\u22c5p       \n",
        "\u2500\u2500\u2500\u2500\u2500\u2500\u2500\u2500\u2500\u2500\u2500\u2500\u2500\u2500\u2500\u2500\u2500\u2500\u2500\u2500\u2500\n",
        "  \u239b   2      2      \u239e\n",
        "\u03c1\u22c5\u239dB_\u03b8  + B_z  + \u03b3\u22c5p\u23a0"
       ]
      }
     ],
     "prompt_number": 20
    },
    {
     "cell_type": "code",
     "collapsed": false,
     "input": [
      "omega_sound_sq_func(0.5, 2., 3., 4., 5., 6.)"
     ],
     "language": "python",
     "metadata": {},
     "outputs": [
      {
       "latex": [
        "$$0.0857142857142857$$"
       ],
       "metadata": {},
       "output_type": "pyout",
       "png": "[encoded data removed]",
       "prompt_number": 21,
       "text": [
        "0.0857142857142857"
       ]
      }
     ],
     "prompt_number": 21
    },
    {
     "cell_type": "code",
     "collapsed": false,
     "input": [
      "eg.omega_sound_sq(0.5, 2., 3., 4., 5., 6.)"
     ],
     "language": "python",
     "metadata": {},
     "outputs": [
      {
       "latex": [
        "$$0.0857142857143$$"
       ],
       "metadata": {},
       "output_type": "pyout",
       "png": "[encoded data removed]",
       "prompt_number": 22,
       "text": [
        "0.0857142857143"
       ]
      }
     ],
     "prompt_number": 22
    },
    {
     "cell_type": "heading",
     "level": 2,
     "metadata": {},
     "source": [
      "$\\omega_{s0}^{2}$"
     ]
    },
    {
     "cell_type": "code",
     "collapsed": false,
     "input": [
      "class omega_s0_sq_func(sp.Function):\n",
      "    nargs = 9\n",
      "    \n",
      "    @classmethod\n",
      "    def eval(cls, r, k, m, gamma, f, b_theta, b_z, rho, pressure):\n",
      "        k_0_sq = (m**2/r**2+k**2)\n",
      "        b_sq = b_theta**2 + b_z**2\n",
      "        v_sound_sq = gamma*pressure / rho\n",
      "        v_alfven_sq = b_sq / rho\n",
      "        alpha = (4.*gamma*pressure*f**2 /\n",
      "                 ((m**2/r**2+k**2)*(gamma*pressure + b_sq)**2))\n",
      "        return  0.5*k_0_sq*(v_sound_sq + v_alfven_sq)*(1 - (1 - alpha)**0.5)"
     ],
     "language": "python",
     "metadata": {},
     "outputs": [],
     "prompt_number": 23
    },
    {
     "cell_type": "code",
     "collapsed": false,
     "input": [
      "omega_s0_sq_func(r, k, m, gamma, f, b_theta, b_z, rho, pressure)"
     ],
     "language": "python",
     "metadata": {},
     "outputs": [
      {
       "latex": [
        "$$\\left(0.5 k^{2} + \\frac{0.5 m^{2}}{r^{2}}\\right) \\left(\\frac{\\gamma p}{\\rho} + \\frac{1}{\\rho} \\left(B_{\\theta}^{2} + B_{z}^{2}\\right)\\right) \\left(- \\left(- \\frac{4.0 F^{2} \\gamma p}{\\left(k^{2} + \\frac{m^{2}}{r^{2}}\\right) \\left(B_{\\theta}^{2} + B_{z}^{2} + \\gamma p\\right)^{2}} + 1\\right)^{0.5} + 1\\right)$$"
       ],
       "metadata": {},
       "output_type": "pyout",
       "png": "[encoded data removed]",
       "prompt_number": 24,
       "text": [
        "                                      \u239b                                       \n",
        "\u239b              2\u239e \u239b         2      2\u239e \u239c  \u239b                 2                  \n",
        "\u239c     2   0.5\u22c5m \u239f \u239c\u03b3\u22c5p   B_\u03b8  + B_z \u239f \u239c  \u239c            4.0\u22c5F \u22c5\u03b3\u22c5p              \n",
        "\u239c0.5\u22c5k  + \u2500\u2500\u2500\u2500\u2500\u2500\u239f\u22c5\u239c\u2500\u2500\u2500 + \u2500\u2500\u2500\u2500\u2500\u2500\u2500\u2500\u2500\u2500\u2500\u239f\u22c5\u239c- \u239c- \u2500\u2500\u2500\u2500\u2500\u2500\u2500\u2500\u2500\u2500\u2500\u2500\u2500\u2500\u2500\u2500\u2500\u2500\u2500\u2500\u2500\u2500\u2500\u2500\u2500\u2500\u2500\u2500\u2500\u2500 + 1\n",
        "\u239c            2  \u239f \u239d \u03c1         \u03c1     \u23a0 \u239c  \u239c  \u239b      2\u239e                    2    \n",
        "\u239d           r   \u23a0                     \u239c  \u239c  \u239c 2   m \u239f \u239b   2      2      \u239e     \n",
        "                                      \u239c  \u239c  \u239ck  + \u2500\u2500\u239f\u22c5\u239dB_\u03b8  + B_z  + \u03b3\u22c5p\u23a0     \n",
        "                                      \u239c  \u239c  \u239c      2\u239f                         \n",
        "                                      \u239d  \u239d  \u239d     r \u23a0                         \n",
        "\n",
        " 0.5    \u239e\n",
        "\u239e       \u239f\n",
        "\u239f       \u239f\n",
        "\u239f    + 1\u239f\n",
        "\u239f       \u239f\n",
        "\u239f       \u239f\n",
        "\u239f       \u239f\n",
        "\u239f       \u239f\n",
        "\u23a0       \u23a0"
       ]
      }
     ],
     "prompt_number": 24
    },
    {
     "cell_type": "code",
     "collapsed": false,
     "input": [
      "omega_s0_sq_func(0.5, 2., 3., 4., 5., 6., 7., 8., 9.)"
     ],
     "language": "python",
     "metadata": {},
     "outputs": [
      {
       "latex": [
        "$$0.931185299275359$$"
       ],
       "metadata": {},
       "output_type": "pyout",
       "png": "[encoded data removed]",
       "prompt_number": 25,
       "text": [
        "0.931185299275359"
       ]
      }
     ],
     "prompt_number": 25
    },
    {
     "cell_type": "code",
     "collapsed": false,
     "input": [
      "eg.omega_s0_sq(0.5, 2., 3., 4., 5., 6., 7., 8., 9.)"
     ],
     "language": "python",
     "metadata": {},
     "outputs": [
      {
       "latex": [
        "$$0.931185299275$$"
       ],
       "metadata": {},
       "output_type": "pyout",
       "png": "[encoded data removed]",
       "prompt_number": 26,
       "text": [
        "0.931185299275"
       ]
      }
     ],
     "prompt_number": 26
    },
    {
     "cell_type": "code",
     "collapsed": false,
     "input": [
      "omega_s0_sq_func(0.5, 2., 3., 4., 5., 6., 7., 8., 9.)"
     ],
     "language": "python",
     "metadata": {},
     "outputs": [
      {
       "latex": [
        "$$0.931185299275359$$"
       ],
       "metadata": {},
       "output_type": "pyout",
       "png": "[encoded data removed]",
       "prompt_number": 27,
       "text": [
        "0.931185299275359"
       ]
      }
     ],
     "prompt_number": 27
    },
    {
     "cell_type": "heading",
     "level": 2,
     "metadata": {},
     "source": [
      "$\\omega_{f0}^{2}$"
     ]
    },
    {
     "cell_type": "code",
     "collapsed": false,
     "input": [
      "class omega_f0_sq_func(sp.Function):\n",
      "    nargs = 9\n",
      "    \n",
      "    @classmethod\n",
      "    def eval(cls, r, k, m, gamma, f, b_theta, b_z, rho, pressure):\n",
      "        k_0_sq = (m**2/r**2+k**2)\n",
      "        b_sq = b_theta**2 + b_z**2\n",
      "        v_sound_sq = gamma*pressure / rho\n",
      "        v_alfven_sq = b_sq / rho\n",
      "        alpha = (4.*gamma*pressure*f**2 /\n",
      "                 ((m**2/r**2+k**2)*(gamma*pressure + b_sq)**2))\n",
      "        return  0.5*k_0_sq*(v_sound_sq + v_alfven_sq)*(1 + (1 - alpha)**0.5)"
     ],
     "language": "python",
     "metadata": {},
     "outputs": [],
     "prompt_number": 28
    },
    {
     "cell_type": "code",
     "collapsed": false,
     "input": [
      "omega_f0_sq_func(r, k, m, gamma, f, b_theta, b_z, rho, pressure)"
     ],
     "language": "python",
     "metadata": {},
     "outputs": [
      {
       "latex": [
        "$$\\left(0.5 k^{2} + \\frac{0.5 m^{2}}{r^{2}}\\right) \\left(\\frac{\\gamma p}{\\rho} + \\frac{1}{\\rho} \\left(B_{\\theta}^{2} + B_{z}^{2}\\right)\\right) \\left(\\left(- \\frac{4.0 F^{2} \\gamma p}{\\left(k^{2} + \\frac{m^{2}}{r^{2}}\\right) \\left(B_{\\theta}^{2} + B_{z}^{2} + \\gamma p\\right)^{2}} + 1\\right)^{0.5} + 1\\right)$$"
       ],
       "metadata": {},
       "output_type": "pyout",
       "png": "[encoded data removed]",
       "prompt_number": 29,
       "text": [
        "                                      \u239b                                      0\n",
        "\u239b              2\u239e \u239b         2      2\u239e \u239c\u239b                 2                  \u239e \n",
        "\u239c     2   0.5\u22c5m \u239f \u239c\u03b3\u22c5p   B_\u03b8  + B_z \u239f \u239c\u239c            4.0\u22c5F \u22c5\u03b3\u22c5p              \u239f \n",
        "\u239c0.5\u22c5k  + \u2500\u2500\u2500\u2500\u2500\u2500\u239f\u22c5\u239c\u2500\u2500\u2500 + \u2500\u2500\u2500\u2500\u2500\u2500\u2500\u2500\u2500\u2500\u2500\u239f\u22c5\u239c\u239c- \u2500\u2500\u2500\u2500\u2500\u2500\u2500\u2500\u2500\u2500\u2500\u2500\u2500\u2500\u2500\u2500\u2500\u2500\u2500\u2500\u2500\u2500\u2500\u2500\u2500\u2500\u2500\u2500\u2500\u2500 + 1\u239f \n",
        "\u239c            2  \u239f \u239d \u03c1         \u03c1     \u23a0 \u239c\u239c  \u239b      2\u239e                    2    \u239f \n",
        "\u239d           r   \u23a0                     \u239c\u239c  \u239c 2   m \u239f \u239b   2      2      \u239e     \u239f \n",
        "                                      \u239c\u239c  \u239ck  + \u2500\u2500\u239f\u22c5\u239dB_\u03b8  + B_z  + \u03b3\u22c5p\u23a0     \u239f \n",
        "                                      \u239c\u239c  \u239c      2\u239f                         \u239f \n",
        "                                      \u239d\u239d  \u239d     r \u23a0                         \u23a0 \n",
        "\n",
        ".5    \u239e\n",
        "      \u239f\n",
        "      \u239f\n",
        "   + 1\u239f\n",
        "      \u239f\n",
        "      \u239f\n",
        "      \u239f\n",
        "      \u239f\n",
        "      \u23a0"
       ]
      }
     ],
     "prompt_number": 29
    },
    {
     "cell_type": "code",
     "collapsed": false,
     "input": [
      "omega_f0_sq_func(0.5, 2., 3., 4., 5., 6., 7., 8., 9.)"
     ],
     "language": "python",
     "metadata": {},
     "outputs": [
      {
       "latex": [
        "$$604.068814700725$$"
       ],
       "metadata": {},
       "output_type": "pyout",
       "png": "[encoded data removed]",
       "prompt_number": 30,
       "text": [
        "604.068814700725"
       ]
      }
     ],
     "prompt_number": 30
    },
    {
     "cell_type": "code",
     "collapsed": false,
     "input": [
      "eg.omega_f0_sq(0.5, 2., 3., 4., 5., 6., 7., 8., 9.)"
     ],
     "language": "python",
     "metadata": {},
     "outputs": [
      {
       "latex": [
        "$$604.068814701$$"
       ],
       "metadata": {},
       "output_type": "pyout",
       "png": "[encoded data removed]",
       "prompt_number": 31,
       "text": [
        "604.068814701"
       ]
      }
     ],
     "prompt_number": 31
    },
    {
     "cell_type": "code",
     "collapsed": false,
     "input": [
      "class omega_s0_sq_func(sp.Function):\n",
      "    nargs = 9\n",
      "    \n",
      "    @classmethod\n",
      "    def eval(cls, r, k, m, gamma, f, b_theta, b_z, rho, pressure):\n",
      "        k_0_sq = (m**2/r**2+k**2)\n",
      "        b_sq = b_theta**2 + b_z**2\n",
      "        v_sound_sq = gamma*pressure / rho\n",
      "        v_alfven_sq = b_sq / rho\n",
      "        alpha = (4.*gamma*pressure*f**2 /\n",
      "                 ((m**2/r**2+k**2)*(gamma*pressure + b_sq)**2))\n",
      "        return  0.5*k_0_sq*(v_sound_sq + v_alfven_sq)*(1 - (1 - alpha)**0.5)"
     ],
     "language": "python",
     "metadata": {},
     "outputs": [],
     "prompt_number": 32
    },
    {
     "cell_type": "heading",
     "level": 2,
     "metadata": {},
     "source": [
      "$n_{freq}$"
     ]
    },
    {
     "cell_type": "code",
     "collapsed": false,
     "input": [
      "class n_freq_func(sp.Function):\n",
      "    nargs = 8\n",
      "    \n",
      "    @classmethod\n",
      "    def eval(cls, gamma, b_theta, b_z, pressure, rho, omega_sq, omega_alfven_sq, omega_sound_sq):\n",
      "        b_sq = b_theta**2 + b_z**2\n",
      "        return (rho**2*(gamma*pressure + b_sq)*(omega_sq - omega_alfven_sq)\n",
      "            * (omega_sq - omega_sound_sq))"
     ],
     "language": "python",
     "metadata": {},
     "outputs": [],
     "prompt_number": 33
    },
    {
     "cell_type": "code",
     "collapsed": false,
     "input": [
      "n_freq_func(gamma, b_theta, b_z, pressure, rho, omega_sq, omega_alfven_sq, omega_sound_sq)"
     ],
     "language": "python",
     "metadata": {},
     "outputs": [
      {
       "latex": [
        "$$\\rho^{2} \\left(- \\omega^{2}_{A} + \\omega^{2}\\right) \\left(\\omega^{2} - \\omega^{2}_{s}\\right) \\left(B_{\\theta}^{2} + B_{z}^{2} + \\gamma p\\right)$$"
       ],
       "metadata": {},
       "output_type": "pyout",
       "png": "[encoded data removed]",
       "prompt_number": 34,
       "text": [
        " 2                              \u239b   2      2      \u239e\n",
        "\u03c1 \u22c5(-\u03c9_A__2 + \u03c9\u00b2)\u22c5(\u03c9\u00b2 - \u03c9_s__2)\u22c5\u239dB_\u03b8  + B_z  + \u03b3\u22c5p\u23a0"
       ]
      }
     ],
     "prompt_number": 34
    },
    {
     "cell_type": "code",
     "collapsed": false,
     "input": [
      "n_freq_func(0.5, 2.0, 3.0, 4.0, 5.0, 6.0, 7.0, 8.0)"
     ],
     "language": "python",
     "metadata": {},
     "outputs": [
      {
       "latex": [
        "$$750.0$$"
       ],
       "metadata": {},
       "output_type": "pyout",
       "png": "[encoded data removed]",
       "prompt_number": 35,
       "text": [
        "750.000000000000"
       ]
      }
     ],
     "prompt_number": 35
    },
    {
     "cell_type": "code",
     "collapsed": false,
     "input": [
      "eg.n_freq(0.5, 2.0, 3.0, 4.0, 5.0, 6.0, 7.0, 8.0)"
     ],
     "language": "python",
     "metadata": {},
     "outputs": [
      {
       "latex": [
        "$$750.0$$"
       ],
       "metadata": {},
       "output_type": "pyout",
       "png": "[encoded data removed]",
       "prompt_number": 36,
       "text": [
        "750.0"
       ]
      }
     ],
     "prompt_number": 36
    },
    {
     "cell_type": "heading",
     "level": 2,
     "metadata": {},
     "source": [
      "$d_{freq}$"
     ]
    },
    {
     "cell_type": "code",
     "collapsed": false,
     "input": [
      "class d_freq_func(sp.Function):\n",
      "    nargs = 4\n",
      "    \n",
      "    @classmethod\n",
      "    def eval(cls, rho, omega_sq, omega_s0_sq, omega_f0_sq):\n",
      "        return rho**2*(omega_sq - omega_s0_sq)*(omega_sq - omega_f0_sq)"
     ],
     "language": "python",
     "metadata": {},
     "outputs": [],
     "prompt_number": 37
    },
    {
     "cell_type": "code",
     "collapsed": false,
     "input": [
      "d_freq_func(rho, omega_sq, omega_s0_sq, omega_f0_sq)"
     ],
     "language": "python",
     "metadata": {},
     "outputs": [
      {
       "latex": [
        "$$\\rho^{2} \\left(\\omega^{2} - \\omega^{2}_{f0}\\right) \\left(\\omega^{2} - \\omega^{2}_{s0}\\right)$$"
       ],
       "metadata": {},
       "output_type": "pyout",
       "png": "[encoded data removed]",
       "prompt_number": 38,
       "text": [
        " 2                              \n",
        "\u03c1 \u22c5(\u03c9\u00b2 - \u03c9_f0__2)\u22c5(\u03c9\u00b2 - \u03c9_s0__2)"
       ]
      }
     ],
     "prompt_number": 38
    },
    {
     "cell_type": "code",
     "collapsed": false,
     "input": [
      "d_freq_func(0.5, 2.0, 3., 4.)"
     ],
     "language": "python",
     "metadata": {},
     "outputs": [
      {
       "latex": [
        "$$0.5$$"
       ],
       "metadata": {},
       "output_type": "pyout",
       "png": "[encoded data removed]",
       "prompt_number": 39,
       "text": [
        "0.500000000000000"
       ]
      }
     ],
     "prompt_number": 39
    },
    {
     "cell_type": "code",
     "collapsed": false,
     "input": [
      "eg.d_freq(0.5, 2.0, 3., 4.)"
     ],
     "language": "python",
     "metadata": {},
     "outputs": [
      {
       "latex": [
        "$$0.5$$"
       ],
       "metadata": {},
       "output_type": "pyout",
       "png": "[encoded data removed]",
       "prompt_number": 40,
       "text": [
        "0.5"
       ]
      }
     ],
     "prompt_number": 40
    },
    {
     "cell_type": "heading",
     "level": 2,
     "metadata": {},
     "source": [
      "$n_{fb}$"
     ]
    },
    {
     "cell_type": "code",
     "collapsed": false,
     "input": [
      "class n_fb_func(sp.Function):\n",
      "    nargs = 7\n",
      "    \n",
      "    @classmethod\n",
      "    def eval(cls, gamma, f, b_theta, b_z, pressure, rho, omega_sq):\n",
      "        b_sq = b_theta**2 + b_z**2\n",
      "        return (rho*omega_sq - f**2)*((gamma*rho + b_sq)\n",
      "                                  * rho*omega_sq - gamma*pressure*f**2)"
     ],
     "language": "python",
     "metadata": {},
     "outputs": [],
     "prompt_number": 41
    },
    {
     "cell_type": "code",
     "collapsed": false,
     "input": [
      "n_fb_func(gamma, f, b_theta, b_z, pressure, rho, omega_sq)"
     ],
     "language": "python",
     "metadata": {},
     "outputs": [
      {
       "latex": [
        "$$\\left(- F^{2} + \\omega^{2} \\rho\\right) \\left(- F^{2} \\gamma p + \\omega^{2} \\rho \\left(B_{\\theta}^{2} + B_{z}^{2} + \\gamma \\rho\\right)\\right)$$"
       ],
       "metadata": {},
       "output_type": "pyout",
       "png": "[encoded data removed]",
       "prompt_number": 42,
       "text": [
        "\u239b   2       \u239e \u239b   2            \u239b   2      2      \u239e\u239e\n",
        "\u239d- F  + \u03c9\u00b2\u22c5\u03c1\u23a0\u22c5\u239d- F \u22c5\u03b3\u22c5p + \u03c9\u00b2\u22c5\u03c1\u22c5\u239dB_\u03b8  + B_z  + \u03b3\u22c5\u03c1\u23a0\u23a0"
       ]
      }
     ],
     "prompt_number": 42
    },
    {
     "cell_type": "code",
     "collapsed": false,
     "input": [
      "n_fb_func(0.5, 2.0, 3.0, 4.0, 5., 6., 7.)"
     ],
     "language": "python",
     "metadata": {},
     "outputs": [
      {
       "latex": [
        "$$44308.0$$"
       ],
       "metadata": {},
       "output_type": "pyout",
       "png": "[encoded data removed]",
       "prompt_number": 43,
       "text": [
        "44308.0000000000"
       ]
      }
     ],
     "prompt_number": 43
    },
    {
     "cell_type": "code",
     "collapsed": false,
     "input": [
      "eg.n_fb(0.5, 2.0, 3.0, 4.0, 5., 6., 7.)"
     ],
     "language": "python",
     "metadata": {},
     "outputs": [
      {
       "latex": [
        "$$44308.0$$"
       ],
       "metadata": {},
       "output_type": "pyout",
       "png": "[encoded data removed]",
       "prompt_number": 44,
       "text": [
        "44308.0"
       ]
      }
     ],
     "prompt_number": 44
    },
    {
     "cell_type": "heading",
     "level": 2,
     "metadata": {},
     "source": [
      "$d_{fb}$"
     ]
    },
    {
     "cell_type": "code",
     "collapsed": false,
     "input": [
      "class d_fb_func(sp.Function):\n",
      "    nargs = 10\n",
      "    \n",
      "    @classmethod\n",
      "    def eval(cls, r, k, m, gamma, f, b_theta, b_z, rho, pressure, omega_sq):\n",
      "        b_sq = b_theta**2 + b_z**2\n",
      "        term1 = rho**2*omega_sq**2\n",
      "        term2 = -(m**2/r**2 + k**2)*(gamma*pressure + b_sq)*rho*omega_sq\n",
      "        term3 = (m**2/r**2 + k**2)*gamma*rho*f**2\n",
      "        return term1 + term2 + term3"
     ],
     "language": "python",
     "metadata": {},
     "outputs": [],
     "prompt_number": 45
    },
    {
     "cell_type": "code",
     "collapsed": false,
     "input": [
      "d_fb_func(r, k, m, gamma, f, b_theta, b_z, rho, pressure, omega_sq)"
     ],
     "language": "python",
     "metadata": {},
     "outputs": [
      {
       "output_type": "stream",
       "stream": "stderr",
       "text": [
        "c:\\Anaconda\\lib\\site-packages\\IPython\\core\\formatters.py:239: FormatterWarning: Exception in image/png formatter: \n",
        "\n",
        "^\n",
        "Double superscript (at char 0), (line:1, col:1)\n",
        "  FormatterWarning,\n"
       ]
      },
      {
       "latex": [
        "$$F^{2} \\gamma \\rho \\left(k^{2} + \\frac{m^{2}}{r^{2}}\\right) + \\omega^{2}^{2} \\rho^{2} + \\omega^{2} \\rho \\left(- k^{2} - \\frac{m^{2}}{r^{2}}\\right) \\left(B_{\\theta}^{2} + B_{z}^{2} + \\gamma p\\right)$$"
       ],
       "metadata": {},
       "output_type": "pyout",
       "prompt_number": 46,
       "text": [
        "       \u239b      2\u239e                 \u239b        2\u239e                    \n",
        " 2     \u239c 2   m \u239f     2  2        \u239c   2   m \u239f \u239b   2      2      \u239e\n",
        "F \u22c5\u03b3\u22c5\u03c1\u22c5\u239ck  + \u2500\u2500\u239f + \u03c9\u00b2 \u22c5\u03c1  + \u03c9\u00b2\u22c5\u03c1\u22c5\u239c- k  - \u2500\u2500\u239f\u22c5\u239dB_\u03b8  + B_z  + \u03b3\u22c5p\u23a0\n",
        "       \u239c      2\u239f                 \u239c        2\u239f                    \n",
        "       \u239d     r \u23a0                 \u239d       r \u23a0                    "
       ]
      }
     ],
     "prompt_number": 46
    },
    {
     "cell_type": "markdown",
     "metadata": {},
     "source": [
      "Note the latex renderer runs into problems because of the double square on the $\\omega^{2}$ term. Sympy doesn't recognize that it should be $\\omega^{4}$."
     ]
    },
    {
     "cell_type": "code",
     "collapsed": false,
     "input": [
      "d_fb_func(0.5, 2., 3., 4., 5., 6., 7., 8., 9., 10.)"
     ],
     "language": "python",
     "metadata": {},
     "outputs": [
      {
       "latex": [
        "$$-348800.0$$"
       ],
       "metadata": {},
       "output_type": "pyout",
       "png": "[encoded data removed]",
       "prompt_number": 47,
       "text": [
        "-348800.000000000"
       ]
      }
     ],
     "prompt_number": 47
    },
    {
     "cell_type": "code",
     "collapsed": false,
     "input": [
      "eg.d_fb(0.5, 2., 3., 4., 5., 6., 7., 8., 9., 10.)"
     ],
     "language": "python",
     "metadata": {},
     "outputs": [
      {
       "latex": [
        "$$-348800.0$$"
       ],
       "metadata": {},
       "output_type": "pyout",
       "png": "[encoded data removed]",
       "prompt_number": 48,
       "text": [
        "-348800.0"
       ]
      }
     ],
     "prompt_number": 48
    },
    {
     "cell_type": "heading",
     "level": 2,
     "metadata": {},
     "source": [
      "$c$"
     ]
    },
    {
     "cell_type": "code",
     "collapsed": false,
     "input": [
      "class c_func(sp.Function):\n",
      "    nargs = 10\n",
      "    \n",
      "    @classmethod\n",
      "    def eval(cls, r, k, m, gamma, f, b_theta, b_z, rho, pressure, omega_sq):\n",
      "        b_sq = b_theta**2 + b_z**2\n",
      "        term1 = -2.*b_theta**2/r**2*rho**2*omega_sq**2\n",
      "        term21 = 2.*m*b_theta*f/r**3\n",
      "        term22 = ((gamma*pressure + b_sq)*rho*omega_sq - gamma*rho*f**2)\n",
      "        return term1 + term21*term22"
     ],
     "language": "python",
     "metadata": {},
     "outputs": [],
     "prompt_number": 49
    },
    {
     "cell_type": "code",
     "collapsed": false,
     "input": [
      "c_func(r, k, m, gamma, f, b_theta, b_z, rho, pressure, omega_sq)"
     ],
     "language": "python",
     "metadata": {},
     "outputs": [
      {
       "latex": [
        "$$- \\frac{2.0 B_{\\theta}^{2}}{r^{2}} \\omega^{2}^{2} \\rho^{2} + \\frac{2.0 B_{\\theta}}{r^{3}} F m \\left(- F^{2} \\gamma \\rho + \\omega^{2} \\rho \\left(B_{\\theta}^{2} + B_{z}^{2} + \\gamma p\\right)\\right)$$"
       ],
       "metadata": {},
       "output_type": "pyout",
       "prompt_number": 50,
       "text": [
        "         2   2  2               \u239b   2            \u239b   2      2      \u239e\u239e\n",
        "  2.0\u22c5B_\u03b8 \u22c5\u03c9\u00b2 \u22c5\u03c1    2.0\u22c5B_\u03b8\u22c5F\u22c5m\u22c5\u239d- F \u22c5\u03b3\u22c5\u03c1 + \u03c9\u00b2\u22c5\u03c1\u22c5\u239dB_\u03b8  + B_z  + \u03b3\u22c5p\u23a0\u23a0\n",
        "- \u2500\u2500\u2500\u2500\u2500\u2500\u2500\u2500\u2500\u2500\u2500\u2500\u2500\u2500\u2500 + \u2500\u2500\u2500\u2500\u2500\u2500\u2500\u2500\u2500\u2500\u2500\u2500\u2500\u2500\u2500\u2500\u2500\u2500\u2500\u2500\u2500\u2500\u2500\u2500\u2500\u2500\u2500\u2500\u2500\u2500\u2500\u2500\u2500\u2500\u2500\u2500\u2500\u2500\u2500\u2500\u2500\u2500\u2500\u2500\u2500\u2500\u2500\u2500\u2500\n",
        "          2                                  3                       \n",
        "         r                                  r                        "
       ]
      }
     ],
     "prompt_number": 50
    },
    {
     "cell_type": "markdown",
     "metadata": {},
     "source": [
      "Note the latex renderer runs into problems because of the double square on the $\\omega^{2}$ term. Sympy doesn't recognize that it should be $\\omega^{4}$."
     ]
    },
    {
     "cell_type": "code",
     "collapsed": false,
     "input": [
      "c_func(0.5, 2., 3., 4., 5., 6., 7., 8., 9., 10.)"
     ],
     "language": "python",
     "metadata": {},
     "outputs": [
      {
       "latex": [
        "$$10944000.0$$"
       ],
       "metadata": {},
       "output_type": "pyout",
       "png": "[encoded data removed]",
       "prompt_number": 51,
       "text": [
        "10944000.0000000"
       ]
      }
     ],
     "prompt_number": 51
    },
    {
     "cell_type": "code",
     "collapsed": false,
     "input": [
      "eg.c(0.5, 2., 3., 4., 5., 6., 7., 8., 9., 10.)"
     ],
     "language": "python",
     "metadata": {},
     "outputs": [
      {
       "latex": [
        "$$10944000.0$$"
       ],
       "metadata": {},
       "output_type": "pyout",
       "png": "[encoded data removed]",
       "prompt_number": 52,
       "text": [
        "10944000.0"
       ]
      }
     ],
     "prompt_number": 52
    },
    {
     "cell_type": "heading",
     "level": 2,
     "metadata": {},
     "source": [
      "$e$"
     ]
    },
    {
     "cell_type": "code",
     "collapsed": false,
     "input": [
      "class e_func(sp.Function):\n",
      "    nargs = 12\n",
      "    \n",
      "    @classmethod\n",
      "    def eval(cls, r, k, m, gamma, f, n, b_theta, b_theta_prime, b_z, rho, pressure, omega_sq):\n",
      "        b_sq = b_theta**2 + b_z**2\n",
      "        derivative = (2.*b_theta*b_theta_prime)/r**2 - (2.*b_theta)/r**3\n",
      "        term1 = -n/r*((rho*omega_sq-f**2)/r + derivative)\n",
      "        term2 = -4.*b_theta**4/r**4*rho**2*omega_sq**2\n",
      "        term31 = 4.*b_theta**2*f**2/r**4\n",
      "        term32 = ((gamma*pressure + b_sq)*rho*omega_sq - gamma*rho*f**2)\n",
      "        return term1 + term2 + term31*term32"
     ],
     "language": "python",
     "metadata": {},
     "outputs": [],
     "prompt_number": 53
    },
    {
     "cell_type": "code",
     "collapsed": false,
     "input": [
      "e_func(r, k, m, gamma, f, n, b_theta, b_theta_prime, b_z, rho, pressure, omega_sq)"
     ],
     "language": "python",
     "metadata": {},
     "outputs": [
      {
       "latex": [
        "$$- \\frac{4.0 B_{\\theta}^{4}}{r^{4}} \\omega^{2}^{2} \\rho^{2} + \\frac{4.0 B_{\\theta}^{2}}{r^{4}} F^{2} \\left(- F^{2} \\gamma \\rho + \\omega^{2} \\rho \\left(B_{\\theta}^{2} + B_{z}^{2} + \\gamma p\\right)\\right) - \\frac{N}{r} \\left(\\frac{2.0 B_{\\theta}}{r^{2}} B^{(1)}_{\\theta} - \\frac{2.0 B_{\\theta}}{r^{3}} + \\frac{1}{r} \\left(- F^{2} + \\omega^{2} \\rho\\right)\\right)$$"
       ],
       "metadata": {},
       "output_type": "pyout",
       "prompt_number": 54,
       "text": [
        "                                                                          \u239b   \n",
        "                                                                          \u239c2.0\n",
        "                                                                        N\u22c5\u239c\u2500\u2500\u2500\n",
        "         4   2  2          2  2 \u239b   2            \u239b   2      2      \u239e\u239e     \u239c   \n",
        "  4.0\u22c5B_\u03b8 \u22c5\u03c9\u00b2 \u22c5\u03c1    4.0\u22c5B_\u03b8 \u22c5F \u22c5\u239d- F \u22c5\u03b3\u22c5\u03c1 + \u03c9\u00b2\u22c5\u03c1\u22c5\u239dB_\u03b8  + B_z  + \u03b3\u22c5p\u23a0\u23a0     \u239d   \n",
        "- \u2500\u2500\u2500\u2500\u2500\u2500\u2500\u2500\u2500\u2500\u2500\u2500\u2500\u2500\u2500 + \u2500\u2500\u2500\u2500\u2500\u2500\u2500\u2500\u2500\u2500\u2500\u2500\u2500\u2500\u2500\u2500\u2500\u2500\u2500\u2500\u2500\u2500\u2500\u2500\u2500\u2500\u2500\u2500\u2500\u2500\u2500\u2500\u2500\u2500\u2500\u2500\u2500\u2500\u2500\u2500\u2500\u2500\u2500\u2500\u2500\u2500\u2500\u2500\u2500 - \u2500\u2500\u2500\u2500\u2500\u2500\n",
        "          4                                  4                                \n",
        "         r                                  r                                 \n",
        "\n",
        "                             2       \u239e\n",
        "\u22c5B_\u03b8\u22c5B_\u03b8__(1)   2.0\u22c5B_\u03b8   - F  + \u03c9\u00b2\u22c5\u03c1\u239f\n",
        "\u2500\u2500\u2500\u2500\u2500\u2500\u2500\u2500\u2500\u2500\u2500\u2500\u2500 - \u2500\u2500\u2500\u2500\u2500\u2500\u2500 + \u2500\u2500\u2500\u2500\u2500\u2500\u2500\u2500\u2500\u2500\u2500\u239f\n",
        "     2              3          r     \u239f\n",
        "    r              r                 \u23a0\n",
        "\u2500\u2500\u2500\u2500\u2500\u2500\u2500\u2500\u2500\u2500\u2500\u2500\u2500\u2500\u2500\u2500\u2500\u2500\u2500\u2500\u2500\u2500\u2500\u2500\u2500\u2500\u2500\u2500\u2500\u2500\u2500\u2500\u2500\u2500\u2500\u2500\u2500\u2500\n",
        "               r                      \n",
        "                                      "
       ]
      }
     ],
     "prompt_number": 54
    },
    {
     "cell_type": "markdown",
     "metadata": {},
     "source": [
      "Note the latex renderer runs into problems because of the double square on the $\\omega^{2}$ term. Sympy doesn't recognize that it should be $\\omega^{4}$."
     ]
    },
    {
     "cell_type": "code",
     "collapsed": false,
     "input": [
      "e_func(0.5, 2., 3., 4., 5., 6., 7., 8., 9., 10., 11., 12.)"
     ],
     "language": "python",
     "metadata": {},
     "outputs": [
      {
       "latex": [
        "$$-654175912.0$$"
       ],
       "metadata": {},
       "output_type": "pyout",
       "png": "[encoded data removed]",
       "prompt_number": 55,
       "text": [
        "-654175912.000000"
       ]
      }
     ],
     "prompt_number": 55
    },
    {
     "cell_type": "code",
     "collapsed": false,
     "input": [
      "eg.e(0.5, 2., 3., 4., 5., 6., 7., 8., 9., 10., 11., 12.)"
     ],
     "language": "python",
     "metadata": {},
     "outputs": [
      {
       "latex": [
        "$$-654175912.0$$"
       ],
       "metadata": {},
       "output_type": "pyout",
       "png": "[encoded data removed]",
       "prompt_number": 56,
       "text": [
        "-654175912.0"
       ]
      }
     ],
     "prompt_number": 56
    },
    {
     "cell_type": "heading",
     "level": 2,
     "metadata": {},
     "source": [
      "$\\chi '_{1}$"
     ]
    },
    {
     "cell_type": "code",
     "collapsed": false,
     "input": [
      "class chi_1_func(sp.Function):\n",
      "    nargs = 12\n",
      "    \n",
      "    @classmethod\n",
      "    def eval(cls, r, k, m, gamma, b_theta, b_theta_prime, b_z, rho, pressure, omega_sq, y0, y1):\n",
      "        f_ev = f_func(r, k, m, b_theta, b_z)\n",
      "        omega_a_sq_ev = omega_alfven_sq_func(f_ev, rho)\n",
      "        omega_s_sq_ev = omega_sound_sq_func(gamma, f_ev, b_theta, b_z, rho, pressure)\n",
      "        omega_s0_sq_ev = omega_s0_sq_func(r, k, m, gamma, f_ev, b_theta, b_z, rho,\n",
      "                                 pressure)\n",
      "        omega_f0_sq_ev = omega_f0_sq_func(r, k, m, gamma, f_ev, b_theta, b_z, rho,\n",
      "                                 pressure)\n",
      "        n_ev = n_freq_func(gamma, b_theta, b_z, pressure, rho, omega_sq, omega_a_sq_ev,\n",
      "                  omega_s_sq_ev)\n",
      "        d_ev = d_freq_func(rho, omega_sq, omega_s0_sq_ev, omega_f0_sq_ev)\n",
      "        c_ev = c_func(r, k, m, gamma, f_ev, b_theta, b_z, rho, pressure, omega_sq)\n",
      "        e_ev = e_func(r, k, m, gamma, f_ev, n_ev, b_theta, b_theta_prime, b_z, rho,\n",
      "                      pressure, omega_sq)\n",
      "\n",
      "        chi = y0\n",
      "        Pi = y1\n",
      "        return -r/n_ev*(c_ev*chi + d_ev*Pi)"
     ],
     "language": "python",
     "metadata": {},
     "outputs": [],
     "prompt_number": 80
    },
    {
     "cell_type": "code",
     "collapsed": false,
     "input": [
      "def chi_1(r, k, m, gamma, b_theta, b_theta_prime, b_z, rho, pressure, omega_sq, y0, y1):\n",
      "    f_ev = eg.f(r, k, m, b_theta, b_z)\n",
      "    omega_a_sq_ev = eg.omega_a_sq(f_ev, rho)\n",
      "    omega_s_sq_ev = eg.omega_sound_sq(gamma, f_ev, b_theta, b_z, rho, pressure)\n",
      "    omega_s0_sq_ev = eg.omega_s0_sq(r, k, m, gamma, f_ev, b_theta, b_z, rho,\n",
      "                                    pressure)\n",
      "    omega_f0_sq_ev = eg.omega_f0_sq(r, k, m, gamma, f_ev, b_theta, b_z, rho,\n",
      "                                    pressure)\n",
      "    n_ev = eg.n_freq(gamma, b_theta, b_z, pressure, rho, omega_sq, omega_a_sq_ev,\n",
      "                     omega_s_sq_ev)\n",
      "    d_ev = eg.d_freq(rho, omega_sq, omega_s0_sq_ev, omega_f0_sq_ev)\n",
      "    c_ev = eg.c(r, k, m, gamma, f_ev, b_theta, b_z, rho, pressure, omega_sq)\n",
      "    e_ev = eg.e(r, k, m, gamma, f_ev, n_ev, b_theta, b_theta_prime, b_z, rho,\n",
      "                pressure, omega_sq)\n",
      "\n",
      "    chi = y0\n",
      "    Pi = y1\n",
      "    return -r/n_ev*(c_ev*chi + d_ev*Pi)"
     ],
     "language": "python",
     "metadata": {},
     "outputs": [],
     "prompt_number": 84
    },
    {
     "cell_type": "code",
     "collapsed": false,
     "input": [
      "chi_1_func(r, k, m, gamma, b_theta, b_theta_prime, b_z, rho, pressure, omega_sq, chi, Pi)"
     ],
     "language": "python",
     "metadata": {},
     "outputs": [
      {
       "latex": [
        "$$- \\frac{r}{\\rho^{2} \\left(\\omega^{2} - \\frac{1}{\\rho} \\left(\\frac{B_{\\theta} m}{r} + B_{z} k\\right)^{2}\\right) \\left(- \\frac{\\gamma p \\left(\\frac{B_{\\theta} m}{r} + B_{z} k\\right)^{2}}{\\rho \\left(B_{\\theta}^{2} + B_{z}^{2} + \\gamma p\\right)} + \\omega^{2}\\right) \\left(B_{\\theta}^{2} + B_{z}^{2} + \\gamma p\\right)} \\left(\\Pi \\rho^{2} \\left(\\omega^{2} - \\left(0.5 k^{2} + \\frac{0.5 m^{2}}{r^{2}}\\right) \\left(\\frac{\\gamma p}{\\rho} + \\frac{1}{\\rho} \\left(B_{\\theta}^{2} + B_{z}^{2}\\right)\\right) \\left(- \\left(- \\frac{4.0 \\gamma p \\left(\\frac{B_{\\theta} m}{r} + B_{z} k\\right)^{2}}{\\left(k^{2} + \\frac{m^{2}}{r^{2}}\\right) \\left(B_{\\theta}^{2} + B_{z}^{2} + \\gamma p\\right)^{2}} + 1\\right)^{0.5} + 1\\right)\\right) \\left(\\omega^{2} - \\left(0.5 k^{2} + \\frac{0.5 m^{2}}{r^{2}}\\right) \\left(\\frac{\\gamma p}{\\rho} + \\frac{1}{\\rho} \\left(B_{\\theta}^{2} + B_{z}^{2}\\right)\\right) \\left(\\left(- \\frac{4.0 \\gamma p \\left(\\frac{B_{\\theta} m}{r} + B_{z} k\\right)^{2}}{\\left(k^{2} + \\frac{m^{2}}{r^{2}}\\right) \\left(B_{\\theta}^{2} + B_{z}^{2} + \\gamma p\\right)^{2}} + 1\\right)^{0.5} + 1\\right)\\right) + \\chi \\left(- \\frac{2.0 B_{\\theta}^{2}}{r^{2}} \\omega^{2}^{2} \\rho^{2} + \\frac{2.0 B_{\\theta}}{r^{3}} m \\left(\\frac{B_{\\theta} m}{r} + B_{z} k\\right) \\left(- \\gamma \\rho \\left(\\frac{B_{\\theta} m}{r} + B_{z} k\\right)^{2} + \\omega^{2} \\rho \\left(B_{\\theta}^{2} + B_{z}^{2} + \\gamma p\\right)\\right)\\right)\\right)$$"
       ],
       "metadata": {},
       "output_type": "pyout",
       "prompt_number": 82,
       "text": [
        "   \u239b     \u239b                                           \u239b                        \n",
        "   \u239c     \u239c                                           \u239c  \u239b                     \n",
        "   \u239c     \u239c                                           \u239c  \u239c             \u239bB_\u03b8\u22c5m  \n",
        "   \u239c     \u239c     \u239b              2\u239e \u239b         2      2\u239e \u239c  \u239c     4.0\u22c5\u03b3\u22c5p\u22c5\u239c\u2500\u2500\u2500\u2500\u2500 +\n",
        "   \u239c   2 \u239c     \u239c     2   0.5\u22c5m \u239f \u239c\u03b3\u22c5p   B_\u03b8  + B_z \u239f \u239c  \u239c             \u239d  r    \n",
        "-r\u22c5\u239c\u03a0\u22c5\u03c1 \u22c5\u239c\u03c9\u00b2 - \u239c0.5\u22c5k  + \u2500\u2500\u2500\u2500\u2500\u2500\u239f\u22c5\u239c\u2500\u2500\u2500 + \u2500\u2500\u2500\u2500\u2500\u2500\u2500\u2500\u2500\u2500\u2500\u239f\u22c5\u239c- \u239c- \u2500\u2500\u2500\u2500\u2500\u2500\u2500\u2500\u2500\u2500\u2500\u2500\u2500\u2500\u2500\u2500\u2500\u2500\u2500\n",
        "   \u239c     \u239c     \u239c            2  \u239f \u239d \u03c1         \u03c1     \u23a0 \u239c  \u239c  \u239b      2\u239e          \n",
        "   \u239c     \u239c     \u239d           r   \u23a0                     \u239c  \u239c  \u239c 2   m \u239f \u239b   2    \n",
        "   \u239c     \u239c                                           \u239c  \u239c  \u239ck  + \u2500\u2500\u239f\u22c5\u239dB_\u03b8  + B\n",
        "   \u239c     \u239c                                           \u239c  \u239c  \u239c      2\u239f          \n",
        "   \u239d     \u239d                                           \u239d  \u239d  \u239d     r \u23a0          \n",
        "\u2500\u2500\u2500\u2500\u2500\u2500\u2500\u2500\u2500\u2500\u2500\u2500\u2500\u2500\u2500\u2500\u2500\u2500\u2500\u2500\u2500\u2500\u2500\u2500\u2500\u2500\u2500\u2500\u2500\u2500\u2500\u2500\u2500\u2500\u2500\u2500\u2500\u2500\u2500\u2500\u2500\u2500\u2500\u2500\u2500\u2500\u2500\u2500\u2500\u2500\u2500\u2500\u2500\u2500\u2500\u2500\u2500\u2500\u2500\u2500\u2500\u2500\u2500\u2500\u2500\u2500\u2500\u2500\u2500\u2500\u2500\u2500\u2500\u2500\u2500\u2500\u2500\u2500\n",
        "                                                                              \n",
        "                                                                              \n",
        "                                                                              \n",
        "                                                                              \n",
        "                                                                              \n",
        "                                                                              \n",
        "                                                                              \n",
        "\n",
        "                0.5    \u239e\u239e \u239b                                           \u239b       \n",
        "       2       \u239e       \u239f\u239f \u239c                                           \u239c\u239b      \n",
        "      \u239e        \u239f       \u239f\u239f \u239c                                           \u239c\u239c      \n",
        " B_z\u22c5k\u239f        \u239f       \u239f\u239f \u239c     \u239b              2\u239e \u239b         2      2\u239e \u239c\u239c     4\n",
        "      \u23a0        \u239f       \u239f\u239f \u239c     \u239c     2   0.5\u22c5m \u239f \u239c\u03b3\u22c5p   B_\u03b8  + B_z \u239f \u239c\u239c      \n",
        "\u2500\u2500\u2500\u2500\u2500\u2500\u2500\u2500\u2500\u2500\u2500 + 1\u239f    + 1\u239f\u239f\u22c5\u239c\u03c9\u00b2 - \u239c0.5\u22c5k  + \u2500\u2500\u2500\u2500\u2500\u2500\u239f\u22c5\u239c\u2500\u2500\u2500 + \u2500\u2500\u2500\u2500\u2500\u2500\u2500\u2500\u2500\u2500\u2500\u239f\u22c5\u239c\u239c- \u2500\u2500\u2500\u2500\n",
        "          2    \u239f       \u239f\u239f \u239c     \u239c            2  \u239f \u239d \u03c1         \u03c1     \u23a0 \u239c\u239c  \u239b   \n",
        "  2      \u239e     \u239f       \u239f\u239f \u239c     \u239d           r   \u23a0                     \u239c\u239c  \u239c 2 \n",
        "_z  + \u03b3\u22c5p\u23a0     \u239f       \u239f\u239f \u239c                                           \u239c\u239c  \u239ck  \n",
        "               \u239f       \u239f\u239f \u239c                                           \u239c\u239c  \u239c   \n",
        "               \u23a0       \u23a0\u23a0 \u239d                                           \u239d\u239d  \u239d   \n",
        "\u2500\u2500\u2500\u2500\u2500\u2500\u2500\u2500\u2500\u2500\u2500\u2500\u2500\u2500\u2500\u2500\u2500\u2500\u2500\u2500\u2500\u2500\u2500\u2500\u2500\u2500\u2500\u2500\u2500\u2500\u2500\u2500\u2500\u2500\u2500\u2500\u2500\u2500\u2500\u2500\u2500\u2500\u2500\u2500\u2500\u2500\u2500\u2500\u2500\u2500\u2500\u2500\u2500\u2500\u2500\u2500\u2500\u2500\u2500\u2500\u2500\u2500\u2500\u2500\u2500\u2500\u2500\u2500\u2500\u2500\u2500\u2500\u2500\u2500\u2500\u2500\u2500\u2500\n",
        "                                     \u239b                    2\u239e \u239b                \n",
        "                                     \u239c     \u239bB_\u03b8\u22c5m        \u239e \u239f \u239c       \u239bB_\u03b8\u22c5m   \n",
        "                                     \u239c     \u239c\u2500\u2500\u2500\u2500\u2500 + B_z\u22c5k\u239f \u239f \u239c   \u03b3\u22c5p\u22c5\u239c\u2500\u2500\u2500\u2500\u2500 + \n",
        "                                   2 \u239c     \u239d  r          \u23a0 \u239f \u239c       \u239d  r     \n",
        "                                  \u03c1 \u22c5\u239c\u03c9\u00b2 - \u2500\u2500\u2500\u2500\u2500\u2500\u2500\u2500\u2500\u2500\u2500\u2500\u2500\u2500\u2500\u2500\u239f\u22c5\u239c- \u2500\u2500\u2500\u2500\u2500\u2500\u2500\u2500\u2500\u2500\u2500\u2500\u2500\u2500\n",
        "                                     \u239d            \u03c1        \u23a0 \u239c    \u239b   2      2\n",
        "                                                             \u239d  \u03c1\u22c5\u239dB_\u03b8  + B_z \n",
        "\n",
        "                               0.5    \u239e\u239e                                      \n",
        "                      2       \u239e       \u239f\u239f     \u239b                                \n",
        "       \u239bB_\u03b8\u22c5m        \u239e        \u239f       \u239f\u239f     \u239c                              \u239bB\n",
        ".0\u22c5\u03b3\u22c5p\u22c5\u239c\u2500\u2500\u2500\u2500\u2500 + B_z\u22c5k\u239f        \u239f       \u239f\u239f     \u239c         2   2  2   2.0\u22c5B_\u03b8\u22c5m\u22c5\u239c\u2500\n",
        "       \u239d  r          \u23a0        \u239f       \u239f\u239f     \u239c  2.0\u22c5B_\u03b8 \u22c5\u03c9\u00b2 \u22c5\u03c1              \u239d \n",
        "\u2500\u2500\u2500\u2500\u2500\u2500\u2500\u2500\u2500\u2500\u2500\u2500\u2500\u2500\u2500\u2500\u2500\u2500\u2500\u2500\u2500\u2500\u2500\u2500\u2500\u2500 + 1\u239f    + 1\u239f\u239f + \u03c7\u22c5\u239c- \u2500\u2500\u2500\u2500\u2500\u2500\u2500\u2500\u2500\u2500\u2500\u2500\u2500\u2500\u2500 + \u2500\u2500\u2500\u2500\u2500\u2500\u2500\u2500\u2500\u2500\u2500\u2500\n",
        "   2\u239e                    2    \u239f       \u239f\u239f     \u239c          2                     \n",
        "  m \u239f \u239b   2      2      \u239e     \u239f       \u239f\u239f     \u239d         r                      \n",
        "+ \u2500\u2500\u239f\u22c5\u239dB_\u03b8  + B_z  + \u03b3\u22c5p\u23a0     \u239f       \u239f\u239f                                      \n",
        "   2\u239f                         \u239f       \u239f\u239f                                      \n",
        "  r \u23a0                         \u23a0       \u23a0\u23a0                                      \n",
        "\u2500\u2500\u2500\u2500\u2500\u2500\u2500\u2500\u2500\u2500\u2500\u2500\u2500\u2500\u2500\u2500\u2500\u2500\u2500\u2500\u2500\u2500\u2500\u2500\u2500\u2500\u2500\u2500\u2500\u2500\u2500\u2500\u2500\u2500\u2500\u2500\u2500\u2500\u2500\u2500\u2500\u2500\u2500\u2500\u2500\u2500\u2500\u2500\u2500\u2500\u2500\u2500\u2500\u2500\u2500\u2500\u2500\u2500\u2500\u2500\u2500\u2500\u2500\u2500\u2500\u2500\u2500\u2500\u2500\u2500\u2500\u2500\u2500\u2500\u2500\u2500\u2500\u2500\n",
        "      2     \u239e                                                                 \n",
        "     \u239e      \u239f                                                                 \n",
        "B_z\u22c5k\u239f      \u239f                                                                 \n",
        "     \u23a0      \u239f \u239b   2      2      \u239e                                             \n",
        "\u2500\u2500\u2500\u2500\u2500\u2500\u2500 + \u03c9\u00b2\u239f\u22c5\u239dB_\u03b8  + B_z  + \u03b3\u22c5p\u23a0                                             \n",
        "      \u239e     \u239f                                                                 \n",
        " + \u03b3\u22c5p\u23a0     \u23a0                                                                 \n",
        "\n",
        "                                                                  \u239e \n",
        "              \u239b                     2                           \u239e\u239e\u239f \n",
        "_\u03b8\u22c5m        \u239e \u239c      \u239bB_\u03b8\u22c5m        \u239e         \u239b   2      2      \u239e\u239f\u239f\u239f \n",
        "\u2500\u2500\u2500\u2500 + B_z\u22c5k\u239f\u22c5\u239c- \u03b3\u22c5\u03c1\u22c5\u239c\u2500\u2500\u2500\u2500\u2500 + B_z\u22c5k\u239f  + \u03c9\u00b2\u22c5\u03c1\u22c5\u239dB_\u03b8  + B_z  + \u03b3\u22c5p\u23a0\u239f\u239f\u239f \n",
        " r          \u23a0 \u239d      \u239d  r          \u23a0                            \u23a0\u239f\u239f \n",
        "\u2500\u2500\u2500\u2500\u2500\u2500\u2500\u2500\u2500\u2500\u2500\u2500\u2500\u2500\u2500\u2500\u2500\u2500\u2500\u2500\u2500\u2500\u2500\u2500\u2500\u2500\u2500\u2500\u2500\u2500\u2500\u2500\u2500\u2500\u2500\u2500\u2500\u2500\u2500\u2500\u2500\u2500\u2500\u2500\u2500\u2500\u2500\u2500\u2500\u2500\u2500\u2500\u2500\u2500\u2500\u2500\u2500\u2500\u2500\u2500\u2500\u2500\u2500\u2500\u2500\u239f\u239f \n",
        "                           3                                     \u239f\u239f \n",
        "                          r                                      \u23a0\u239f \n",
        "                                                                  \u239f \n",
        "                                                                  \u239f \n",
        "                                                                  \u23a0 \n",
        "\u2500\u2500\u2500\u2500\u2500\u2500\u2500\u2500\u2500\u2500\u2500\u2500\u2500\u2500\u2500\u2500\u2500\u2500\u2500\u2500\u2500\u2500\u2500\u2500\u2500\u2500\u2500\u2500\u2500\u2500\u2500\u2500\u2500\u2500\u2500\u2500\u2500\u2500\u2500\u2500\u2500\u2500\u2500\u2500\u2500\u2500\u2500\u2500\u2500\u2500\u2500\u2500\u2500\u2500\u2500\u2500\u2500\u2500\u2500\u2500\u2500\u2500\u2500\u2500\u2500\u2500\u2500\u2500\n",
        "                                                                    \n",
        "                                                                    \n",
        "                                                                    \n",
        "                                                                    \n",
        "                                                                    \n",
        "                                                                    \n",
        "                                                                    "
       ]
      }
     ],
     "prompt_number": 82
    },
    {
     "cell_type": "code",
     "collapsed": false,
     "input": [
      "chi_1(0.5,2,3,4,5,6,7,8,9,10,11,12)"
     ],
     "language": "python",
     "metadata": {},
     "outputs": [
      {
       "latex": [
        "$$27.2462717669$$"
       ],
       "metadata": {},
       "output_type": "pyout",
       "png": "[encoded data removed]",
       "prompt_number": 85,
       "text": [
        "27.2462717669"
       ]
      }
     ],
     "prompt_number": 85
    },
    {
     "cell_type": "heading",
     "level": 2,
     "metadata": {},
     "source": [
      "$\\chi '_{2}$"
     ]
    },
    {
     "cell_type": "code",
     "collapsed": false,
     "input": [
      "class chi_2_func(sp.Function):\n",
      "    nargs = 12\n",
      "    \n",
      "    @classmethod\n",
      "    def eval(cls, r, k, m, gamma, b_theta, b_theta_prime, b_z, rho, pressure, omega_sq):\n",
      "        f_ev = f_func(r, k, m, b_theta, b_z)\n",
      "        omega_a_sq_ev = omega_a_sq(f_ev, rho)\n",
      "        omega_a_sq_ev = omega_sound_sq_func(gamma, f_ev, b_theta, b_z, rho, pressure)\n",
      "        omega_s0_sq_ev = omega_s0_sq_func(r, k, m, gamma, f_ev, b_theta, b_z, rho,\n",
      "                                 pressure)\n",
      "        omega_f0_sq_ev = omega_f0_sq_func(r, k, m, gamma, f_ev, b_theta, b_z, rho,\n",
      "                                 pressure)\n",
      "        n_ev = n_freq_func(gamma, b_theta, b_z, pressure, rho, omega_sq, omega_a_sq_ev,\n",
      "                  omega_s_sq_ev)\n",
      "        d_ev = d_freq_func(rho, omega_sq, omega_s0_sq_ev, omega_f0_sq_ev)\n",
      "        c_ev = c_func(r, k, m, gamma, f_ev, b_theta, b_z, rho, pressure, omega_sq)\n",
      "        e_ev = e_func(r, k, m, gamma, f_ev, n_ev, b_theta, b_theta_prime, b_z, rho,\n",
      "                      pressure, omega_sq)\n",
      "\n",
      "        chi = y[0]\n",
      "        Pi = y[1]\n",
      "        return -r/n_ev*(c_ev*chi + d_ev*Pi)"
     ],
     "language": "python",
     "metadata": {},
     "outputs": [],
     "prompt_number": 60
    },
    {
     "cell_type": "code",
     "collapsed": false,
     "input": [
      "def chi_2(r, k, m, gamma, b_theta, b_theta_prime, b_z, rho, pressure, omega_sq, y0, y1):\n",
      "    f_ev = eg.f(r, k, m, b_theta, b_z)\n",
      "    omega_a_sq_ev = eg.omega_a_sq(f_ev, rho)\n",
      "    omega_s_sq_ev = eg.omega_sound_sq(gamma, f_ev, b_theta, b_z, rho, pressure)\n",
      "    omega_s0_sq_ev = eg.omega_s0_sq(r, k, m, gamma, f_ev, b_theta, b_z, rho,\n",
      "                                    pressure)\n",
      "    omega_f0_sq_ev = eg.omega_f0_sq(r, k, m, gamma, f_ev, b_theta, b_z, rho,\n",
      "                                    pressure)\n",
      "    n_ev = eg.n_freq(gamma, b_theta, b_z, pressure, rho, omega_sq, omega_a_sq_ev,\n",
      "                     omega_s_sq_ev)\n",
      "    d_ev = eg.d_freq(rho, omega_sq, omega_s0_sq_ev, omega_f0_sq_ev)\n",
      "    c_ev = eg.c(r, k, m, gamma, f_ev, b_theta, b_z, rho, pressure, omega_sq)\n",
      "    e_ev = eg.e(r, k, m, gamma, f_ev, n_ev, b_theta, b_theta_prime, b_z, rho,\n",
      "                  pressure, omega_sq)\n",
      "\n",
      "    chi = y0\n",
      "    Pi = y1\n",
      "    return -r/n_ev*(e_ev*chi + c_ev*Pi)"
     ],
     "language": "python",
     "metadata": {},
     "outputs": [],
     "prompt_number": 89
    },
    {
     "cell_type": "code",
     "collapsed": false,
     "input": [
      "chi_2(0.5,2,3,4,5,6,7,8,9,10,11,12)"
     ],
     "language": "python",
     "metadata": {},
     "outputs": [
      {
       "latex": [
        "$$-31017.6785112$$"
       ],
       "metadata": {},
       "output_type": "pyout",
       "png": "[encoded data removed]",
       "prompt_number": 90,
       "text": [
        "-31017.6785112"
       ]
      }
     ],
     "prompt_number": 90
    },
    {
     "cell_type": "heading",
     "level": 2,
     "metadata": {},
     "source": [
      "$\\chi_{boundary1}$"
     ]
    },
    {
     "cell_type": "code",
     "collapsed": false,
     "input": [],
     "language": "python",
     "metadata": {},
     "outputs": [],
     "prompt_number": 157
    },
    {
     "cell_type": "code",
     "collapsed": false,
     "input": [],
     "language": "python",
     "metadata": {},
     "outputs": []
    },
    {
     "cell_type": "heading",
     "level": 2,
     "metadata": {},
     "source": [
      "$\\chi_{boundary2}$"
     ]
    },
    {
     "cell_type": "code",
     "collapsed": false,
     "input": [],
     "language": "python",
     "metadata": {},
     "outputs": []
    },
    {
     "cell_type": "code",
     "collapsed": false,
     "input": [],
     "language": "python",
     "metadata": {},
     "outputs": []
    }
   ],
   "metadata": {}
  }
 ]
}