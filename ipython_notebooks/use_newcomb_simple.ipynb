{
 "metadata": {
  "name": "",
  "signature": "sha256:ef03f848e8dcc1a979653baa2fdeb8a7231bebec84c0a3541431f6ab19cc4f6c"
 },
 "nbformat": 3,
 "nbformat_minor": 0,
 "worksheets": [
  {
   "cells": [
    {
     "cell_type": "code",
     "collapsed": false,
     "input": [
      "import sys\n",
      "sys.path.append('..')\n",
      "import newcomb_simple as new\n",
      "reload(new)\n",
      "import find_singularties\n",
      "reload(find_singularties)\n",
      "import equil_solver as es"
     ],
     "language": "python",
     "metadata": {},
     "outputs": [],
     "prompt_number": 22
    },
    {
     "cell_type": "code",
     "collapsed": false,
     "input": [
      "k_bar = 0.01\n",
      "m = -1\n",
      "core_radius = 0.8\n",
      "transition_width = 0.05 \n",
      "skin_width = 1. - core_radius - 2.*transition_width\n",
      "profile = es.UnitlessSmoothedCoreSkin(k_bar=k_bar, lambda_bar=0.01, epsilon=0.1,\n",
      "                                      core_radius_norm=core_radius, transition_width_norm=transition_width,\n",
      "                                      skin_width_norm=skin_width)\n",
      "splines = profile.get_splines()\n",
      "params = params = {'k': k_bar, 'm': float(m), 'r_0': 0., 'a': 1., 'b': 'infinity'}\n",
      "params.update(splines)\n",
      "params.update({'xi_factor': 1.,\n",
      "                'magnetic_potential_energy_ratio': 1.,\n",
      "                'beta_0': profile.beta_0(),\n",
      "                'core_radius': core_radius,\n",
      "                'transition_width': transition_width,\n",
      "                'skin_width': skin_width})"
     ],
     "language": "python",
     "metadata": {},
     "outputs": [],
     "prompt_number": 23
    },
    {
     "cell_type": "code",
     "collapsed": false,
     "input": [
      "new.stability(params, 1E-3, 1E-3, method='lsoda')"
     ],
     "language": "python",
     "metadata": {},
     "outputs": [
      {
       "metadata": {},
       "output_type": "pyout",
       "prompt_number": 24,
       "text": [
        "(True, True, 9.9991114155197704e-05, None)"
       ]
      }
     ],
     "prompt_number": 24
    },
    {
     "cell_type": "code",
     "collapsed": false,
     "input": [
      "(lambda_a_mesh, k_a_mesh, \n",
      " stability_maps) = scss.scan_lambda_k_space([0.01, 3.0, 10.], [0.01, 1.5, 10], xi_factor=1.0, \n",
      "                                           magnetic_potential_energy_ratio=1.0, epsilon=1.0,\n",
      "                                           core_radius_norm=0.8, transition_width_norm=0.05, skin_width_norm=0.1, \n",
      "                                           integration_points=5000)"
     ],
     "language": "python",
     "metadata": {},
     "outputs": [
      {
       "ename": "NameError",
       "evalue": "name 'scss' is not defined",
       "output_type": "pyerr",
       "traceback": [
        "\u001b[1;31m---------------------------------------------------------------------------\u001b[0m\n\u001b[1;31mNameError\u001b[0m                                 Traceback (most recent call last)",
        "\u001b[1;32m<ipython-input-25-751b7c33711b>\u001b[0m in \u001b[0;36m<module>\u001b[1;34m()\u001b[0m\n\u001b[0;32m      1\u001b[0m (lambda_a_mesh, k_a_mesh, \n\u001b[1;32m----> 2\u001b[1;33m  \u001b[0mstability_maps\u001b[0m\u001b[1;33m)\u001b[0m \u001b[1;33m=\u001b[0m \u001b[0mscss\u001b[0m\u001b[1;33m.\u001b[0m\u001b[0mscan_lambda_k_space\u001b[0m\u001b[1;33m(\u001b[0m\u001b[1;33m[\u001b[0m\u001b[1;36m0.01\u001b[0m\u001b[1;33m,\u001b[0m \u001b[1;36m3.0\u001b[0m\u001b[1;33m,\u001b[0m \u001b[1;36m10.\u001b[0m\u001b[1;33m]\u001b[0m\u001b[1;33m,\u001b[0m \u001b[1;33m[\u001b[0m\u001b[1;36m0.01\u001b[0m\u001b[1;33m,\u001b[0m \u001b[1;36m1.5\u001b[0m\u001b[1;33m,\u001b[0m \u001b[1;36m10\u001b[0m\u001b[1;33m]\u001b[0m\u001b[1;33m,\u001b[0m \u001b[0mxi_factor\u001b[0m\u001b[1;33m=\u001b[0m\u001b[1;36m1.0\u001b[0m\u001b[1;33m,\u001b[0m\u001b[1;33m\u001b[0m\u001b[0m\n\u001b[0m\u001b[0;32m      3\u001b[0m                                            \u001b[0mmagnetic_potential_energy_ratio\u001b[0m\u001b[1;33m=\u001b[0m\u001b[1;36m1.0\u001b[0m\u001b[1;33m,\u001b[0m \u001b[0mepsilon\u001b[0m\u001b[1;33m=\u001b[0m\u001b[1;36m1.0\u001b[0m\u001b[1;33m,\u001b[0m\u001b[1;33m\u001b[0m\u001b[0m\n\u001b[0;32m      4\u001b[0m                                            \u001b[0mcore_radius_norm\u001b[0m\u001b[1;33m=\u001b[0m\u001b[1;36m0.8\u001b[0m\u001b[1;33m,\u001b[0m \u001b[0mtransition_width_norm\u001b[0m\u001b[1;33m=\u001b[0m\u001b[1;36m0.05\u001b[0m\u001b[1;33m,\u001b[0m \u001b[0mskin_width_norm\u001b[0m\u001b[1;33m=\u001b[0m\u001b[1;36m0.1\u001b[0m\u001b[1;33m,\u001b[0m\u001b[1;33m\u001b[0m\u001b[0m\n\u001b[0;32m      5\u001b[0m                                            integration_points=5000)\n",
        "\u001b[1;31mNameError\u001b[0m: name 'scss' is not defined"
       ]
      }
     ],
     "prompt_number": 25
    },
    {
     "cell_type": "code",
     "collapsed": false,
     "input": [],
     "language": "python",
     "metadata": {},
     "outputs": []
    }
   ],
   "metadata": {}
  }
 ]
}