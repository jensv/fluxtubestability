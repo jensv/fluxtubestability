{
 "metadata": {
  "name": "",
  "signature": "sha256:22c8bb720155a7bb28321b2bc247f58ed76217d213a6d28bd05e19730c04c8cd"
 },
 "nbformat": 3,
 "nbformat_minor": 0,
 "worksheets": [
  {
   "cells": [
    {
     "cell_type": "code",
     "collapsed": false,
     "input": [
      "from __future__ import print_function, unicode_literals, division\n",
      "from __future__ import absolute_import\n",
      "from future import standard_library, utils\n",
      "from future.builtins import (ascii, bytes, chr, dict, filter, hex, input,\n",
      "                             int, map, next, oct, open, pow, range, round,\n",
      "                             str, super, zip)"
     ],
     "language": "python",
     "metadata": {},
     "outputs": [],
     "prompt_number": 9
    },
    {
     "cell_type": "code",
     "collapsed": false,
     "input": [
      "import numpy as np\n",
      "import sys\n",
      "sys.path.append('..')\n",
      "import skin_core_scanner as scs\n",
      "reload(scs)\n",
      "import equil_solver as es\n",
      "reload(es)\n",
      "import newcomb as new\n",
      "reload(new)\n",
      "import singularity_frobenius as sing_frob\n",
      "reload(sing_frob)\n",
      "import newcomb_init\n",
      "reload(newcomb_init)\n",
      "\n",
      "%matplotlib inline\n",
      "import matplotlib.pyplot as plt\n",
      "import seaborn as sns\n",
      "sns.set_style('whitegrid')\n",
      "sns.set_context('poster')"
     ],
     "language": "python",
     "metadata": {},
     "outputs": [],
     "prompt_number": 12
    },
    {
     "cell_type": "code",
     "collapsed": false,
     "input": [
      "lambda_a_mesh, k_a_mesh, stability_maps = scs.scan_lambda_k_space([0.01, 3., 10], [0.01, 1.5, 10], xi_factor=1.0, magnetic_potential_energy_ratio=1.0, epsilon=0.9)"
     ],
     "language": "python",
     "metadata": {},
     "outputs": [
      {
       "output_type": "stream",
       "stream": "stdout",
       "text": [
        "('lambda_bar:', 0.01)\n",
        "('lambda_bar:', 0.34222222222222226)"
       ]
      },
      {
       "output_type": "stream",
       "stream": "stdout",
       "text": [
        "\n",
        "('lambda_bar:', 0.67444444444444451)"
       ]
      },
      {
       "output_type": "stream",
       "stream": "stdout",
       "text": [
        "\n",
        "('lambda_bar:', 1.0066666666666668)"
       ]
      },
      {
       "output_type": "stream",
       "stream": "stdout",
       "text": [
        "\n",
        "('lambda_bar:', 1.338888888888889)"
       ]
      },
      {
       "output_type": "stream",
       "stream": "stdout",
       "text": [
        "\n",
        "('lambda_bar:', 1.6711111111111112)"
       ]
      },
      {
       "output_type": "stream",
       "stream": "stdout",
       "text": [
        "\n",
        "('lambda_bar:', 2.0033333333333334)"
       ]
      },
      {
       "output_type": "stream",
       "stream": "stdout",
       "text": [
        "\n",
        "('lambda_bar:', 2.3355555555555556)"
       ]
      },
      {
       "output_type": "stream",
       "stream": "stdout",
       "text": [
        "\n",
        "('lambda_bar:', 2.6677777777777778)"
       ]
      },
      {
       "output_type": "stream",
       "stream": "stdout",
       "text": [
        "\n",
        "('lambda_bar:', 3.0)"
       ]
      },
      {
       "output_type": "stream",
       "stream": "stdout",
       "text": [
        "\n"
       ]
      }
     ],
     "prompt_number": 13
    },
    {
     "cell_type": "code",
     "collapsed": false,
     "input": [
      "epsilon_list = [1.5, 0.8, 0.2]\n",
      "results = []\n",
      "\n",
      "for epsilon in epsilon_list:\n",
      "    print('epsilon:', epsilon)\n",
      "    result = scs.scan_lambda_k_space([0.01, 3., 50], [0.01, 3., 50], epsilon=epsilon)\n",
      "    results.append(result)"
     ],
     "language": "python",
     "metadata": {},
     "outputs": [
      {
       "output_type": "stream",
       "stream": "stdout",
       "text": [
        "epsilon: 1.5\n",
        "('lambda_bar:', 0.01)\n",
        "('lambda_bar:', 0.071020408163265311)"
       ]
      },
      {
       "output_type": "stream",
       "stream": "stdout",
       "text": [
        "\n",
        "('lambda_bar:', 0.13204081632653061)"
       ]
      },
      {
       "output_type": "stream",
       "stream": "stdout",
       "text": [
        "\n",
        "('lambda_bar:', 0.19306122448979593)"
       ]
      },
      {
       "output_type": "stream",
       "stream": "stdout",
       "text": [
        "\n",
        "('lambda_bar:', 0.25408163265306122)"
       ]
      },
      {
       "output_type": "stream",
       "stream": "stdout",
       "text": [
        "\n",
        "('lambda_bar:', 0.31510204081632653)"
       ]
      },
      {
       "output_type": "stream",
       "stream": "stdout",
       "text": [
        "\n",
        "('lambda_bar:', 0.37612244897959185)"
       ]
      },
      {
       "output_type": "stream",
       "stream": "stdout",
       "text": [
        "\n",
        "('lambda_bar:', 0.43714285714285717)"
       ]
      },
      {
       "output_type": "stream",
       "stream": "stdout",
       "text": [
        "\n",
        "('lambda_bar:', 0.49816326530612248)"
       ]
      },
      {
       "output_type": "stream",
       "stream": "stdout",
       "text": [
        "\n",
        "('lambda_bar:', 0.5591836734693878)"
       ]
      },
      {
       "output_type": "stream",
       "stream": "stdout",
       "text": [
        "\n",
        "('lambda_bar:', 0.62020408163265306)"
       ]
      },
      {
       "output_type": "stream",
       "stream": "stdout",
       "text": [
        "\n",
        "('lambda_bar:', 0.68122448979591843)"
       ]
      },
      {
       "output_type": "stream",
       "stream": "stdout",
       "text": [
        "\n",
        "('lambda_bar:', 0.74224489795918369)"
       ]
      },
      {
       "output_type": "stream",
       "stream": "stdout",
       "text": [
        "\n",
        "('lambda_bar:', 0.80326530612244906)"
       ]
      },
      {
       "output_type": "stream",
       "stream": "stdout",
       "text": [
        "\n",
        "('lambda_bar:', 0.86428571428571432)"
       ]
      },
      {
       "output_type": "stream",
       "stream": "stdout",
       "text": [
        "\n",
        "('lambda_bar:', 0.9253061224489797)"
       ]
      },
      {
       "output_type": "stream",
       "stream": "stdout",
       "text": [
        "\n",
        "('lambda_bar:', 0.98632653061224496)"
       ]
      },
      {
       "output_type": "stream",
       "stream": "stdout",
       "text": [
        "\n",
        "('lambda_bar:', 1.0473469387755103)"
       ]
      },
      {
       "output_type": "stream",
       "stream": "stdout",
       "text": [
        "\n",
        "('lambda_bar:', 1.1083673469387756)"
       ]
      },
      {
       "output_type": "stream",
       "stream": "stdout",
       "text": [
        "\n",
        "('lambda_bar:', 1.1693877551020408)"
       ]
      },
      {
       "output_type": "stream",
       "stream": "stdout",
       "text": [
        "\n",
        "('lambda_bar:', 1.2304081632653061)"
       ]
      },
      {
       "output_type": "stream",
       "stream": "stdout",
       "text": [
        "\n",
        "('lambda_bar:', 1.2914285714285716)"
       ]
      },
      {
       "output_type": "stream",
       "stream": "stdout",
       "text": [
        "\n",
        "('lambda_bar:', 1.3524489795918369)"
       ]
      },
      {
       "output_type": "stream",
       "stream": "stdout",
       "text": [
        "\n",
        "('lambda_bar:', 1.4134693877551021)"
       ]
      },
      {
       "output_type": "stream",
       "stream": "stdout",
       "text": [
        "\n",
        "('lambda_bar:', 1.4744897959183674)"
       ]
      },
      {
       "output_type": "stream",
       "stream": "stdout",
       "text": [
        "\n",
        "('lambda_bar:', 1.5355102040816326)"
       ]
      },
      {
       "output_type": "stream",
       "stream": "stdout",
       "text": [
        "\n",
        "('lambda_bar:', 1.5965306122448981)"
       ]
      },
      {
       "output_type": "stream",
       "stream": "stdout",
       "text": [
        "\n",
        "('lambda_bar:', 1.6575510204081634)"
       ]
      },
      {
       "output_type": "stream",
       "stream": "stdout",
       "text": [
        "\n",
        "('lambda_bar:', 1.7185714285714286)"
       ]
      },
      {
       "output_type": "stream",
       "stream": "stdout",
       "text": [
        "\n",
        "('lambda_bar:', 1.7795918367346939)"
       ]
      },
      {
       "output_type": "stream",
       "stream": "stdout",
       "text": [
        "\n",
        "('lambda_bar:', 1.8406122448979594)"
       ]
      },
      {
       "output_type": "stream",
       "stream": "stdout",
       "text": [
        "\n",
        "('lambda_bar:', 1.9016326530612246)"
       ]
      },
      {
       "output_type": "stream",
       "stream": "stdout",
       "text": [
        "\n",
        "('lambda_bar:', 1.9626530612244899)"
       ]
      },
      {
       "output_type": "stream",
       "stream": "stdout",
       "text": [
        "\n",
        "('lambda_bar:', 2.0236734693877549)"
       ]
      },
      {
       "output_type": "stream",
       "stream": "stdout",
       "text": [
        "\n",
        "('lambda_bar:', 2.0846938775510204)"
       ]
      },
      {
       "output_type": "stream",
       "stream": "stdout",
       "text": [
        "\n",
        "('lambda_bar:', 2.1457142857142855)"
       ]
      },
      {
       "output_type": "stream",
       "stream": "stdout",
       "text": [
        "\n",
        "('lambda_bar:', 2.2067346938775509)"
       ]
      },
      {
       "output_type": "stream",
       "stream": "stdout",
       "text": [
        "\n",
        "('lambda_bar:', 2.2677551020408164)"
       ]
      },
      {
       "output_type": "stream",
       "stream": "stdout",
       "text": [
        "\n",
        "('lambda_bar:', 2.3287755102040815)"
       ]
      },
      {
       "output_type": "stream",
       "stream": "stdout",
       "text": [
        "\n",
        "('lambda_bar:', 2.3897959183673469)"
       ]
      },
      {
       "output_type": "stream",
       "stream": "stdout",
       "text": [
        "\n",
        "('lambda_bar:', 2.450816326530612)"
       ]
      },
      {
       "output_type": "stream",
       "stream": "stdout",
       "text": [
        "\n",
        "('lambda_bar:', 2.5118367346938775)"
       ]
      },
      {
       "output_type": "stream",
       "stream": "stdout",
       "text": [
        "\n",
        "('lambda_bar:', 2.572857142857143)"
       ]
      },
      {
       "output_type": "stream",
       "stream": "stdout",
       "text": [
        "\n",
        "('lambda_bar:', 2.633877551020408)"
       ]
      },
      {
       "output_type": "stream",
       "stream": "stdout",
       "text": [
        "\n",
        "('lambda_bar:', 2.6948979591836735)"
       ]
      },
      {
       "output_type": "stream",
       "stream": "stdout",
       "text": [
        "\n",
        "('lambda_bar:', 2.7559183673469385)"
       ]
      },
      {
       "output_type": "stream",
       "stream": "stdout",
       "text": [
        "\n",
        "('lambda_bar:', 2.816938775510204)"
       ]
      },
      {
       "output_type": "stream",
       "stream": "stdout",
       "text": [
        "\n",
        "('lambda_bar:', 2.8779591836734695)"
       ]
      },
      {
       "output_type": "stream",
       "stream": "stdout",
       "text": [
        "\n",
        "('lambda_bar:', 2.9389795918367345)"
       ]
      },
      {
       "output_type": "stream",
       "stream": "stdout",
       "text": [
        "\n",
        "('lambda_bar:', 3.0)"
       ]
      },
      {
       "output_type": "stream",
       "stream": "stdout",
       "text": [
        "\n",
        "epsilon:"
       ]
      },
      {
       "output_type": "stream",
       "stream": "stdout",
       "text": [
        " 0.8\n",
        "('lambda_bar:', 0.01)\n",
        "('lambda_bar:', 0.071020408163265311)"
       ]
      },
      {
       "output_type": "stream",
       "stream": "stdout",
       "text": [
        "\n",
        "('lambda_bar:', 0.13204081632653061)"
       ]
      },
      {
       "output_type": "stream",
       "stream": "stdout",
       "text": [
        "\n",
        "('lambda_bar:', 0.19306122448979593)"
       ]
      },
      {
       "output_type": "stream",
       "stream": "stdout",
       "text": [
        "\n",
        "('lambda_bar:', 0.25408163265306122)"
       ]
      },
      {
       "output_type": "stream",
       "stream": "stdout",
       "text": [
        "\n",
        "('lambda_bar:', 0.31510204081632653)"
       ]
      },
      {
       "output_type": "stream",
       "stream": "stdout",
       "text": [
        "\n",
        "('lambda_bar:', 0.37612244897959185)"
       ]
      },
      {
       "output_type": "stream",
       "stream": "stdout",
       "text": [
        "\n",
        "('lambda_bar:', 0.43714285714285717)"
       ]
      },
      {
       "output_type": "stream",
       "stream": "stdout",
       "text": [
        "\n",
        "('lambda_bar:', 0.49816326530612248)"
       ]
      },
      {
       "output_type": "stream",
       "stream": "stdout",
       "text": [
        "\n",
        "('lambda_bar:', 0.5591836734693878)"
       ]
      },
      {
       "output_type": "stream",
       "stream": "stdout",
       "text": [
        "\n",
        "('lambda_bar:', 0.62020408163265306)"
       ]
      },
      {
       "output_type": "stream",
       "stream": "stdout",
       "text": [
        "\n",
        "('lambda_bar:', 0.68122448979591843)"
       ]
      },
      {
       "output_type": "stream",
       "stream": "stdout",
       "text": [
        "\n",
        "('lambda_bar:', 0.74224489795918369)"
       ]
      },
      {
       "output_type": "stream",
       "stream": "stdout",
       "text": [
        "\n",
        "('lambda_bar:', 0.80326530612244906)"
       ]
      },
      {
       "output_type": "stream",
       "stream": "stdout",
       "text": [
        "\n",
        "('lambda_bar:', 0.86428571428571432)"
       ]
      },
      {
       "output_type": "stream",
       "stream": "stdout",
       "text": [
        "\n",
        "('lambda_bar:', 0.9253061224489797)"
       ]
      },
      {
       "output_type": "stream",
       "stream": "stdout",
       "text": [
        "\n",
        "('lambda_bar:', 0.98632653061224496)"
       ]
      },
      {
       "output_type": "stream",
       "stream": "stdout",
       "text": [
        "\n",
        "('lambda_bar:', 1.0473469387755103)"
       ]
      },
      {
       "output_type": "stream",
       "stream": "stdout",
       "text": [
        "\n",
        "('lambda_bar:', 1.1083673469387756)"
       ]
      },
      {
       "output_type": "stream",
       "stream": "stdout",
       "text": [
        "\n",
        "('lambda_bar:', 1.1693877551020408)"
       ]
      },
      {
       "output_type": "stream",
       "stream": "stdout",
       "text": [
        "\n",
        "('lambda_bar:', 1.2304081632653061)"
       ]
      },
      {
       "output_type": "stream",
       "stream": "stdout",
       "text": [
        "\n",
        "('lambda_bar:', 1.2914285714285716)"
       ]
      },
      {
       "output_type": "stream",
       "stream": "stdout",
       "text": [
        "\n",
        "('lambda_bar:', 1.3524489795918369)"
       ]
      },
      {
       "output_type": "stream",
       "stream": "stdout",
       "text": [
        "\n",
        "('lambda_bar:', 1.4134693877551021)"
       ]
      },
      {
       "output_type": "stream",
       "stream": "stdout",
       "text": [
        "\n",
        "('lambda_bar:', 1.4744897959183674)"
       ]
      },
      {
       "output_type": "stream",
       "stream": "stdout",
       "text": [
        "\n",
        "('lambda_bar:', 1.5355102040816326)"
       ]
      },
      {
       "output_type": "stream",
       "stream": "stdout",
       "text": [
        "\n",
        "('lambda_bar:', 1.5965306122448981)"
       ]
      },
      {
       "output_type": "stream",
       "stream": "stdout",
       "text": [
        "\n",
        "('lambda_bar:', 1.6575510204081634)"
       ]
      },
      {
       "output_type": "stream",
       "stream": "stdout",
       "text": [
        "\n",
        "('lambda_bar:', 1.7185714285714286)"
       ]
      },
      {
       "output_type": "stream",
       "stream": "stdout",
       "text": [
        "\n",
        "('lambda_bar:', 1.7795918367346939)"
       ]
      },
      {
       "output_type": "stream",
       "stream": "stdout",
       "text": [
        "\n",
        "('lambda_bar:', 1.8406122448979594)"
       ]
      },
      {
       "output_type": "stream",
       "stream": "stdout",
       "text": [
        "\n",
        "('lambda_bar:', 1.9016326530612246)"
       ]
      },
      {
       "output_type": "stream",
       "stream": "stdout",
       "text": [
        "\n",
        "('lambda_bar:', 1.9626530612244899)"
       ]
      },
      {
       "output_type": "stream",
       "stream": "stdout",
       "text": [
        "\n",
        "('lambda_bar:', 2.0236734693877549)"
       ]
      },
      {
       "output_type": "stream",
       "stream": "stdout",
       "text": [
        "\n",
        "('lambda_bar:', 2.0846938775510204)"
       ]
      },
      {
       "output_type": "stream",
       "stream": "stdout",
       "text": [
        "\n",
        "('lambda_bar:', 2.1457142857142855)"
       ]
      },
      {
       "output_type": "stream",
       "stream": "stdout",
       "text": [
        "\n",
        "('lambda_bar:', 2.2067346938775509)"
       ]
      },
      {
       "output_type": "stream",
       "stream": "stdout",
       "text": [
        "\n",
        "('lambda_bar:', 2.2677551020408164)"
       ]
      },
      {
       "output_type": "stream",
       "stream": "stdout",
       "text": [
        "\n",
        "('lambda_bar:', 2.3287755102040815)"
       ]
      },
      {
       "output_type": "stream",
       "stream": "stdout",
       "text": [
        "\n",
        "('lambda_bar:', 2.3897959183673469)"
       ]
      },
      {
       "output_type": "stream",
       "stream": "stdout",
       "text": [
        "\n",
        "('lambda_bar:', 2.450816326530612)"
       ]
      },
      {
       "output_type": "stream",
       "stream": "stdout",
       "text": [
        "\n",
        "('lambda_bar:', 2.5118367346938775)"
       ]
      },
      {
       "output_type": "stream",
       "stream": "stdout",
       "text": [
        "\n",
        "('lambda_bar:', 2.572857142857143)"
       ]
      },
      {
       "output_type": "stream",
       "stream": "stdout",
       "text": [
        "\n",
        "('lambda_bar:', 2.633877551020408)"
       ]
      },
      {
       "output_type": "stream",
       "stream": "stdout",
       "text": [
        "\n",
        "('lambda_bar:', 2.6948979591836735)"
       ]
      },
      {
       "output_type": "stream",
       "stream": "stdout",
       "text": [
        "\n",
        "('lambda_bar:', 2.7559183673469385)"
       ]
      },
      {
       "output_type": "stream",
       "stream": "stdout",
       "text": [
        "\n",
        "('lambda_bar:', 2.816938775510204)"
       ]
      },
      {
       "output_type": "stream",
       "stream": "stdout",
       "text": [
        "\n",
        "('lambda_bar:', 2.8779591836734695)"
       ]
      },
      {
       "output_type": "stream",
       "stream": "stdout",
       "text": [
        "\n",
        "('lambda_bar:', 2.9389795918367345)"
       ]
      },
      {
       "output_type": "stream",
       "stream": "stdout",
       "text": [
        "\n",
        "('lambda_bar:', 3.0)"
       ]
      },
      {
       "output_type": "stream",
       "stream": "stdout",
       "text": [
        "\n",
        "epsilon:"
       ]
      },
      {
       "output_type": "stream",
       "stream": "stdout",
       "text": [
        " 0.2\n",
        "('lambda_bar:', 0.01)\n",
        "('lambda_bar:', 0.071020408163265311)"
       ]
      },
      {
       "output_type": "stream",
       "stream": "stdout",
       "text": [
        "\n",
        "('lambda_bar:', 0.13204081632653061)"
       ]
      },
      {
       "output_type": "stream",
       "stream": "stdout",
       "text": [
        "\n",
        "('lambda_bar:', 0.19306122448979593)"
       ]
      },
      {
       "output_type": "stream",
       "stream": "stdout",
       "text": [
        "\n",
        "('lambda_bar:', 0.25408163265306122)"
       ]
      },
      {
       "output_type": "stream",
       "stream": "stdout",
       "text": [
        "\n",
        "('lambda_bar:', 0.31510204081632653)"
       ]
      },
      {
       "output_type": "stream",
       "stream": "stdout",
       "text": [
        "\n",
        "('lambda_bar:', 0.37612244897959185)"
       ]
      },
      {
       "output_type": "stream",
       "stream": "stdout",
       "text": [
        "\n",
        "('lambda_bar:', 0.43714285714285717)"
       ]
      },
      {
       "output_type": "stream",
       "stream": "stdout",
       "text": [
        "\n",
        "('lambda_bar:', 0.49816326530612248)"
       ]
      },
      {
       "output_type": "stream",
       "stream": "stdout",
       "text": [
        "\n",
        "Integration to plasma edge did not succeed. Can not determine external stability."
       ]
      },
      {
       "output_type": "stream",
       "stream": "stdout",
       "text": [
        "\n",
        "('lambda_bar:', 0.5591836734693878)"
       ]
      },
      {
       "output_type": "stream",
       "stream": "stdout",
       "text": [
        "\n",
        "('lambda_bar:', 0.62020408163265306)"
       ]
      },
      {
       "output_type": "stream",
       "stream": "stdout",
       "text": [
        "\n",
        "('lambda_bar:', 0.68122448979591843)"
       ]
      },
      {
       "output_type": "stream",
       "stream": "stdout",
       "text": [
        "\n",
        "('lambda_bar:', 0.74224489795918369)"
       ]
      },
      {
       "output_type": "stream",
       "stream": "stdout",
       "text": [
        "\n",
        "('lambda_bar:', 0.80326530612244906)"
       ]
      },
      {
       "output_type": "stream",
       "stream": "stdout",
       "text": [
        "\n",
        "Integration to plasma edge did not succeed. Can not determine external stability."
       ]
      },
      {
       "output_type": "stream",
       "stream": "stdout",
       "text": [
        "\n",
        "('lambda_bar:', 0.86428571428571432)"
       ]
      },
      {
       "output_type": "stream",
       "stream": "stdout",
       "text": [
        "\n",
        "Integration to plasma edge did not succeed. Can not determine external stability."
       ]
      },
      {
       "output_type": "stream",
       "stream": "stdout",
       "text": [
        "\n",
        "('lambda_bar:', 0.9253061224489797)"
       ]
      },
      {
       "output_type": "stream",
       "stream": "stdout",
       "text": [
        "\n",
        "Integration to plasma edge did not succeed. Can not determine external stability."
       ]
      },
      {
       "output_type": "stream",
       "stream": "stdout",
       "text": [
        "\n",
        "Integration to plasma edge did not succeed. Can not determine external stability."
       ]
      },
      {
       "output_type": "stream",
       "stream": "stdout",
       "text": [
        "\n",
        "Integration to plasma edge did not succeed. Can not determine external stability."
       ]
      },
      {
       "output_type": "stream",
       "stream": "stdout",
       "text": [
        "\n",
        "Integration to plasma edge did not succeed. Can not determine external stability."
       ]
      },
      {
       "output_type": "stream",
       "stream": "stdout",
       "text": [
        "\n",
        "Integration to plasma edge did not succeed. Can not determine external stability."
       ]
      },
      {
       "output_type": "stream",
       "stream": "stdout",
       "text": [
        "\n",
        "Integration to plasma edge did not succeed. Can not determine external stability."
       ]
      },
      {
       "output_type": "stream",
       "stream": "stdout",
       "text": [
        "\n",
        "('lambda_bar:', 0.98632653061224496)"
       ]
      },
      {
       "output_type": "stream",
       "stream": "stdout",
       "text": [
        "\n",
        "Integration to plasma edge did not succeed. Can not determine external stability."
       ]
      },
      {
       "output_type": "stream",
       "stream": "stdout",
       "text": [
        "\n",
        "Integration to plasma edge did not succeed. Can not determine external stability."
       ]
      },
      {
       "output_type": "stream",
       "stream": "stdout",
       "text": [
        "\n",
        "Integration to plasma edge did not succeed. Can not determine external stability."
       ]
      },
      {
       "output_type": "stream",
       "stream": "stdout",
       "text": [
        "\n",
        "Integration to plasma edge did not succeed. Can not determine external stability."
       ]
      },
      {
       "output_type": "stream",
       "stream": "stdout",
       "text": [
        "\n",
        "Integration to plasma edge did not succeed. Can not determine external stability."
       ]
      },
      {
       "output_type": "stream",
       "stream": "stdout",
       "text": [
        "\n",
        "Integration to plasma edge did not succeed. Can not determine external stability."
       ]
      },
      {
       "output_type": "stream",
       "stream": "stdout",
       "text": [
        "\n",
        "('lambda_bar:', 1.0473469387755103)"
       ]
      },
      {
       "output_type": "stream",
       "stream": "stdout",
       "text": [
        "\n",
        "Integration to plasma edge did not succeed. Can not determine external stability."
       ]
      },
      {
       "output_type": "stream",
       "stream": "stdout",
       "text": [
        "\n",
        "Integration to plasma edge did not succeed. Can not determine external stability."
       ]
      },
      {
       "output_type": "stream",
       "stream": "stdout",
       "text": [
        "\n",
        "Integration to plasma edge did not succeed. Can not determine external stability."
       ]
      },
      {
       "output_type": "stream",
       "stream": "stdout",
       "text": [
        "\n",
        "Integration to plasma edge did not succeed. Can not determine external stability."
       ]
      },
      {
       "output_type": "stream",
       "stream": "stdout",
       "text": [
        "\n",
        "Integration to plasma edge did not succeed. Can not determine external stability."
       ]
      },
      {
       "output_type": "stream",
       "stream": "stdout",
       "text": [
        "\n",
        "Integration to plasma edge did not succeed. Can not determine external stability."
       ]
      },
      {
       "output_type": "stream",
       "stream": "stdout",
       "text": [
        "\n",
        "Integration to plasma edge did not succeed. Can not determine external stability."
       ]
      },
      {
       "output_type": "stream",
       "stream": "stdout",
       "text": [
        "\n",
        "('lambda_bar:', 1.1083673469387756)"
       ]
      },
      {
       "output_type": "stream",
       "stream": "stdout",
       "text": [
        "\n",
        "Integration to plasma edge did not succeed. Can not determine external stability."
       ]
      },
      {
       "output_type": "stream",
       "stream": "stdout",
       "text": [
        "\n",
        "Integration to plasma edge did not succeed. Can not determine external stability."
       ]
      },
      {
       "output_type": "stream",
       "stream": "stdout",
       "text": [
        "\n",
        "Integration to plasma edge did not succeed. Can not determine external stability."
       ]
      },
      {
       "output_type": "stream",
       "stream": "stdout",
       "text": [
        "\n",
        "Integration to plasma edge did not succeed. Can not determine external stability."
       ]
      },
      {
       "output_type": "stream",
       "stream": "stdout",
       "text": [
        "\n",
        "Integration to plasma edge did not succeed. Can not determine external stability."
       ]
      },
      {
       "output_type": "stream",
       "stream": "stdout",
       "text": [
        "\n",
        "Integration to plasma edge did not succeed. Can not determine external stability."
       ]
      },
      {
       "output_type": "stream",
       "stream": "stdout",
       "text": [
        "\n",
        "Integration to plasma edge did not succeed. Can not determine external stability."
       ]
      },
      {
       "output_type": "stream",
       "stream": "stdout",
       "text": [
        "\n",
        "Integration to plasma edge did not succeed. Can not determine external stability."
       ]
      },
      {
       "output_type": "stream",
       "stream": "stdout",
       "text": [
        "\n",
        "Integration to plasma edge did not succeed. Can not determine external stability."
       ]
      },
      {
       "output_type": "stream",
       "stream": "stdout",
       "text": [
        "\n",
        "Integration to plasma edge did not succeed. Can not determine external stability."
       ]
      },
      {
       "output_type": "stream",
       "stream": "stdout",
       "text": [
        "\n",
        "Integration to plasma edge did not succeed. Can not determine external stability."
       ]
      },
      {
       "output_type": "stream",
       "stream": "stdout",
       "text": [
        "\n",
        "Integration to plasma edge did not succeed. Can not determine external stability."
       ]
      },
      {
       "output_type": "stream",
       "stream": "stdout",
       "text": [
        "\n",
        "Integration to plasma edge did not succeed. Can not determine external stability."
       ]
      },
      {
       "output_type": "stream",
       "stream": "stdout",
       "text": [
        "\n",
        "('lambda_bar:', 1.1693877551020408)"
       ]
      },
      {
       "output_type": "stream",
       "stream": "stdout",
       "text": [
        "\n",
        "Integration to plasma edge did not succeed. Can not determine external stability."
       ]
      },
      {
       "output_type": "stream",
       "stream": "stdout",
       "text": [
        "\n",
        "Integration to plasma edge did not succeed. Can not determine external stability."
       ]
      },
      {
       "output_type": "stream",
       "stream": "stdout",
       "text": [
        "\n",
        "Integration to plasma edge did not succeed. Can not determine external stability."
       ]
      },
      {
       "output_type": "stream",
       "stream": "stdout",
       "text": [
        "\n",
        "Integration to plasma edge did not succeed. Can not determine external stability."
       ]
      },
      {
       "output_type": "stream",
       "stream": "stdout",
       "text": [
        "\n",
        "Integration to plasma edge did not succeed. Can not determine external stability."
       ]
      },
      {
       "output_type": "stream",
       "stream": "stdout",
       "text": [
        "\n",
        "Integration to plasma edge did not succeed. Can not determine external stability."
       ]
      },
      {
       "output_type": "stream",
       "stream": "stdout",
       "text": [
        "\n",
        "Integration to plasma edge did not succeed. Can not determine external stability."
       ]
      },
      {
       "output_type": "stream",
       "stream": "stdout",
       "text": [
        "\n",
        "Integration to plasma edge did not succeed. Can not determine external stability."
       ]
      },
      {
       "output_type": "stream",
       "stream": "stdout",
       "text": [
        "\n",
        "Integration to plasma edge did not succeed. Can not determine external stability."
       ]
      },
      {
       "output_type": "stream",
       "stream": "stdout",
       "text": [
        "\n",
        "('lambda_bar:', 1.2304081632653061)"
       ]
      },
      {
       "output_type": "stream",
       "stream": "stdout",
       "text": [
        "\n",
        "Integration to plasma edge did not succeed. Can not determine external stability."
       ]
      },
      {
       "output_type": "stream",
       "stream": "stdout",
       "text": [
        "\n",
        "Integration to plasma edge did not succeed. Can not determine external stability."
       ]
      },
      {
       "output_type": "stream",
       "stream": "stdout",
       "text": [
        "\n",
        "Integration to plasma edge did not succeed. Can not determine external stability."
       ]
      },
      {
       "output_type": "stream",
       "stream": "stdout",
       "text": [
        "\n",
        "Integration to plasma edge did not succeed. Can not determine external stability."
       ]
      },
      {
       "output_type": "stream",
       "stream": "stdout",
       "text": [
        "\n",
        "Integration to plasma edge did not succeed. Can not determine external stability."
       ]
      },
      {
       "output_type": "stream",
       "stream": "stdout",
       "text": [
        "\n",
        "Integration to plasma edge did not succeed. Can not determine external stability."
       ]
      },
      {
       "output_type": "stream",
       "stream": "stdout",
       "text": [
        "\n",
        "Integration to plasma edge did not succeed. Can not determine external stability."
       ]
      },
      {
       "output_type": "stream",
       "stream": "stdout",
       "text": [
        "\n",
        "Integration to plasma edge did not succeed. Can not determine external stability."
       ]
      },
      {
       "output_type": "stream",
       "stream": "stdout",
       "text": [
        "\n",
        "Integration to plasma edge did not succeed. Can not determine external stability."
       ]
      },
      {
       "output_type": "stream",
       "stream": "stdout",
       "text": [
        "\n",
        "Integration to plasma edge did not succeed. Can not determine external stability."
       ]
      },
      {
       "output_type": "stream",
       "stream": "stdout",
       "text": [
        "\n",
        "Integration to plasma edge did not succeed. Can not determine external stability."
       ]
      },
      {
       "output_type": "stream",
       "stream": "stdout",
       "text": [
        "\n",
        "('lambda_bar:', 1.2914285714285716)"
       ]
      },
      {
       "output_type": "stream",
       "stream": "stdout",
       "text": [
        "\n",
        "Integration to plasma edge did not succeed. Can not determine external stability."
       ]
      },
      {
       "output_type": "stream",
       "stream": "stdout",
       "text": [
        "\n",
        "Integration to plasma edge did not succeed. Can not determine external stability."
       ]
      },
      {
       "output_type": "stream",
       "stream": "stdout",
       "text": [
        "\n",
        "Integration to plasma edge did not succeed. Can not determine external stability."
       ]
      },
      {
       "output_type": "stream",
       "stream": "stdout",
       "text": [
        "\n",
        "Integration to plasma edge did not succeed. Can not determine external stability."
       ]
      },
      {
       "output_type": "stream",
       "stream": "stdout",
       "text": [
        "\n",
        "Integration to plasma edge did not succeed. Can not determine external stability."
       ]
      },
      {
       "output_type": "stream",
       "stream": "stdout",
       "text": [
        "\n",
        "Integration to plasma edge did not succeed. Can not determine external stability."
       ]
      },
      {
       "output_type": "stream",
       "stream": "stdout",
       "text": [
        "\n",
        "Integration to plasma edge did not succeed. Can not determine external stability."
       ]
      },
      {
       "output_type": "stream",
       "stream": "stdout",
       "text": [
        "\n",
        "Integration to plasma edge did not succeed. Can not determine external stability."
       ]
      },
      {
       "output_type": "stream",
       "stream": "stdout",
       "text": [
        "\n",
        "Integration to plasma edge did not succeed. Can not determine external stability."
       ]
      },
      {
       "output_type": "stream",
       "stream": "stdout",
       "text": [
        "\n",
        "Integration to plasma edge did not succeed. Can not determine external stability."
       ]
      },
      {
       "output_type": "stream",
       "stream": "stdout",
       "text": [
        "\n",
        "Integration to plasma edge did not succeed. Can not determine external stability."
       ]
      },
      {
       "output_type": "stream",
       "stream": "stdout",
       "text": [
        "\n",
        "('lambda_bar:', 1.3524489795918369)"
       ]
      },
      {
       "output_type": "stream",
       "stream": "stdout",
       "text": [
        "\n",
        "Integration to plasma edge did not succeed. Can not determine external stability."
       ]
      },
      {
       "output_type": "stream",
       "stream": "stdout",
       "text": [
        "\n",
        "Integration to plasma edge did not succeed. Can not determine external stability."
       ]
      },
      {
       "output_type": "stream",
       "stream": "stdout",
       "text": [
        "\n",
        "Integration to plasma edge did not succeed. Can not determine external stability."
       ]
      },
      {
       "output_type": "stream",
       "stream": "stdout",
       "text": [
        "\n",
        "Integration to plasma edge did not succeed. Can not determine external stability."
       ]
      },
      {
       "output_type": "stream",
       "stream": "stdout",
       "text": [
        "\n",
        "Integration to plasma edge did not succeed. Can not determine external stability."
       ]
      },
      {
       "output_type": "stream",
       "stream": "stdout",
       "text": [
        "\n",
        "Integration to plasma edge did not succeed. Can not determine external stability."
       ]
      },
      {
       "output_type": "stream",
       "stream": "stdout",
       "text": [
        "\n",
        "Integration to plasma edge did not succeed. Can not determine external stability."
       ]
      },
      {
       "output_type": "stream",
       "stream": "stdout",
       "text": [
        "\n",
        "Integration to plasma edge did not succeed. Can not determine external stability."
       ]
      },
      {
       "output_type": "stream",
       "stream": "stdout",
       "text": [
        "\n",
        "Integration to plasma edge did not succeed. Can not determine external stability."
       ]
      },
      {
       "output_type": "stream",
       "stream": "stdout",
       "text": [
        "\n",
        "Integration to plasma edge did not succeed. Can not determine external stability."
       ]
      },
      {
       "output_type": "stream",
       "stream": "stdout",
       "text": [
        "\n",
        "Integration to plasma edge did not succeed. Can not determine external stability."
       ]
      },
      {
       "output_type": "stream",
       "stream": "stdout",
       "text": [
        "\n",
        "('lambda_bar:', 1.4134693877551021)"
       ]
      },
      {
       "output_type": "stream",
       "stream": "stdout",
       "text": [
        "\n",
        "Integration to plasma edge did not succeed. Can not determine external stability."
       ]
      },
      {
       "output_type": "stream",
       "stream": "stdout",
       "text": [
        "\n",
        "Integration to plasma edge did not succeed. Can not determine external stability."
       ]
      },
      {
       "output_type": "stream",
       "stream": "stdout",
       "text": [
        "\n",
        "Integration to plasma edge did not succeed. Can not determine external stability."
       ]
      },
      {
       "output_type": "stream",
       "stream": "stdout",
       "text": [
        "\n",
        "Integration to plasma edge did not succeed. Can not determine external stability."
       ]
      },
      {
       "output_type": "stream",
       "stream": "stdout",
       "text": [
        "\n",
        "Integration to plasma edge did not succeed. Can not determine external stability."
       ]
      },
      {
       "output_type": "stream",
       "stream": "stdout",
       "text": [
        "\n",
        "Integration to plasma edge did not succeed. Can not determine external stability."
       ]
      },
      {
       "output_type": "stream",
       "stream": "stdout",
       "text": [
        "\n",
        "Integration to plasma edge did not succeed. Can not determine external stability."
       ]
      },
      {
       "output_type": "stream",
       "stream": "stdout",
       "text": [
        "\n",
        "Integration to plasma edge did not succeed. Can not determine external stability."
       ]
      },
      {
       "output_type": "stream",
       "stream": "stdout",
       "text": [
        "\n",
        "Integration to plasma edge did not succeed. Can not determine external stability."
       ]
      },
      {
       "output_type": "stream",
       "stream": "stdout",
       "text": [
        "\n",
        "Integration to plasma edge did not succeed. Can not determine external stability."
       ]
      },
      {
       "output_type": "stream",
       "stream": "stdout",
       "text": [
        "\n",
        "Integration to plasma edge did not succeed. Can not determine external stability."
       ]
      },
      {
       "output_type": "stream",
       "stream": "stdout",
       "text": [
        "\n",
        "Integration to plasma edge did not succeed. Can not determine external stability."
       ]
      },
      {
       "output_type": "stream",
       "stream": "stdout",
       "text": [
        "\n",
        "Integration to plasma edge did not succeed. Can not determine external stability."
       ]
      },
      {
       "output_type": "stream",
       "stream": "stdout",
       "text": [
        "\n",
        "Integration to plasma edge did not succeed. Can not determine external stability."
       ]
      },
      {
       "output_type": "stream",
       "stream": "stdout",
       "text": [
        "\n",
        "Integration to plasma edge did not succeed. Can not determine external stability."
       ]
      },
      {
       "output_type": "stream",
       "stream": "stdout",
       "text": [
        "\n",
        "Integration to plasma edge did not succeed. Can not determine external stability."
       ]
      },
      {
       "output_type": "stream",
       "stream": "stdout",
       "text": [
        "\n",
        "Integration to plasma edge did not succeed. Can not determine external stability."
       ]
      },
      {
       "output_type": "stream",
       "stream": "stdout",
       "text": [
        "\n",
        "Integration to plasma edge did not succeed. Can not determine external stability."
       ]
      },
      {
       "output_type": "stream",
       "stream": "stdout",
       "text": [
        "\n",
        "Integration to plasma edge did not succeed. Can not determine external stability."
       ]
      },
      {
       "output_type": "stream",
       "stream": "stdout",
       "text": [
        "\n",
        "('lambda_bar:', 1.4744897959183674)"
       ]
      },
      {
       "output_type": "stream",
       "stream": "stdout",
       "text": [
        "\n",
        "Integration to plasma edge did not succeed. Can not determine external stability."
       ]
      },
      {
       "output_type": "stream",
       "stream": "stdout",
       "text": [
        "\n",
        "Integration to plasma edge did not succeed. Can not determine external stability."
       ]
      },
      {
       "output_type": "stream",
       "stream": "stdout",
       "text": [
        "\n",
        "Integration to plasma edge did not succeed. Can not determine external stability."
       ]
      },
      {
       "output_type": "stream",
       "stream": "stdout",
       "text": [
        "\n",
        "Integration to plasma edge did not succeed. Can not determine external stability."
       ]
      },
      {
       "output_type": "stream",
       "stream": "stdout",
       "text": [
        "\n",
        "Integration to plasma edge did not succeed. Can not determine external stability."
       ]
      },
      {
       "output_type": "stream",
       "stream": "stdout",
       "text": [
        "\n",
        "Integration to plasma edge did not succeed. Can not determine external stability."
       ]
      },
      {
       "output_type": "stream",
       "stream": "stdout",
       "text": [
        "\n",
        "Integration to plasma edge did not succeed. Can not determine external stability."
       ]
      },
      {
       "output_type": "stream",
       "stream": "stdout",
       "text": [
        "\n",
        "Integration to plasma edge did not succeed. Can not determine external stability."
       ]
      },
      {
       "output_type": "stream",
       "stream": "stdout",
       "text": [
        "\n",
        "Integration to plasma edge did not succeed. Can not determine external stability."
       ]
      },
      {
       "output_type": "stream",
       "stream": "stdout",
       "text": [
        "\n",
        "Integration to plasma edge did not succeed. Can not determine external stability."
       ]
      },
      {
       "output_type": "stream",
       "stream": "stdout",
       "text": [
        "\n",
        "Integration to plasma edge did not succeed. Can not determine external stability."
       ]
      },
      {
       "output_type": "stream",
       "stream": "stdout",
       "text": [
        "\n",
        "Integration to plasma edge did not succeed. Can not determine external stability."
       ]
      },
      {
       "output_type": "stream",
       "stream": "stdout",
       "text": [
        "\n",
        "Integration to plasma edge did not succeed. Can not determine external stability."
       ]
      },
      {
       "output_type": "stream",
       "stream": "stdout",
       "text": [
        "\n",
        "Integration to plasma edge did not succeed. Can not determine external stability."
       ]
      },
      {
       "output_type": "stream",
       "stream": "stdout",
       "text": [
        "\n",
        "Integration to plasma edge did not succeed. Can not determine external stability."
       ]
      },
      {
       "output_type": "stream",
       "stream": "stdout",
       "text": [
        "\n",
        "Integration to plasma edge did not succeed. Can not determine external stability."
       ]
      },
      {
       "output_type": "stream",
       "stream": "stdout",
       "text": [
        "\n",
        "('lambda_bar:', 1.5355102040816326)"
       ]
      },
      {
       "output_type": "stream",
       "stream": "stdout",
       "text": [
        "\n",
        "Integration to plasma edge did not succeed. Can not determine external stability."
       ]
      },
      {
       "output_type": "stream",
       "stream": "stdout",
       "text": [
        "\n",
        "Integration to plasma edge did not succeed. Can not determine external stability."
       ]
      },
      {
       "output_type": "stream",
       "stream": "stdout",
       "text": [
        "\n",
        "Integration to plasma edge did not succeed. Can not determine external stability."
       ]
      },
      {
       "output_type": "stream",
       "stream": "stdout",
       "text": [
        "\n",
        "Integration to plasma edge did not succeed. Can not determine external stability."
       ]
      },
      {
       "output_type": "stream",
       "stream": "stdout",
       "text": [
        "\n",
        "Integration to plasma edge did not succeed. Can not determine external stability."
       ]
      },
      {
       "output_type": "stream",
       "stream": "stdout",
       "text": [
        "\n",
        "Integration to plasma edge did not succeed. Can not determine external stability."
       ]
      },
      {
       "output_type": "stream",
       "stream": "stdout",
       "text": [
        "\n",
        "Integration to plasma edge did not succeed. Can not determine external stability."
       ]
      },
      {
       "output_type": "stream",
       "stream": "stdout",
       "text": [
        "\n",
        "Integration to plasma edge did not succeed. Can not determine external stability."
       ]
      },
      {
       "output_type": "stream",
       "stream": "stdout",
       "text": [
        "\n",
        "Integration to plasma edge did not succeed. Can not determine external stability."
       ]
      },
      {
       "output_type": "stream",
       "stream": "stdout",
       "text": [
        "\n",
        "Integration to plasma edge did not succeed. Can not determine external stability."
       ]
      },
      {
       "output_type": "stream",
       "stream": "stdout",
       "text": [
        "\n",
        "Integration to plasma edge did not succeed. Can not determine external stability."
       ]
      },
      {
       "output_type": "stream",
       "stream": "stdout",
       "text": [
        "\n",
        "Integration to plasma edge did not succeed. Can not determine external stability."
       ]
      },
      {
       "output_type": "stream",
       "stream": "stdout",
       "text": [
        "\n",
        "('lambda_bar:', 1.5965306122448981)"
       ]
      },
      {
       "output_type": "stream",
       "stream": "stdout",
       "text": [
        "\n",
        "Integration to plasma edge did not succeed. Can not determine external stability."
       ]
      },
      {
       "output_type": "stream",
       "stream": "stdout",
       "text": [
        "\n",
        "Integration to plasma edge did not succeed. Can not determine external stability."
       ]
      },
      {
       "output_type": "stream",
       "stream": "stdout",
       "text": [
        "\n",
        "Integration to plasma edge did not succeed. Can not determine external stability."
       ]
      },
      {
       "output_type": "stream",
       "stream": "stdout",
       "text": [
        "\n",
        "Integration to plasma edge did not succeed. Can not determine external stability."
       ]
      },
      {
       "output_type": "stream",
       "stream": "stdout",
       "text": [
        "\n",
        "Integration to plasma edge did not succeed. Can not determine external stability."
       ]
      },
      {
       "output_type": "stream",
       "stream": "stdout",
       "text": [
        "\n",
        "Integration to plasma edge did not succeed. Can not determine external stability."
       ]
      },
      {
       "output_type": "stream",
       "stream": "stdout",
       "text": [
        "\n",
        "Integration to plasma edge did not succeed. Can not determine external stability."
       ]
      },
      {
       "output_type": "stream",
       "stream": "stdout",
       "text": [
        "\n",
        "Integration to plasma edge did not succeed. Can not determine external stability."
       ]
      },
      {
       "output_type": "stream",
       "stream": "stdout",
       "text": [
        "\n",
        "Integration to plasma edge did not succeed. Can not determine external stability."
       ]
      },
      {
       "output_type": "stream",
       "stream": "stdout",
       "text": [
        "\n",
        "Integration to plasma edge did not succeed. Can not determine external stability."
       ]
      },
      {
       "output_type": "stream",
       "stream": "stdout",
       "text": [
        "\n",
        "Integration to plasma edge did not succeed. Can not determine external stability."
       ]
      },
      {
       "output_type": "stream",
       "stream": "stdout",
       "text": [
        "\n",
        "Integration to plasma edge did not succeed. Can not determine external stability."
       ]
      },
      {
       "output_type": "stream",
       "stream": "stdout",
       "text": [
        "\n",
        "Integration to plasma edge did not succeed. Can not determine external stability."
       ]
      },
      {
       "output_type": "stream",
       "stream": "stdout",
       "text": [
        "\n",
        "Integration to plasma edge did not succeed. Can not determine external stability."
       ]
      },
      {
       "output_type": "stream",
       "stream": "stdout",
       "text": [
        "\n",
        "('lambda_bar:', 1.6575510204081634)"
       ]
      },
      {
       "output_type": "stream",
       "stream": "stdout",
       "text": [
        "\n",
        "Integration to plasma edge did not succeed. Can not determine external stability."
       ]
      },
      {
       "output_type": "stream",
       "stream": "stdout",
       "text": [
        "\n",
        "Integration to plasma edge did not succeed. Can not determine external stability."
       ]
      },
      {
       "output_type": "stream",
       "stream": "stdout",
       "text": [
        "\n",
        "Integration to plasma edge did not succeed. Can not determine external stability."
       ]
      },
      {
       "output_type": "stream",
       "stream": "stdout",
       "text": [
        "\n",
        "Integration to plasma edge did not succeed. Can not determine external stability."
       ]
      },
      {
       "output_type": "stream",
       "stream": "stdout",
       "text": [
        "\n",
        "Integration to plasma edge did not succeed. Can not determine external stability."
       ]
      },
      {
       "output_type": "stream",
       "stream": "stdout",
       "text": [
        "\n",
        "Integration to plasma edge did not succeed. Can not determine external stability."
       ]
      },
      {
       "output_type": "stream",
       "stream": "stdout",
       "text": [
        "\n",
        "Integration to plasma edge did not succeed. Can not determine external stability."
       ]
      },
      {
       "output_type": "stream",
       "stream": "stdout",
       "text": [
        "\n",
        "Integration to plasma edge did not succeed. Can not determine external stability."
       ]
      },
      {
       "output_type": "stream",
       "stream": "stdout",
       "text": [
        "\n",
        "Integration to plasma edge did not succeed. Can not determine external stability."
       ]
      },
      {
       "output_type": "stream",
       "stream": "stdout",
       "text": [
        "\n",
        "Integration to plasma edge did not succeed. Can not determine external stability."
       ]
      },
      {
       "output_type": "stream",
       "stream": "stdout",
       "text": [
        "\n",
        "Integration to plasma edge did not succeed. Can not determine external stability."
       ]
      },
      {
       "output_type": "stream",
       "stream": "stdout",
       "text": [
        "\n",
        "Integration to plasma edge did not succeed. Can not determine external stability."
       ]
      },
      {
       "output_type": "stream",
       "stream": "stdout",
       "text": [
        "\n",
        "Integration to plasma edge did not succeed. Can not determine external stability."
       ]
      },
      {
       "output_type": "stream",
       "stream": "stdout",
       "text": [
        "\n",
        "Integration to plasma edge did not succeed. Can not determine external stability."
       ]
      },
      {
       "output_type": "stream",
       "stream": "stdout",
       "text": [
        "\n",
        "Integration to plasma edge did not succeed. Can not determine external stability."
       ]
      },
      {
       "output_type": "stream",
       "stream": "stdout",
       "text": [
        "\n",
        "('lambda_bar:', 1.7185714285714286)"
       ]
      },
      {
       "output_type": "stream",
       "stream": "stdout",
       "text": [
        "\n",
        "Integration to plasma edge did not succeed. Can not determine external stability."
       ]
      },
      {
       "output_type": "stream",
       "stream": "stdout",
       "text": [
        "\n",
        "Integration to plasma edge did not succeed. Can not determine external stability."
       ]
      },
      {
       "output_type": "stream",
       "stream": "stdout",
       "text": [
        "\n",
        "Integration to plasma edge did not succeed. Can not determine external stability."
       ]
      },
      {
       "output_type": "stream",
       "stream": "stdout",
       "text": [
        "\n",
        "Integration to plasma edge did not succeed. Can not determine external stability."
       ]
      },
      {
       "output_type": "stream",
       "stream": "stdout",
       "text": [
        "\n",
        "Integration to plasma edge did not succeed. Can not determine external stability."
       ]
      },
      {
       "output_type": "stream",
       "stream": "stdout",
       "text": [
        "\n",
        "Integration to plasma edge did not succeed. Can not determine external stability."
       ]
      },
      {
       "output_type": "stream",
       "stream": "stdout",
       "text": [
        "\n",
        "Integration to plasma edge did not succeed. Can not determine external stability."
       ]
      },
      {
       "output_type": "stream",
       "stream": "stdout",
       "text": [
        "\n",
        "Integration to plasma edge did not succeed. Can not determine external stability."
       ]
      },
      {
       "output_type": "stream",
       "stream": "stdout",
       "text": [
        "\n",
        "Integration to plasma edge did not succeed. Can not determine external stability."
       ]
      },
      {
       "output_type": "stream",
       "stream": "stdout",
       "text": [
        "\n",
        "Integration to plasma edge did not succeed. Can not determine external stability."
       ]
      },
      {
       "output_type": "stream",
       "stream": "stdout",
       "text": [
        "\n",
        "Integration to plasma edge did not succeed. Can not determine external stability."
       ]
      },
      {
       "output_type": "stream",
       "stream": "stdout",
       "text": [
        "\n",
        "Integration to plasma edge did not succeed. Can not determine external stability."
       ]
      },
      {
       "output_type": "stream",
       "stream": "stdout",
       "text": [
        "\n",
        "Integration to plasma edge did not succeed. Can not determine external stability."
       ]
      },
      {
       "output_type": "stream",
       "stream": "stdout",
       "text": [
        "\n",
        "Integration to plasma edge did not succeed. Can not determine external stability."
       ]
      },
      {
       "output_type": "stream",
       "stream": "stdout",
       "text": [
        "\n",
        "Integration to plasma edge did not succeed. Can not determine external stability."
       ]
      },
      {
       "output_type": "stream",
       "stream": "stdout",
       "text": [
        "\n",
        "Integration to plasma edge did not succeed. Can not determine external stability."
       ]
      },
      {
       "output_type": "stream",
       "stream": "stdout",
       "text": [
        "\n",
        "Integration to plasma edge did not succeed. Can not determine external stability."
       ]
      },
      {
       "output_type": "stream",
       "stream": "stdout",
       "text": [
        "\n",
        "('lambda_bar:', 1.7795918367346939)"
       ]
      },
      {
       "output_type": "stream",
       "stream": "stdout",
       "text": [
        "\n",
        "Integration to plasma edge did not succeed. Can not determine external stability."
       ]
      },
      {
       "output_type": "stream",
       "stream": "stdout",
       "text": [
        "\n",
        "Integration to plasma edge did not succeed. Can not determine external stability."
       ]
      },
      {
       "output_type": "stream",
       "stream": "stdout",
       "text": [
        "\n",
        "Integration to plasma edge did not succeed. Can not determine external stability."
       ]
      },
      {
       "output_type": "stream",
       "stream": "stdout",
       "text": [
        "\n",
        "Integration to plasma edge did not succeed. Can not determine external stability."
       ]
      },
      {
       "output_type": "stream",
       "stream": "stdout",
       "text": [
        "\n",
        "Integration to plasma edge did not succeed. Can not determine external stability."
       ]
      },
      {
       "output_type": "stream",
       "stream": "stdout",
       "text": [
        "\n",
        "Integration to plasma edge did not succeed. Can not determine external stability."
       ]
      },
      {
       "output_type": "stream",
       "stream": "stdout",
       "text": [
        "\n",
        "Integration to plasma edge did not succeed. Can not determine external stability."
       ]
      },
      {
       "output_type": "stream",
       "stream": "stdout",
       "text": [
        "\n",
        "Integration to plasma edge did not succeed. Can not determine external stability."
       ]
      },
      {
       "output_type": "stream",
       "stream": "stdout",
       "text": [
        "\n",
        "Integration to plasma edge did not succeed. Can not determine external stability."
       ]
      },
      {
       "output_type": "stream",
       "stream": "stdout",
       "text": [
        "\n",
        "Integration to plasma edge did not succeed. Can not determine external stability."
       ]
      },
      {
       "output_type": "stream",
       "stream": "stdout",
       "text": [
        "\n",
        "Integration to plasma edge did not succeed. Can not determine external stability."
       ]
      },
      {
       "output_type": "stream",
       "stream": "stdout",
       "text": [
        "\n",
        "Integration to plasma edge did not succeed. Can not determine external stability."
       ]
      },
      {
       "output_type": "stream",
       "stream": "stdout",
       "text": [
        "\n",
        "Integration to plasma edge did not succeed. Can not determine external stability."
       ]
      },
      {
       "output_type": "stream",
       "stream": "stdout",
       "text": [
        "\n",
        "Integration to plasma edge did not succeed. Can not determine external stability."
       ]
      },
      {
       "output_type": "stream",
       "stream": "stdout",
       "text": [
        "\n",
        "('lambda_bar:', 1.8406122448979594)"
       ]
      },
      {
       "output_type": "stream",
       "stream": "stdout",
       "text": [
        "\n",
        "Integration to plasma edge did not succeed. Can not determine external stability."
       ]
      },
      {
       "output_type": "stream",
       "stream": "stdout",
       "text": [
        "\n",
        "Integration to plasma edge did not succeed. Can not determine external stability."
       ]
      },
      {
       "output_type": "stream",
       "stream": "stdout",
       "text": [
        "\n",
        "Integration to plasma edge did not succeed. Can not determine external stability."
       ]
      },
      {
       "output_type": "stream",
       "stream": "stdout",
       "text": [
        "\n",
        "Integration to plasma edge did not succeed. Can not determine external stability."
       ]
      },
      {
       "output_type": "stream",
       "stream": "stdout",
       "text": [
        "\n",
        "Integration to plasma edge did not succeed. Can not determine external stability."
       ]
      },
      {
       "output_type": "stream",
       "stream": "stdout",
       "text": [
        "\n",
        "Integration to plasma edge did not succeed. Can not determine external stability."
       ]
      },
      {
       "output_type": "stream",
       "stream": "stdout",
       "text": [
        "\n",
        "Integration to plasma edge did not succeed. Can not determine external stability."
       ]
      },
      {
       "output_type": "stream",
       "stream": "stdout",
       "text": [
        "\n",
        "Integration to plasma edge did not succeed. Can not determine external stability."
       ]
      },
      {
       "output_type": "stream",
       "stream": "stdout",
       "text": [
        "\n",
        "Integration to plasma edge did not succeed. Can not determine external stability."
       ]
      },
      {
       "output_type": "stream",
       "stream": "stdout",
       "text": [
        "\n",
        "Integration to plasma edge did not succeed. Can not determine external stability."
       ]
      },
      {
       "output_type": "stream",
       "stream": "stdout",
       "text": [
        "\n",
        "Integration to plasma edge did not succeed. Can not determine external stability."
       ]
      },
      {
       "output_type": "stream",
       "stream": "stdout",
       "text": [
        "\n",
        "Integration to plasma edge did not succeed. Can not determine external stability."
       ]
      },
      {
       "output_type": "stream",
       "stream": "stdout",
       "text": [
        "\n",
        "Integration to plasma edge did not succeed. Can not determine external stability."
       ]
      },
      {
       "output_type": "stream",
       "stream": "stdout",
       "text": [
        "\n",
        "Integration to plasma edge did not succeed. Can not determine external stability."
       ]
      },
      {
       "output_type": "stream",
       "stream": "stdout",
       "text": [
        "\n",
        "('lambda_bar:', 1.9016326530612246)"
       ]
      },
      {
       "output_type": "stream",
       "stream": "stdout",
       "text": [
        "\n",
        "Integration to plasma edge did not succeed. Can not determine external stability."
       ]
      },
      {
       "output_type": "stream",
       "stream": "stdout",
       "text": [
        "\n",
        "Integration to plasma edge did not succeed. Can not determine external stability."
       ]
      },
      {
       "output_type": "stream",
       "stream": "stdout",
       "text": [
        "\n",
        "Integration to plasma edge did not succeed. Can not determine external stability."
       ]
      },
      {
       "output_type": "stream",
       "stream": "stdout",
       "text": [
        "\n",
        "Integration to plasma edge did not succeed. Can not determine external stability."
       ]
      },
      {
       "output_type": "stream",
       "stream": "stdout",
       "text": [
        "\n",
        "Integration to plasma edge did not succeed. Can not determine external stability."
       ]
      },
      {
       "output_type": "stream",
       "stream": "stdout",
       "text": [
        "\n",
        "Integration to plasma edge did not succeed. Can not determine external stability."
       ]
      },
      {
       "output_type": "stream",
       "stream": "stdout",
       "text": [
        "\n",
        "Integration to plasma edge did not succeed. Can not determine external stability."
       ]
      },
      {
       "output_type": "stream",
       "stream": "stdout",
       "text": [
        "\n",
        "Integration to plasma edge did not succeed. Can not determine external stability."
       ]
      },
      {
       "output_type": "stream",
       "stream": "stdout",
       "text": [
        "\n",
        "Integration to plasma edge did not succeed. Can not determine external stability."
       ]
      },
      {
       "output_type": "stream",
       "stream": "stdout",
       "text": [
        "\n",
        "Integration to plasma edge did not succeed. Can not determine external stability."
       ]
      },
      {
       "output_type": "stream",
       "stream": "stdout",
       "text": [
        "\n",
        "Integration to plasma edge did not succeed. Can not determine external stability."
       ]
      },
      {
       "output_type": "stream",
       "stream": "stdout",
       "text": [
        "\n",
        "Integration to plasma edge did not succeed. Can not determine external stability."
       ]
      },
      {
       "output_type": "stream",
       "stream": "stdout",
       "text": [
        "\n",
        "Integration to plasma edge did not succeed. Can not determine external stability."
       ]
      },
      {
       "output_type": "stream",
       "stream": "stdout",
       "text": [
        "\n",
        "Integration to plasma edge did not succeed. Can not determine external stability."
       ]
      },
      {
       "output_type": "stream",
       "stream": "stdout",
       "text": [
        "\n",
        "Integration to plasma edge did not succeed. Can not determine external stability."
       ]
      },
      {
       "output_type": "stream",
       "stream": "stdout",
       "text": [
        "\n",
        "Integration to plasma edge did not succeed. Can not determine external stability."
       ]
      },
      {
       "output_type": "stream",
       "stream": "stdout",
       "text": [
        "\n",
        "('lambda_bar:', 1.9626530612244899)"
       ]
      },
      {
       "output_type": "stream",
       "stream": "stdout",
       "text": [
        "\n",
        "Integration to plasma edge did not succeed. Can not determine external stability."
       ]
      },
      {
       "output_type": "stream",
       "stream": "stdout",
       "text": [
        "\n",
        "Integration to plasma edge did not succeed. Can not determine external stability."
       ]
      },
      {
       "output_type": "stream",
       "stream": "stdout",
       "text": [
        "\n",
        "Integration to plasma edge did not succeed. Can not determine external stability."
       ]
      },
      {
       "output_type": "stream",
       "stream": "stdout",
       "text": [
        "\n",
        "Integration to plasma edge did not succeed. Can not determine external stability."
       ]
      },
      {
       "output_type": "stream",
       "stream": "stdout",
       "text": [
        "\n",
        "Integration to plasma edge did not succeed. Can not determine external stability."
       ]
      },
      {
       "output_type": "stream",
       "stream": "stdout",
       "text": [
        "\n",
        "Integration to plasma edge did not succeed. Can not determine external stability."
       ]
      },
      {
       "output_type": "stream",
       "stream": "stdout",
       "text": [
        "\n",
        "Integration to plasma edge did not succeed. Can not determine external stability."
       ]
      },
      {
       "output_type": "stream",
       "stream": "stdout",
       "text": [
        "\n",
        "Integration to plasma edge did not succeed. Can not determine external stability."
       ]
      },
      {
       "output_type": "stream",
       "stream": "stdout",
       "text": [
        "\n",
        "Integration to plasma edge did not succeed. Can not determine external stability."
       ]
      },
      {
       "output_type": "stream",
       "stream": "stdout",
       "text": [
        "\n",
        "Integration to plasma edge did not succeed. Can not determine external stability."
       ]
      },
      {
       "output_type": "stream",
       "stream": "stdout",
       "text": [
        "\n",
        "Integration to plasma edge did not succeed. Can not determine external stability."
       ]
      },
      {
       "output_type": "stream",
       "stream": "stdout",
       "text": [
        "\n",
        "Integration to plasma edge did not succeed. Can not determine external stability."
       ]
      },
      {
       "output_type": "stream",
       "stream": "stdout",
       "text": [
        "\n",
        "Integration to plasma edge did not succeed. Can not determine external stability."
       ]
      },
      {
       "output_type": "stream",
       "stream": "stdout",
       "text": [
        "\n",
        "Integration to plasma edge did not succeed. Can not determine external stability."
       ]
      },
      {
       "output_type": "stream",
       "stream": "stdout",
       "text": [
        "\n",
        "('lambda_bar:', 2.0236734693877549)"
       ]
      },
      {
       "output_type": "stream",
       "stream": "stdout",
       "text": [
        "\n",
        "Integration to plasma edge did not succeed. Can not determine external stability."
       ]
      },
      {
       "output_type": "stream",
       "stream": "stdout",
       "text": [
        "\n",
        "Integration to plasma edge did not succeed. Can not determine external stability."
       ]
      },
      {
       "output_type": "stream",
       "stream": "stdout",
       "text": [
        "\n",
        "Integration to plasma edge did not succeed. Can not determine external stability."
       ]
      },
      {
       "output_type": "stream",
       "stream": "stdout",
       "text": [
        "\n",
        "Integration to plasma edge did not succeed. Can not determine external stability."
       ]
      },
      {
       "output_type": "stream",
       "stream": "stdout",
       "text": [
        "\n",
        "Integration to plasma edge did not succeed. Can not determine external stability."
       ]
      },
      {
       "output_type": "stream",
       "stream": "stdout",
       "text": [
        "\n",
        "Integration to plasma edge did not succeed. Can not determine external stability."
       ]
      },
      {
       "output_type": "stream",
       "stream": "stdout",
       "text": [
        "\n",
        "Integration to plasma edge did not succeed. Can not determine external stability."
       ]
      },
      {
       "output_type": "stream",
       "stream": "stdout",
       "text": [
        "\n",
        "Integration to plasma edge did not succeed. Can not determine external stability."
       ]
      },
      {
       "output_type": "stream",
       "stream": "stdout",
       "text": [
        "\n",
        "Integration to plasma edge did not succeed. Can not determine external stability."
       ]
      },
      {
       "output_type": "stream",
       "stream": "stdout",
       "text": [
        "\n",
        "Integration to plasma edge did not succeed. Can not determine external stability."
       ]
      },
      {
       "output_type": "stream",
       "stream": "stdout",
       "text": [
        "\n",
        "Integration to plasma edge did not succeed. Can not determine external stability."
       ]
      },
      {
       "output_type": "stream",
       "stream": "stdout",
       "text": [
        "\n",
        "Integration to plasma edge did not succeed. Can not determine external stability."
       ]
      },
      {
       "output_type": "stream",
       "stream": "stdout",
       "text": [
        "\n",
        "Integration to plasma edge did not succeed. Can not determine external stability."
       ]
      },
      {
       "output_type": "stream",
       "stream": "stdout",
       "text": [
        "\n",
        "Integration to plasma edge did not succeed. Can not determine external stability."
       ]
      },
      {
       "output_type": "stream",
       "stream": "stdout",
       "text": [
        "\n",
        "Integration to plasma edge did not succeed. Can not determine external stability."
       ]
      },
      {
       "output_type": "stream",
       "stream": "stdout",
       "text": [
        "\n",
        "Integration to plasma edge did not succeed. Can not determine external stability."
       ]
      },
      {
       "output_type": "stream",
       "stream": "stdout",
       "text": [
        "\n",
        "Integration to plasma edge did not succeed. Can not determine external stability."
       ]
      },
      {
       "output_type": "stream",
       "stream": "stdout",
       "text": [
        "\n",
        "Integration to plasma edge did not succeed. Can not determine external stability."
       ]
      },
      {
       "output_type": "stream",
       "stream": "stdout",
       "text": [
        "\n",
        "('lambda_bar:', 2.0846938775510204)"
       ]
      },
      {
       "output_type": "stream",
       "stream": "stdout",
       "text": [
        "\n",
        "Integration to plasma edge did not succeed. Can not determine external stability."
       ]
      },
      {
       "output_type": "stream",
       "stream": "stdout",
       "text": [
        "\n",
        "Integration to plasma edge did not succeed. Can not determine external stability."
       ]
      },
      {
       "output_type": "stream",
       "stream": "stdout",
       "text": [
        "\n",
        "Integration to plasma edge did not succeed. Can not determine external stability."
       ]
      },
      {
       "output_type": "stream",
       "stream": "stdout",
       "text": [
        "\n",
        "Integration to plasma edge did not succeed. Can not determine external stability."
       ]
      },
      {
       "output_type": "stream",
       "stream": "stdout",
       "text": [
        "\n",
        "Integration to plasma edge did not succeed. Can not determine external stability."
       ]
      },
      {
       "output_type": "stream",
       "stream": "stdout",
       "text": [
        "\n",
        "Integration to plasma edge did not succeed. Can not determine external stability."
       ]
      },
      {
       "output_type": "stream",
       "stream": "stdout",
       "text": [
        "\n",
        "Integration to plasma edge did not succeed. Can not determine external stability."
       ]
      },
      {
       "output_type": "stream",
       "stream": "stdout",
       "text": [
        "\n",
        "Integration to plasma edge did not succeed. Can not determine external stability."
       ]
      },
      {
       "output_type": "stream",
       "stream": "stdout",
       "text": [
        "\n",
        "Integration to plasma edge did not succeed. Can not determine external stability."
       ]
      },
      {
       "output_type": "stream",
       "stream": "stdout",
       "text": [
        "\n",
        "Integration to plasma edge did not succeed. Can not determine external stability."
       ]
      },
      {
       "output_type": "stream",
       "stream": "stdout",
       "text": [
        "\n",
        "Integration to plasma edge did not succeed. Can not determine external stability."
       ]
      },
      {
       "output_type": "stream",
       "stream": "stdout",
       "text": [
        "\n",
        "Integration to plasma edge did not succeed. Can not determine external stability."
       ]
      },
      {
       "output_type": "stream",
       "stream": "stdout",
       "text": [
        "\n",
        "Integration to plasma edge did not succeed. Can not determine external stability."
       ]
      },
      {
       "output_type": "stream",
       "stream": "stdout",
       "text": [
        "\n",
        "Integration to plasma edge did not succeed. Can not determine external stability."
       ]
      },
      {
       "output_type": "stream",
       "stream": "stdout",
       "text": [
        "\n",
        "Integration to plasma edge did not succeed. Can not determine external stability."
       ]
      },
      {
       "output_type": "stream",
       "stream": "stdout",
       "text": [
        "\n",
        "('lambda_bar:', 2.1457142857142855)"
       ]
      },
      {
       "output_type": "stream",
       "stream": "stdout",
       "text": [
        "\n",
        "Integration to plasma edge did not succeed. Can not determine external stability."
       ]
      },
      {
       "output_type": "stream",
       "stream": "stdout",
       "text": [
        "\n",
        "Integration to plasma edge did not succeed. Can not determine external stability."
       ]
      },
      {
       "output_type": "stream",
       "stream": "stdout",
       "text": [
        "\n",
        "Integration to plasma edge did not succeed. Can not determine external stability."
       ]
      },
      {
       "output_type": "stream",
       "stream": "stdout",
       "text": [
        "\n",
        "Integration to plasma edge did not succeed. Can not determine external stability."
       ]
      },
      {
       "output_type": "stream",
       "stream": "stdout",
       "text": [
        "\n",
        "Integration to plasma edge did not succeed. Can not determine external stability."
       ]
      },
      {
       "output_type": "stream",
       "stream": "stdout",
       "text": [
        "\n",
        "Integration to plasma edge did not succeed. Can not determine external stability."
       ]
      },
      {
       "output_type": "stream",
       "stream": "stdout",
       "text": [
        "\n",
        "Integration to plasma edge did not succeed. Can not determine external stability."
       ]
      },
      {
       "output_type": "stream",
       "stream": "stdout",
       "text": [
        "\n",
        "Integration to plasma edge did not succeed. Can not determine external stability."
       ]
      },
      {
       "output_type": "stream",
       "stream": "stdout",
       "text": [
        "\n",
        "Integration to plasma edge did not succeed. Can not determine external stability."
       ]
      },
      {
       "output_type": "stream",
       "stream": "stdout",
       "text": [
        "\n",
        "Integration to plasma edge did not succeed. Can not determine external stability."
       ]
      },
      {
       "output_type": "stream",
       "stream": "stdout",
       "text": [
        "\n",
        "Integration to plasma edge did not succeed. Can not determine external stability."
       ]
      },
      {
       "output_type": "stream",
       "stream": "stdout",
       "text": [
        "\n",
        "Integration to plasma edge did not succeed. Can not determine external stability."
       ]
      },
      {
       "output_type": "stream",
       "stream": "stdout",
       "text": [
        "\n",
        "Integration to plasma edge did not succeed. Can not determine external stability."
       ]
      },
      {
       "output_type": "stream",
       "stream": "stdout",
       "text": [
        "\n",
        "Integration to plasma edge did not succeed. Can not determine external stability."
       ]
      },
      {
       "output_type": "stream",
       "stream": "stdout",
       "text": [
        "\n",
        "Integration to plasma edge did not succeed. Can not determine external stability."
       ]
      },
      {
       "output_type": "stream",
       "stream": "stdout",
       "text": [
        "\n",
        "('lambda_bar:', 2.2067346938775509)"
       ]
      },
      {
       "output_type": "stream",
       "stream": "stdout",
       "text": [
        "\n",
        "Integration to plasma edge did not succeed. Can not determine external stability."
       ]
      },
      {
       "output_type": "stream",
       "stream": "stdout",
       "text": [
        "\n",
        "Integration to plasma edge did not succeed. Can not determine external stability."
       ]
      },
      {
       "output_type": "stream",
       "stream": "stdout",
       "text": [
        "\n",
        "Integration to plasma edge did not succeed. Can not determine external stability."
       ]
      },
      {
       "output_type": "stream",
       "stream": "stdout",
       "text": [
        "\n",
        "Integration to plasma edge did not succeed. Can not determine external stability."
       ]
      },
      {
       "output_type": "stream",
       "stream": "stdout",
       "text": [
        "\n",
        "Integration to plasma edge did not succeed. Can not determine external stability."
       ]
      },
      {
       "output_type": "stream",
       "stream": "stdout",
       "text": [
        "\n",
        "Integration to plasma edge did not succeed. Can not determine external stability."
       ]
      },
      {
       "output_type": "stream",
       "stream": "stdout",
       "text": [
        "\n",
        "Integration to plasma edge did not succeed. Can not determine external stability."
       ]
      },
      {
       "output_type": "stream",
       "stream": "stdout",
       "text": [
        "\n",
        "Integration to plasma edge did not succeed. Can not determine external stability."
       ]
      },
      {
       "output_type": "stream",
       "stream": "stdout",
       "text": [
        "\n",
        "Integration to plasma edge did not succeed. Can not determine external stability."
       ]
      },
      {
       "output_type": "stream",
       "stream": "stdout",
       "text": [
        "\n",
        "Integration to plasma edge did not succeed. Can not determine external stability."
       ]
      },
      {
       "output_type": "stream",
       "stream": "stdout",
       "text": [
        "\n",
        "Integration to plasma edge did not succeed. Can not determine external stability."
       ]
      },
      {
       "output_type": "stream",
       "stream": "stdout",
       "text": [
        "\n",
        "Integration to plasma edge did not succeed. Can not determine external stability."
       ]
      },
      {
       "output_type": "stream",
       "stream": "stdout",
       "text": [
        "\n",
        "Integration to plasma edge did not succeed. Can not determine external stability."
       ]
      },
      {
       "output_type": "stream",
       "stream": "stdout",
       "text": [
        "\n",
        "Integration to plasma edge did not succeed. Can not determine external stability."
       ]
      },
      {
       "output_type": "stream",
       "stream": "stdout",
       "text": [
        "\n",
        "Integration to plasma edge did not succeed. Can not determine external stability."
       ]
      },
      {
       "output_type": "stream",
       "stream": "stdout",
       "text": [
        "\n",
        "Integration to plasma edge did not succeed. Can not determine external stability."
       ]
      },
      {
       "output_type": "stream",
       "stream": "stdout",
       "text": [
        "\n",
        "('lambda_bar:', 2.2677551020408164)"
       ]
      },
      {
       "output_type": "stream",
       "stream": "stdout",
       "text": [
        "\n",
        "Integration to plasma edge did not succeed. Can not determine external stability."
       ]
      },
      {
       "output_type": "stream",
       "stream": "stdout",
       "text": [
        "\n",
        "Integration to plasma edge did not succeed. Can not determine external stability."
       ]
      },
      {
       "output_type": "stream",
       "stream": "stdout",
       "text": [
        "\n",
        "Integration to plasma edge did not succeed. Can not determine external stability."
       ]
      },
      {
       "output_type": "stream",
       "stream": "stdout",
       "text": [
        "\n",
        "Integration to plasma edge did not succeed. Can not determine external stability."
       ]
      },
      {
       "output_type": "stream",
       "stream": "stdout",
       "text": [
        "\n",
        "Integration to plasma edge did not succeed. Can not determine external stability."
       ]
      },
      {
       "output_type": "stream",
       "stream": "stdout",
       "text": [
        "\n",
        "Integration to plasma edge did not succeed. Can not determine external stability."
       ]
      },
      {
       "output_type": "stream",
       "stream": "stdout",
       "text": [
        "\n",
        "Integration to plasma edge did not succeed. Can not determine external stability."
       ]
      },
      {
       "output_type": "stream",
       "stream": "stdout",
       "text": [
        "\n",
        "Integration to plasma edge did not succeed. Can not determine external stability."
       ]
      },
      {
       "output_type": "stream",
       "stream": "stdout",
       "text": [
        "\n",
        "Integration to plasma edge did not succeed. Can not determine external stability."
       ]
      },
      {
       "output_type": "stream",
       "stream": "stdout",
       "text": [
        "\n",
        "Integration to plasma edge did not succeed. Can not determine external stability."
       ]
      },
      {
       "output_type": "stream",
       "stream": "stdout",
       "text": [
        "\n",
        "Integration to plasma edge did not succeed. Can not determine external stability."
       ]
      },
      {
       "output_type": "stream",
       "stream": "stdout",
       "text": [
        "\n",
        "Integration to plasma edge did not succeed. Can not determine external stability."
       ]
      },
      {
       "output_type": "stream",
       "stream": "stdout",
       "text": [
        "\n",
        "Integration to plasma edge did not succeed. Can not determine external stability."
       ]
      },
      {
       "output_type": "stream",
       "stream": "stdout",
       "text": [
        "\n",
        "Integration to plasma edge did not succeed. Can not determine external stability."
       ]
      },
      {
       "output_type": "stream",
       "stream": "stdout",
       "text": [
        "\n",
        "Integration to plasma edge did not succeed. Can not determine external stability."
       ]
      },
      {
       "output_type": "stream",
       "stream": "stdout",
       "text": [
        "\n",
        "('lambda_bar:', 2.3287755102040815)"
       ]
      },
      {
       "output_type": "stream",
       "stream": "stdout",
       "text": [
        "\n",
        "Integration to plasma edge did not succeed. Can not determine external stability."
       ]
      },
      {
       "output_type": "stream",
       "stream": "stdout",
       "text": [
        "\n",
        "Integration to plasma edge did not succeed. Can not determine external stability."
       ]
      },
      {
       "output_type": "stream",
       "stream": "stdout",
       "text": [
        "\n",
        "Integration to plasma edge did not succeed. Can not determine external stability."
       ]
      },
      {
       "output_type": "stream",
       "stream": "stdout",
       "text": [
        "\n",
        "Integration to plasma edge did not succeed. Can not determine external stability."
       ]
      },
      {
       "output_type": "stream",
       "stream": "stdout",
       "text": [
        "\n",
        "Integration to plasma edge did not succeed. Can not determine external stability."
       ]
      },
      {
       "output_type": "stream",
       "stream": "stdout",
       "text": [
        "\n",
        "Integration to plasma edge did not succeed. Can not determine external stability."
       ]
      },
      {
       "output_type": "stream",
       "stream": "stdout",
       "text": [
        "\n",
        "Integration to plasma edge did not succeed. Can not determine external stability."
       ]
      },
      {
       "output_type": "stream",
       "stream": "stdout",
       "text": [
        "\n",
        "Integration to plasma edge did not succeed. Can not determine external stability."
       ]
      },
      {
       "output_type": "stream",
       "stream": "stdout",
       "text": [
        "\n",
        "Integration to plasma edge did not succeed. Can not determine external stability."
       ]
      },
      {
       "output_type": "stream",
       "stream": "stdout",
       "text": [
        "\n",
        "Integration to plasma edge did not succeed. Can not determine external stability."
       ]
      },
      {
       "output_type": "stream",
       "stream": "stdout",
       "text": [
        "\n",
        "Integration to plasma edge did not succeed. Can not determine external stability."
       ]
      },
      {
       "output_type": "stream",
       "stream": "stdout",
       "text": [
        "\n",
        "Integration to plasma edge did not succeed. Can not determine external stability."
       ]
      },
      {
       "output_type": "stream",
       "stream": "stdout",
       "text": [
        "\n",
        "Integration to plasma edge did not succeed. Can not determine external stability."
       ]
      },
      {
       "output_type": "stream",
       "stream": "stdout",
       "text": [
        "\n",
        "Integration to plasma edge did not succeed. Can not determine external stability."
       ]
      },
      {
       "output_type": "stream",
       "stream": "stdout",
       "text": [
        "\n",
        "Integration to plasma edge did not succeed. Can not determine external stability."
       ]
      },
      {
       "output_type": "stream",
       "stream": "stdout",
       "text": [
        "\n",
        "('lambda_bar:', 2.3897959183673469)"
       ]
      },
      {
       "output_type": "stream",
       "stream": "stdout",
       "text": [
        "\n",
        "Integration to plasma edge did not succeed. Can not determine external stability."
       ]
      },
      {
       "output_type": "stream",
       "stream": "stdout",
       "text": [
        "\n",
        "Integration to plasma edge did not succeed. Can not determine external stability."
       ]
      },
      {
       "output_type": "stream",
       "stream": "stdout",
       "text": [
        "\n",
        "Integration to plasma edge did not succeed. Can not determine external stability."
       ]
      },
      {
       "output_type": "stream",
       "stream": "stdout",
       "text": [
        "\n",
        "Integration to plasma edge did not succeed. Can not determine external stability."
       ]
      },
      {
       "output_type": "stream",
       "stream": "stdout",
       "text": [
        "\n",
        "Integration to plasma edge did not succeed. Can not determine external stability."
       ]
      },
      {
       "output_type": "stream",
       "stream": "stdout",
       "text": [
        "\n",
        "Integration to plasma edge did not succeed. Can not determine external stability."
       ]
      },
      {
       "output_type": "stream",
       "stream": "stdout",
       "text": [
        "\n",
        "Integration to plasma edge did not succeed. Can not determine external stability."
       ]
      },
      {
       "output_type": "stream",
       "stream": "stdout",
       "text": [
        "\n",
        "Integration to plasma edge did not succeed. Can not determine external stability."
       ]
      },
      {
       "output_type": "stream",
       "stream": "stdout",
       "text": [
        "\n",
        "Integration to plasma edge did not succeed. Can not determine external stability."
       ]
      },
      {
       "output_type": "stream",
       "stream": "stdout",
       "text": [
        "\n",
        "Integration to plasma edge did not succeed. Can not determine external stability."
       ]
      },
      {
       "output_type": "stream",
       "stream": "stdout",
       "text": [
        "\n",
        "Integration to plasma edge did not succeed. Can not determine external stability."
       ]
      },
      {
       "output_type": "stream",
       "stream": "stdout",
       "text": [
        "\n",
        "Integration to plasma edge did not succeed. Can not determine external stability."
       ]
      },
      {
       "output_type": "stream",
       "stream": "stdout",
       "text": [
        "\n",
        "Integration to plasma edge did not succeed. Can not determine external stability."
       ]
      },
      {
       "output_type": "stream",
       "stream": "stdout",
       "text": [
        "\n",
        "Integration to plasma edge did not succeed. Can not determine external stability."
       ]
      },
      {
       "output_type": "stream",
       "stream": "stdout",
       "text": [
        "\n",
        "Integration to plasma edge did not succeed. Can not determine external stability."
       ]
      },
      {
       "output_type": "stream",
       "stream": "stdout",
       "text": [
        "\n",
        "Integration to plasma edge did not succeed. Can not determine external stability."
       ]
      },
      {
       "output_type": "stream",
       "stream": "stdout",
       "text": [
        "\n",
        "('lambda_bar:', 2.450816326530612)"
       ]
      },
      {
       "output_type": "stream",
       "stream": "stdout",
       "text": [
        "\n",
        "Integration to plasma edge did not succeed. Can not determine external stability."
       ]
      },
      {
       "output_type": "stream",
       "stream": "stdout",
       "text": [
        "\n",
        "Integration to plasma edge did not succeed. Can not determine external stability."
       ]
      },
      {
       "output_type": "stream",
       "stream": "stdout",
       "text": [
        "\n",
        "Integration to plasma edge did not succeed. Can not determine external stability."
       ]
      },
      {
       "output_type": "stream",
       "stream": "stdout",
       "text": [
        "\n",
        "Integration to plasma edge did not succeed. Can not determine external stability."
       ]
      },
      {
       "output_type": "stream",
       "stream": "stdout",
       "text": [
        "\n",
        "Integration to plasma edge did not succeed. Can not determine external stability."
       ]
      },
      {
       "output_type": "stream",
       "stream": "stdout",
       "text": [
        "\n",
        "Integration to plasma edge did not succeed. Can not determine external stability."
       ]
      },
      {
       "output_type": "stream",
       "stream": "stdout",
       "text": [
        "\n",
        "Integration to plasma edge did not succeed. Can not determine external stability."
       ]
      },
      {
       "output_type": "stream",
       "stream": "stdout",
       "text": [
        "\n",
        "Integration to plasma edge did not succeed. Can not determine external stability."
       ]
      },
      {
       "output_type": "stream",
       "stream": "stdout",
       "text": [
        "\n",
        "Integration to plasma edge did not succeed. Can not determine external stability."
       ]
      },
      {
       "output_type": "stream",
       "stream": "stdout",
       "text": [
        "\n",
        "Integration to plasma edge did not succeed. Can not determine external stability."
       ]
      },
      {
       "output_type": "stream",
       "stream": "stdout",
       "text": [
        "\n",
        "Integration to plasma edge did not succeed. Can not determine external stability."
       ]
      },
      {
       "output_type": "stream",
       "stream": "stdout",
       "text": [
        "\n",
        "('lambda_bar:', 2.5118367346938775)"
       ]
      },
      {
       "output_type": "stream",
       "stream": "stdout",
       "text": [
        "\n",
        "Integration to plasma edge did not succeed. Can not determine external stability."
       ]
      },
      {
       "output_type": "stream",
       "stream": "stdout",
       "text": [
        "\n",
        "Integration to plasma edge did not succeed. Can not determine external stability."
       ]
      },
      {
       "output_type": "stream",
       "stream": "stdout",
       "text": [
        "\n",
        "Integration to plasma edge did not succeed. Can not determine external stability."
       ]
      },
      {
       "output_type": "stream",
       "stream": "stdout",
       "text": [
        "\n",
        "Integration to plasma edge did not succeed. Can not determine external stability."
       ]
      },
      {
       "output_type": "stream",
       "stream": "stdout",
       "text": [
        "\n",
        "Integration to plasma edge did not succeed. Can not determine external stability."
       ]
      },
      {
       "output_type": "stream",
       "stream": "stdout",
       "text": [
        "\n",
        "Integration to plasma edge did not succeed. Can not determine external stability."
       ]
      },
      {
       "output_type": "stream",
       "stream": "stdout",
       "text": [
        "\n",
        "Integration to plasma edge did not succeed. Can not determine external stability."
       ]
      },
      {
       "output_type": "stream",
       "stream": "stdout",
       "text": [
        "\n",
        "Integration to plasma edge did not succeed. Can not determine external stability."
       ]
      },
      {
       "output_type": "stream",
       "stream": "stdout",
       "text": [
        "\n",
        "Integration to plasma edge did not succeed. Can not determine external stability."
       ]
      },
      {
       "output_type": "stream",
       "stream": "stdout",
       "text": [
        "\n",
        "Integration to plasma edge did not succeed. Can not determine external stability."
       ]
      },
      {
       "output_type": "stream",
       "stream": "stdout",
       "text": [
        "\n",
        "Integration to plasma edge did not succeed. Can not determine external stability."
       ]
      },
      {
       "output_type": "stream",
       "stream": "stdout",
       "text": [
        "\n",
        "Integration to plasma edge did not succeed. Can not determine external stability."
       ]
      },
      {
       "output_type": "stream",
       "stream": "stdout",
       "text": [
        "\n",
        "Integration to plasma edge did not succeed. Can not determine external stability."
       ]
      },
      {
       "output_type": "stream",
       "stream": "stdout",
       "text": [
        "\n",
        "Integration to plasma edge did not succeed. Can not determine external stability."
       ]
      },
      {
       "output_type": "stream",
       "stream": "stdout",
       "text": [
        "\n",
        "Integration to plasma edge did not succeed. Can not determine external stability."
       ]
      },
      {
       "output_type": "stream",
       "stream": "stdout",
       "text": [
        "\n",
        "Integration to plasma edge did not succeed. Can not determine external stability."
       ]
      },
      {
       "output_type": "stream",
       "stream": "stdout",
       "text": [
        "\n",
        "Integration to plasma edge did not succeed. Can not determine external stability."
       ]
      },
      {
       "output_type": "stream",
       "stream": "stdout",
       "text": [
        "\n",
        "Integration to plasma edge did not succeed. Can not determine external stability."
       ]
      },
      {
       "output_type": "stream",
       "stream": "stdout",
       "text": [
        "\n",
        "Integration to plasma edge did not succeed. Can not determine external stability."
       ]
      },
      {
       "output_type": "stream",
       "stream": "stdout",
       "text": [
        "\n",
        "Integration to plasma edge did not succeed. Can not determine external stability."
       ]
      },
      {
       "output_type": "stream",
       "stream": "stdout",
       "text": [
        "\n",
        "('lambda_bar:', 2.572857142857143)"
       ]
      },
      {
       "output_type": "stream",
       "stream": "stdout",
       "text": [
        "\n",
        "Integration to plasma edge did not succeed. Can not determine external stability."
       ]
      },
      {
       "output_type": "stream",
       "stream": "stdout",
       "text": [
        "\n",
        "Integration to plasma edge did not succeed. Can not determine external stability."
       ]
      },
      {
       "output_type": "stream",
       "stream": "stdout",
       "text": [
        "\n",
        "Integration to plasma edge did not succeed. Can not determine external stability."
       ]
      },
      {
       "output_type": "stream",
       "stream": "stdout",
       "text": [
        "\n",
        "Integration to plasma edge did not succeed. Can not determine external stability."
       ]
      },
      {
       "output_type": "stream",
       "stream": "stdout",
       "text": [
        "\n",
        "Integration to plasma edge did not succeed. Can not determine external stability."
       ]
      },
      {
       "output_type": "stream",
       "stream": "stdout",
       "text": [
        "\n",
        "Integration to plasma edge did not succeed. Can not determine external stability."
       ]
      },
      {
       "output_type": "stream",
       "stream": "stdout",
       "text": [
        "\n",
        "Integration to plasma edge did not succeed. Can not determine external stability."
       ]
      },
      {
       "output_type": "stream",
       "stream": "stdout",
       "text": [
        "\n",
        "Integration to plasma edge did not succeed. Can not determine external stability."
       ]
      },
      {
       "output_type": "stream",
       "stream": "stdout",
       "text": [
        "\n",
        "Integration to plasma edge did not succeed. Can not determine external stability."
       ]
      },
      {
       "output_type": "stream",
       "stream": "stdout",
       "text": [
        "\n",
        "Integration to plasma edge did not succeed. Can not determine external stability."
       ]
      },
      {
       "output_type": "stream",
       "stream": "stdout",
       "text": [
        "\n",
        "Integration to plasma edge did not succeed. Can not determine external stability."
       ]
      },
      {
       "output_type": "stream",
       "stream": "stdout",
       "text": [
        "\n",
        "Integration to plasma edge did not succeed. Can not determine external stability."
       ]
      },
      {
       "output_type": "stream",
       "stream": "stdout",
       "text": [
        "\n",
        "Integration to plasma edge did not succeed. Can not determine external stability."
       ]
      },
      {
       "output_type": "stream",
       "stream": "stdout",
       "text": [
        "\n",
        "Integration to plasma edge did not succeed. Can not determine external stability."
       ]
      },
      {
       "output_type": "stream",
       "stream": "stdout",
       "text": [
        "\n",
        "Integration to plasma edge did not succeed. Can not determine external stability."
       ]
      },
      {
       "output_type": "stream",
       "stream": "stdout",
       "text": [
        "\n",
        "Integration to plasma edge did not succeed. Can not determine external stability."
       ]
      },
      {
       "output_type": "stream",
       "stream": "stdout",
       "text": [
        "\n",
        "Integration to plasma edge did not succeed. Can not determine external stability."
       ]
      },
      {
       "output_type": "stream",
       "stream": "stdout",
       "text": [
        "\n",
        "Integration to plasma edge did not succeed. Can not determine external stability."
       ]
      },
      {
       "output_type": "stream",
       "stream": "stdout",
       "text": [
        "\n",
        "('lambda_bar:', 2.633877551020408)"
       ]
      },
      {
       "output_type": "stream",
       "stream": "stdout",
       "text": [
        "\n",
        "Integration to plasma edge did not succeed. Can not determine external stability."
       ]
      },
      {
       "output_type": "stream",
       "stream": "stdout",
       "text": [
        "\n",
        "Integration to plasma edge did not succeed. Can not determine external stability."
       ]
      },
      {
       "output_type": "stream",
       "stream": "stdout",
       "text": [
        "\n",
        "Integration to plasma edge did not succeed. Can not determine external stability."
       ]
      },
      {
       "output_type": "stream",
       "stream": "stdout",
       "text": [
        "\n",
        "Integration to plasma edge did not succeed. Can not determine external stability."
       ]
      },
      {
       "output_type": "stream",
       "stream": "stdout",
       "text": [
        "\n",
        "Integration to plasma edge did not succeed. Can not determine external stability."
       ]
      },
      {
       "output_type": "stream",
       "stream": "stdout",
       "text": [
        "\n",
        "Integration to plasma edge did not succeed. Can not determine external stability."
       ]
      },
      {
       "output_type": "stream",
       "stream": "stdout",
       "text": [
        "\n",
        "Integration to plasma edge did not succeed. Can not determine external stability."
       ]
      },
      {
       "output_type": "stream",
       "stream": "stdout",
       "text": [
        "\n",
        "Integration to plasma edge did not succeed. Can not determine external stability."
       ]
      },
      {
       "output_type": "stream",
       "stream": "stdout",
       "text": [
        "\n",
        "Integration to plasma edge did not succeed. Can not determine external stability."
       ]
      },
      {
       "output_type": "stream",
       "stream": "stdout",
       "text": [
        "\n",
        "Integration to plasma edge did not succeed. Can not determine external stability."
       ]
      },
      {
       "output_type": "stream",
       "stream": "stdout",
       "text": [
        "\n",
        "Integration to plasma edge did not succeed. Can not determine external stability."
       ]
      },
      {
       "output_type": "stream",
       "stream": "stdout",
       "text": [
        "\n",
        "Integration to plasma edge did not succeed. Can not determine external stability."
       ]
      },
      {
       "output_type": "stream",
       "stream": "stdout",
       "text": [
        "\n",
        "Integration to plasma edge did not succeed. Can not determine external stability."
       ]
      },
      {
       "output_type": "stream",
       "stream": "stdout",
       "text": [
        "\n",
        "Integration to plasma edge did not succeed. Can not determine external stability."
       ]
      },
      {
       "output_type": "stream",
       "stream": "stdout",
       "text": [
        "\n",
        "Integration to plasma edge did not succeed. Can not determine external stability."
       ]
      },
      {
       "output_type": "stream",
       "stream": "stdout",
       "text": [
        "\n",
        "Integration to plasma edge did not succeed. Can not determine external stability."
       ]
      },
      {
       "output_type": "stream",
       "stream": "stdout",
       "text": [
        "\n",
        "Integration to plasma edge did not succeed. Can not determine external stability."
       ]
      },
      {
       "output_type": "stream",
       "stream": "stdout",
       "text": [
        "\n",
        "Integration to plasma edge did not succeed. Can not determine external stability."
       ]
      },
      {
       "output_type": "stream",
       "stream": "stdout",
       "text": [
        "\n",
        "Integration to plasma edge did not succeed. Can not determine external stability."
       ]
      },
      {
       "output_type": "stream",
       "stream": "stdout",
       "text": [
        "\n",
        "('lambda_bar:', 2.6948979591836735)"
       ]
      },
      {
       "output_type": "stream",
       "stream": "stdout",
       "text": [
        "\n",
        "Integration to plasma edge did not succeed. Can not determine external stability."
       ]
      },
      {
       "output_type": "stream",
       "stream": "stdout",
       "text": [
        "\n",
        "Integration to plasma edge did not succeed. Can not determine external stability."
       ]
      },
      {
       "output_type": "stream",
       "stream": "stdout",
       "text": [
        "\n",
        "Integration to plasma edge did not succeed. Can not determine external stability."
       ]
      },
      {
       "output_type": "stream",
       "stream": "stdout",
       "text": [
        "\n",
        "Integration to plasma edge did not succeed. Can not determine external stability."
       ]
      },
      {
       "output_type": "stream",
       "stream": "stdout",
       "text": [
        "\n",
        "Integration to plasma edge did not succeed. Can not determine external stability."
       ]
      },
      {
       "output_type": "stream",
       "stream": "stdout",
       "text": [
        "\n",
        "Integration to plasma edge did not succeed. Can not determine external stability."
       ]
      },
      {
       "output_type": "stream",
       "stream": "stdout",
       "text": [
        "\n",
        "Integration to plasma edge did not succeed. Can not determine external stability."
       ]
      },
      {
       "output_type": "stream",
       "stream": "stdout",
       "text": [
        "\n",
        "Integration to plasma edge did not succeed. Can not determine external stability."
       ]
      },
      {
       "output_type": "stream",
       "stream": "stdout",
       "text": [
        "\n",
        "Integration to plasma edge did not succeed. Can not determine external stability."
       ]
      },
      {
       "output_type": "stream",
       "stream": "stdout",
       "text": [
        "\n",
        "Integration to plasma edge did not succeed. Can not determine external stability."
       ]
      },
      {
       "output_type": "stream",
       "stream": "stdout",
       "text": [
        "\n",
        "Integration to plasma edge did not succeed. Can not determine external stability."
       ]
      },
      {
       "output_type": "stream",
       "stream": "stdout",
       "text": [
        "\n",
        "Integration to plasma edge did not succeed. Can not determine external stability."
       ]
      },
      {
       "output_type": "stream",
       "stream": "stdout",
       "text": [
        "\n",
        "('lambda_bar:', 2.7559183673469385)"
       ]
      },
      {
       "output_type": "stream",
       "stream": "stdout",
       "text": [
        "\n",
        "Integration to plasma edge did not succeed. Can not determine external stability."
       ]
      },
      {
       "output_type": "stream",
       "stream": "stdout",
       "text": [
        "\n",
        "Integration to plasma edge did not succeed. Can not determine external stability."
       ]
      },
      {
       "output_type": "stream",
       "stream": "stdout",
       "text": [
        "\n",
        "Integration to plasma edge did not succeed. Can not determine external stability."
       ]
      },
      {
       "output_type": "stream",
       "stream": "stdout",
       "text": [
        "\n",
        "Integration to plasma edge did not succeed. Can not determine external stability."
       ]
      },
      {
       "output_type": "stream",
       "stream": "stdout",
       "text": [
        "\n",
        "Integration to plasma edge did not succeed. Can not determine external stability."
       ]
      },
      {
       "output_type": "stream",
       "stream": "stdout",
       "text": [
        "\n",
        "Integration to plasma edge did not succeed. Can not determine external stability."
       ]
      },
      {
       "output_type": "stream",
       "stream": "stdout",
       "text": [
        "\n",
        "Integration to plasma edge did not succeed. Can not determine external stability."
       ]
      },
      {
       "output_type": "stream",
       "stream": "stdout",
       "text": [
        "\n",
        "Integration to plasma edge did not succeed. Can not determine external stability."
       ]
      },
      {
       "output_type": "stream",
       "stream": "stdout",
       "text": [
        "\n",
        "Integration to plasma edge did not succeed. Can not determine external stability."
       ]
      },
      {
       "output_type": "stream",
       "stream": "stdout",
       "text": [
        "\n",
        "Integration to plasma edge did not succeed. Can not determine external stability."
       ]
      },
      {
       "output_type": "stream",
       "stream": "stdout",
       "text": [
        "\n",
        "Integration to plasma edge did not succeed. Can not determine external stability."
       ]
      },
      {
       "output_type": "stream",
       "stream": "stdout",
       "text": [
        "\n",
        "('lambda_bar:', 2.816938775510204)"
       ]
      },
      {
       "output_type": "stream",
       "stream": "stdout",
       "text": [
        "\n",
        "Integration to plasma edge did not succeed. Can not determine external stability."
       ]
      },
      {
       "output_type": "stream",
       "stream": "stdout",
       "text": [
        "\n",
        "Integration to plasma edge did not succeed. Can not determine external stability."
       ]
      },
      {
       "output_type": "stream",
       "stream": "stdout",
       "text": [
        "\n",
        "Integration to plasma edge did not succeed. Can not determine external stability."
       ]
      },
      {
       "output_type": "stream",
       "stream": "stdout",
       "text": [
        "\n",
        "Integration to plasma edge did not succeed. Can not determine external stability."
       ]
      },
      {
       "output_type": "stream",
       "stream": "stdout",
       "text": [
        "\n",
        "Integration to plasma edge did not succeed. Can not determine external stability."
       ]
      },
      {
       "output_type": "stream",
       "stream": "stdout",
       "text": [
        "\n",
        "Integration to plasma edge did not succeed. Can not determine external stability."
       ]
      },
      {
       "output_type": "stream",
       "stream": "stdout",
       "text": [
        "\n",
        "Integration to plasma edge did not succeed. Can not determine external stability."
       ]
      },
      {
       "output_type": "stream",
       "stream": "stdout",
       "text": [
        "\n",
        "Integration to plasma edge did not succeed. Can not determine external stability."
       ]
      },
      {
       "output_type": "stream",
       "stream": "stdout",
       "text": [
        "\n",
        "Integration to plasma edge did not succeed. Can not determine external stability."
       ]
      },
      {
       "output_type": "stream",
       "stream": "stdout",
       "text": [
        "\n",
        "Integration to plasma edge did not succeed. Can not determine external stability."
       ]
      },
      {
       "output_type": "stream",
       "stream": "stdout",
       "text": [
        "\n",
        "('lambda_bar:', 2.8779591836734695)"
       ]
      },
      {
       "output_type": "stream",
       "stream": "stdout",
       "text": [
        "\n",
        "Integration to plasma edge did not succeed. Can not determine external stability."
       ]
      },
      {
       "output_type": "stream",
       "stream": "stdout",
       "text": [
        "\n",
        "Integration to plasma edge did not succeed. Can not determine external stability."
       ]
      },
      {
       "output_type": "stream",
       "stream": "stdout",
       "text": [
        "\n",
        "Integration to plasma edge did not succeed. Can not determine external stability."
       ]
      },
      {
       "output_type": "stream",
       "stream": "stdout",
       "text": [
        "\n",
        "Integration to plasma edge did not succeed. Can not determine external stability."
       ]
      },
      {
       "output_type": "stream",
       "stream": "stdout",
       "text": [
        "\n",
        "Integration to plasma edge did not succeed. Can not determine external stability."
       ]
      },
      {
       "output_type": "stream",
       "stream": "stdout",
       "text": [
        "\n",
        "Integration to plasma edge did not succeed. Can not determine external stability."
       ]
      },
      {
       "output_type": "stream",
       "stream": "stdout",
       "text": [
        "\n",
        "Integration to plasma edge did not succeed. Can not determine external stability."
       ]
      },
      {
       "output_type": "stream",
       "stream": "stdout",
       "text": [
        "\n",
        "Integration to plasma edge did not succeed. Can not determine external stability."
       ]
      },
      {
       "output_type": "stream",
       "stream": "stdout",
       "text": [
        "\n",
        "Integration to plasma edge did not succeed. Can not determine external stability."
       ]
      },
      {
       "output_type": "stream",
       "stream": "stdout",
       "text": [
        "\n",
        "Integration to plasma edge did not succeed. Can not determine external stability."
       ]
      },
      {
       "output_type": "stream",
       "stream": "stdout",
       "text": [
        "\n",
        "Integration to plasma edge did not succeed. Can not determine external stability."
       ]
      },
      {
       "output_type": "stream",
       "stream": "stdout",
       "text": [
        "\n",
        "Integration to plasma edge did not succeed. Can not determine external stability."
       ]
      },
      {
       "output_type": "stream",
       "stream": "stdout",
       "text": [
        "\n",
        "Integration to plasma edge did not succeed. Can not determine external stability."
       ]
      },
      {
       "output_type": "stream",
       "stream": "stdout",
       "text": [
        "\n",
        "('lambda_bar:', 2.9389795918367345)"
       ]
      },
      {
       "output_type": "stream",
       "stream": "stdout",
       "text": [
        "\n",
        "Integration to plasma edge did not succeed. Can not determine external stability."
       ]
      },
      {
       "output_type": "stream",
       "stream": "stdout",
       "text": [
        "\n",
        "Integration to plasma edge did not succeed. Can not determine external stability."
       ]
      },
      {
       "output_type": "stream",
       "stream": "stdout",
       "text": [
        "\n",
        "Integration to plasma edge did not succeed. Can not determine external stability."
       ]
      },
      {
       "output_type": "stream",
       "stream": "stdout",
       "text": [
        "\n",
        "Integration to plasma edge did not succeed. Can not determine external stability."
       ]
      },
      {
       "output_type": "stream",
       "stream": "stdout",
       "text": [
        "\n",
        "Integration to plasma edge did not succeed. Can not determine external stability."
       ]
      },
      {
       "output_type": "stream",
       "stream": "stdout",
       "text": [
        "\n",
        "Integration to plasma edge did not succeed. Can not determine external stability."
       ]
      },
      {
       "output_type": "stream",
       "stream": "stdout",
       "text": [
        "\n",
        "Integration to plasma edge did not succeed. Can not determine external stability."
       ]
      },
      {
       "output_type": "stream",
       "stream": "stdout",
       "text": [
        "\n",
        "Integration to plasma edge did not succeed. Can not determine external stability."
       ]
      },
      {
       "output_type": "stream",
       "stream": "stdout",
       "text": [
        "\n",
        "Integration to plasma edge did not succeed. Can not determine external stability."
       ]
      },
      {
       "output_type": "stream",
       "stream": "stdout",
       "text": [
        "\n",
        "Integration to plasma edge did not succeed. Can not determine external stability."
       ]
      },
      {
       "output_type": "stream",
       "stream": "stdout",
       "text": [
        "\n",
        "('lambda_bar:', 3.0)"
       ]
      },
      {
       "output_type": "stream",
       "stream": "stdout",
       "text": [
        "\n",
        "Integration to plasma edge did not succeed. Can not determine external stability."
       ]
      },
      {
       "output_type": "stream",
       "stream": "stdout",
       "text": [
        "\n",
        "Integration to plasma edge did not succeed. Can not determine external stability."
       ]
      },
      {
       "output_type": "stream",
       "stream": "stdout",
       "text": [
        "\n",
        "Integration to plasma edge did not succeed. Can not determine external stability."
       ]
      },
      {
       "output_type": "stream",
       "stream": "stdout",
       "text": [
        "\n",
        "Integration to plasma edge did not succeed. Can not determine external stability."
       ]
      },
      {
       "output_type": "stream",
       "stream": "stdout",
       "text": [
        "\n",
        "Integration to plasma edge did not succeed. Can not determine external stability."
       ]
      },
      {
       "output_type": "stream",
       "stream": "stdout",
       "text": [
        "\n",
        "Integration to plasma edge did not succeed. Can not determine external stability."
       ]
      },
      {
       "output_type": "stream",
       "stream": "stdout",
       "text": [
        "\n",
        "Integration to plasma edge did not succeed. Can not determine external stability."
       ]
      },
      {
       "output_type": "stream",
       "stream": "stdout",
       "text": [
        "\n",
        "Integration to plasma edge did not succeed. Can not determine external stability."
       ]
      },
      {
       "output_type": "stream",
       "stream": "stdout",
       "text": [
        "\n",
        "Integration to plasma edge did not succeed. Can not determine external stability."
       ]
      },
      {
       "output_type": "stream",
       "stream": "stdout",
       "text": [
        "\n",
        "Integration to plasma edge did not succeed. Can not determine external stability."
       ]
      },
      {
       "output_type": "stream",
       "stream": "stdout",
       "text": [
        "\n",
        "Integration to plasma edge did not succeed. Can not determine external stability."
       ]
      },
      {
       "output_type": "stream",
       "stream": "stdout",
       "text": [
        "\n"
       ]
      }
     ],
     "prompt_number": 27
    },
    {
     "cell_type": "code",
     "collapsed": false,
     "input": [],
     "language": "python",
     "metadata": {},
     "outputs": []
    }
   ],
   "metadata": {}
  }
 ]
}