{
 "cells": [
  {
   "cell_type": "markdown",
   "metadata": {},
   "source": [
    "# Examine $\\xi$ near oscillaating and undetermined stability results"
   ]
  },
  {
   "cell_type": "markdown",
   "metadata": {},
   "source": [
    "Examine the profile fit, the xi function and result for profiles that are near oscillating stabilities or for which no stability can be determined. "
   ]
  },
  {
   "cell_type": "code",
   "execution_count": 42,
   "metadata": {
    "code_folding": [],
    "collapsed": false
   },
   "outputs": [],
   "source": [
    "#imports\n",
    "import matplotlib.pyplot as plt\n",
    "%matplotlib inline\n",
    "import seaborn as sns\n",
    "sns.set_style('whitegrid')\n",
    "\n",
    "import sys\n",
    "sys.path.append('..')\n",
    "sys.path.append('../scipy_mod')\n",
    "\n",
    "import numpy as np\n",
    "from scipy.interpolate import splev\n",
    "\n",
    "import equil_solver as es\n",
    "import newcomb_simple as new\n",
    "reload(new)\n",
    "\n",
    "from copy import deepcopy"
   ]
  },
  {
   "cell_type": "markdown",
   "metadata": {},
   "source": [
    "# A stable case"
   ]
  },
  {
   "cell_type": "code",
   "execution_count": 2,
   "metadata": {
    "code_folding": [],
    "collapsed": true
   },
   "outputs": [],
   "source": [
    "#parameters\n",
    "k_bar = 1.0\n",
    "lambda_bar = 1.0 \n",
    "xi_factor = 1.\n",
    "magnetic_potential_energy_ratio = 1.\n",
    "offset = 1e-3\n",
    "suydam_end_offset = 1e-3\n",
    "sing_search_points = 100\n",
    "suppress_output = True\n",
    "rtol = 1e-2\n",
    "max_step = 1e-2\n",
    "nsteps = 1e3\n",
    "init_value = 1.\n",
    "method = 'lsoda'\n",
    "diagnose = True\n",
    "stiff = True\n",
    "use_jac = True\n",
    "params = {'k': k_bar,\n",
    "          'm': -1,\n",
    "          'r_0': 0,\n",
    "          'a': 1.,\n",
    "          'b': 'infinity'}\n",
    "profile_kwargs = {'epsilon': 1.,\n",
    "                  'points_core': 50,\n",
    "                  'points_skin': 20,\n",
    "                  'points_transition': 20,\n",
    "                  'core_radius_norm': 0.9,\n",
    "                  'transition_width_norm': 0.033,\n",
    "                  'skin_width_norm': 0.034}"
   ]
  },
  {
   "cell_type": "code",
   "execution_count": 3,
   "metadata": {
    "code_folding": [
     0
    ],
    "collapsed": false
   },
   "outputs": [],
   "source": [
    "#create profile and determine external stability\n",
    "profile = es.UnitlessSmoothedCoreSkin(k_bar=k_bar,\n",
    "                                      lambda_bar=lambda_bar,\n",
    "                                      **profile_kwargs)\n",
    "params_wo_splines = deepcopy(params)\n",
    "params.update(profile.get_tck_splines())\n",
    "params.update({'xi_factor': xi_factor,\n",
    "               'magnetic_potential_energy_ratio': magnetic_potential_energy_ratio,\n",
    "               'beta_0': profile.beta_0(),\n",
    "               'core_radius': profile.core_radius,\n",
    "               'transition_width': profile.transition_width,\n",
    "               'skin_width': profile.skin_width,\n",
    "               'points_core': profile.points_core,\n",
    "               'points_transition': profile.points_transition,\n",
    "               'points_skin': profile.points_skin,\n",
    "               'epsilon': profile.epsilon})\n",
    "\n",
    "results = new.stability(params, offset, suydam_end_offset,\n",
    "                        sing_search_points=sing_search_points,\n",
    "                        suppress_output=suppress_output,\n",
    "                        xi_given=init_value,\n",
    "                        rtol=rtol, \n",
    "                        max_step=max_step,\n",
    "                        nsteps=nsteps, \n",
    "                        method=method,\n",
    "                        diagnose=diagnose, \n",
    "                        stiff=stiff,\n",
    "                        use_jac=use_jac)"
   ]
  },
  {
   "cell_type": "markdown",
   "metadata": {},
   "source": [
    "# Look at profile"
   ]
  },
  {
   "cell_type": "code",
   "execution_count": 162,
   "metadata": {
    "collapsed": false
   },
   "outputs": [
    {
     "data": {
      "text/plain": [
       "[<matplotlib.lines.Line2D at 0x7f452d121290>]"
      ]
     },
     "execution_count": 162,
     "metadata": {},
     "output_type": "execute_result"
    },
    {
     "data": {
      "image/png": "[encoded data removed]",
      "text/plain": [
       "<matplotlib.figure.Figure at 0x7f452d200550>"
      ]
     },
     "metadata": {},
     "output_type": "display_data"
    }
   ],
   "source": [
    "r = np.linspace(0.8, 1, 250)\n",
    "j_z = splev(r, params['j_z'])\n",
    "plt.plot(r, j_z)"
   ]
  },
  {
   "cell_type": "markdown",
   "metadata": {},
   "source": [
    "$\\delta W$"
   ]
  },
  {
   "cell_type": "code",
   "execution_count": 163,
   "metadata": {
    "collapsed": false
   },
   "outputs": [
    {
     "data": {
      "text/plain": [
       "2.2507152684076299"
      ]
     },
     "execution_count": 163,
     "metadata": {},
     "output_type": "execute_result"
    }
   ],
   "source": [
    "results[2]"
   ]
  },
  {
   "cell_type": "code",
   "execution_count": 164,
   "metadata": {
    "collapsed": false
   },
   "outputs": [
    {
     "data": {
      "text/plain": [
       "(250,)"
      ]
     },
     "execution_count": 164,
     "metadata": {},
     "output_type": "execute_result"
    }
   ],
   "source": [
    "results[4].shape"
   ]
  },
  {
   "cell_type": "markdown",
   "metadata": {},
   "source": [
    "$\\xi$"
   ]
  },
  {
   "cell_type": "code",
   "execution_count": 165,
   "metadata": {
    "collapsed": false
   },
   "outputs": [
    {
     "data": {
      "image/png": "[encoded data removed]",
      "text/plain": [
       "<matplotlib.figure.Figure at 0x7f452d20a990>"
      ]
     },
     "metadata": {},
     "output_type": "display_data"
    }
   ],
   "source": [
    "r = np.linspace(0, 1, 250)\n",
    "plt.plot(r, results[4])\n",
    "plt.show()"
   ]
  },
  {
   "cell_type": "markdown",
   "metadata": {},
   "source": [
    "$\\xi'$"
   ]
  },
  {
   "cell_type": "code",
   "execution_count": 166,
   "metadata": {
    "collapsed": false
   },
   "outputs": [
    {
     "data": {
      "image/png": "[encoded data removed]",
      "text/plain": [
       "<matplotlib.figure.Figure at 0x7f452d156bd0>"
      ]
     },
     "metadata": {},
     "output_type": "display_data"
    }
   ],
   "source": [
    "r = np.linspace(0, 1, 250)\n",
    "plt.plot(r, results[5])\n",
    "plt.show()"
   ]
  },
  {
   "cell_type": "code",
   "execution_count": 167,
   "metadata": {
    "collapsed": false
   },
   "outputs": [
    {
     "data": {
      "text/plain": [
       "[<matplotlib.lines.Line2D at 0x7f452cf3c850>]"
      ]
     },
     "execution_count": 167,
     "metadata": {},
     "output_type": "execute_result"
    },
    {
     "data": {
      "image/png": "[encoded data removed]",
      "text/plain": [
       "<matplotlib.figure.Figure at 0x7f452cf919d0>"
      ]
     },
     "metadata": {},
     "output_type": "display_data"
    }
   ],
   "source": [
    "plt.plot(r, results[5]/ results[4])"
   ]
  },
  {
   "cell_type": "markdown",
   "metadata": {},
   "source": [
    "# A case in the large undetermined region"
   ]
  },
  {
   "cell_type": "code",
   "execution_count": 50,
   "metadata": {
    "collapsed": false
   },
   "outputs": [],
   "source": [
    "#parameters\n",
    "k_bar = 1.\n",
    "lambda_bar = 2.5\n",
    "xi_factor = 1.\n",
    "magnetic_potential_energy_ratio = 1.\n",
    "offset = 1e-3\n",
    "suydam_end_offset = 1e-3\n",
    "sing_search_points = 100\n",
    "suppress_output = True\n",
    "rtol = 1e-5\n",
    "max_step = 1e-4\n",
    "nsteps = 1e5\n",
    "init_value = 1.\n",
    "method = 'lsoda_odeint'\n",
    "diagnose = True\n",
    "stiff = False\n",
    "use_jac = True\n",
    "adapt_step_size = True\n",
    "adapt_min_steps = 5e4\n",
    "params = {'k': k_bar,\n",
    "          'm': -1,\n",
    "          'r_0': 0,\n",
    "          'a': 1.,\n",
    "          'b': 'infinity'}\n",
    "profile_kwargs = {'epsilon': 0.1,\n",
    "                  'points_core': 5000,\n",
    "                  'points_skin': 5000,\n",
    "                  'points_transition': 5000,\n",
    "                  'core_radius_norm': 0.97,\n",
    "                  'transition_width_norm': 0.01,\n",
    "                  'skin_width_norm': 0.01}"
   ]
  },
  {
   "cell_type": "code",
   "execution_count": 49,
   "metadata": {
    "collapsed": false
   },
   "outputs": [
    {
     "name": "stdout",
     "output_type": "stream",
     "text": [
      "Integration to plasma edge did not succeed. Can not determine external stability at k = 1.000.\n"
     ]
    },
    {
     "name": "stderr",
     "output_type": "stream",
     "text": [
      "/home/jensv/anaconda/lib/python2.7/site-packages/scipy/integrate/_ode.py:372: UserWarning: No integrator name match with 'odeint' or is not available.\n",
      "  'available.' % name)\n"
     ]
    }
   ],
   "source": [
    "#create profile and determine external stability\n",
    "profile = es.UnitlessSmoothedCoreSkin(k_bar=k_bar,\n",
    "                                      lambda_bar=lambda_bar,\n",
    "                                      **profile_kwargs)\n",
    "params_wo_splines = deepcopy(params)\n",
    "params.update(profile.get_tck_splines())\n",
    "params.update({'xi_factor': xi_factor,\n",
    "               'magnetic_potential_energy_ratio': magnetic_potential_energy_ratio,\n",
    "               'beta_0': profile.beta_0(),\n",
    "               'core_radius': profile.core_radius,\n",
    "               'transition_width': profile.transition_width,\n",
    "               'skin_width': profile.skin_width,\n",
    "               'points_core': profile.points_core,\n",
    "               'points_transition': profile.points_transition,\n",
    "               'points_skin': profile.points_skin,\n",
    "               'epsilon': profile.epsilon})\n",
    "\n",
    "results = new.stability(params, offset, suydam_end_offset,\n",
    "                        sing_search_points=sing_search_points,\n",
    "                        suppress_output=suppress_output,\n",
    "                        xi_given=init_value,\n",
    "                        rtol=rtol, \n",
    "                        max_step=max_step,\n",
    "                        nsteps=nsteps, \n",
    "                        method=method,\n",
    "                        diagnose=diagnose, \n",
    "                        stiff=stiff,\n",
    "                        use_jac=use_jac,\n",
    "                        adapt_step_size=adapt_step_size,\n",
    "                        adapt_min_steps=adapt_min_steps)"
   ]
  },
  {
   "cell_type": "code",
   "execution_count": null,
   "metadata": {
    "collapsed": false
   },
   "outputs": [],
   "source": [
    "results"
   ]
  },
  {
   "cell_type": "code",
   "execution_count": 205,
   "metadata": {
    "collapsed": false
   },
   "outputs": [
    {
     "data": {
      "text/plain": [
       "[<matplotlib.lines.Line2D at 0x7f452c5cba90>]"
      ]
     },
     "execution_count": 205,
     "metadata": {},
     "output_type": "execute_result"
    },
    {
     "data": {
      "image/png": "[encoded data removed]",
      "text/plain": [
       "<matplotlib.figure.Figure at 0x7f452c6f8550>"
      ]
     },
     "metadata": {},
     "output_type": "display_data"
    }
   ],
   "source": [
    "r = np.linspace(0, 1, 250)\n",
    "plt.plot(r, results[4])"
   ]
  },
  {
   "cell_type": "code",
   "execution_count": 206,
   "metadata": {
    "collapsed": false
   },
   "outputs": [
    {
     "data": {
      "text/plain": [
       "[<matplotlib.lines.Line2D at 0x7f452c4fbb90>]"
      ]
     },
     "execution_count": 206,
     "metadata": {},
     "output_type": "execute_result"
    },
    {
     "data": {
      "image/png": "[encoded data removed]",
      "text/plain": [
       "<matplotlib.figure.Figure at 0x7f452c5fb650>"
      ]
     },
     "metadata": {},
     "output_type": "display_data"
    }
   ],
   "source": [
    "r = np.linspace(0, 1, 250)\n",
    "plt.plot(r, results[5])"
   ]
  },
  {
   "cell_type": "code",
   "execution_count": 207,
   "metadata": {
    "collapsed": false
   },
   "outputs": [
    {
     "data": {
      "text/plain": [
       "[<matplotlib.lines.Line2D at 0x7f452c43e210>]"
      ]
     },
     "execution_count": 207,
     "metadata": {},
     "output_type": "execute_result"
    },
    {
     "data": {
      "image/png": "[encoded data removed]",
      "text/plain": [
       "<matplotlib.figure.Figure at 0x7f452c49c090>"
      ]
     },
     "metadata": {},
     "output_type": "display_data"
    }
   ],
   "source": [
    "r = np.linspace(0, 1, 250)\n",
    "plt.plot(r, results[5]/results[4])"
   ]
  },
  {
   "cell_type": "markdown",
   "metadata": {},
   "source": [
    "Test"
   ]
  },
  {
   "cell_type": "code",
   "execution_count": 225,
   "metadata": {
    "collapsed": true
   },
   "outputs": [],
   "source": [
    "#parameters\n",
    "k_bar = 0.4\n",
    "lambda_bar = 1.5\n",
    "xi_factor = 1.\n",
    "magnetic_potential_energy_ratio = 1.\n",
    "offset = 1e-3\n",
    "suydam_end_offset = 1e-3\n",
    "sing_search_points = 100\n",
    "suppress_output = True\n",
    "rtol = 1e-5\n",
    "max_step = 1e-4\n",
    "nsteps = 1e5\n",
    "init_value = 1.\n",
    "method = 'lsoda'\n",
    "diagnose = True\n",
    "stiff = True\n",
    "use_jac = True\n",
    "params = {'k': k_bar,\n",
    "          'm': -1,\n",
    "          'r_0': 0,\n",
    "          'a': 1.,\n",
    "          'b': 'infinity'}\n",
    "profile_kwargs = {'epsilon': 0.1,\n",
    "                  'points_core': 50,\n",
    "                  'points_skin': 50,\n",
    "                  'points_transition': 50,\n",
    "                  'core_radius_norm': 0.997,\n",
    "                  'transition_width_norm': 0.001,\n",
    "                  'skin_width_norm': 0.001}"
   ]
  },
  {
   "cell_type": "code",
   "execution_count": 226,
   "metadata": {
    "collapsed": false
   },
   "outputs": [],
   "source": [
    "#create profile and determine external stability\n",
    "profile = es.UnitlessSmoothedCoreSkin(k_bar=k_bar,\n",
    "                                      lambda_bar=lambda_bar,\n",
    "                                      **profile_kwargs)\n",
    "params_wo_splines = deepcopy(params)\n",
    "params.update(profile.get_tck_splines())\n",
    "params.update({'xi_factor': xi_factor,\n",
    "               'magnetic_potential_energy_ratio': magnetic_potential_energy_ratio,\n",
    "               'beta_0': profile.beta_0(),\n",
    "               'core_radius': profile.core_radius,\n",
    "               'transition_width': profile.transition_width,\n",
    "               'skin_width': profile.skin_width,\n",
    "               'points_core': profile.points_core,\n",
    "               'points_transition': profile.points_transition,\n",
    "               'points_skin': profile.points_skin,\n",
    "               'epsilon': profile.epsilon})\n",
    "\n",
    "results = new.stability(params, offset, suydam_end_offset,\n",
    "                        sing_search_points=sing_search_points,\n",
    "                        suppress_output=suppress_output,\n",
    "                        xi_given=init_value,\n",
    "                        rtol=rtol, \n",
    "                        max_step=max_step,\n",
    "                        nsteps=nsteps, \n",
    "                        method=method,\n",
    "                        diagnose=diagnose, \n",
    "                        stiff=stiff,\n",
    "                        use_jac=use_jac)"
   ]
  },
  {
   "cell_type": "code",
   "execution_count": 227,
   "metadata": {
    "collapsed": false
   },
   "outputs": [
    {
     "data": {
      "text/plain": [
       "(False,\n",
       " True,\n",
       " -1.2041061402915374,\n",
       " None,\n",
       " array([  1.00000000e+00,   1.00000198e+00,   1.00000680e+00,\n",
       "          1.00001438e+00,   1.00002470e+00,   1.00003777e+00,\n",
       "          1.00005359e+00,   1.00007216e+00,   1.00009346e+00,\n",
       "          1.00011750e+00,   1.00014428e+00,   1.00017380e+00,\n",
       "          1.00020604e+00,   1.00024102e+00,   1.00027873e+00,\n",
       "          1.00031916e+00,   1.00036231e+00,   1.00040818e+00,\n",
       "          1.00045678e+00,   1.00050809e+00,   1.00056211e+00,\n",
       "          1.00061885e+00,   1.00067830e+00,   1.00074045e+00,\n",
       "          1.00080532e+00,   1.00087288e+00,   1.00094315e+00,\n",
       "          1.00101611e+00,   1.00109178e+00,   1.00117014e+00,\n",
       "          1.00125119e+00,   1.00133493e+00,   1.00142136e+00,\n",
       "          1.00151048e+00,   1.00160229e+00,   1.00169677e+00,\n",
       "          1.00179394e+00,   1.00189379e+00,   1.00199631e+00,\n",
       "          1.00210151e+00,   1.00220938e+00,   1.00231992e+00,\n",
       "          1.00243313e+00,   1.00254901e+00,   1.00266755e+00,\n",
       "          1.00278875e+00,   1.00291261e+00,   1.00303914e+00,\n",
       "          1.00316831e+00,   1.00330015e+00,   1.00343464e+00,\n",
       "          1.00357177e+00,   1.00371156e+00,   1.00385399e+00,\n",
       "          1.00399907e+00,   1.00414679e+00,   1.00429716e+00,\n",
       "          1.00445016e+00,   1.00460580e+00,   1.00476407e+00,\n",
       "          1.00492498e+00,   1.00508852e+00,   1.00525470e+00,\n",
       "          1.00542349e+00,   1.00559492e+00,   1.00576897e+00,\n",
       "          1.00594564e+00,   1.00612493e+00,   1.00630685e+00,\n",
       "          1.00649137e+00,   1.00667852e+00,   1.00686828e+00,\n",
       "          1.00706064e+00,   1.00725562e+00,   1.00745321e+00,\n",
       "          1.00765340e+00,   1.00785620e+00,   1.00806160e+00,\n",
       "          1.00826960e+00,   1.00848020e+00,   1.00869339e+00,\n",
       "          1.00890919e+00,   1.00912757e+00,   1.00934855e+00,\n",
       "          1.00957212e+00,   1.00979828e+00,   1.01002702e+00,\n",
       "          1.01025835e+00,   1.01049226e+00,   1.01072875e+00,\n",
       "          1.01096783e+00,   1.01120948e+00,   1.01145371e+00,\n",
       "          1.01170051e+00,   1.01194988e+00,   1.01220183e+00,\n",
       "          1.01245635e+00,   1.01271343e+00,   1.01297308e+00,\n",
       "          1.01323530e+00,   1.01350008e+00,   1.01376742e+00,\n",
       "          1.01403731e+00,   1.01430977e+00,   1.01458478e+00,\n",
       "          1.01486235e+00,   1.01514247e+00,   1.01542514e+00,\n",
       "          1.01571037e+00,   1.01599814e+00,   1.01628845e+00,\n",
       "          1.01658131e+00,   1.01687672e+00,   1.01717466e+00,\n",
       "          1.01747514e+00,   1.01777817e+00,   1.01808373e+00,\n",
       "          1.01839182e+00,   1.01870245e+00,   1.01901561e+00,\n",
       "          1.01933130e+00,   1.01964951e+00,   1.01997026e+00,\n",
       "          1.02029353e+00,   1.02061932e+00,   1.02094764e+00,\n",
       "          1.02127847e+00,   1.02161183e+00,   1.02194770e+00,\n",
       "          1.02228609e+00,   1.02262699e+00,   1.02297040e+00,\n",
       "          1.02331633e+00,   1.02366476e+00,   1.02401571e+00,\n",
       "          1.02436915e+00,   1.02472511e+00,   1.02508356e+00,\n",
       "          1.02544452e+00,   1.02580798e+00,   1.02617394e+00,\n",
       "          1.02654239e+00,   1.02691334e+00,   1.02728678e+00,\n",
       "          1.02766271e+00,   1.02804113e+00,   1.02842205e+00,\n",
       "          1.02880545e+00,   1.02919133e+00,   1.02957970e+00,\n",
       "          1.02997056e+00,   1.03036389e+00,   1.03075970e+00,\n",
       "          1.03115800e+00,   1.03155876e+00,   1.03196201e+00,\n",
       "          1.03236772e+00,   1.03277591e+00,   1.03318657e+00,\n",
       "          1.03359970e+00,   1.03401529e+00,   1.03443335e+00,\n",
       "          1.03485388e+00,   1.03527687e+00,   1.03570231e+00,\n",
       "          1.03613022e+00,   1.03656059e+00,   1.03699341e+00,\n",
       "          1.03742868e+00,   1.03786641e+00,   1.03830660e+00,\n",
       "          1.03874923e+00,   1.03919431e+00,   1.03964183e+00,\n",
       "          1.04009181e+00,   1.04054422e+00,   1.04099908e+00,\n",
       "          1.04145638e+00,   1.04191612e+00,   1.04237830e+00,\n",
       "          1.04284291e+00,   1.04330996e+00,   1.04377944e+00,\n",
       "          1.04425136e+00,   1.04472570e+00,   1.04520247e+00,\n",
       "          1.04568167e+00,   1.04616329e+00,   1.04664734e+00,\n",
       "          1.04713381e+00,   1.04762270e+00,   1.04811401e+00,\n",
       "          1.04860774e+00,   1.04910388e+00,   1.04960244e+00,\n",
       "          1.05010341e+00,   1.05060679e+00,   1.05111258e+00,\n",
       "          1.05162078e+00,   1.05213139e+00,   1.05264440e+00,\n",
       "          1.05315982e+00,   1.05367763e+00,   1.05419785e+00,\n",
       "          1.05472047e+00,   1.05524548e+00,   1.05577289e+00,\n",
       "          1.05630269e+00,   1.05683488e+00,   1.05736947e+00,\n",
       "          1.05790644e+00,   1.05844581e+00,   1.05898756e+00,\n",
       "          1.05953169e+00,   1.06007820e+00,   1.06062710e+00,\n",
       "          1.06117837e+00,   1.06173202e+00,   1.06228804e+00,\n",
       "          1.06284645e+00,   1.06340724e+00,   1.06397040e+00,\n",
       "          1.06453593e+00,   1.06510382e+00,   1.06567407e+00,\n",
       "          1.06624667e+00,   1.06682161e+00,   1.06739892e+00,\n",
       "          1.06797860e+00,   1.06856068e+00,   1.06914516e+00,\n",
       "          1.06973203e+00,   1.07032127e+00,   1.07091283e+00,\n",
       "          1.07150664e+00,   1.07210267e+00,   1.07270092e+00,\n",
       "          1.07330147e+00,   1.07390443e+00,   1.07450995e+00,\n",
       "          1.07511815e+00,   1.07572902e+00,   1.07634242e+00,\n",
       "          1.07695810e+00,   1.07757572e+00,   1.07819502e+00,\n",
       "          1.07881592e+00,   1.07943852e+00,   1.08006306e+00,\n",
       "          4.94068917e+09]),\n",
       " array([  0.00000000e+00,   8.57099297e-04,   1.54462835e-03,\n",
       "          2.23065538e-03,   2.91599491e-03,   3.60073118e-03,\n",
       "          4.28488339e-03,   4.96845888e-03,   5.65146182e-03,\n",
       "          6.33389534e-03,   7.01576216e-03,   7.69706479e-03,\n",
       "          8.37780568e-03,   9.05798717e-03,   9.73761161e-03,\n",
       "          1.04166813e-02,   1.10951985e-02,   1.17731655e-02,\n",
       "          1.24505844e-02,   1.31274576e-02,   1.38037872e-02,\n",
       "          1.44795755e-02,   1.51548245e-02,   1.58295364e-02,\n",
       "          1.65037134e-02,   1.71773576e-02,   1.78504711e-02,\n",
       "          1.85230560e-02,   1.91951143e-02,   1.98666481e-02,\n",
       "          2.05376595e-02,   2.12081504e-02,   2.18781230e-02,\n",
       "          2.25475791e-02,   2.32165207e-02,   2.38849499e-02,\n",
       "          2.45528686e-02,   2.52202786e-02,   2.58871820e-02,\n",
       "          2.65535806e-02,   2.72194762e-02,   2.78848709e-02,\n",
       "          2.85497664e-02,   2.92141645e-02,   2.98780671e-02,\n",
       "          3.05414761e-02,   3.12043931e-02,   3.18668199e-02,\n",
       "          3.25287584e-02,   3.31902103e-02,   3.38511773e-02,\n",
       "          3.45116611e-02,   3.51716634e-02,   3.58311859e-02,\n",
       "          3.64902302e-02,   3.71487981e-02,   3.78068912e-02,\n",
       "          3.84645110e-02,   3.91216592e-02,   3.97783374e-02,\n",
       "          4.04345472e-02,   4.10902901e-02,   4.17455676e-02,\n",
       "          4.24003814e-02,   4.30547328e-02,   4.37086235e-02,\n",
       "          4.43620549e-02,   4.50150284e-02,   4.56675456e-02,\n",
       "          4.63196078e-02,   4.69712165e-02,   4.76223731e-02,\n",
       "          4.82730790e-02,   4.89233355e-02,   4.95731441e-02,\n",
       "          5.02225061e-02,   5.08714227e-02,   5.15198954e-02,\n",
       "          5.21679254e-02,   5.28155141e-02,   5.34626626e-02,\n",
       "          5.41093723e-02,   5.47556444e-02,   5.54014801e-02,\n",
       "          5.60468807e-02,   5.66918472e-02,   5.73363810e-02,\n",
       "          5.79804832e-02,   5.86241548e-02,   5.92673972e-02,\n",
       "          5.99102114e-02,   6.05525984e-02,   6.11945595e-02,\n",
       "          6.18360956e-02,   6.24772078e-02,   6.31178973e-02,\n",
       "          6.37581649e-02,   6.43980118e-02,   6.50374389e-02,\n",
       "          6.56764472e-02,   6.63150378e-02,   6.69532115e-02,\n",
       "          6.75909693e-02,   6.82283121e-02,   6.88652408e-02,\n",
       "          6.95017565e-02,   7.01378598e-02,   7.07735518e-02,\n",
       "          7.14088332e-02,   7.20437049e-02,   7.26781677e-02,\n",
       "          7.33122225e-02,   7.39458700e-02,   7.45791110e-02,\n",
       "          7.52119463e-02,   7.58443766e-02,   7.64764027e-02,\n",
       "          7.71080253e-02,   7.77392451e-02,   7.83700628e-02,\n",
       "          7.90004791e-02,   7.96304947e-02,   8.02601101e-02,\n",
       "          8.08893261e-02,   8.15181433e-02,   8.21465622e-02,\n",
       "          8.27745835e-02,   8.34022077e-02,   8.40294354e-02,\n",
       "          8.46562672e-02,   8.52827036e-02,   8.59087451e-02,\n",
       "          8.65343922e-02,   8.71596455e-02,   8.77845053e-02,\n",
       "          8.84089722e-02,   8.90330466e-02,   8.96567290e-02,\n",
       "          9.02800197e-02,   9.09029191e-02,   9.15254278e-02,\n",
       "          9.21475459e-02,   9.27692740e-02,   9.33906123e-02,\n",
       "          9.40115612e-02,   9.46321211e-02,   9.52522921e-02,\n",
       "          9.58720747e-02,   9.64914690e-02,   9.71104754e-02,\n",
       "          9.77290942e-02,   9.83473255e-02,   9.89651695e-02,\n",
       "          9.95826266e-02,   1.00199697e-01,   1.00816380e-01,\n",
       "          1.01432678e-01,   1.02048589e-01,   1.02664113e-01,\n",
       "          1.03279252e-01,   1.03894005e-01,   1.04508372e-01,\n",
       "          1.05122353e-01,   1.05735948e-01,   1.06349158e-01,\n",
       "          1.06961982e-01,   1.07574421e-01,   1.08186475e-01,\n",
       "          1.08798142e-01,   1.09409425e-01,   1.10020321e-01,\n",
       "          1.10630832e-01,   1.11240958e-01,   1.11850698e-01,\n",
       "          1.12460052e-01,   1.13069020e-01,   1.13677602e-01,\n",
       "          1.14285798e-01,   1.14893608e-01,   1.15501031e-01,\n",
       "          1.16108068e-01,   1.16714718e-01,   1.17320982e-01,\n",
       "          1.17926859e-01,   1.18532348e-01,   1.19137450e-01,\n",
       "          1.19742164e-01,   1.20346488e-01,   1.20950424e-01,\n",
       "          1.21553970e-01,   1.22157128e-01,   1.22759899e-01,\n",
       "          1.23362283e-01,   1.23964281e-01,   1.24565894e-01,\n",
       "          1.25167118e-01,   1.25767953e-01,   1.26368397e-01,\n",
       "          1.26968448e-01,   1.27568104e-01,   1.28167362e-01,\n",
       "          1.28766220e-01,   1.29364675e-01,   1.29962726e-01,\n",
       "          1.30560374e-01,   1.31157633e-01,   1.31754511e-01,\n",
       "          1.32351018e-01,   1.32947165e-01,   1.33542938e-01,\n",
       "          1.34138293e-01,   1.34733184e-01,   1.35327567e-01,\n",
       "          1.35921402e-01,   1.36514718e-01,   1.37107675e-01,\n",
       "          1.37700441e-01,   1.38293177e-01,   1.38886036e-01,\n",
       "          1.39478964e-01,   1.40071443e-01,   1.40662913e-01,\n",
       "          1.41252840e-01,   1.41840718e-01,   1.42426592e-01,\n",
       "          1.43012020e-01,   1.43598747e-01,   1.44188418e-01,\n",
       "          1.44782587e-01,   1.45381425e-01,   1.45980507e-01,\n",
       "          1.46574673e-01,   1.47159107e-01,   1.47729331e-01,\n",
       "          1.48284102e-01,   1.48834990e-01,   1.49396080e-01,\n",
       "          1.49980227e-01,   1.50599107e-01,   1.51257625e-01,\n",
       "          1.51929688e-01,   1.52582003e-01,   1.53185490e-01,\n",
       "          1.53715288e-01,   1.54158742e-01,   1.54557519e-01,\n",
       "          1.54963615e-01,   1.55413656e-01,   1.55929369e-01,\n",
       "         -2.60968862e+09]))"
      ]
     },
     "execution_count": 227,
     "metadata": {},
     "output_type": "execute_result"
    }
   ],
   "source": [
    "results"
   ]
  },
  {
   "cell_type": "code",
   "execution_count": 217,
   "metadata": {
    "collapsed": false
   },
   "outputs": [
    {
     "data": {
      "text/plain": [
       "[<matplotlib.lines.Line2D at 0x7f452bde35d0>]"
      ]
     },
     "execution_count": 217,
     "metadata": {},
     "output_type": "execute_result"
    },
    {
     "data": {
      "image/png": "[encoded data removed]",
      "text/plain": [
       "<matplotlib.figure.Figure at 0x7f452beb1dd0>"
      ]
     },
     "metadata": {},
     "output_type": "display_data"
    }
   ],
   "source": [
    "r = np.linspace(0.995, 1, 1000)\n",
    "j_z = splev(r, params['p_prime'])\n",
    "plt.plot(r, j_z)"
   ]
  },
  {
   "cell_type": "markdown",
   "metadata": {},
   "source": [
    "# Another case in the undetermined region"
   ]
  },
  {
   "cell_type": "code",
   "execution_count": 218,
   "metadata": {
    "collapsed": true
   },
   "outputs": [],
   "source": [
    "#parameters\n",
    "k_bar = 0.6\n",
    "lambda_bar = 2.0\n",
    "xi_factor = 1.\n",
    "magnetic_potential_energy_ratio = 1.\n",
    "offset = 1e-3\n",
    "suydam_end_offset = 1e-3\n",
    "sing_search_points = 100\n",
    "suppress_output = True\n",
    "rtol = 1e-5\n",
    "max_step = 1e-4\n",
    "nsteps = 1e5\n",
    "init_value = 1.\n",
    "method = 'lsoda'\n",
    "diagnose = True\n",
    "stiff = True\n",
    "use_jac = True\n",
    "params = {'k': k_bar,\n",
    "          'm': -1,\n",
    "          'r_0': 0,\n",
    "          'a': 1.,\n",
    "          'b': 'infinity'}\n",
    "profile_kwargs = {'epsilon': 0.1,\n",
    "                  'points_core': 50,\n",
    "                  'points_skin': 20,\n",
    "                  'points_transition': 20,\n",
    "                  'core_radius_norm': 0.997,\n",
    "                  'transition_width_norm': 0.001,\n",
    "                  'skin_width_norm': 0.001}"
   ]
  },
  {
   "cell_type": "code",
   "execution_count": 219,
   "metadata": {
    "collapsed": true
   },
   "outputs": [],
   "source": [
    "#create profile and determine external stability\n",
    "profile = es.UnitlessSmoothedCoreSkin(k_bar=k_bar,\n",
    "                                      lambda_bar=lambda_bar,\n",
    "                                      **profile_kwargs)\n",
    "params_wo_splines = deepcopy(params)\n",
    "params.update(profile.get_tck_splines())\n",
    "params.update({'xi_factor': xi_factor,\n",
    "               'magnetic_potential_energy_ratio': magnetic_potential_energy_ratio,\n",
    "               'beta_0': profile.beta_0(),\n",
    "               'core_radius': profile.core_radius,\n",
    "               'transition_width': profile.transition_width,\n",
    "               'skin_width': profile.skin_width,\n",
    "               'points_core': profile.points_core,\n",
    "               'points_transition': profile.points_transition,\n",
    "               'points_skin': profile.points_skin,\n",
    "               'epsilon': profile.epsilon})\n",
    "\n",
    "results = new.stability(params, offset, suydam_end_offset,\n",
    "                        sing_search_points=sing_search_points,\n",
    "                        suppress_output=suppress_output,\n",
    "                        xi_given=init_value,\n",
    "                        rtol=rtol, \n",
    "                        max_step=max_step,\n",
    "                        nsteps=nsteps, \n",
    "                        method=method,\n",
    "                        diagnose=diagnose, \n",
    "                        stiff=stiff,\n",
    "                        use_jac=use_jac)"
   ]
  },
  {
   "cell_type": "code",
   "execution_count": 220,
   "metadata": {
    "collapsed": false
   },
   "outputs": [
    {
     "data": {
      "text/plain": [
       "(False,\n",
       " True,\n",
       " -2.0930509794751866,\n",
       " None,\n",
       " array([  1.00000000e+00,   1.00000432e+00,   1.00001480e+00,\n",
       "          1.00003128e+00,   1.00005374e+00,   1.00008218e+00,\n",
       "          1.00011661e+00,   1.00015700e+00,   1.00020336e+00,\n",
       "          1.00025569e+00,   1.00031397e+00,   1.00037821e+00,\n",
       "          1.00044840e+00,   1.00052454e+00,   1.00060663e+00,\n",
       "          1.00069465e+00,   1.00078861e+00,   1.00088849e+00,\n",
       "          1.00099431e+00,   1.00110605e+00,   1.00122372e+00,\n",
       "          1.00134729e+00,   1.00147679e+00,   1.00161219e+00,\n",
       "          1.00175349e+00,   1.00190070e+00,   1.00205381e+00,\n",
       "          1.00221281e+00,   1.00237771e+00,   1.00254849e+00,\n",
       "          1.00272516e+00,   1.00290771e+00,   1.00309614e+00,\n",
       "          1.00329044e+00,   1.00349062e+00,   1.00369667e+00,\n",
       "          1.00390858e+00,   1.00412635e+00,   1.00434999e+00,\n",
       "          1.00457948e+00,   1.00481482e+00,   1.00505602e+00,\n",
       "          1.00530307e+00,   1.00555596e+00,   1.00581469e+00,\n",
       "          1.00607926e+00,   1.00634967e+00,   1.00662591e+00,\n",
       "          1.00690799e+00,   1.00719589e+00,   1.00748962e+00,\n",
       "          1.00778918e+00,   1.00809455e+00,   1.00840575e+00,\n",
       "          1.00872276e+00,   1.00904558e+00,   1.00937422e+00,\n",
       "          1.00970866e+00,   1.01004892e+00,   1.01039497e+00,\n",
       "          1.01074683e+00,   1.01110449e+00,   1.01146794e+00,\n",
       "          1.01183720e+00,   1.01221224e+00,   1.01259308e+00,\n",
       "          1.01297970e+00,   1.01337211e+00,   1.01377031e+00,\n",
       "          1.01417429e+00,   1.01458405e+00,   1.01499959e+00,\n",
       "          1.01542091e+00,   1.01584800e+00,   1.01628087e+00,\n",
       "          1.01671950e+00,   1.01716391e+00,   1.01761409e+00,\n",
       "          1.01807003e+00,   1.01853174e+00,   1.01899920e+00,\n",
       "          1.01947243e+00,   1.01995142e+00,   1.02043617e+00,\n",
       "          1.02092667e+00,   1.02142293e+00,   1.02192494e+00,\n",
       "          1.02243271e+00,   1.02294622e+00,   1.02346548e+00,\n",
       "          1.02399049e+00,   1.02452125e+00,   1.02505774e+00,\n",
       "          1.02559999e+00,   1.02614797e+00,   1.02670169e+00,\n",
       "          1.02726116e+00,   1.02782636e+00,   1.02839729e+00,\n",
       "          1.02897396e+00,   1.02955637e+00,   1.03014451e+00,\n",
       "          1.03073838e+00,   1.03133798e+00,   1.03194331e+00,\n",
       "          1.03255436e+00,   1.03317115e+00,   1.03379366e+00,\n",
       "          1.03442189e+00,   1.03505585e+00,   1.03569553e+00,\n",
       "          1.03634093e+00,   1.03699206e+00,   1.03764890e+00,\n",
       "          1.03831146e+00,   1.03897974e+00,   1.03965374e+00,\n",
       "          1.04033345e+00,   1.04101888e+00,   1.04171002e+00,\n",
       "          1.04240688e+00,   1.04310944e+00,   1.04381772e+00,\n",
       "          1.04453171e+00,   1.04525141e+00,   1.04597682e+00,\n",
       "          1.04670794e+00,   1.04744477e+00,   1.04818730e+00,\n",
       "          1.04893554e+00,   1.04968949e+00,   1.05044914e+00,\n",
       "          1.05121449e+00,   1.05198555e+00,   1.05276231e+00,\n",
       "          1.05354477e+00,   1.05433294e+00,   1.05512680e+00,\n",
       "          1.05592637e+00,   1.05673164e+00,   1.05754260e+00,\n",
       "          1.05835927e+00,   1.05918163e+00,   1.06000969e+00,\n",
       "          1.06084345e+00,   1.06168290e+00,   1.06252805e+00,\n",
       "          1.06337890e+00,   1.06423544e+00,   1.06509768e+00,\n",
       "          1.06596561e+00,   1.06683923e+00,   1.06771855e+00,\n",
       "          1.06860355e+00,   1.06949426e+00,   1.07039065e+00,\n",
       "          1.07129274e+00,   1.07220051e+00,   1.07311398e+00,\n",
       "          1.07403314e+00,   1.07495798e+00,   1.07588852e+00,\n",
       "          1.07682475e+00,   1.07776666e+00,   1.07871426e+00,\n",
       "          1.07966755e+00,   1.08062653e+00,   1.08159120e+00,\n",
       "          1.08256155e+00,   1.08353759e+00,   1.08451932e+00,\n",
       "          1.08550673e+00,   1.08649983e+00,   1.08749861e+00,\n",
       "          1.08850308e+00,   1.08951323e+00,   1.09052907e+00,\n",
       "          1.09155059e+00,   1.09257779e+00,   1.09361068e+00,\n",
       "          1.09464926e+00,   1.09569351e+00,   1.09674345e+00,\n",
       "          1.09779907e+00,   1.09886037e+00,   1.09992736e+00,\n",
       "          1.10100002e+00,   1.10207837e+00,   1.10316240e+00,\n",
       "          1.10425210e+00,   1.10534749e+00,   1.10644856e+00,\n",
       "          1.10755531e+00,   1.10866774e+00,   1.10978585e+00,\n",
       "          1.11090964e+00,   1.11203910e+00,   1.11317425e+00,\n",
       "          1.11431507e+00,   1.11546157e+00,   1.11661375e+00,\n",
       "          1.11777161e+00,   1.11893514e+00,   1.12010435e+00,\n",
       "          1.12127923e+00,   1.12245979e+00,   1.12364602e+00,\n",
       "          1.12483792e+00,   1.12603551e+00,   1.12723878e+00,\n",
       "          1.12844774e+00,   1.12966239e+00,   1.13088270e+00,\n",
       "          1.13210868e+00,   1.13334029e+00,   1.13457752e+00,\n",
       "          1.13582040e+00,   1.13706895e+00,   1.13832323e+00,\n",
       "          1.13958330e+00,   1.14084918e+00,   1.14212084e+00,\n",
       "          1.14339819e+00,   1.14468106e+00,   1.14596925e+00,\n",
       "          1.14726265e+00,   1.14856136e+00,   1.14986566e+00,\n",
       "          1.15117601e+00,   1.15249304e+00,   1.15381711e+00,\n",
       "          1.15514801e+00,   1.15648497e+00,   1.15782665e+00,\n",
       "          1.15917132e+00,   1.16051779e+00,   1.16186645e+00,\n",
       "          1.16321922e+00,   1.16457942e+00,   1.16595157e+00,\n",
       "          1.16733920e+00,   1.16874223e+00,   1.17015685e+00,\n",
       "          1.17157590e+00,   1.17298955e+00,   1.17438954e+00,\n",
       "          1.17577386e+00,   1.17714569e+00,   1.17851165e+00,\n",
       "         -7.20252786e+09]),\n",
       " array([  0.00000000e+00,   1.86444876e-03,   3.36037398e-03,\n",
       "          4.85310930e-03,   6.34450100e-03,   7.83474539e-03,\n",
       "          9.32389178e-03,   1.08119626e-02,   1.22989732e-02,\n",
       "          1.37849364e-02,   1.52698641e-02,   1.67537679e-02,\n",
       "          1.82366589e-02,   1.97185482e-02,   2.11994467e-02,\n",
       "          2.26793652e-02,   2.41583145e-02,   2.56363053e-02,\n",
       "          2.71133480e-02,   2.85894534e-02,   3.00646317e-02,\n",
       "          3.15388934e-02,   3.30122488e-02,   3.44847082e-02,\n",
       "          3.59562816e-02,   3.74269793e-02,   3.88968113e-02,\n",
       "          4.03657875e-02,   4.18339179e-02,   4.33012122e-02,\n",
       "          4.47676803e-02,   4.62333319e-02,   4.76981766e-02,\n",
       "          4.91622240e-02,   5.06254836e-02,   5.20879649e-02,\n",
       "          5.35496771e-02,   5.50106297e-02,   5.64708319e-02,\n",
       "          5.79302928e-02,   5.93890216e-02,   6.08470273e-02,\n",
       "          6.23043189e-02,   6.37609052e-02,   6.52167952e-02,\n",
       "          6.66719977e-02,   6.81265213e-02,   6.95803747e-02,\n",
       "          7.10335664e-02,   7.24861051e-02,   7.39379991e-02,\n",
       "          7.53892568e-02,   7.68398866e-02,   7.82898968e-02,\n",
       "          7.97392954e-02,   8.11880907e-02,   8.26362906e-02,\n",
       "          8.40839033e-02,   8.55309366e-02,   8.69773984e-02,\n",
       "          8.84232964e-02,   8.98686386e-02,   9.13134324e-02,\n",
       "          9.27576855e-02,   9.42014055e-02,   9.56445998e-02,\n",
       "          9.70872758e-02,   9.85294410e-02,   9.99711025e-02,\n",
       "          1.01412268e-01,   1.02852943e-01,   1.04293137e-01,\n",
       "          1.05732856e-01,   1.07172106e-01,   1.08610895e-01,\n",
       "          1.10049230e-01,   1.11487117e-01,   1.12924564e-01,\n",
       "          1.14361575e-01,   1.15798160e-01,   1.17234323e-01,\n",
       "          1.18670071e-01,   1.20105411e-01,   1.21540349e-01,\n",
       "          1.22974891e-01,   1.24409044e-01,   1.25842813e-01,\n",
       "          1.27276205e-01,   1.28709226e-01,   1.30141881e-01,\n",
       "          1.31574177e-01,   1.33006119e-01,   1.34437713e-01,\n",
       "          1.35868966e-01,   1.37299881e-01,   1.38730466e-01,\n",
       "          1.40160725e-01,   1.41590665e-01,   1.43020289e-01,\n",
       "          1.44449605e-01,   1.45878617e-01,   1.47307329e-01,\n",
       "          1.48735749e-01,   1.50163879e-01,   1.51591727e-01,\n",
       "          1.53019295e-01,   1.54446590e-01,   1.55873617e-01,\n",
       "          1.57300379e-01,   1.58726882e-01,   1.60153130e-01,\n",
       "          1.61579129e-01,   1.63004881e-01,   1.64430393e-01,\n",
       "          1.65855669e-01,   1.67280712e-01,   1.68705527e-01,\n",
       "          1.70130118e-01,   1.71554490e-01,   1.72978647e-01,\n",
       "          1.74402592e-01,   1.75826330e-01,   1.77249865e-01,\n",
       "          1.78673200e-01,   1.80096339e-01,   1.81519287e-01,\n",
       "          1.82942046e-01,   1.84364621e-01,   1.85787015e-01,\n",
       "          1.87209231e-01,   1.88631274e-01,   1.90053146e-01,\n",
       "          1.91474850e-01,   1.92896391e-01,   1.94317771e-01,\n",
       "          1.95738994e-01,   1.97160062e-01,   1.98580980e-01,\n",
       "          2.00001748e-01,   2.01422372e-01,   2.02842853e-01,\n",
       "          2.04263195e-01,   2.05683399e-01,   2.07103470e-01,\n",
       "          2.08523409e-01,   2.09943220e-01,   2.11362904e-01,\n",
       "          2.12782464e-01,   2.14201903e-01,   2.15621223e-01,\n",
       "          2.17040427e-01,   2.18459516e-01,   2.19878493e-01,\n",
       "          2.21297360e-01,   2.22716119e-01,   2.24134773e-01,\n",
       "          2.25553322e-01,   2.26971770e-01,   2.28390118e-01,\n",
       "          2.29808367e-01,   2.31226520e-01,   2.32644578e-01,\n",
       "          2.34062544e-01,   2.35480417e-01,   2.36898201e-01,\n",
       "          2.38315897e-01,   2.39733505e-01,   2.41151028e-01,\n",
       "          2.42568467e-01,   2.43985823e-01,   2.45403097e-01,\n",
       "          2.46820291e-01,   2.48237405e-01,   2.49654440e-01,\n",
       "          2.51071398e-01,   2.52488279e-01,   2.53905086e-01,\n",
       "          2.55321818e-01,   2.56738477e-01,   2.58155063e-01,\n",
       "          2.59571576e-01,   2.60988016e-01,   2.62404383e-01,\n",
       "          2.63820677e-01,   2.65236900e-01,   2.66653054e-01,\n",
       "          2.68069143e-01,   2.69485169e-01,   2.70901135e-01,\n",
       "          2.72317036e-01,   2.73732864e-01,   2.75148611e-01,\n",
       "          2.76564270e-01,   2.77979833e-01,   2.79395313e-01,\n",
       "          2.80810740e-01,   2.82226142e-01,   2.83641547e-01,\n",
       "          2.85056980e-01,   2.86472395e-01,   2.87887673e-01,\n",
       "          2.89302695e-01,   2.90717344e-01,   2.92131516e-01,\n",
       "          2.93545343e-01,   2.94959266e-01,   2.96373730e-01,\n",
       "          2.97789171e-01,   2.99205997e-01,   3.00623875e-01,\n",
       "          3.02041323e-01,   3.03456803e-01,   3.04868826e-01,\n",
       "          3.06275971e-01,   3.07678963e-01,   3.09082556e-01,\n",
       "          3.10491802e-01,   3.11911570e-01,   3.13346533e-01,\n",
       "          3.14795456e-01,   3.16243596e-01,   3.17674824e-01,\n",
       "          3.19073655e-01,   3.20425261e-01,   3.21730408e-01,\n",
       "          3.23033060e-01,   3.24382894e-01,   3.25827262e-01,\n",
       "          3.27411396e-01,   3.29142119e-01,   3.30895544e-01,\n",
       "          3.32524625e-01,   3.33889972e-01,   3.34860920e-01,\n",
       "          3.35399282e-01,   3.35831362e-01,   3.36555163e-01,\n",
       "          3.37935838e-01,   3.40314392e-01,   3.43860259e-01,\n",
       "          3.47868007e-01,   3.51380279e-01,   3.53507874e-01,\n",
       "          3.53466333e-01,   3.50865909e-01,   3.46953080e-01,\n",
       "          3.43265955e-01,   3.40869033e-01,   3.40423658e-01,\n",
       "          1.04375463e+10]))"
      ]
     },
     "execution_count": 220,
     "metadata": {},
     "output_type": "execute_result"
    }
   ],
   "source": [
    "results"
   ]
  },
  {
   "cell_type": "code",
   "execution_count": null,
   "metadata": {
    "collapsed": true
   },
   "outputs": [],
   "source": []
  }
 ],
 "metadata": {
  "kernelspec": {
   "display_name": "Python 2",
   "language": "python",
   "name": "python2"
  },
  "language_info": {
   "codemirror_mode": {
    "name": "ipython",
    "version": 2
   },
   "file_extension": ".py",
   "mimetype": "text/x-python",
   "name": "python",
   "nbconvert_exporter": "python",
   "pygments_lexer": "ipython2",
   "version": "2.7.11"
  }
 },
 "nbformat": 4,
 "nbformat_minor": 0
}
